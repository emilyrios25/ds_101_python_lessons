{
 "cells": [
  {
   "cell_type": "markdown",
   "id": "c62347c9-2b6e-400e-9e7f-097aee0784fa",
   "metadata": {},
   "source": [
    "# Lesson 4: Sentiment Analysis on Toponym Sentences\n",
    "\n",
    "## Overview\n",
    "\n",
    "This lesson will cover two sentiment analysis methods:\n",
    "- Using the **NLTK** library's VADER sentiment analysis tool.\n",
    "- Using **Hugging Face's RoBERTa** model for sentiment analysis.\n",
    "\n",
    "We will compare how these two tools perform on sentences containing toponyms extracted from the `virginia_toponyms_pickle` file, and we will store the results in a **Pandas DataFrame** for further analysis. The key goal is to understand how different tools analyze sentiment, identify their limitations, and explore why their outputs might differ.\n",
    "\n",
    "---"
   ]
  },
  {
   "cell_type": "markdown",
   "id": "5926d4f5-6b52-4ecc-9405-3266bc99d330",
   "metadata": {},
   "source": [
    "## 1. Loading the Dataset\n",
    "\n",
    "We will begin by loading the data containing the sentences with toponyms into a dataframe."
   ]
  },
  {
   "cell_type": "code",
   "execution_count": null,
   "id": "5bd49fbd-ea3d-437d-8da9-b4ff0d4b1925",
   "metadata": {},
   "outputs": [],
   "source": [
    "import pandas as pd"
   ]
  },
  {
   "cell_type": "code",
   "execution_count": null,
   "id": "0058505d-aeb6-4e17-be32-feace41783b4",
   "metadata": {},
   "outputs": [],
   "source": [
    "df_reddit_geoparsed_long = pd.read_pickle('data/jmu_reddit_geoparsed_long.pickle')"
   ]
  },
  {
   "cell_type": "markdown",
   "id": "5f3b44da-13fe-4a65-adb2-db633029f4b2",
   "metadata": {},
   "source": [
    "## 2. Sentiment Analysis with NLTK (VADER)\n",
    "\n",
    "### 2.1 Overview\n",
    "VADER (Valence Aware Dictionary and sEntiment Reasoner) is a rule-based sentiment analysis tool that is specifically attuned to sentiments expressed in social media. It was largely trained on twitter, and really only looks at sentiment-per-word. This makes it relatively speedy, but there are some issues with this.\n",
    "\n"
   ]
  },
  {
   "cell_type": "markdown",
   "id": "077901fe-4cb8-4d57-afce-d2ba68dafa25",
   "metadata": {},
   "source": [
    "### 2.2 Loading VADER"
   ]
  },
  {
   "cell_type": "code",
   "execution_count": null,
   "id": "9d71ddcf-1fda-47af-9deb-b3e7ecdf3272",
   "metadata": {},
   "outputs": [],
   "source": [
    "import nltk\n",
    "from nltk.sentiment import SentimentIntensityAnalyzer"
   ]
  },
  {
   "cell_type": "markdown",
   "id": "ecd788e9-98cd-4541-b7c3-c92d8ae13228",
   "metadata": {},
   "source": [
    "You will only need to download the lexicon once."
   ]
  },
  {
   "cell_type": "code",
   "execution_count": null,
   "id": "4b1fdd31-dbd4-492f-a43f-cf5c34762474",
   "metadata": {},
   "outputs": [],
   "source": [
    "# Check if 'vader_lexicon' is installed and download if necessary\n",
    "try:\n",
    "    nltk.data.find('vader_lexicon')\n",
    "    print(\"✅ VADER lexicon already installed\")\n",
    "except LookupError:\n",
    "    print(\"📥 Downloading VADER lexicon...\")\n",
    "    nltk.download('vader_lexicon')\n",
    "    print(\"✅ VADER lexicon installed successfully\")"
   ]
  },
  {
   "cell_type": "code",
   "execution_count": 8,
   "id": "33b69344-fabb-4b55-95da-94eb47fe3804",
   "metadata": {},
   "outputs": [],
   "source": [
    "# Initialize the VADER sentiment analyzer\n",
    "sia = SentimentIntensityAnalyzer()"
   ]
  },
  {
   "cell_type": "markdown",
   "id": "7c100465-3f73-4ead-89bd-d93b97d961e8",
   "metadata": {},
   "source": [
    "### 2.3 Using `sia.polarity_scores()`\n",
    "\n",
    "The sentiment analyzer works by applying the VADER model to any text passed into the function `sia.polarity_scores()`. It will then generate a list of scores for that particular phrase."
   ]
  },
  {
   "cell_type": "markdown",
   "id": "0e8bfba7-a673-47bb-9552-f5a20e987090",
   "metadata": {},
   "source": [
    "#### 2.3.1 Good Vibes!"
   ]
  },
  {
   "cell_type": "code",
   "execution_count": 9,
   "id": "373830d9-d816-4845-9cc6-4e4d2bd40302",
   "metadata": {},
   "outputs": [
    {
     "data": {
      "text/plain": [
       "{'neg': 0.0, 'neu': 0.471, 'pos': 0.529, 'compound': 0.6696}"
      ]
     },
     "execution_count": 9,
     "metadata": {},
     "output_type": "execute_result"
    }
   ],
   "source": [
    "sia.polarity_scores('JMU is the best university!')"
   ]
  },
  {
   "cell_type": "markdown",
   "id": "dbb4f244-53b6-4d80-b2d5-87175b80f548",
   "metadata": {},
   "source": [
    "#### 2.3.2 Bad Vibes!"
   ]
  },
  {
   "cell_type": "code",
   "execution_count": 10,
   "id": "980ce729-96cd-4ba1-8740-fbfa3415d6df",
   "metadata": {},
   "outputs": [
    {
     "data": {
      "text/plain": [
       "{'neg': 0.423, 'neu': 0.577, 'pos': 0.0, 'compound': -0.5661}"
      ]
     },
     "execution_count": 10,
     "metadata": {},
     "output_type": "execute_result"
    }
   ],
   "source": [
    "sia.polarity_scores('UVA is not the best university!')"
   ]
  },
  {
   "cell_type": "markdown",
   "id": "4ba6934e-ec42-43e3-8527-9115d64bd1c2",
   "metadata": {},
   "source": [
    "### 2.4 Critical Thinking Challenge\n",
    "\n",
    "For the next activity, you are going to try to push the limits of the tokenizer. For each challenge, think of a sentence that will get the scores you want, even if those scores don't make sense.\n"
   ]
  },
  {
   "cell_type": "markdown",
   "id": "0f0dee4c-69a4-4ec4-ba24-4ba88800cb6e",
   "metadata": {},
   "source": [
    "#### 2.4.1 Most Goodest Vibes\n",
    "\n",
    "Try to create a sentence with a compound polarity score of 1.0."
   ]
  },
  {
   "cell_type": "code",
   "execution_count": null,
   "id": "12424bb7-2536-45e6-aafc-d10069ae98c1",
   "metadata": {
    "scrolled": true
   },
   "outputs": [],
   "source": [
    "sia.polarity_scores('')"
   ]
  },
  {
   "cell_type": "markdown",
   "id": "550828ab-6f6c-4fe2-80ba-7364f238c709",
   "metadata": {},
   "source": [
    "#### 2.4.2 Most Baddest Vibes\n",
    "\n",
    "Try to create a sentence with a compound polarity score of 1.0, but keep it pg-13!"
   ]
  },
  {
   "cell_type": "code",
   "execution_count": null,
   "id": "9c05efc1-3da8-4af3-afa3-6db635afe0b7",
   "metadata": {},
   "outputs": [],
   "source": [
    "sia.polarity_scores('')"
   ]
  },
  {
   "cell_type": "markdown",
   "id": "8636f86e-0798-4391-bc58-6ab42bb3b1bf",
   "metadata": {},
   "source": [
    "#### 2.4.3 Most Strangest Vibes\n",
    "\n",
    "Try to create a sentence with either a positive or negative compound score, but that means the exact opposite of what it says."
   ]
  },
  {
   "cell_type": "code",
   "execution_count": null,
   "id": "bffc1153-2061-4628-bf88-d15913b978fe",
   "metadata": {},
   "outputs": [],
   "source": [
    "sia.polarity_scores('')"
   ]
  },
  {
   "cell_type": "markdown",
   "id": "bffcd9da-fa21-4a48-9ef3-d7866412036b",
   "metadata": {},
   "source": [
    "### 2.5 Run VADER on all sentences."
   ]
  },
  {
   "cell_type": "code",
   "execution_count": 11,
   "id": "7ac47d03-8dbe-4d08-85dd-bf90a76d12cb",
   "metadata": {},
   "outputs": [],
   "source": [
    "# Perform sentiment analysis on each sentence and store the compound score in the DataFrame\n",
    "df_reddit_geoparsed_long['nltk_sentiment'] = df_reddit_geoparsed_long['sentences'].apply(lambda x: sia.polarity_scores(x)['compound'])\n"
   ]
  },
  {
   "cell_type": "markdown",
   "id": "a94e02aa-f6b6-45e0-a977-58088c969a6d",
   "metadata": {},
   "source": [
    "See result"
   ]
  },
  {
   "cell_type": "code",
   "execution_count": 13,
   "id": "7cc82d15-1b07-4a8e-a48f-ae9c55e7abbf",
   "metadata": {},
   "outputs": [
    {
     "data": {
      "application/vnd.microsoft.datawrangler.viewer.v0+json": {
       "columns": [
        {
         "name": "index",
         "rawType": "int64",
         "type": "integer"
        },
        {
         "name": "sentences",
         "rawType": "object",
         "type": "string"
        },
        {
         "name": "nltk_sentiment",
         "rawType": "float64",
         "type": "float"
        }
       ],
       "ref": "71c19bb7-ec98-4771-a9a5-88b722f32c84",
       "rows": [
        [
         "1348",
         "I’ve been to the Lavender Lounge in SSC (which another user was talking about) and it’s actually super sweet!",
         "0.8016"
        ],
        [
         "912",
         "I received this emergency notification on my phone just about half hour ago : \"There is an active shooter off campus in the vicinity of Devon Lane in the city of Harrisonburg.",
         "0.0258"
        ],
        [
         "1285",
         "They'll climb in Harrisonburg, climb in students' hometowns, then climb again once (or if) students return to Harrisonburg in October.",
         "0.0"
        ],
        [
         "792",
         "I don't know...I've always been a little off-put by Aspen Heights but I just can't quite put my finger on why.",
         "0.0"
        ],
        [
         "1612",
         "When you walk into Dukes and see Topio's has a line, it's time to get the fuck out of there.",
         "-0.5423"
        ],
        [
         "345",
         "Get used to working in Harrison Hall.",
         "0.0"
        ],
        [
         "1063",
         "The arrested perpetrator is currently detained in the Harrisonburg jail.",
         "-0.8402"
        ],
        [
         "1114",
         "So Greek Row is all frats again?",
         "0.0"
        ],
        [
         "907",
         "Devon lane is cordoned off now.",
         "0.0"
        ],
        [
         "1312",
         "&nbsp; That PDF also has phone numbers listed for every registrar office in Virginia, so if you have doubt about they're hours you can give them a ring (or go googling for it, suit yourself : ) ) &nbsp; After you fill out the form they will ask for ID - luckily a student ID at a Virginia college or university will do just fine!",
         "0.4389"
        ]
       ],
       "shape": {
        "columns": 2,
        "rows": 10
       }
      },
      "text/html": [
       "<div>\n",
       "<style scoped>\n",
       "    .dataframe tbody tr th:only-of-type {\n",
       "        vertical-align: middle;\n",
       "    }\n",
       "\n",
       "    .dataframe tbody tr th {\n",
       "        vertical-align: top;\n",
       "    }\n",
       "\n",
       "    .dataframe thead th {\n",
       "        text-align: right;\n",
       "    }\n",
       "</style>\n",
       "<table border=\"1\" class=\"dataframe\">\n",
       "  <thead>\n",
       "    <tr style=\"text-align: right;\">\n",
       "      <th></th>\n",
       "      <th>sentences</th>\n",
       "      <th>nltk_sentiment</th>\n",
       "    </tr>\n",
       "  </thead>\n",
       "  <tbody>\n",
       "    <tr>\n",
       "      <th>1348</th>\n",
       "      <td>I’ve been to the Lavender Lounge in SSC (which...</td>\n",
       "      <td>0.8016</td>\n",
       "    </tr>\n",
       "    <tr>\n",
       "      <th>912</th>\n",
       "      <td>I received this emergency notification on my p...</td>\n",
       "      <td>0.0258</td>\n",
       "    </tr>\n",
       "    <tr>\n",
       "      <th>1285</th>\n",
       "      <td>They'll climb in Harrisonburg, climb in studen...</td>\n",
       "      <td>0.0000</td>\n",
       "    </tr>\n",
       "    <tr>\n",
       "      <th>792</th>\n",
       "      <td>I don't know...I've always been a little off-p...</td>\n",
       "      <td>0.0000</td>\n",
       "    </tr>\n",
       "    <tr>\n",
       "      <th>1612</th>\n",
       "      <td>When you walk into Dukes and see Topio's has a...</td>\n",
       "      <td>-0.5423</td>\n",
       "    </tr>\n",
       "    <tr>\n",
       "      <th>345</th>\n",
       "      <td>Get used to working in Harrison Hall.</td>\n",
       "      <td>0.0000</td>\n",
       "    </tr>\n",
       "    <tr>\n",
       "      <th>1063</th>\n",
       "      <td>The arrested perpetrator is currently detained...</td>\n",
       "      <td>-0.8402</td>\n",
       "    </tr>\n",
       "    <tr>\n",
       "      <th>1114</th>\n",
       "      <td>So Greek Row is all frats again?</td>\n",
       "      <td>0.0000</td>\n",
       "    </tr>\n",
       "    <tr>\n",
       "      <th>907</th>\n",
       "      <td>Devon lane is cordoned off now.</td>\n",
       "      <td>0.0000</td>\n",
       "    </tr>\n",
       "    <tr>\n",
       "      <th>1312</th>\n",
       "      <td>&amp;nbsp; That PDF also has phone numbers listed ...</td>\n",
       "      <td>0.4389</td>\n",
       "    </tr>\n",
       "  </tbody>\n",
       "</table>\n",
       "</div>"
      ],
      "text/plain": [
       "                                              sentences  nltk_sentiment\n",
       "1348  I’ve been to the Lavender Lounge in SSC (which...          0.8016\n",
       "912   I received this emergency notification on my p...          0.0258\n",
       "1285  They'll climb in Harrisonburg, climb in studen...          0.0000\n",
       "792   I don't know...I've always been a little off-p...          0.0000\n",
       "1612  When you walk into Dukes and see Topio's has a...         -0.5423\n",
       "345               Get used to working in Harrison Hall.          0.0000\n",
       "1063  The arrested perpetrator is currently detained...         -0.8402\n",
       "1114                   So Greek Row is all frats again?          0.0000\n",
       "907                     Devon lane is cordoned off now.          0.0000\n",
       "1312  &nbsp; That PDF also has phone numbers listed ...          0.4389"
      ]
     },
     "execution_count": 13,
     "metadata": {},
     "output_type": "execute_result"
    }
   ],
   "source": [
    "\n",
    "df_reddit_geoparsed_long[['sentences','nltk_sentiment']].sample(10, random_state=60)\n"
   ]
  },
  {
   "cell_type": "markdown",
   "id": "8218d691-34b5-406a-b9ca-b3336ce5e7db",
   "metadata": {},
   "source": [
    "#### 2.6 Evaluate the result"
   ]
  },
  {
   "cell_type": "markdown",
   "id": "f9f3abac-5d07-4d33-a9fe-82a910700301",
   "metadata": {},
   "source": [
    "The compound score ranges from -1 to 1. When a passage is very negative it gets a -1 and when it is possitive it gets a 1. Read through the passages above and try to figure out why these passages received the sentiments they did."
   ]
  },
  {
   "cell_type": "markdown",
   "id": "505f49fe-aa6a-41a5-9cf8-252885bd4ed1",
   "metadata": {},
   "source": [
    "### 2.7 Critical Question"
   ]
  },
  {
   "cell_type": "markdown",
   "id": "d2ad9937-0e6d-49c8-a791-6e8ab77bf088",
   "metadata": {},
   "source": [
    "How effective is the VADER tokenizer in dealing with sentiments?"
   ]
  },
  {
   "cell_type": "markdown",
   "id": "fa209252-c37d-4477-9b5f-afcad19528ef",
   "metadata": {},
   "source": [
    "## 3. Sentiment Analysis with Hugging Face (RoBERTa)\n",
    "\n",
    "RoBERTa (Robustly Optimized BERT Pretraining Approach) is a transformer-based model that has been fine-tuned for sentiment analysis tasks. We will use Hugging Face's `transformers` library to analyze the sentiment of the toponym-containing sentences. This model is available on a site called [Hugging Face](https://huggingface.co/). Check out the sentiment models [here](https://huggingface.co/models?sort=trending&search=sentiment)."
   ]
  },
  {
   "cell_type": "markdown",
   "id": "4c1b6439-b060-45ab-960e-c91a5313d346",
   "metadata": {},
   "source": [
    "### 3.1 Prepping your system"
   ]
  },
  {
   "cell_type": "markdown",
   "id": "004cbbc7-41ff-47d5-8051-1a0e7f9b74da",
   "metadata": {},
   "source": [
    "You will need to insall yet more libraries. \n",
    "\n",
    "Open up a new terminal window in Juypter and type the following commands:\n",
    "\n",
    "- `pip install transformers`\n",
    "- `pip install torch`\n",
    "- `pip install scipy`\n",
    "  "
   ]
  },
  {
   "cell_type": "markdown",
   "id": "3f7be418-b9c5-47ae-a2ff-c5e04b20a425",
   "metadata": {},
   "source": [
    "## 3.2 Load Functions into memory\n",
    "\n",
    "Getting Roberta to code the sentiments is a fairly common procedure. There is a great in-depth video [here](https://www.youtube.com/watch?v=QpzMWQvxXWk). I have adapted and updated the code for newer versions of Python. The only thing you need to do is to load the functions into memory.\n",
    "\n",
    "Step through the code blocks below. "
   ]
  },
  {
   "cell_type": "code",
   "execution_count": 15,
   "id": "35f09a69-7c2a-446d-83a2-3d5bc456cfbb",
   "metadata": {},
   "outputs": [
    {
     "name": "stdout",
     "output_type": "stream",
     "text": [
      "✅ All required libraries loaded successfully!\n"
     ]
    }
   ],
   "source": [
    "try:\n",
    "    from transformers import pipeline, AutoTokenizer, AutoModelForSequenceClassification\n",
    "    from tqdm import tqdm\n",
    "    from scipy.special import softmax\n",
    "    from typing import Dict, Any\n",
    "    print(\"✅ All required libraries loaded successfully!\")\n",
    "except ImportError as e:\n",
    "    print(f\"❌ Missing required library: {e}\")\n",
    "    print(\"\\nTo install missing libraries, run these commands in a terminal:\")\n",
    "    print(\"pip install transformers\")\n",
    "    print(\"pip install torch\")\n",
    "    print(\"pip install scipy\")\n",
    "    print(\"pip install tqdm\")\n",
    "    print(\"\\nThen restart the kernel and try again.\")"
   ]
  },
  {
   "cell_type": "code",
   "execution_count": 17,
   "id": "f88dce02-6d29-433a-a161-20ca1a0a3d92",
   "metadata": {},
   "outputs": [
    {
     "name": "stdout",
     "output_type": "stream",
     "text": [
      "✅ RoBERTa model already loaded in memory\n"
     ]
    }
   ],
   "source": [
    "# Initialize RoBERTa with caching and error handling\n",
    "try:\n",
    "    # Check if model variables already exist (avoid re-downloading)\n",
    "    if 'tokenizer' not in globals() or 'model' not in globals():\n",
    "        print(\"🔄 Loading RoBERTa model (this may take a moment on first run)...\")\n",
    "        MODEL = \"cardiffnlp/twitter-roberta-base-sentiment\"\n",
    "        \n",
    "        # The model files will be cached locally after first download\n",
    "        tokenizer = AutoTokenizer.from_pretrained(MODEL)\n",
    "        model = AutoModelForSequenceClassification.from_pretrained(MODEL)\n",
    "        \n",
    "        print(\"✅ RoBERTa model loaded successfully!\")\n",
    "        print(\"💡 Model files are now cached locally for faster future loading\")\n",
    "    else:\n",
    "        print(\"✅ RoBERTa model already loaded in memory\")\n",
    "        \n",
    "except Exception as e:\n",
    "    print(f\"❌ Error loading RoBERTa model: {e}\")\n",
    "    print(\"This might be due to:\")\n",
    "    print(\"- No internet connection (needed for first download)\")\n",
    "    print(\"- Insufficient disk space for model cache\")\n",
    "    print(\"- Missing transformers library\")"
   ]
  },
  {
   "cell_type": "code",
   "execution_count": 26,
   "id": "de4c8595-4a03-46c4-b805-57c6c634db5a",
   "metadata": {},
   "outputs": [],
   "source": [
    "# Function to calculate RoBERTa sentiment scores\n",
    "\n",
    "def polarity_scores_roberta(text: str) -> Dict[str, float]:\n",
    "    \"\"\"\n",
    "    Calculate RoBERTa sentiment scores for a given text.\n",
    "    \n",
    "    Args:\n",
    "    - text: The text to analyze\n",
    "    \n",
    "    Returns:\n",
    "    - A dictionary with sentiment scores for negative, neutral, and positive sentiment\n",
    "    \"\"\"\n",
    "    # Tokenize and truncate to max length (512 tokens)\n",
    "    encoded_text = tokenizer.encode_plus(\n",
    "        text, \n",
    "        max_length=512, \n",
    "        truncation=True, \n",
    "        return_tensors='pt'\n",
    "    )\n",
    "    \n",
    "    # Get model output and convert to probabilities\n",
    "    output = model(**encoded_text)\n",
    "    scores = output[0][0].detach().numpy()\n",
    "    scores = softmax(scores)\n",
    "    \n",
    "    return {\n",
    "        'roberta_neg': scores[0],\n",
    "        'roberta_neu': scores[1],\n",
    "        'roberta_pos': scores[2],\n",
    "        'roberta_compound': (scores[2] - scores[0])* (1-scores[1])  # Positive minus Negative as a compound score\n",
    "    }\n"
   ]
  },
  {
   "cell_type": "code",
   "execution_count": 27,
   "id": "a151c93a-5555-4d92-85fb-509bf7e3cca5",
   "metadata": {},
   "outputs": [],
   "source": [
    "# Function to attach sentiment analysis to a specific column in the dataframe\n",
    "def add_sentiment_to_column(\n",
    "    df: pd.DataFrame, column_name: str, num_rows: int = None\n",
    ") -> pd.DataFrame:\n",
    "    \"\"\"\n",
    "    Adds RoBERTa sentiment analysis to a specified column in a dataframe.\n",
    "    \n",
    "    Args:\n",
    "    - df: The dataframe to process\n",
    "    - column_name: The name of the column containing the text to analyze\n",
    "    - num_rows: The number of rows to process (default: 500)\n",
    "    \n",
    "    Returns:\n",
    "    - df: A dataframe with added sentiment analysis columns\n",
    "    \"\"\"\n",
    "        # If num_rows is specified, limit the dataframe, otherwise process all rows\n",
    "    if num_rows:\n",
    "        df_subset = df.head(num_rows).reset_index(drop=True)\n",
    "    else:\n",
    "        df_subset = df.reset_index(drop=True)  # Process all rows and reset the index\n",
    "    \n",
    "    # Function to process each row and add sentiment analysis\n",
    "    def process_row(text: str) -> Dict[str, Any]:\n",
    "        try:\n",
    "            return polarity_scores_roberta(text)\n",
    "        except Exception as e:\n",
    "            print(f\"Error processing text: {text}. Error: {e}\")\n",
    "            return {'roberta_neg': None, 'roberta_neu': None, 'roberta_pos': None}\n",
    "    \n",
    "    # Apply the RoBERTa sentiment analysis to each row\n",
    "    tqdm.pandas(desc=\"Processing Sentiment Analysis\")\n",
    "    sentiment_scores = df_subset[column_name].progress_apply(process_row)\n",
    "    \n",
    "    # Convert the resulting list of dictionaries into a DataFrame and concatenate it with the original subset\n",
    "    sentiment_df = pd.DataFrame(sentiment_scores.tolist())\n",
    "    df_subset = pd.concat([df_subset, sentiment_df], axis=1)\n",
    "    \n",
    "    return df_subset"
   ]
  },
  {
   "cell_type": "markdown",
   "id": "84d91cd3-8d42-4d9c-a844-0ce171396e95",
   "metadata": {},
   "source": [
    "### 3.2 A Very Simple Explanation\n",
    "\n",
    "The code blocks above are quite complex, but they essentially do one thing: add columns with sentiment scores to a dataframe that contains sentences. The function is fairly straightforward and has three possible parameters: \n",
    "\n",
    "- `dataframe` - The dataframe where you want to perform the function. In our case, `df_virginia_toponyms_compact`\n",
    "- `column` - The column name where the sentences are stored\n",
    "- `num_rows=` - (Optional) Integer value of the number of rows you want to process. Since this is very processor intensive. It makes sense to be able to just grab a sample. Leaving this blank will process every row.\n",
    "\n",
    "```python\n",
    "df_virginia_toponym_sentiment_sample = add_sentiment_to_column(df_virginia_toponyms_compact, 'cleaned_sentences', num_rows=1000)\n",
    "```\n",
    "With that explanation in mind, what does the above line of code do?\n"
   ]
  },
  {
   "cell_type": "markdown",
   "id": "3423a758-c624-4a5a-8797-7559bbadf2f9",
   "metadata": {},
   "source": [
    "### 3.3 Get a Sample Sentiment Column"
   ]
  },
  {
   "cell_type": "code",
   "execution_count": 28,
   "id": "df58631d-e51d-470e-9658-7ecf72dcabd7",
   "metadata": {},
   "outputs": [
    {
     "name": "stderr",
     "output_type": "stream",
     "text": [
      "Processing Sentiment Analysis: 100%|██████████| 100/100 [00:05<00:00, 19.99it/s]\n",
      "Processing Sentiment Analysis: 100%|██████████| 100/100 [00:05<00:00, 19.99it/s]\n"
     ]
    }
   ],
   "source": [
    "df_reddit_sentiment_sample = add_sentiment_to_column(df_reddit_geoparsed_long, 'sentences', num_rows=100)"
   ]
  },
  {
   "cell_type": "markdown",
   "id": "d1832469-583a-4293-9152-189488dfd6c7",
   "metadata": {},
   "source": [
    "#### Evaluate the Sample\n",
    "\n",
    "If you could not get the tokenizer to work, you can get the result by running this line of code:\n",
    "\n",
    "```python\n",
    "df_reddit_sentiment_sample = pd.read_pickle('data/df_reddit_sentiment_sample_stable.pickle')\n",
    "```"
   ]
  },
  {
   "cell_type": "code",
   "execution_count": 31,
   "id": "e7c41902-a651-4558-855a-fb68aa129400",
   "metadata": {},
   "outputs": [
    {
     "data": {
      "application/vnd.microsoft.datawrangler.viewer.v0+json": {
       "columns": [
        {
         "name": "index",
         "rawType": "int64",
         "type": "integer"
        },
        {
         "name": "sentences",
         "rawType": "object",
         "type": "string"
        },
        {
         "name": "nltk_sentiment",
         "rawType": "float64",
         "type": "float"
        },
        {
         "name": "roberta_neg",
         "rawType": "float32",
         "type": "float"
        },
        {
         "name": "roberta_pos",
         "rawType": "float32",
         "type": "float"
        },
        {
         "name": "roberta_neu",
         "rawType": "float32",
         "type": "float"
        },
        {
         "name": "roberta_compound",
         "rawType": "float32",
         "type": "float"
        }
       ],
       "ref": "32545de7-c64a-4e5c-954c-86b01e091779",
       "rows": [
        [
         "83",
         "So students who are off-campus living in 22802, but whose \"official\" home address is somewhere in Jersey, that individual case will appear in the Jersey records rather than Harrisonburg's/JMU's.",
         "0.0",
         "0.165166",
         "0.03855462",
         "0.7962793",
         "-0.025793359"
        ],
        [
         "53",
         "&#x200B; |My students are split in half (150 instead of 300) and are seated in Wilson with almost 6 ft apart.",
         "0.0",
         "0.16407292",
         "0.043015625",
         "0.7929114",
         "-0.025069583"
        ],
        [
         "70",
         "Patriot front is the same group that rented a bunch of Penske trucks in Pennsylvania and led a march carrying white nationalist symbols",
         "0.0",
         "0.63983315",
         "0.011512587",
         "0.34865427",
         "-0.40925393"
        ],
        [
         "45",
         "My SO's parents' neighborhood in Ellicott City is accurate, and so are all of the stores in the shopping centers.",
         "0.0",
         "0.019200725",
         "0.6009195",
         "0.3798798",
         "0.36073554"
        ],
        [
         "44",
         "But then you go into Howard County, Maryland (the next county north), and the buildings are practically picture-perfect.",
         "0.0",
         "0.017535428",
         "0.8377765",
         "0.1446881",
         "0.70156187"
        ],
        [
         "39",
         "LMAO great minds think alike and idk what north 38 means",
         "0.8531",
         "0.08879706",
         "0.3992467",
         "0.5119563",
         "0.151513"
        ],
        [
         "22",
         "But if JMU goes under Harrisonburg won’t recover economically.",
         "0.0",
         "0.56157416",
         "0.02193044",
         "0.4164954",
         "-0.31488457"
        ],
        [
         "80",
         "Just remember this as you grow into adults that run this country: America as a whole operates under the assumption that money is more important than the lives of the population.",
         "0.2716",
         "0.74697036",
         "0.020809555",
         "0.23222002",
         "-0.5575317"
        ],
        [
         "10",
         "Just from my observation, a lot of gmu students have recently been going to Arlington and dc on the weekends, regardless of this whole pandemic thing.",
         "0.0",
         "0.11617722",
         "0.07450826",
         "0.8093145",
         "-0.007945668"
        ],
        [
         "0",
         "Mary Ann and I both lived in the Washington metro area for over a decade as we were beginning our professional careers and we have always maintained close professional and personal ties there.",
         "0.0",
         "0.002597276",
         "0.5635931",
         "0.4338096",
         "0.3176304"
        ]
       ],
       "shape": {
        "columns": 6,
        "rows": 10
       }
      },
      "text/html": [
       "<div>\n",
       "<style scoped>\n",
       "    .dataframe tbody tr th:only-of-type {\n",
       "        vertical-align: middle;\n",
       "    }\n",
       "\n",
       "    .dataframe tbody tr th {\n",
       "        vertical-align: top;\n",
       "    }\n",
       "\n",
       "    .dataframe thead th {\n",
       "        text-align: right;\n",
       "    }\n",
       "</style>\n",
       "<table border=\"1\" class=\"dataframe\">\n",
       "  <thead>\n",
       "    <tr style=\"text-align: right;\">\n",
       "      <th></th>\n",
       "      <th>sentences</th>\n",
       "      <th>nltk_sentiment</th>\n",
       "      <th>roberta_neg</th>\n",
       "      <th>roberta_pos</th>\n",
       "      <th>roberta_neu</th>\n",
       "      <th>roberta_compound</th>\n",
       "    </tr>\n",
       "  </thead>\n",
       "  <tbody>\n",
       "    <tr>\n",
       "      <th>83</th>\n",
       "      <td>So students who are off-campus living in 22802...</td>\n",
       "      <td>0.0000</td>\n",
       "      <td>0.165166</td>\n",
       "      <td>0.038555</td>\n",
       "      <td>0.796279</td>\n",
       "      <td>-0.025793</td>\n",
       "    </tr>\n",
       "    <tr>\n",
       "      <th>53</th>\n",
       "      <td>&amp;#x200B; |My students are split in half (150 i...</td>\n",
       "      <td>0.0000</td>\n",
       "      <td>0.164073</td>\n",
       "      <td>0.043016</td>\n",
       "      <td>0.792911</td>\n",
       "      <td>-0.025070</td>\n",
       "    </tr>\n",
       "    <tr>\n",
       "      <th>70</th>\n",
       "      <td>Patriot front is the same group that rented a ...</td>\n",
       "      <td>0.0000</td>\n",
       "      <td>0.639833</td>\n",
       "      <td>0.011513</td>\n",
       "      <td>0.348654</td>\n",
       "      <td>-0.409254</td>\n",
       "    </tr>\n",
       "    <tr>\n",
       "      <th>45</th>\n",
       "      <td>My SO's parents' neighborhood in Ellicott City...</td>\n",
       "      <td>0.0000</td>\n",
       "      <td>0.019201</td>\n",
       "      <td>0.600919</td>\n",
       "      <td>0.379880</td>\n",
       "      <td>0.360736</td>\n",
       "    </tr>\n",
       "    <tr>\n",
       "      <th>44</th>\n",
       "      <td>But then you go into Howard County, Maryland (...</td>\n",
       "      <td>0.0000</td>\n",
       "      <td>0.017535</td>\n",
       "      <td>0.837776</td>\n",
       "      <td>0.144688</td>\n",
       "      <td>0.701562</td>\n",
       "    </tr>\n",
       "    <tr>\n",
       "      <th>39</th>\n",
       "      <td>LMAO great minds think alike and idk what nort...</td>\n",
       "      <td>0.8531</td>\n",
       "      <td>0.088797</td>\n",
       "      <td>0.399247</td>\n",
       "      <td>0.511956</td>\n",
       "      <td>0.151513</td>\n",
       "    </tr>\n",
       "    <tr>\n",
       "      <th>22</th>\n",
       "      <td>But if JMU goes under Harrisonburg won’t recov...</td>\n",
       "      <td>0.0000</td>\n",
       "      <td>0.561574</td>\n",
       "      <td>0.021930</td>\n",
       "      <td>0.416495</td>\n",
       "      <td>-0.314885</td>\n",
       "    </tr>\n",
       "    <tr>\n",
       "      <th>80</th>\n",
       "      <td>Just remember this as you grow into adults tha...</td>\n",
       "      <td>0.2716</td>\n",
       "      <td>0.746970</td>\n",
       "      <td>0.020810</td>\n",
       "      <td>0.232220</td>\n",
       "      <td>-0.557532</td>\n",
       "    </tr>\n",
       "    <tr>\n",
       "      <th>10</th>\n",
       "      <td>Just from my observation, a lot of gmu student...</td>\n",
       "      <td>0.0000</td>\n",
       "      <td>0.116177</td>\n",
       "      <td>0.074508</td>\n",
       "      <td>0.809314</td>\n",
       "      <td>-0.007946</td>\n",
       "    </tr>\n",
       "    <tr>\n",
       "      <th>0</th>\n",
       "      <td>Mary Ann and I both lived in the Washington me...</td>\n",
       "      <td>0.0000</td>\n",
       "      <td>0.002597</td>\n",
       "      <td>0.563593</td>\n",
       "      <td>0.433810</td>\n",
       "      <td>0.317630</td>\n",
       "    </tr>\n",
       "  </tbody>\n",
       "</table>\n",
       "</div>"
      ],
      "text/plain": [
       "                                            sentences  nltk_sentiment  \\\n",
       "83  So students who are off-campus living in 22802...          0.0000   \n",
       "53  &#x200B; |My students are split in half (150 i...          0.0000   \n",
       "70  Patriot front is the same group that rented a ...          0.0000   \n",
       "45  My SO's parents' neighborhood in Ellicott City...          0.0000   \n",
       "44  But then you go into Howard County, Maryland (...          0.0000   \n",
       "39  LMAO great minds think alike and idk what nort...          0.8531   \n",
       "22  But if JMU goes under Harrisonburg won’t recov...          0.0000   \n",
       "80  Just remember this as you grow into adults tha...          0.2716   \n",
       "10  Just from my observation, a lot of gmu student...          0.0000   \n",
       "0   Mary Ann and I both lived in the Washington me...          0.0000   \n",
       "\n",
       "    roberta_neg  roberta_pos  roberta_neu  roberta_compound  \n",
       "83     0.165166     0.038555     0.796279         -0.025793  \n",
       "53     0.164073     0.043016     0.792911         -0.025070  \n",
       "70     0.639833     0.011513     0.348654         -0.409254  \n",
       "45     0.019201     0.600919     0.379880          0.360736  \n",
       "44     0.017535     0.837776     0.144688          0.701562  \n",
       "39     0.088797     0.399247     0.511956          0.151513  \n",
       "22     0.561574     0.021930     0.416495         -0.314885  \n",
       "80     0.746970     0.020810     0.232220         -0.557532  \n",
       "10     0.116177     0.074508     0.809314         -0.007946  \n",
       "0      0.002597     0.563593     0.433810          0.317630  "
      ]
     },
     "execution_count": 31,
     "metadata": {},
     "output_type": "execute_result"
    }
   ],
   "source": [
    "df_reddit_sentiment_sample[['sentences','nltk_sentiment','roberta_neg','roberta_pos','roberta_neu','roberta_compound']].sample(10, random_state=42)"
   ]
  },
  {
   "cell_type": "markdown",
   "id": "e6790208-e7ec-469a-9e1e-149b738950fa",
   "metadata": {},
   "source": [
    "#### 3.3.1 Critical Question\n",
    "\n",
    "1. How did the tokenizer do?\n",
    "2. Where would you dispute the sentiment?"
   ]
  },
  {
   "cell_type": "markdown",
   "id": "7fbd0547-ce94-41a7-9db9-f22e13206c27",
   "metadata": {},
   "source": [
    "#### 3.3.2 Critical Activity\n",
    "\n",
    "1. Cycle through the samples by changing `random_state=` to a different integer.\n",
    "2. Look through the sentences\n",
    "3. Identify a sentence where the language model does particularly well or poorly.\n",
    "\n"
   ]
  },
  {
   "cell_type": "markdown",
   "id": "0e100e7a-5256-4cf2-b336-7d6060a5e851",
   "metadata": {},
   "source": [
    "## 4. Creating the entire dataset\n",
    "\n",
    "This process will take a very long time. I will create this data set for you, but if you ever want to do it on your own. The line of code is below. Simply remove the hashtag to uncomment it."
   ]
  },
  {
   "cell_type": "code",
   "execution_count": 34,
   "id": "87451dc1-bb0f-471b-bebe-ccbc4c36cf10",
   "metadata": {},
   "outputs": [
    {
     "name": "stderr",
     "output_type": "stream",
     "text": [
      "Processing Sentiment Analysis: 100%|██████████| 1785/1785 [01:28<00:00, 20.22it/s]\n",
      "Processing Sentiment Analysis: 100%|██████████| 1785/1785 [01:28<00:00, 20.22it/s]\n"
     ]
    }
   ],
   "source": [
    "\n",
    "df_reddit_sentiment_full = add_sentiment_to_column(df_reddit_geoparsed_long, 'sentences')"
   ]
  },
  {
   "cell_type": "code",
   "execution_count": null,
   "id": "982a2378",
   "metadata": {},
   "outputs": [
    {
     "data": {
      "application/vnd.microsoft.datawrangler.viewer.v0+json": {
       "columns": [
        {
         "name": "index",
         "rawType": "int64",
         "type": "integer"
        },
        {
         "name": "type",
         "rawType": "category",
         "type": "unknown"
        },
        {
         "name": "date",
         "rawType": "datetime64[ns]",
         "type": "datetime"
        },
        {
         "name": "score",
         "rawType": "int64",
         "type": "integer"
        },
        {
         "name": "year_month",
         "rawType": "period[M]",
         "type": "unknown"
        },
        {
         "name": "sentences",
         "rawType": "object",
         "type": "string"
        },
        {
         "name": "toponyms",
         "rawType": "object",
         "type": "unknown"
        },
        {
         "name": "place",
         "rawType": "object",
         "type": "string"
        },
        {
         "name": "latitude",
         "rawType": "object",
         "type": "unknown"
        },
        {
         "name": "longitude",
         "rawType": "object",
         "type": "unknown"
        },
        {
         "name": "feature_name",
         "rawType": "object",
         "type": "unknown"
        },
        {
         "name": "nltk_sentiment",
         "rawType": "float64",
         "type": "float"
        },
        {
         "name": "roberta_neg",
         "rawType": "float32",
         "type": "float"
        },
        {
         "name": "roberta_neu",
         "rawType": "float32",
         "type": "float"
        },
        {
         "name": "roberta_pos",
         "rawType": "float32",
         "type": "float"
        },
        {
         "name": "roberta_compound",
         "rawType": "float32",
         "type": "float"
        }
       ],
       "ref": "389e89a8-740e-473b-8ad1-e9cfc18fc2f7",
       "rows": [
        [
         "152",
         "comment",
         "2020-09-19 19:45:29",
         "-4",
         "2020-09",
         "1- not everyone in harrisonburg is a student and i don't know what resources you think JMU has to try and track locate and identify anybody who is gathering around because it's a lot of people 2- by this logic you would be expecting JMU to be able to police all of harrisonburg, USC to police all of charleston, VT to police all of blacksburg and etc... if this is what you want than i hope you aren't a human being who goes to work or goes to grocery stores or restaurants ever... because this is the type of lockdown your looking for and i don't think you really want that.",
         "['harrisonburg', 'harrisonburg', 'charleston', 'VT', 'blacksburg']",
         "Vermont",
         "44.00034",
         "-72.74983",
         null,
         "0.5423",
         "0.7694406",
         "0.21834752",
         "0.012211928",
         "-0.5918896"
        ],
        [
         "315",
         "comment",
         "2022-02-08 02:37:02",
         "22",
         "2022-02",
         "one duke passed away by suicide, another suicide on campus, VT shooting at a bar near campus and two bridgewater campus police were shot",
         "['VT']",
         "Vermont",
         "44.00034",
         "-72.74983",
         null,
         "-0.875",
         "0.84619176",
         "0.14854406",
         "0.005264082",
         "-0.71601284"
        ],
        [
         "629",
         "comment",
         "2020-08-04 15:32:28",
         "18",
         "2020-08",
         "Have a feeling they'll wait to see what Mason and VT do.",
         "['Mason', 'VT']",
         "Vermont",
         "44.00034",
         "-72.74983",
         null,
         "0.128",
         "0.088114195",
         "0.8734407",
         "0.038445193",
         "-0.006286075"
        ],
        [
         "1202",
         "comment",
         "2022-06-02 21:51:43",
         "5",
         "2022-06",
         "I felt VT was ultimately too far for me personally.",
         "['VT']",
         "Vermont",
         "44.00034",
         "-72.74983",
         null,
         "0.0",
         "0.9030914",
         "0.09261553",
         "0.0042931926",
         "-0.8155555"
        ]
       ],
       "shape": {
        "columns": 15,
        "rows": 4
       }
      },
      "text/html": [
       "<div>\n",
       "<style scoped>\n",
       "    .dataframe tbody tr th:only-of-type {\n",
       "        vertical-align: middle;\n",
       "    }\n",
       "\n",
       "    .dataframe tbody tr th {\n",
       "        vertical-align: top;\n",
       "    }\n",
       "\n",
       "    .dataframe thead th {\n",
       "        text-align: right;\n",
       "    }\n",
       "</style>\n",
       "<table border=\"1\" class=\"dataframe\">\n",
       "  <thead>\n",
       "    <tr style=\"text-align: right;\">\n",
       "      <th></th>\n",
       "      <th>type</th>\n",
       "      <th>date</th>\n",
       "      <th>score</th>\n",
       "      <th>year_month</th>\n",
       "      <th>sentences</th>\n",
       "      <th>toponyms</th>\n",
       "      <th>place</th>\n",
       "      <th>latitude</th>\n",
       "      <th>longitude</th>\n",
       "      <th>feature_name</th>\n",
       "      <th>nltk_sentiment</th>\n",
       "      <th>roberta_neg</th>\n",
       "      <th>roberta_neu</th>\n",
       "      <th>roberta_pos</th>\n",
       "      <th>roberta_compound</th>\n",
       "    </tr>\n",
       "  </thead>\n",
       "  <tbody>\n",
       "    <tr>\n",
       "      <th>152</th>\n",
       "      <td>comment</td>\n",
       "      <td>2020-09-19 19:45:29</td>\n",
       "      <td>-4</td>\n",
       "      <td>2020-09</td>\n",
       "      <td>1- not everyone in harrisonburg is a student a...</td>\n",
       "      <td>[harrisonburg, harrisonburg, charleston, VT, b...</td>\n",
       "      <td>Vermont</td>\n",
       "      <td>44.00034</td>\n",
       "      <td>-72.74983</td>\n",
       "      <td>None</td>\n",
       "      <td>0.5423</td>\n",
       "      <td>0.769441</td>\n",
       "      <td>0.218348</td>\n",
       "      <td>0.012212</td>\n",
       "      <td>-0.591890</td>\n",
       "    </tr>\n",
       "    <tr>\n",
       "      <th>315</th>\n",
       "      <td>comment</td>\n",
       "      <td>2022-02-08 02:37:02</td>\n",
       "      <td>22</td>\n",
       "      <td>2022-02</td>\n",
       "      <td>one duke passed away by suicide, another suici...</td>\n",
       "      <td>[VT]</td>\n",
       "      <td>Vermont</td>\n",
       "      <td>44.00034</td>\n",
       "      <td>-72.74983</td>\n",
       "      <td>None</td>\n",
       "      <td>-0.8750</td>\n",
       "      <td>0.846192</td>\n",
       "      <td>0.148544</td>\n",
       "      <td>0.005264</td>\n",
       "      <td>-0.716013</td>\n",
       "    </tr>\n",
       "    <tr>\n",
       "      <th>629</th>\n",
       "      <td>comment</td>\n",
       "      <td>2020-08-04 15:32:28</td>\n",
       "      <td>18</td>\n",
       "      <td>2020-08</td>\n",
       "      <td>Have a feeling they'll wait to see what Mason ...</td>\n",
       "      <td>[Mason, VT]</td>\n",
       "      <td>Vermont</td>\n",
       "      <td>44.00034</td>\n",
       "      <td>-72.74983</td>\n",
       "      <td>None</td>\n",
       "      <td>0.1280</td>\n",
       "      <td>0.088114</td>\n",
       "      <td>0.873441</td>\n",
       "      <td>0.038445</td>\n",
       "      <td>-0.006286</td>\n",
       "    </tr>\n",
       "    <tr>\n",
       "      <th>1202</th>\n",
       "      <td>comment</td>\n",
       "      <td>2022-06-02 21:51:43</td>\n",
       "      <td>5</td>\n",
       "      <td>2022-06</td>\n",
       "      <td>I felt VT was ultimately too far for me person...</td>\n",
       "      <td>[VT]</td>\n",
       "      <td>Vermont</td>\n",
       "      <td>44.00034</td>\n",
       "      <td>-72.74983</td>\n",
       "      <td>None</td>\n",
       "      <td>0.0000</td>\n",
       "      <td>0.903091</td>\n",
       "      <td>0.092616</td>\n",
       "      <td>0.004293</td>\n",
       "      <td>-0.815556</td>\n",
       "    </tr>\n",
       "  </tbody>\n",
       "</table>\n",
       "</div>"
      ],
      "text/plain": [
       "         type                date  score year_month  \\\n",
       "152   comment 2020-09-19 19:45:29     -4    2020-09   \n",
       "315   comment 2022-02-08 02:37:02     22    2022-02   \n",
       "629   comment 2020-08-04 15:32:28     18    2020-08   \n",
       "1202  comment 2022-06-02 21:51:43      5    2022-06   \n",
       "\n",
       "                                              sentences  \\\n",
       "152   1- not everyone in harrisonburg is a student a...   \n",
       "315   one duke passed away by suicide, another suici...   \n",
       "629   Have a feeling they'll wait to see what Mason ...   \n",
       "1202  I felt VT was ultimately too far for me person...   \n",
       "\n",
       "                                               toponyms    place  latitude  \\\n",
       "152   [harrisonburg, harrisonburg, charleston, VT, b...  Vermont  44.00034   \n",
       "315                                                [VT]  Vermont  44.00034   \n",
       "629                                         [Mason, VT]  Vermont  44.00034   \n",
       "1202                                               [VT]  Vermont  44.00034   \n",
       "\n",
       "     longitude feature_name  nltk_sentiment  roberta_neg  roberta_neu  \\\n",
       "152  -72.74983         None          0.5423     0.769441     0.218348   \n",
       "315  -72.74983         None         -0.8750     0.846192     0.148544   \n",
       "629  -72.74983         None          0.1280     0.088114     0.873441   \n",
       "1202 -72.74983         None          0.0000     0.903091     0.092616   \n",
       "\n",
       "      roberta_pos  roberta_compound  \n",
       "152      0.012212         -0.591890  \n",
       "315      0.005264         -0.716013  \n",
       "629      0.038445         -0.006286  \n",
       "1202     0.004293         -0.815556  "
      ]
     },
     "execution_count": 46,
     "metadata": {},
     "output_type": "execute_result"
    }
   ],
   "source": [
    "df_reddit_sentiment_full.sample(10, random_state=42)"
   ]
  },
  {
   "cell_type": "markdown",
   "id": "24a65921-dfa8-4757-87a6-1a8b50bf82c1",
   "metadata": {},
   "source": [
    "### 4.1 Check peformance\n",
    "\n",
    "We can check the performance of both tokenizers by looking up \"edge cases\" where one gives a negative evaluation and the other positive. \n",
    "\n",
    "#### 4.1.2\n",
    "How would we go about this? I have stubbed out some of the code below."
   ]
  },
  {
   "cell_type": "code",
   "execution_count": 37,
   "id": "445d19eb-ab4b-4029-ac05-73e4a5e5a009",
   "metadata": {},
   "outputs": [
    {
     "data": {
      "application/vnd.microsoft.datawrangler.viewer.v0+json": {
       "columns": [
        {
         "name": "index",
         "rawType": "int64",
         "type": "integer"
        },
        {
         "name": "sentences",
         "rawType": "object",
         "type": "string"
        },
        {
         "name": "nltk_sentiment",
         "rawType": "float64",
         "type": "float"
        },
        {
         "name": "roberta_compound",
         "rawType": "float32",
         "type": "float"
        }
       ],
       "ref": "6bcdc315-e33a-4fe9-9526-3b463d29ae70",
       "rows": [
        [
         "1464",
         "my roommate and I lived in Shenandoah that year and we decided to call it Pangs...like, Hunger Pangs.",
         "-0.25",
         "0.0024664514"
        ],
        [
         "1540",
         "86 degrees here in LA.",
         "-0.3818",
         "0.011005009"
        ],
        [
         "358",
         "Apparently, she also stressed the picture as important to the girl who commutes four hours from Norfolk.",
         "-0.1531",
         "0.030692525"
        ],
        [
         "827",
         "The rest of the major will stay difficult, but if you can pass 261, you can make it the whole way.",
         "-0.1901",
         "0.3827997"
        ],
        [
         "1357",
         "In any case, I've parked in garages overnight plenty of times (typically at Metro garages near DC), and no one has ever messed with my car.",
         "-0.5574",
         "0.38444522"
        ],
        [
         "1141",
         "I don’t think D-Hall is bad, i just think there are so many better places to go there’s almost no point",
         "-0.3024",
         "0.021729417"
        ],
        [
         "448",
         "For one, ppl from jmu are also from other communities and two you dont have to be from a community affected by police violence and corruption to show your support",
         "-0.4588",
         "0.013155252"
        ],
        [
         "1193",
         "It looks really similar to the stadium at jmu if you ignore the surrounding buildings",
         "-0.3612",
         "0.6290723"
        ],
        [
         "1086",
         "I wasn't 100% positive on the name bc its been awhile since i've been to the burg, but I make a point to go every time im in town",
         "-0.2411",
         "0.0077482997"
        ],
        [
         "831",
         "Ah, nothing like walking from Festival, past ISAT, down across 81 with a view like that.",
         "-0.0052",
         "0.030209433"
        ]
       ],
       "shape": {
        "columns": 3,
        "rows": 10
       }
      },
      "text/html": [
       "<div>\n",
       "<style scoped>\n",
       "    .dataframe tbody tr th:only-of-type {\n",
       "        vertical-align: middle;\n",
       "    }\n",
       "\n",
       "    .dataframe tbody tr th {\n",
       "        vertical-align: top;\n",
       "    }\n",
       "\n",
       "    .dataframe thead th {\n",
       "        text-align: right;\n",
       "    }\n",
       "</style>\n",
       "<table border=\"1\" class=\"dataframe\">\n",
       "  <thead>\n",
       "    <tr style=\"text-align: right;\">\n",
       "      <th></th>\n",
       "      <th>sentences</th>\n",
       "      <th>nltk_sentiment</th>\n",
       "      <th>roberta_compound</th>\n",
       "    </tr>\n",
       "  </thead>\n",
       "  <tbody>\n",
       "    <tr>\n",
       "      <th>1464</th>\n",
       "      <td>my roommate and I lived in Shenandoah that yea...</td>\n",
       "      <td>-0.2500</td>\n",
       "      <td>0.002466</td>\n",
       "    </tr>\n",
       "    <tr>\n",
       "      <th>1540</th>\n",
       "      <td>86 degrees here in LA.</td>\n",
       "      <td>-0.3818</td>\n",
       "      <td>0.011005</td>\n",
       "    </tr>\n",
       "    <tr>\n",
       "      <th>358</th>\n",
       "      <td>Apparently, she also stressed the picture as i...</td>\n",
       "      <td>-0.1531</td>\n",
       "      <td>0.030693</td>\n",
       "    </tr>\n",
       "    <tr>\n",
       "      <th>827</th>\n",
       "      <td>The rest of the major will stay difficult, but...</td>\n",
       "      <td>-0.1901</td>\n",
       "      <td>0.382800</td>\n",
       "    </tr>\n",
       "    <tr>\n",
       "      <th>1357</th>\n",
       "      <td>In any case, I've parked in garages overnight ...</td>\n",
       "      <td>-0.5574</td>\n",
       "      <td>0.384445</td>\n",
       "    </tr>\n",
       "    <tr>\n",
       "      <th>1141</th>\n",
       "      <td>I don’t think D-Hall is bad, i just think ther...</td>\n",
       "      <td>-0.3024</td>\n",
       "      <td>0.021729</td>\n",
       "    </tr>\n",
       "    <tr>\n",
       "      <th>448</th>\n",
       "      <td>For one, ppl from jmu are also from other comm...</td>\n",
       "      <td>-0.4588</td>\n",
       "      <td>0.013155</td>\n",
       "    </tr>\n",
       "    <tr>\n",
       "      <th>1193</th>\n",
       "      <td>It looks really similar to the stadium at jmu ...</td>\n",
       "      <td>-0.3612</td>\n",
       "      <td>0.629072</td>\n",
       "    </tr>\n",
       "    <tr>\n",
       "      <th>1086</th>\n",
       "      <td>I wasn't 100% positive on the name bc its been...</td>\n",
       "      <td>-0.2411</td>\n",
       "      <td>0.007748</td>\n",
       "    </tr>\n",
       "    <tr>\n",
       "      <th>831</th>\n",
       "      <td>Ah, nothing like walking from Festival, past I...</td>\n",
       "      <td>-0.0052</td>\n",
       "      <td>0.030209</td>\n",
       "    </tr>\n",
       "  </tbody>\n",
       "</table>\n",
       "</div>"
      ],
      "text/plain": [
       "                                              sentences  nltk_sentiment  \\\n",
       "1464  my roommate and I lived in Shenandoah that yea...         -0.2500   \n",
       "1540                             86 degrees here in LA.         -0.3818   \n",
       "358   Apparently, she also stressed the picture as i...         -0.1531   \n",
       "827   The rest of the major will stay difficult, but...         -0.1901   \n",
       "1357  In any case, I've parked in garages overnight ...         -0.5574   \n",
       "1141  I don’t think D-Hall is bad, i just think ther...         -0.3024   \n",
       "448   For one, ppl from jmu are also from other comm...         -0.4588   \n",
       "1193  It looks really similar to the stadium at jmu ...         -0.3612   \n",
       "1086  I wasn't 100% positive on the name bc its been...         -0.2411   \n",
       "831   Ah, nothing like walking from Festival, past I...         -0.0052   \n",
       "\n",
       "      roberta_compound  \n",
       "1464          0.002466  \n",
       "1540          0.011005  \n",
       "358           0.030693  \n",
       "827           0.382800  \n",
       "1357          0.384445  \n",
       "1141          0.021729  \n",
       "448           0.013155  \n",
       "1193          0.629072  \n",
       "1086          0.007748  \n",
       "831           0.030209  "
      ]
     },
     "execution_count": 37,
     "metadata": {},
     "output_type": "execute_result"
    }
   ],
   "source": [
    "df_sentiment_edge_cases= df_reddit_sentiment_full[(df_reddit_sentiment_full['nltk_sentiment']<0 )& \n",
    "                         (df_reddit_sentiment_full['roberta_compound']>0)]\n",
    "\n",
    "df_sentiment_edge_cases[['sentences','nltk_sentiment','roberta_compound']].sample(10, random_state=42)"
   ]
  },
  {
   "cell_type": "code",
   "execution_count": null,
   "id": "f0531d93",
   "metadata": {},
   "outputs": [],
   "source": []
  },
  {
   "cell_type": "markdown",
   "id": "b219f9a2",
   "metadata": {},
   "source": [
    "### 4.2 Visualizing the Correlation\n",
    "\n",
    "Let's create a scatter plot to see how well the two sentiment analysis methods correlate with each other:"
   ]
  },
  {
   "cell_type": "code",
   "execution_count": 41,
   "id": "7c145e3d",
   "metadata": {},
   "outputs": [
    {
     "data": {
      "application/vnd.plotly.v1+json": {
       "config": {
        "plotlyServerURL": "https://plot.ly"
       },
       "data": [
        {
         "customdata": [
          [
           "Mary Ann and I both lived in the Washington metro area for over a decade as we were beginning our professional careers and we have always maintained close professional and personal ties there."
          ],
          [
           "570k in Harrisonburg is like 2 million in DC"
          ],
          [
           "570k in Harrisonburg is like 2 million in DC"
          ],
          [
           "Virginia schools be like"
          ],
          [
           "I think people are also forgetting that GMU students love going to Arlington and DC on the weekends (no masks, bc drinking obviously)."
          ],
          [
           "I think people are also forgetting that GMU students love going to Arlington and DC on the weekends (no masks, bc drinking obviously)."
          ],
          [
           "Not necessarily, I’ve never been to Arlington or DC since I came to mason (same with many of my other friends) and I’m not from the Northern Virginia."
          ],
          [
           "Not necessarily, I’ve never been to Arlington or DC since I came to mason (same with many of my other friends) and I’m not from the Northern Virginia."
          ],
          [
           "Not necessarily, I’ve never been to Arlington or DC since I came to mason (same with many of my other friends) and I’m not from the Northern Virginia."
          ],
          [
           "Not necessarily, I’ve never been to Arlington or DC since I came to mason (same with many of my other friends) and I’m not from the Northern Virginia."
          ],
          [
           "Just from my observation, a lot of gmu students have recently been going to Arlington and dc on the weekends, regardless of this whole pandemic thing."
          ],
          [
           "Just from my observation, a lot of gmu students have recently been going to Arlington and dc on the weekends, regardless of this whole pandemic thing."
          ],
          [
           "Yeah I’ve noticed that except they go to like bars in the Fairfax area."
          ],
          [
           "For real though Harrasionburg is rank #1 in virginia for infection rate and new cases per 100k."
          ],
          [
           "Harrasionburg is rank #1 for US college towns for new cases per 100k and rank #2 for US college towns infection rate."
          ],
          [
           "Harrasionburg is rank #1 for US college towns for new cases per 100k and rank #2 for US college towns infection rate."
          ],
          [
           "lmao yeah you’re right, the whole state of Virginia is laughing at you buddy."
          ],
          [
           "P.S."
          ],
          [
           "However according to what I read after looking it up it does say FAA mandates automatic 3NM 3k feet tfr’s for any NFL, MLB, D1 football, nascar, Indy car events etc from 1 hour before to 1 hour after the event which I wasn’t even remotely aware of."
          ],
          [
           "For stadiums >30,000 capacity, which Bridgeforth isn’t."
          ],
          [
           "Bridgewater (15 mins south on 42) is a great cruising spot too :)"
          ],
          [
           "Bridgewater (15 mins south on 42) is a great cruising spot too :)"
          ],
          [
           "But if JMU goes under Harrisonburg won’t recover economically."
          ],
          [
           "[America’s College Towns Are Facing an Economic Reckoning](https://www.bloomberg.com/news/articles/2020-08-21/what-the-pandemic-is-doing-to-college-towns?utm_source=url_link)"
          ],
          [
           "I can say this with absolute certainty that Harrisonburg would not be near the city it is without JMU."
          ],
          [
           "The transit system is a Harrisonburg entity that is also a JMU owned entity that also serves EMU."
          ],
          [
           "I remember well when we sold our town to JMU chunk by chunk, including the High School (and the 2nd and 3rd highschool fiasco), the Co-op, etc."
          ],
          [
           "But, we also have industry, and support Rockingham County families as a shopping base."
          ],
          [
           "I was replying to the implication that without JMU, Harrisonburg would fold."
          ],
          [
           "But you coming in and acting like there would be nothing in Harrisonburg for us without y'all is misled at best and pure misinformation at worst."
          ],
          [
           "You must think I see JMU as 100% good for the city, which I don't."
          ],
          [
           "My point here is that without JMU the city of Harrisonburg would not at all be in the economic state it is in."
          ],
          [
           "Cignetti has a pretty easy schedule (outside of Ohio State and Michigan) this year."
          ],
          [
           "President Alger has invited you to Newman Lake"
          ],
          [
           "It's a mid-to-large sized university Other colleges and universities in Virginia have not done nearly as poorly."
          ],
          [
           "Compared to other public universities in Virginia, JMU has stagnated a bit."
          ],
          [
           "It is spreading the fact that this pedophile was murdered to protect a ring child predators in powerful positions in the U.S. and around the world."
          ],
          [
           "oh man i havent been back in a few years, what did they do to D hall?"
          ],
          [
           "Hey, do you live in North 38?"
          ],
          [
           "LMAO great minds think alike and idk what north 38 means"
          ],
          [
           "North 38 is an apartment complex, I was quoting this scene outloud to my girlfriend when someone was leaving their apartment, I thought that person may have been you"
          ],
          [
           "I live in Montgomery County, Maryland, and the buildings there look similar to this, where the game used a lot of fillers."
          ],
          [
           "I live in Montgomery County, Maryland, and the buildings there look similar to this, where the game used a lot of fillers."
          ],
          [
           "But then you go into Howard County, Maryland (the next county north), and the buildings are practically picture-perfect."
          ],
          [
           "But then you go into Howard County, Maryland (the next county north), and the buildings are practically picture-perfect."
          ],
          [
           "My SO's parents' neighborhood in Ellicott City is accurate, and so are all of the stores in the shopping centers."
          ],
          [
           "I have found memories of eating breakfast alone in D-hall and listening to music on my iPod."
          ],
          [
           "Haven't been back to campus since D-Hall was torn down and replaced."
          ],
          [
           "Haven't been back to campus since D-Hall was torn down and replaced."
          ],
          [
           "The bookstore used to use said ballroom for textbook sales back when the bookstore was in Warren Hall, before they opened the current freestanding bookstore."
          ],
          [
           "Dukes and top dawg were the best places to eat on campus"
          ],
          [
           "It's in The Commons during a school day so it inevitably draws huge crowds of onlookers."
          ],
          [
           "I have a lecture in Madison union where the available chairs for sitting are only 3 feet spaced out, and I wouldn’t want that to fall on the Professor for something out of their control."
          ],
          [
           "&#x200B; |My students are split in half (150 instead of 300) and are seated in Wilson with almost 6 ft apart."
          ],
          [
           "Do not live in Eagle."
          ],
          [
           "Wayland does have air conditioning."
          ],
          [
           "They still haven’t put ac in the Village?"
          ],
          [
           "Waylands really nice, especially if you’re an fine arts major."
          ],
          [
           "Is Converse Hall not there anymore?"
          ],
          [
           "if they are, should defo include that in skyline cons  ive never heard good things from forced triples"
          ],
          [
           "I lived in Logan my first year and I genuinely don’t think I could have been happier in another dorm."
          ],
          [
           "I lived in Hillside my freshman year."
          ],
          [
           "Lived in Spotswood, doesn't have A/C, one toilet, one shower, two sinks are shared between two suites of two (lock on each side)."
          ],
          [
           "Staying away from Eagle"
          ],
          [
           "Plus, I’m a business major so might have to pass on Wayland lol"
          ],
          [
           "Same here, Hillside does not have closets still; just wardrobes."
          ],
          [
           "We've watched the rest of the world manage the virus with reasonable success, but the U.S. can't be bothered to pivot, adapt, and follow the science."
          ],
          [
           "The Evergiven is blocking Main St."
          ],
          [
           "But if there are huge parties and those people continue to interact in the community, when students get sent home, the local Harrisonburg community will have massive spikes in cases."
          ],
          [
           "The main people at risk in our area will be locals of Harrisonburg."
          ],
          [
           "Patriot front is the same group that rented a bunch of Penske trucks in Pennsylvania and led a march carrying white nationalist symbols"
          ],
          [
           "The group split off from a different neo-Nazi organization after the \"Unite the Right\" rally in Charlottesville in 2017."
          ],
          [
           "They were most famously [run out of Philadelphia](https://www.nbcnews.com/think/opinion/philadelphia-bystanders-ran-patriot-front-out-town-it-won-t-ncna1273283) by locals."
          ],
          [
           "The crossing poles between Gifford and the music center, there were 2 I saw."
          ],
          [
           "If anybody needs to do so, Blue Ridge Community College in Weyers Cave, VA (just 15 minutes from Harrisonburg) is fantastic."
          ],
          [
           "If anybody needs to do so, Blue Ridge Community College in Weyers Cave, VA (just 15 minutes from Harrisonburg) is fantastic."
          ],
          [
           "If anybody needs to do so, Blue Ridge Community College in Weyers Cave, VA (just 15 minutes from Harrisonburg) is fantastic."
          ],
          [
           "I love JMU but it's literally one of the biggest party schools in VA."
          ],
          [
           "We've been social distancing and staying inside for months \\*MONTHS\\* of our lives down the fucking drain because JMU wants to be a shining example in Virginia to all the other schools that are already online."
          ],
          [
           "Schools such as, I don't know, the HARRISONBURG SCHOOL DISTRICT"
          ],
          [
           "Just remember this as you grow into adults that run this country: America as a whole operates under the assumption that money is more important than the lives of the population."
          ],
          [
           "From someone in NYC, it's like that here too."
          ],
          [
           "Number 1 school for cases in VA."
          ],
          [
           "So students who are off-campus living in 22802, but whose \"official\" home address is somewhere in Jersey, that individual case will appear in the Jersey records rather than Harrisonburg's/JMU's."
          ],
          [
           "So students who are off-campus living in 22802, but whose \"official\" home address is somewhere in Jersey, that individual case will appear in the Jersey records rather than Harrisonburg's/JMU's."
          ],
          [
           "Does Harrisonburg’s 50 person limit not apply here??"
          ],
          [
           "\"](https://twitter.com/BryanDuff3/status/1297914494241386498) **The team has more games scheduled at Eagle Field Wednesday and Saturday."
          ],
          [
           "All gatherings on university property are exempt from the city of Harrisonburg's 50 person limit."
          ],
          [
           "We lost to West Virginia by like a touchdown this year too."
          ],
          [
           "If anyone's ever been over the mountain to John Paul Jones Arena at UVA, I'm told there's supposed to be a lot of similarities between the two."
          ],
          [
           "I avoided the area in front of D Hall for this very reason."
          ],
          [
           "He has been well trained since he was 19 under the UK Head Hackers and by Anthony Jacquin personally."
          ],
          [
           "There are a few videos on Snapchat in the Skyline area."
          ],
          [
           "The frogs were telling us to stay with our roommates in Wayland"
          ],
          [
           "Amani was a fellow classmate from my high school in Long Valley, he was a very kind person and while this came out of nowhere I saw the statement his parents made on Facebook the day he was found (which has since been taken down)."
          ],
          [
           "It was ruled a suicide, there was no evidence to it being a lynching however Long Valley is a predominantly white town, but never has it been a hateful one."
          ],
          [
           "The spotted lantern fly came over as an invasive species from Asia."
          ],
          [
           "Hunters Ridge?"
          ],
          [
           "Spotted Lanternfly - Lycorma delicatula Invasive pest from Asia."
          ],
          [
           "Baltimore native here, (these things are everywhere here) I know nothing about this sub and have never been on it before."
          ],
          [
           "JMU can fuck right off with their \"Giving Week\" emails As an alumnus and Hburg resident, it seriously pisses me off to receive emails asking me to donate money when they are keeping the university open and endangering the lives of students and the wider Harrisonburg community."
          ],
          [
           "It is shameful that our alma mater is treating their students, faculty, staff, and welcoming Harrisonburg community with such negligence and disrespect."
          ],
          [
           "Thank you from an Alum (13/14) turned Harrisonburg local."
          ],
          [
           "I am an alum and during my time I have come to love the students, staff, and professors (honestly most of my professors were pretty solid) of JMU and the Harrisonburg +valley community."
          ],
          [
           "JMU moved to online-learning when there were 4,000 cases, but now want to open up when there are over 4.7 million total cases in the US and over 150,000 deaths."
          ],
          [
           "More people have died in 6 months of this virus than US combat deaths in WW1 (US involvement lasted roughly a year and a half)."
          ],
          [
           "More people have died in 6 months of this virus than US combat deaths in WW1 (US involvement lasted roughly a year and a half)."
          ],
          [
           "Schools were shut down when the attacks on 9/11 occurred, but to me it is absurd that schools would open in the middle of a pandemic that to-date has taken almost 50 TIMES MORE US LIVES THAN THE 9/11 TERRORIST ATTACKS."
          ],
          [
           "My family from Europe has commented that my school is its own city!"
          ],
          [
           "I had the worst flu of my life when I was a freshman in Hillside and with the way things are going now, there is NO foreseeable way that students on campus could be safe."
          ],
          [
           "The DC area has a lot of business who use researchers or people with research skills."
          ],
          [
           "The Harrison has guest spots you can park in (I graduated in 2018 so they could have changed the rules but AFAIK that was the case at the time)."
          ],
          [
           "I live in the Harrison and there’s visitors parking at the back of the complex"
          ],
          [
           "Like WMATA up in DC, it sounds like they're just rearranging a few titles and continuing the same initiatives under other names."
          ],
          [
           "With caring thoughts, Jonathan Alger, President James Madison University 91 Alumnae Dr MSC 7608 Harrisonburg, VA 22807 president@jmu.edu"
          ],
          [
           "With caring thoughts, Jonathan Alger, President James Madison University 91 Alumnae Dr MSC 7608 Harrisonburg, VA 22807 president@jmu.edu"
          ],
          [
           "harrisonburg has been a hotspot for coronavirus since the outbreak began."
          ],
          [
           "I assume that the fancy house with the tennis court in Forest Hills is his house because it is owned by \"Visitors James Madison University Medical Arts\"."
          ],
          [
           "If it isn't his house then one of the Breeze people on here should look into why the university has this property."
          ],
          [
           "This same exact situation is happening in universities across the Southeast, Midwest, and Southwest."
          ],
          [
           "This same exact situation is happening in universities across the Southeast, Midwest, and Southwest."
          ],
          [
           "This same exact situation is happening in universities across the Southeast, Midwest, and Southwest."
          ],
          [
           "Education has needed reforming across the board ever since university presidents in America had a major shift away from an expertise in teaching and school administration to business and business administration."
          ],
          [
           "There was a video on JMU barstool if someone doing this on the steps by d hall but with the other kind of scooter."
          ],
          [
           "As some of you have already noticed, two of the Quad’s most iconic residents are missing: Jimmy and Dolley, the Quad Cats, were rehomed earlier this month and will no longer hold court in front of Burruss Hall and Carrier Library."
          ],
          [
           "As some of you have already noticed, two of the Quad’s most iconic residents are missing: Jimmy and Dolley, the Quad Cats, were rehomed earlier this month and will no longer hold court in front of Burruss Hall and Carrier Library."
          ],
          [
           "Did you get the chance to pet Jimmy or Dolley after a late night of studying in Carrier Library?"
          ],
          [
           "Ok but does anyone remember the creepy groomer old man janitor on east campus circa 2017/2018?"
          ],
          [
           "Are we sure it's the guy with vizslas?"
          ],
          [
           "The guy profiled in that story has the same name as a registered sex offender in Rockingham County, VA."
          ],
          [
           "The guy profiled in that story has the same name as a registered sex offender in Rockingham County, VA."
          ],
          [
           "The pre-2001 D-Hall was just a buffet, and the food was prepared in the back."
          ],
          [
           "The pre-2001 D-Hall was just a buffet, and the food was prepared in the back."
          ],
          [
           "If anyone is the Harrisonburg area needs food, please let me know."
          ],
          [
           "FTFY, JMU."
          ],
          [
           "We are fully aware that the south includes Virginia of which Richmond was the capital of the confederacy?"
          ],
          [
           "We are fully aware that the south includes Virginia of which Richmond was the capital of the confederacy?"
          ],
          [
           "It’s usually people out 45 minutes from any other city in va with rich parents Nova just creates frat boys"
          ],
          [
           "It’s usually people out 45 minutes from any other city in va with rich parents Nova just creates frat boys"
          ],
          [
           "NEW UPDATE: 513 cases, only half of quarantine beds remaining as JMU begins to resemble mid 1300s Europe"
          ],
          [
           "Seems like JMU is the US of universities when it comes to handling covid"
          ],
          [
           "THE JMU DUKES ARE GOING BOWLING After the losses by Florida and South Carolina, JMU has clinched a bowl spot no matter the result of the remaining games!"
          ],
          [
           "THE JMU DUKES ARE GOING BOWLING After the losses by Florida and South Carolina, JMU has clinched a bowl spot no matter the result of the remaining games!"
          ],
          [
           "Part of me wants to play Liberty just to shut them up but part of me wants them to put us up against a great team like Oklahoma just to see how we stack up."
          ],
          [
           "ESPN’s latest projections say Gasparilla Bowl vs Memphis."
          ],
          [
           "Oh wow if it’s Myrtle that’s only about a 7 hour drive"
          ],
          [
           "Group on Port Road drinking ...no masks, shoulder to shoulder, with a sign asking for people to honk so they drink."
          ],
          [
           "At Altitude, there is a good 30 people partying in the 4th floor lounge and the roof and the management encourages it and fir frats to use the space."
          ],
          [
           "Townie here who lives uncomfortably close to some of the party houses on 42."
          ],
          [
           "1- not everyone in harrisonburg is a student and i don't know what resources you think JMU has to try and track locate and identify anybody who is gathering around because it's a lot of people 2- by this logic you would be expecting JMU to be able to police all of harrisonburg, USC to police all of charleston, VT to police all of blacksburg and etc... if this is what you want than i hope you aren't a human being who goes to work or goes to grocery stores or restaurants ever... because this is the type of lockdown your looking for and i don't think you really want that."
          ],
          [
           "1- not everyone in harrisonburg is a student and i don't know what resources you think JMU has to try and track locate and identify anybody who is gathering around because it's a lot of people 2- by this logic you would be expecting JMU to be able to police all of harrisonburg, USC to police all of charleston, VT to police all of blacksburg and etc... if this is what you want than i hope you aren't a human being who goes to work or goes to grocery stores or restaurants ever... because this is the type of lockdown your looking for and i don't think you really want that."
          ],
          [
           "1- not everyone in harrisonburg is a student and i don't know what resources you think JMU has to try and track locate and identify anybody who is gathering around because it's a lot of people 2- by this logic you would be expecting JMU to be able to police all of harrisonburg, USC to police all of charleston, VT to police all of blacksburg and etc... if this is what you want than i hope you aren't a human being who goes to work or goes to grocery stores or restaurants ever... because this is the type of lockdown your looking for and i don't think you really want that."
          ],
          [
           "1- not everyone in harrisonburg is a student and i don't know what resources you think JMU has to try and track locate and identify anybody who is gathering around because it's a lot of people 2- by this logic you would be expecting JMU to be able to police all of harrisonburg, USC to police all of charleston, VT to police all of blacksburg and etc... if this is what you want than i hope you aren't a human being who goes to work or goes to grocery stores or restaurants ever... because this is the type of lockdown your looking for and i don't think you really want that."
          ],
          [
           "1- not everyone in harrisonburg is a student and i don't know what resources you think JMU has to try and track locate and identify anybody who is gathering around because it's a lot of people 2- by this logic you would be expecting JMU to be able to police all of harrisonburg, USC to police all of charleston, VT to police all of blacksburg and etc... if this is what you want than i hope you aren't a human being who goes to work or goes to grocery stores or restaurants ever... because this is the type of lockdown your looking for and i don't think you really want that."
          ],
          [
           "Non emergency line for Harrisonburg police."
          ],
          [
           "Hold them accountable by suspending them and also via legal trouble in the university AND in the city of harrisonburg."
          ],
          [
           "But of course that’s not a great reason to open up JMU haha"
          ],
          [
           "JMU has now reported more cases than any public school in Virginia."
          ],
          [
           "JMU knowingly and actively endangered the health of students and the Harrisonburg community because money is more important than lives to JMU."
          ],
          [
           "And they’re going to send back home all the unknowingly infected students, spreading corona even more."
          ],
          [
           "I am sure Harrisonburg residents are counting down the hours until the students get sent home."
          ],
          [
           "If this happens, I’d expect most students to stay in Harrisonburg."
          ],
          [
           "They’re also allowing people in some dorms to quarantine in their dorms, like students in Grace Street."
          ],
          [
           "Not to mention the residents of Harrisonburg, as well as relatives of JMU students."
          ],
          [
           "Harrisonburg."
          ],
          [
           "thats some damn townies from chestnut ridge."
          ],
          [
           "The car came from up the ledge, which is from Chestnut Ridge apartments."
          ],
          [
           "God the worst thing was just driving to school on 81!"
          ],
          [
           "JMU Women’s Soccer are your Sun Belt conference champions!"
          ],
          [
           "My son and the 3 roommates are still in Harrisonburg quarantining but feel like a cold to them."
          ],
          [
           "racism (and homophobia by extension) is pretty rampant in other departments as well.. y'all should hear how some of the custodians talk about and to each other.. just part of living in VA ig 🤷"
          ],
          [
           "I know this is going to be unpopular, but since the tables in Virginia may be turning against certain points of view, it needs to be said: As long as it doesn't impact his job or lead to actions that directly hurt people, he is allowed a point of view."
          ],
          [
           "It’s not worth it - 8002738255 This evening, in Hunters Ridge, someone committed suicide."
          ],
          [
           "Harrisonburg now has more COVID cases than all of New Zealand"
          ],
          [
           "Harrisonburg now has more COVID cases than all of New Zealand"
          ],
          [
           "Yeah but was New Zealand cautiously optimistic?"
          ],
          [
           "Make the journey, climb the mountains, and throw the ring that bound your *Fall Semester Hopes* (transliterate that into elvish) into the chasm of a shared hall urinal in Chandler Hall."
          ],
          [
           "~~So this isn’t entirely accurate, New Zealand has around 1700 cases and JMU has 1065 cases, but the fact that it’s anywhere close is dumbfounding~~ Edit: the title says Harrisonburg, not JMU, so this is accurate"
          ],
          [
           "Wait until I tell you about the rest of the US..."
          ],
          [
           "No they said “this is going to kill us all and the world is going to fall apart.” New Zealand locked everything tf down and actually reached 0 new cases for several days in a row while we over here continued to be Arizona, Texas, Florida, and JMU and pretend nothing was wrong."
          ],
          [
           "No they said “this is going to kill us all and the world is going to fall apart.” New Zealand locked everything tf down and actually reached 0 new cases for several days in a row while we over here continued to be Arizona, Texas, Florida, and JMU and pretend nothing was wrong."
          ],
          [
           "No they said “this is going to kill us all and the world is going to fall apart.” New Zealand locked everything tf down and actually reached 0 new cases for several days in a row while we over here continued to be Arizona, Texas, Florida, and JMU and pretend nothing was wrong."
          ],
          [
           "No they said “this is going to kill us all and the world is going to fall apart.” New Zealand locked everything tf down and actually reached 0 new cases for several days in a row while we over here continued to be Arizona, Texas, Florida, and JMU and pretend nothing was wrong."
          ],
          [
           "i can assure you, if Alger boy was in charge of the show in New Zealand, they’d be the biggest hotspot on the planet!"
          ],
          [
           "Theres more to Harrisonburg than just JMU lol."
          ],
          [
           "Harrisonburg has 1900+ cases altogether."
          ],
          [
           "The covid response (or lack thereof) in Virginia colleges deserves more attention."
          ],
          [
           "AMEN brother - a REAL man don't wash his hands in Trumps AMERICA!"
          ],
          [
           "A collection of Harrisonburg sunsets from the past few months"
          ],
          [
           "Lastly, the event occurred on the main road that cuts through Copper Beech (Chestnut Ridge Dr.) so I don’t necessarily think it’s fair to discredit Copper’s safety or security especially since I often see police cars patrolling the individual roads multiple times a week, day and night, over the past year I have lived here."
          ],
          [
           "Lastly, the event occurred on the main road that cuts through Copper Beech (Chestnut Ridge Dr.) so I don’t necessarily think it’s fair to discredit Copper’s safety or security especially since I often see police cars patrolling the individual roads multiple times a week, day and night, over the past year I have lived here."
          ],
          [
           "I really don’t know if this has any place being here but this subreddit was my only idea to see if anyone else in copper witnessed this."
          ],
          [
           "I live at Copper and there are SO many women staying here this summer, running during the daytime and walking their pets."
          ],
          [
           "I live in Copper and my friends and I were all sitting on the deck and we heard a ridiculously loud, attention-getting, negative gut-feeling scream and couldn’t make out where it was coming from."
          ],
          [
           "I live down the street at Campus View."
          ],
          [
           "I live in Copper and I'm pretty concerned."
          ],
          [
           "Did this happen on the side of the Chestnut Ridge intersection that’s closest to the pool, or the west side of the intersection."
          ],
          [
           "The car was parked on the right side of Chestnut Ridge facing NE with the front of the car a few feet from the intersection of Bayberry Ln."
          ],
          [
           "(maybe you noticed this when they were shouting) I know it was nighttime, and you probably didn’t notice these details in the moment, but this can help try and distinguish between the many white sedans that passed any cctv around Chestnut Ridge in the previous 48 hours."
          ],
          [
           "JMU Softball Upsets #1 Oklahoma at WCWS"
          ],
          [
           "Door 4 Subs was in the old D-Hall, across from Commonwealth One Federal Credit Union, at the 4/5 entrance."
          ],
          [
           "Door 4 Subs was in the old D-Hall, across from Commonwealth One Federal Credit Union, at the 4/5 entrance."
          ],
          [
           "The Village is slated for demolition and replacement on the campus master plan, and so for that, window A/C units make sense because they're relatively cheap and easy to implement, and make the buildings more comfortable in the time that they have left."
          ],
          [
           "So the Village will never be renovated, and so it doesn't make sense to do massive upgrades to buildings that the university is planning to demolish."
          ],
          [
           "Meanwhile, according to [this article](https://www.dnronline.com/news/harrisonburg/jmu-board-of-visitors-hears-presentation-on-future-construction/article_ad2f8bb2-c773-5f40-8862-7e342d285770.html), JMU is planning a $49 million renovation of Eagle Hall."
          ],
          [
           "A few days ago I was at the Harrisonburg downtown festival."
          ],
          [
           "Moved out of Harrisonburg for the semester gang but have to drive back for 2 hours to go to a 45 min class gang"
          ],
          [
           "JMU will formally rename Ashby, Jackson, and Maury Halls"
          ],
          [
           "JMU will formally rename Ashby, Jackson, and Maury Halls"
          ],
          [
           "Hell as a CoE student I’d much rather be in Sampson hall than Memorial."
          ],
          [
           "Hell as a CoE student I’d much rather be in Sampson hall than Memorial."
          ],
          [
           "She had a major impact on the students who went to the school in Downtown Harrisonburg"
          ],
          [
           "That’s what Jennings (the new dorm on east) is named after."
          ],
          [
           "I still have nightmares about the classroom numbering in that godforsaken place Sampson Hall would be awesome though"
          ],
          [
           "I recommended “Rocktown Hall” since Harrisonburg used to be called that."
          ],
          [
           "Yeah, I think it would be best to name it after somebody with a direct tie JMU or Harrisonburg"
          ],
          [
           "Lived in Eagle."
          ],
          [
           "Also, considering the capacities of the three smoke-free dorms, there was a slightly higher than 50% chance that I would have ended up in Eagle."
          ],
          [
           "But being freshman year, where you have gen-ed classes all over the campus, proximity to Showker didn't matter at all, and McGraw-Long, with its relatively central location, worked out quite well for that."
          ],
          [
           "Whether you're in your hometown or you've registered here in Harrisonburg or Rockingham County, make your voice heard."
          ],
          [
           "Whether you're in your hometown or you've registered here in Harrisonburg or Rockingham County, make your voice heard."
          ],
          [
           "You'll hear tomorrow from DC!"
          ],
          [
           "A great day for Dallas."
          ],
          [
           "A great day for America"
          ],
          [
           "*skips first day of classes to go to Philly*"
          ],
          [
           "Harrisonburg resident here: Well, that's just great."
          ],
          [
           "i’m on RA in jennings and this weekend i was on duty both friday and saturday night and the amount of people i saw leaving to go party was so disappointing and frustrating."
          ],
          [
           "Harrisonburg isn’t JMU town...."
          ],
          [
           "You know that the US isn’t the only country in the world, right?"
          ],
          [
           "Go look up the COVID lockdown efforts in Asia and Oceania, but I’m guessing you’re physically incapable of processing the fact that America isn’t always first."
          ],
          [
           "Go look up the COVID lockdown efforts in Asia and Oceania, but I’m guessing you’re physically incapable of processing the fact that America isn’t always first."
          ],
          [
           "Go look up the COVID lockdown efforts in Asia and Oceania, but I’m guessing you’re physically incapable of processing the fact that America isn’t always first."
          ],
          [
           "The deal that was struck by Virginia higher ed institutes with the General Assembly was that they would freeze tuition in exchange for an increase in funding from the GA."
          ],
          [
           "However, that extra money isn't likely to be coming because of budget shortfalls in Richmond due to the economic squeeze from COVID-19."
          ],
          [
           "As Mr. Charlie King had explained to me, “the building is so old that they don’t even make the parts that it needs anymore.” The powerplant on East Campus is at a size where it’s too small to function for its demanded energy output."
          ],
          [
           "Apparently, it keeps dying and is, “down more than it’s up.” Johnston Hall needs to be updated to include AC and become ADA-compliant."
          ],
          [
           "Also, they’re proposing to renovate the Village; they’re currently working out the planning process before they get the architects to come in."
          ],
          [
           "East Campus was supposed to receive a huge solar panel installation this summer but the plans somehow got delayed."
          ],
          [
           "A renovation to Carrier Library seems about right."
          ],
          [
           "I hope someone is upgrading the shithole that is Eagle."
          ],
          [
           "East Campus Power Plant was originally built in 82 as a trash combustor."
          ],
          [
           "The trash combustors were upgraded in 03 then shut down in 14 with the plant being sold to jmu from the city in 15."
          ],
          [
           "There was a propane explosion; they conducted helicopter transports to RMH."
          ],
          [
           "Yeah, I heard it and felt it at Sunchase, woke me up..now I'm hearing a lot of sirens on the roads"
          ],
          [
           "Felt it at Pheasant."
          ],
          [
           "The Harrisonburg subbreddit has a photo of smoke"
          ],
          [
           "If you go to #jmu on Twitter theres some footage of it, apparently South Main Street is shut down... looks like it was an explosion :("
          ],
          [
           "Shook me awake all the way in north 38"
          ],
          [
           "Just saw on the thread in Virginia subreddit that crime unit is being brought in due to reports of gunshots heard before the explosion"
          ],
          [
           "Apparently people felt it in weyers cave...."
          ],
          [
           "Haha it woke me up in Phes but I thought it was the ahressive mailman slinging another 50lb bag of dogfood at the door."
          ],
          [
           "Hi so I live on south main and work at the dominos right next to the building."
          ],
          [
           "I heard it and I’m in Bridgewater"
          ],
          [
           "I was in skyline and I guess I slept through it"
          ],
          [
           "that’s a load of selfish bullshit and we have a civil responsibility to the town of harrisonburg to avoid spreading the goddamn plague and sending people to the hospital or the grave"
          ],
          [
           "While spreading COVID to the rest of the Harrisonburg/Rockingham County community :)"
          ],
          [
           "I was in Chandler Hall at the time looking at the crowd outside festival with some frogs."
          ],
          [
           "Is this the one behind East Campus?"
          ],
          [
           "Driving to Walmart I go then lol."
          ],
          [
           "Evening flight over JMU"
          ],
          [
           "I loved going to school there, and I love Harrisonburg."
          ],
          [
           "And then followed up to see training courses down in Florida are about 6k haha."
          ],
          [
           "I fly from a small private strip west of Harrisonburg that is 1800’ long."
          ],
          [
           "jmu has really proven to be a business above anything else and that they’d rather risk the lives of everyone in the harrisonburg community than lose a few bucks."
          ],
          [
           "My understanding is that because we are state employees that’s illegal in Virginia."
          ],
          [
           "that's such a long ways away gd."
          ],
          [
           "When did you arrive back in the Burg?"
          ],
          [
           "So there are places that return results fast in Harrisonburg."
          ],
          [
           "Brother in Hartford, CT got his results in 30 minutes."
          ],
          [
           "Brother in Hartford, CT got his results in 30 minutes."
          ],
          [
           "In Virginia, your body is considered to be a container, if you've drank alcohol and it's in your body, you're considered to be in possession of it."
          ],
          [
           "* Fake ID's do not pass at almost any bar in Harrisonburg."
          ],
          [
           "If you're in a group, not everyone is from Delaware, it's only so big of a state."
          ],
          [
           "It was the morning after the first night, fiji opened up GB to basically anyone."
          ],
          [
           "It was the morning after the first night, fiji opened up GB to basically anyone."
          ],
          [
           "In Virginia it's a misdemeanor charge, drivers license suspension, fees, etc."
          ],
          [
           "Plus any alcohol/drug offense in Harrisonburg/Rockingham county is reported to JMU which is then sent to OSARP (the people who assign strikes)."
          ],
          [
           "It was back when NY state licenses were flexible."
          ],
          [
           "Most likely they had never seen that type of NY license."
          ],
          [
           "I played all the BIG BOYS this season, barely scraping by (I usually play Heisman, but I knew if I wanted to beat the best, so to hopefully BE the best, I had to lower to All-American, join Big 12 to finally start the CFP ranked 1 instead of 10-12 (Sunbelt as we all know have AWESOME baseball, volleyball, tennis etc."
          ],
          [
           "I am an alum who lives in Harrisonburg."
          ],
          [
           "Northern Lights in Harrisonburg"
          ],
          [
           "Northern Lights in Harrisonburg"
          ],
          [
           "Here is my view from Harrisonburg."
          ],
          [
           "NDSU has been pretty vocal that they would accept an invite to the Mountain West."
          ],
          [
           "As a result of poor management, the institution is forced to put students and the Harrisonburg community at a higher risk than it would be otherwise."
          ],
          [
           "Maury is now Mountain Hall and Ashby is now Valley Hall."
          ],
          [
           "Maury is now Mountain Hall and Ashby is now Valley Hall."
          ],
          [
           "Jackson is under construction, so it does not have any visible signs."
          ],
          [
           "But these men were literally soldiers in a foreign government that attacked the U.S. We might as well have Bin Laden Hall if we’re doing that."
          ],
          [
           "Did anyone else see the paraglider above JMU??"
          ],
          [
           "Yeah I was at band, it was cool to see and I wonder if they enjoyed watching us figure out stuff for the few seconds they flew above bridgeforth"
          ],
          [
           "This guys out here all the time on good days, but he’s normally around the Dayton/Bridgewater area."
          ],
          [
           "This happened my junior year once at bridgeforth with the MRDs."
          ],
          [
           "I’d imagine the Harrisonburg hospital system will be getting overwhelmed at this point?"
          ],
          [
           "I feel bad that the parents in Hampton Roads thinks the COVID figures are JMU are incorrect."
          ],
          [
           "We want Georgia"
          ],
          [
           "Come check out JMU's spot on r/place"
          ],
          [
           "What’s this hidden passage in Keezell Hall hiding?"
          ],
          [
           "YSK AVA Care in Harrisonburg is a crisis pregnancy center (aka fake reproductive health centers)."
          ],
          [
           "AVA Care acts as a crisis pregnancy center in Harrisonburg but their primary mission is to convince people to not have abortions."
          ],
          [
           "Virginia CPC’s have made outrageously false claims like “condoms are naturally porous and do not protect against STI’s”, “women who have taken the birth control pill for four years prior to their first pregnancy have a 46% increased risk of breast cancer” or “if you have an abortion, you will see that child’s soul again in the future.” AVA Care’s mission is actively harmful to reproductive and mental health."
          ],
          [
           "If you google “abortion Harrisonburg”, the first several links go to AVA Care sites."
          ],
          [
           "Every other Virginia school is tracking tests or cases, but not mixing and matching like this."
          ],
          [
           "Honestly if I were working on something like this, I’d pull in JMU results with the asterisks indicating it’s self-reported, but I’d include the data coming out of Harrisonburg proper that you can get from VDOH, which is probably telling the full story."
          ],
          [
           "VCU, Longwood, and the Virginia Department of Health all track cases."
          ],
          [
           "People in that class drive from as far as Williamsburg."
          ],
          [
           "That's a Texas sized 10-4, my friend"
          ],
          [
           "Yep - they claimed that it was something related to the January 6 incident at the Capitol."
          ],
          [
           "Probably 10% of Harrisonburg is JMU sports facilities."
          ],
          [
           "But in all seriousness, no party is worth endangering the greater community of Harrisonburg."
          ],
          [
           "I saw this on the Harrisonburg subreddit."
          ],
          [
           "The immigration system needs so much work, in order to make it more efficient and more accessible for people to actually get visas and green cards into the United States."
          ],
          [
           "It is disrespectful to cross our border without permission, and it's dangerous for the United States to have such weak border security that they have been able to do so in the numbers they have."
          ],
          [
           "Conversely, they don't oppose legal immigration, because they see value in immigration for diplomatic and economic reasons, so long that the United States maintains strict control over who is coming in: the process should be long, difficult, restrictive, and each individual should be thoroughly vetted."
          ],
          [
           "one duke passed away by suicide, another suicide on campus, VT shooting at a bar near campus and two bridgewater campus police were shot"
          ],
          [
           "one duke passed away by suicide, another suicide on campus, VT shooting at a bar near campus and two bridgewater campus police were shot"
          ],
          [
           "My suggestion is to wander your way up south main another half mile and live in Pheasant Run."
          ],
          [
           "Don’t live at any of the hills either (especially Southview)."
          ],
          [
           "I pay 399$ including utilities in Pheasant, it's a much quieter neighborhood, and management is on top of most of their shit."
          ],
          [
           "Not saying you get tons of extra amenities, but the houses are WAY nicer than the crappy apartments in the Mill and management isn’t horrible"
          ],
          [
           "I live in pheasant and it woke all of my townhouse up and knocked a couple things over."
          ],
          [
           "Virginia just decriminalized marijuana"
          ],
          [
           "Good job Virginia, congrats!!"
          ],
          [
           "There may be some dick cops out there that try to trick you into saying you’re a seller and arrest you but this bill made it very clear the state of Virginia will no longer be able to arrest people for an ounce or less."
          ],
          [
           "North Carolina has had decriminalization for decades but people still get busted all the time for intent and possession of paraphernalia."
          ],
          [
           "I understand your point but coming from someone that works with these groups, law makers and etc that your situation is the absolute worst case scenario and will not be the norm here in Virginia."
          ],
          [
           "Also, Virginia’s decrim and North Carolina’s are a worlds different."
          ],
          [
           "Virginia’s decrim is a $25 ticket for all offenses and includes any and all types of cannabis (bud, oil, edibles, etc)."
          ],
          [
           "North Carolina on the other hand only decriminalized the first offense, any other offenses you get a misdemeanor, and only includes bud and does not seal the fine from your records."
          ],
          [
           "In North Carolina edibles and oil are also felonies and not a part of the decrim."
          ],
          [
           "Can’t wait to hang out in harrisonburg and work 🤡"
          ],
          [
           "College GameDay is officially coming to Harrisonburg!"
          ],
          [
           "[**@CollegeGameDay**](https://twitter.com/CollegeGameDay): >[2015-10-18 15:22:28 UTC](https://twitter.com/CollegeGameDay/status/655765898167472128) >Harrisonburg, we're coming to your city."
          ],
          [
           "The Stony Brook game in the cold rain/drizzle?"
          ],
          [
           "Richmond usually always draws a crowd."
          ],
          [
           "Organize, write your reps, get yourselves to Richmond for the next Lobby Day on Jan. 20."
          ],
          [
           "> allow faculty and staff to unionize That should really go so far as to repeal the prohibition in Virginia on collective bargaining by public employees, and allow them to strike."
          ],
          [
           "I just try to help people understand what is a JMU issue, because there are plenty, and what is a Virginia problem."
          ],
          [
           "> especially if you know a community college offering courses online A few CCs in Virginia are going almost all online"
          ],
          [
           "Make America Great Again by voteing Trump out!"
          ],
          [
           "While I think there is a chance the situation in Virginia will be so bad by September that school will be moved online, I think the more likely scenario is we all come back onto campus and then 3-4 weeks into school have a massive local COVID-19 outbreak hospitalizing many faculty and staff, and some students."
          ],
          [
           "Then the university will shut everything down and send everyone home thus sending COVID-19 back into other parts of Virginia."
          ],
          [
           "Props to the Mad Lad who was swimming in Newman Lake who got ticketed by the cops and taken away in an ambulance."
          ],
          [
           "Talk to Brad Jenkins or get in touch with any Professor in SMAD to get to him."
          ],
          [
           "Get used to working in Harrison Hall."
          ],
          [
           "For reference, here's the concept for the new D-Hall: http://media.graytvinc.com/images/New+Bluestone+Dining_View+From+East+NIGHT.jpg"
          ],
          [
           "For reference, here's the concept for the new D-Hall: http://media.graytvinc.com/images/New+Bluestone+Dining_View+From+East+NIGHT.jpg"
          ],
          [
           "Unlike in 2001, when D-Hall was rebuilt in the same space, this time the entire building is getting torn down."
          ],
          [
           "Unlike in 2001, when D-Hall was rebuilt in the same space, this time the entire building is getting torn down."
          ],
          [
           "Charlie did say that he felt it was likely there would be a movement to keep it after they were done with the new Phillips due to its convenience to the Village."
          ],
          [
           "Of course, if they go forward with the plans for the Village, it would have to go at that point."
          ],
          [
           "Yep fire in garber hall found out about it from one of my clubs"
          ],
          [
           "There's a lot of misinformation going around that it was a sink fire (its not, those videos were from years ago) What we know right now is that a fire broke out in Garber Hall and it allegedly had to do with someone putting metal in the microwave Police reports will be published sometime tommorow so there'll likely be a response by then"
          ],
          [
           "I lived in Garber as a freshman."
          ],
          [
           "One of those apartments burned down completely at Southview in 2019 if I’m remembering the years correctly"
          ],
          [
           "You could have walked by a covid dorm (Valley) is one of them."
          ],
          [
           "Just got an email saying they aren't cancelling classes despite parts of campus being prone to flooding and the Shenandoah Valley facing a \"significant impact\" with strong winds and heavy rains."
          ],
          [
           "Apparently, she also stressed the picture as important to the girl who commutes four hours from Norfolk."
          ],
          [
           "Also the eye of Hurricane Florence has a reasonable chance to pass over Harrisonburg."
          ],
          [
           "If y'all didn't know, Harrisonburg has an underground fight club/YouTube channel"
          ],
          [
           "I thought streetbeefs were based in NJ"
          ],
          [
           "I walked from the arboretum to Carrier today and it is just littered with garbage."
          ],
          [
           "Flu deaths in the US are about 34,000/yr."
          ],
          [
           "After most of America is vaccinated I see the rate being very similar"
          ],
          [
           "u/BENNYTheWALRUS 🤝 Kids just upset he didn’t get a bid from KDR and his fake got taken at brickhouse"
          ],
          [
           "I have seen several parties in the last few days at The Harrison."
          ],
          [
           "Campus counseling center wouldn’t even see me, and I found it difficult to get treatment in Harrisonburg."
          ],
          [
           "but I'm sorry you're having a bad time at jmu."
          ],
          [
           "I was relatively local (Augusta County), and always felt like something of an \"other\" on campus because I didn't fit the \"rich kid from NOVA\" stereotype, and didn't like the way that many JMU students stereotyped the locals."
          ],
          [
           "I was relatively local (Augusta County), and always felt like something of an \"other\" on campus because I didn't fit the \"rich kid from NOVA\" stereotype, and didn't like the way that many JMU students stereotyped the locals."
          ],
          [
           "I get all of the alumni stuff in my inbox for campus and the local (DC/Baltimore) alumni chapter, but I can't bring myself to actually go to anything, especially seeing as I don't drink alcohol anymore (too many events for adults seem to revolve around alcohol, which really gets old after a while)."
          ],
          [
           "I ran into the Baltimore group on a Sunday evening in 2014 one time by chance, and in interacting with them, they seemed nice enough, but I also got the distinct sense that, other than going to the same college, we had nothing in common."
          ],
          [
           "Don’t let my post detour you from exploring JMU as an option."
          ],
          [
           "If you live in Virginia and are struggling with substance use or if you know someone that is, we will send you a FREE opioid overdose reversal kit."
          ],
          [
           "In 2018, there were 1,193 opioid-related overdose deaths­­ in Virginia."
          ],
          [
           "We are willing to ship the supplies to anywhere in VIRGINIA."
          ],
          [
           "Some photos that I took of JMU at night in December 2007"
          ],
          [
           "Many, many local counseling centers in the Harrisonburg area none are taking new clients."
          ],
          [
           "1) You all have probably heard of the news of the renaming of Jackson, Ashby, and Maury halls, And I think it’s great that JMU as a community is taking an active role in bringing such things as these wrongly named halls to my attention."
          ],
          [
           "1) You all have probably heard of the news of the renaming of Jackson, Ashby, and Maury halls, And I think it’s great that JMU as a community is taking an active role in bringing such things as these wrongly named halls to my attention."
          ],
          [
           "1) You all have probably heard of the news of the renaming of Jackson, Ashby, and Maury halls, And I think it’s great that JMU as a community is taking an active role in bringing such things as these wrongly named halls to my attention."
          ],
          [
           "Let’s rename Ashby hall to Robert E Lee hall"
          ],
          [
           "Let’s rename Ashby hall to Robert E Lee hall"
          ],
          [
           "This was a JLARC study done a few years back and released in January 2015 on college costs in Virginia."
          ],
          [
           "What make this even worse is if we define \"bulk\" as more than 50% then the bulk of the athletics support staff, the bulk of the athletics advertising and fundraising expense, all of the athletic facility operations expenses (Think rent and bills), all the athletic facility debt service (Think mortgage payment) on Veteran's Memorial Park, Bridgeforth Stadium, Athletics exclusive facilities at University Park, and Atlantic Union Bank Center (New Convo), and the indirect institutional cost (Cost to use services like the university lawyer, accountants, etc) come from the non-program specific fund."
          ],
          [
           "What make this even worse is if we define \"bulk\" as more than 50% then the bulk of the athletics support staff, the bulk of the athletics advertising and fundraising expense, all of the athletic facility operations expenses (Think rent and bills), all the athletic facility debt service (Think mortgage payment) on Veteran's Memorial Park, Bridgeforth Stadium, Athletics exclusive facilities at University Park, and Atlantic Union Bank Center (New Convo), and the indirect institutional cost (Cost to use services like the university lawyer, accountants, etc) come from the non-program specific fund."
          ],
          [
           "What make this even worse is if we define \"bulk\" as more than 50% then the bulk of the athletics support staff, the bulk of the athletics advertising and fundraising expense, all of the athletic facility operations expenses (Think rent and bills), all the athletic facility debt service (Think mortgage payment) on Veteran's Memorial Park, Bridgeforth Stadium, Athletics exclusive facilities at University Park, and Atlantic Union Bank Center (New Convo), and the indirect institutional cost (Cost to use services like the university lawyer, accountants, etc) come from the non-program specific fund."
          ],
          [
           "JMU guidelines for Florence"
          ],
          [
           "Nah, I’m scared my roommate who is extremely high risk & will literally die is gonna get it from people that believe that it is “non-existent” when the US cases are still rising."
          ],
          [
           "Harrisonburg *barely* has any authority in the city limits."
          ],
          [
           "This isn’t the first time something like this has happened to me in Harrisonburg and I wanted to spread awareness so that people (especially girls) are aware of their surroundings so this hopefully doesn’t happen to them."
          ],
          [
           "I-81 is the human trafficking capital of the USA."
          ],
          [
           "I-81 is the human trafficking capital of the USA."
          ],
          [
           "I love the Planetarium, and have been a staff member there since December 2012!"
          ],
          [
           "They have been taken from a combination of places which include: GW National Forest, WV, Spruce Knob Lake and Observation Tower, WV, and some more!"
          ],
          [
           "They have been taken from a combination of places which include: GW National Forest, WV, Spruce Knob Lake and Observation Tower, WV, and some more!"
          ],
          [
           "They have been taken from a combination of places which include: GW National Forest, WV, Spruce Knob Lake and Observation Tower, WV, and some more!"
          ],
          [
           "They have been taken from a combination of places which include: GW National Forest, WV, Spruce Knob Lake and Observation Tower, WV, and some more!"
          ],
          [
           "Could you please elaborate some more on dark sky locations near Harrisonburg?"
          ],
          [
           "What is the closest location to Harrisonburg that you would say is reasonably dark to see some star, planets, etc?"
          ],
          [
           "A good location not too far from Harrisonburg (30 minutes on 33 West) is the first mountain overlook on left once you pass the West Virginia state line."
          ],
          [
           "A good location not too far from Harrisonburg (30 minutes on 33 West) is the first mountain overlook on left once you pass the West Virginia state line."
          ],
          [
           "There is some light pollution, but not that much especially compared to Harrisonburg."
          ],
          [
           "The only downside is that because it is located directly off of 33, you will hear/see trucks and cars passing by every now and then."
          ],
          [
           "They’re all over Devon"
          ],
          [
           "I will do it because it’s better for other creatures and plant life to live, but at the same time I wish we could recognize that it’s humanities fault that they’re here… they’re not “bad” or whatever, they’re beautiful parts of the Earth that were transported by us."
          ],
          [
           "Came on the heels of Big Sky and Missouri Valley canceling today as well."
          ],
          [
           "Came on the heels of Big Sky and Missouri Valley canceling today as well."
          ],
          [
           "I believe at the top of Godwin steps, but this could have changed after they re-did d-hall."
          ],
          [
           "Once Missouri Valley and Big Sky pulled out, it dropped most of the remaining competitive potential FCS opportunities."
          ],
          [
           "Once Missouri Valley and Big Sky pulled out, it dropped most of the remaining competitive potential FCS opportunities."
          ],
          [
           "Huh I didn’t know that, we (the MRDs) sheltered in Godwin when they cleared the stadium during the game on Band Day, I never saw the cannon but maybe we went in the building at a different spot - oh well 🤷‍♀️"
          ],
          [
           "Be smart and stay away from Harrisonburg in the fall."
          ],
          [
           "I have been in Harrisonburg for a few months now and when I go shopping I still see tons of people not social distancing and not wearing masks in retail spaces."
          ],
          [
           "i miss dead-eyed thousand-yard stares at the showker bus stop"
          ],
          [
           "funny how you thought doing this would kill me... your actions nearly cost lives at JMU!"
          ],
          [
           "I was parked in the Festi staff lot after 5 when they open up to everyone else with a permit."
          ],
          [
           "A friend of mine swears he ran into Keezell for less than three minutes and came back to a ticket."
          ],
          [
           "on game days they always have a giant sign that is lit up saying \"GAME DAY LOT CLOSES AT 4\" or something, and I just park in East Campus deck on those days, but today there was no big sign saying the above so I thought nothing of it..."
          ],
          [
           "I was over at his house all the time when he lived in Hunter's."
          ],
          [
           "some people are just locals w jmu friends and neighbors in which jmu activities pertain to… gatekeeping a subreddit after already taking up over half the town during school season is crazy."
          ],
          [
           "I've already taken several down in Duke Hall."
          ],
          [
           "Spotted at the Albert Icehouse and Dance Hall in Albert, TX!"
          ],
          [
           "Spotted at the Albert Icehouse and Dance Hall in Albert, TX!"
          ],
          [
           "My kiddo is now at the University of Colorado (Boulder) and they are doing the exact same thing."
          ],
          [
           "Not all of us want to go to Florida and live on a crowded beach for 7 days and party."
          ],
          [
           "PLEASE pay attention to your surroundings EVEN at JMU."
          ],
          [
           "I mean to be fair, be super careful about any solicitation in Harrisonburg."
          ],
          [
           "It's a huge capital for sex trafficking as 81 is a massive highway for it."
          ],
          [
           "I was at walmart with two girls and they both got harrassed by this man!"
          ],
          [
           "This post single handedly ended bad driving in Harrisonburg"
          ],
          [
           "I was in Indianapolis, yes, as a tourist, but still driving appropriately, and the guy behind me honked at me erratically because I was yielding to the person crossing the street IN the crosswalk."
          ],
          [
           "You wanted crap in your room on the 7th floor of Eagle you and your parents moved that shit in yourself"
          ],
          [
           "\"Detrimental reliance\" comes to mind, as people have likely made plans that rely on having JMU in session."
          ],
          [
           "Sources say that after stepping down from office Toronto's former Mayor, Rob Ford plans to pay JMU a visit!"
          ],
          [
           "Spent the break day hiking Seneca rocks in West Virginia."
          ],
          [
           "Spent the break day hiking Seneca rocks in West Virginia."
          ],
          [
           "P.S."
          ],
          [
           "I'm from southern Virginia and think I met maybe two people from south of Virginia in my 4 years there."
          ],
          [
           "I'm from southern Virginia and think I met maybe two people from south of Virginia in my 4 years there."
          ],
          [
           "Cheers from Iraq!"
          ],
          [
           "Most pizza in Harrisonburg sucks tbh."
          ],
          [
           "Is it just me or is this the most Harrisonburg sounding news headline?"
          ],
          [
           "I saw this on the news in NOVA and when they mentioned Harrisonburg my family and I all looked at each other"
          ],
          [
           "Come with me to Mexico."
          ],
          [
           "But has anything similar happened in or around Harrisonburg?"
          ],
          [
           "No one killed but police violence and harassment of Black and Latinx folks still happens in Harrisonburg"
          ],
          [
           "For one, ppl from jmu are also from other communities and two you dont have to be from a community affected by police violence and corruption to show your support"
          ],
          [
           "How many faculty, staff, parents, healthcare workers, harrisonburg community members, and hometown community workers will get it and die as a result of hundreds or thousands of infected college students walking around during the semester or after everyone goes back home?"
          ],
          [
           "Or, like someone said above: all the other people in Harrisonburg that will be affected?"
          ],
          [
           "If you have any classes at Memorial you can park at Westover Park."
          ],
          [
           "If you have any classes at Memorial you can park at Westover Park."
          ],
          [
           "If you’re on center campus (like near the quad) it’s a bit tougher but I’d say maybe the farmers market on Liberty Street (like 15 minute walk)."
          ],
          [
           "You could also try parking in the neighborhoods off of Mason Street but they might be permit parking."
          ],
          [
           "In this area of Virginia, per the VDH dashboard, 100% of COVID deaths have been 50+."
          ],
          [
           ">Especially after seeing what the CDC just released about only 9000 people dying of the sickness alone in the USA."
          ],
          [
           "Harrisonburg has a high population of older people, there are like 6 huge nursing homes."
          ],
          [
           "Before JMU came, Harrisonburg was recording like 2-3 new cases per day."
          ],
          [
           "The neighborhoods off Mason are definitely permit parking."
          ],
          [
           "I think it was in NY that it came to light that 25% of their labeled “covid deaths” (like, saying that covid specifically was the cause of death) weren’t even TESTED for covid."
          ],
          [
           "Not just that, but the virus disproportionately affects poor people since they have less access to health care, and the poverty rate in Harrisonburg is 29%."
          ],
          [
           "Whitest school in VA wins the Ice Hokey Championship."
          ],
          [
           "Virginia's universities must stand together against the Trump administration's assault on academic freedom and higher education."
          ],
          [
           "I think in PlayMU we had a count going of how many times the fire alarm went off in Jennings last year."
          ],
          [
           "Last year in Jennings it hit about 22."
          ],
          [
           "Yeah I have it memorized too, I live in Jennings so I know the pain"
          ],
          [
           "Gas Explosion @ Hometown Music & Element Vapors near Wendy’s on South Main Street!"
          ],
          [
           "I need to get to CVS on port."
          ],
          [
           "Protecting the health of our Harrisonburg and Rockingham County community—including students, faculty, staff—is our top priority, and we need to act swiftly to stop the spread as best we can."
          ],
          [
           "Protecting the health of our Harrisonburg and Rockingham County community—including students, faculty, staff—is our top priority, and we need to act swiftly to stop the spread as best we can."
          ],
          [
           "To protect the health and safety of the communities to which students might be returning, students who have been advised to isolate or quarantine should finish out their prescribed time before leaving Harrisonburg."
          ],
          [
           "Harrisonburg resident and JMU almuna."
          ],
          [
           "Attending college or university outside of your home residence in Virginia is the #1 reason for voting absentee!!"
          ],
          [
           "Virginia Western."
          ],
          [
           "Y’all do realize illegal aliens don’t have the same rights as US citizens."
          ],
          [
           "I think it was Harrisonburg VA Young Dems because a friend of mine follows them and that's how I first found out?"
          ],
          [
           "I think it was Harrisonburg VA Young Dems because a friend of mine follows them and that's how I first found out?"
          ],
          [
           "Photos of Mrs. Green's, a lunch operation that ran out of the Shenandoah Room in the original Chandler Hall, February 22, 2001"
          ],
          [
           "I lived in Chandler and ate at Greens all the time."
          ],
          [
           "Chandler Hall was demolished a couple of years ago to make way for the College of Business expansion."
          ],
          [
           "Hartman Hall, a new low-rise building connected to Zane Showker Hall, replaced Chandler to house more COB space."
          ],
          [
           "The Chandler Hall designation was moved to another dorm, and Potomac Hall is now known as Chandler Hall."
          ],
          [
           "The Chandler Hall designation was moved to another dorm, and Potomac Hall is now known as Chandler Hall."
          ],
          [
           "The Chandler Hall designation was moved to another dorm, and Potomac Hall is now known as Chandler Hall."
          ],
          [
           "If we take a look at any given college in Virginia you will find that JMUs pay and benefits for RAs comes in dead last."
          ],
          [
           "Good luck with that, especially since state employees are not allowed to collectively bargain in Virginia."
          ],
          [
           "Unfortunately, this may come with some rough roads as collective bargaining is not a thing in Virginia, but we can take in mind that JMU does receive federal funds, so it does put us in a grey area."
          ],
          [
           "Here's a good piece from a pro-labor publication about the state of collective bargaining in the public sector in Virginia: https://labornotes.org/2021/03/virginia-public-sector-workers-are-organizing-make-their-new-bargaining-rights-reality My recommendation is that if you want to get better pay and working conditions for state employes, contact your representatives in Richmond in order to change the laws that cover collective bargaining by state employees."
          ],
          [
           "Here's a good piece from a pro-labor publication about the state of collective bargaining in the public sector in Virginia: https://labornotes.org/2021/03/virginia-public-sector-workers-are-organizing-make-their-new-bargaining-rights-reality My recommendation is that if you want to get better pay and working conditions for state employes, contact your representatives in Richmond in order to change the laws that cover collective bargaining by state employees."
          ],
          [
           "Are you in Eagle getting high right now?"
          ],
          [
           "Enjoy every second that you live in Harrisonburg."
          ],
          [
           "Looking east or west, then, we can see the Ridge and Valley...?"
          ],
          [
           "Looking east or west, then, we can see the Ridge and Valley...?"
          ],
          [
           "East are the Blue Ridge and west is just the western portion of the R&V."
          ],
          [
           "he lives in harrisonburg now and is up to the same shit he was doing at GMU, police have been notified but ladies please stay alert."
          ],
          [
           "Did this guy just show up in Harrisonburg this week?"
          ],
          [
           "Like the entirety of the Harrisonburg public transit system?"
          ],
          [
           "So they make in a single semester about the same that Alger makes in a year..."
          ],
          [
           "I’ve seen her by the houses by purcell park, try searching there?"
          ],
          [
           "I think I might’ve seen this cat behind southview ?"
          ],
          [
           "Idk how or why she would’ve travelled all the way to southview"
          ],
          [
           "There are a few strays behind southview so it’s completely possible it was a different cat"
          ],
          [
           "It’s just a lazy grab for money and I have absolutely no respect for parking services at jmu anymore"
          ],
          [
           "The people who do have that option because they live in the general Harrisonburg area don’t need a pass so if they don’t like the parking situation, stop paying for it."
          ],
          [
           "Every food place open right now in the US:"
          ],
          [
           "At first I thought this was a JMU thing but is it true that they're illegal in Virginia too?"
          ],
          [
           "Yes mortar fireworks are illegal in Virginia"
          ],
          [
           "Protect yourself, your friends, family, and others across the country For Reference: The Long History of Mandated Vaccines in the United States https://www.governing.com/now/the-long-history-of-mandated-vaccines-in-the-united-states See AP Article: EXPLAINER: Employers have legal right to mandate COVID shots US Supreme Court: Jacobson v. Massachusetts, 197 U.S. 11 (1905) Austin American Statesman Website - Fact-check: Did George Washington order the Continental Army to vaccinate against smallpox?"
          ],
          [
           "There is a rumor, and I emphasize the rumor part, that there will be some news coming about an altered fall semester as we face a rise in infections in the Commonwealth."
          ],
          [
           "Health officials in Virginia are currently anticipating infection rates in September to reach levels higher than the peak we had in January."
          ],
          [
           "While Virginia is an outlier at the moment, the federal government and CDC are saying otherwise...to mask whether vaccinated or not."
          ],
          [
           "Just as an example, Israel is considering another nationwide lockdown, and they have a vaccination rate nearing 70%."
          ],
          [
           "There won't be another full blown lockdown in America."
          ],
          [
           "70% of US Adults (over age of 18) have one dose."
          ],
          [
           "I saw a post on nextdoor about a dog running around or some sightings in my area around Westover."
          ],
          [
           "You may want to check on that site or on the Harrisonburg sub reddit if you haven't."
          ],
          [
           "Fire officials release cause of apartment fire in Harrisonburg (smoking)"
          ],
          [
           "I’ve lived in southview for 3 years and holy shot are they lazy AF."
          ],
          [
           "Yea southview is shit about people moving out because roommates are breaking the law."
          ],
          [
           "I live at Southview and I moved apartments because my first roommates smoked pot everyday, all day."
          ],
          [
           "I don't know for Southview but for most of the other off campus housing complexes the maintenance is neglected for things that are not noticeable by potential tenants (example being the fire protection systems)."
          ],
          [
           "I went to southview WITH PICTURES of both of those and they still made me pay to move even though my roommates had caused damages and had weed in the apartment."
          ],
          [
           "In terms of Southview’s negligence, u could make an argument for the sprinklers not going off, the building not being equipped enough to prevent this kind of fire, etc."
          ],
          [
           "Back when I was a student, we also never found out who caused the fires at the Commons or Hunter Ridge, both also caused by careless smoking."
          ],
          [
           "Back when I was a student, we also never found out who caused the fires at the Commons or Hunter Ridge, both also caused by careless smoking."
          ],
          [
           "Crews responding to massive fire in Southview Apartments in Harrisonburg"
          ],
          [
           "Crews responding to massive fire in Southview Apartments in Harrisonburg"
          ],
          [
           "I think that South View is old enough that it wasn't required to have them."
          ],
          [
           "It was painted again during the graduation ceremonies but as I was biking around Harrisonburg the other day I went through JMU and noticed that 'the crack is back'."
          ],
          [
           "It was painted again during the graduation ceremonies but as I was biking around Harrisonburg the other day I went through JMU and noticed that 'the crack is back'."
          ],
          [
           "If it weren't for a campaign I might trek back to Harrisonburg to see Slick Willy, but a campaign speech just sounds kind of annoying."
          ],
          [
           "As a JMU alum for what will be two years now, my four years at JMU each had specific, weird and sometimes bad things happen each year (Southview apartment fire, COVID, explosion, multiple suicides/Bridgewater shooting in one week, etc…)."
          ],
          [
           "As a JMU alum for what will be two years now, my four years at JMU each had specific, weird and sometimes bad things happen each year (Southview apartment fire, COVID, explosion, multiple suicides/Bridgewater shooting in one week, etc…)."
          ],
          [
           "You mentioned the Southview fire - I'm both surprised and so incredibly happy that no one got hurt."
          ],
          [
           "Bridgewater shooting?"
          ],
          [
           "First floor Wilson Hall between 6-9 PM is the most peaceful place to take a dump."
          ],
          [
           "Poop in Roop… the Bluestone basements were always peaceful."
          ],
          [
           "Main campus: The right side bathroom of forbes is usually empty, it’s on the second floor past the recital hall if you enter from the quad SSC has a lot of bathrooms on the upper floors that are usually empty Cleveland hall and Sheldon hall are pretty empty buildings most of the time and their bathrooms usually are too The very bottom floor of madison union has a small bathroom that i’ve never seen any one else in, it’s a little hard to get to though, good luck finding it Wilson hall has really fancy bathrooms and as someone else said in here depending on the time they’ll probably have low traffic There’s a single person bathroom on the side closest to the highway of the business building, that was my go to spot when I was taking econ."
          ],
          [
           "Main campus: The right side bathroom of forbes is usually empty, it’s on the second floor past the recital hall if you enter from the quad SSC has a lot of bathrooms on the upper floors that are usually empty Cleveland hall and Sheldon hall are pretty empty buildings most of the time and their bathrooms usually are too The very bottom floor of madison union has a small bathroom that i’ve never seen any one else in, it’s a little hard to get to though, good luck finding it Wilson hall has really fancy bathrooms and as someone else said in here depending on the time they’ll probably have low traffic There’s a single person bathroom on the side closest to the highway of the business building, that was my go to spot when I was taking econ."
          ],
          [
           "Main campus: The right side bathroom of forbes is usually empty, it’s on the second floor past the recital hall if you enter from the quad SSC has a lot of bathrooms on the upper floors that are usually empty Cleveland hall and Sheldon hall are pretty empty buildings most of the time and their bathrooms usually are too The very bottom floor of madison union has a small bathroom that i’ve never seen any one else in, it’s a little hard to get to though, good luck finding it Wilson hall has really fancy bathrooms and as someone else said in here depending on the time they’ll probably have low traffic There’s a single person bathroom on the side closest to the highway of the business building, that was my go to spot when I was taking econ."
          ],
          [
           "Main campus: The right side bathroom of forbes is usually empty, it’s on the second floor past the recital hall if you enter from the quad SSC has a lot of bathrooms on the upper floors that are usually empty Cleveland hall and Sheldon hall are pretty empty buildings most of the time and their bathrooms usually are too The very bottom floor of madison union has a small bathroom that i’ve never seen any one else in, it’s a little hard to get to though, good luck finding it Wilson hall has really fancy bathrooms and as someone else said in here depending on the time they’ll probably have low traffic There’s a single person bathroom on the side closest to the highway of the business building, that was my go to spot when I was taking econ."
          ],
          [
           "The top floors of EnGeo and King hall are always good spots to try, it’s not usually busy up there."
          ],
          [
           "The top floors of EnGeo and King hall are always good spots to try, it’s not usually busy up there."
          ],
          [
           "The first floor of Rose library has a bathroom sort of tucked away behind the starbucks, this one might be getting popular though because it’s the bathroom the employees direct you to when you ask for one UREC has bathrooms in the very back of the building where the staircase is, it’s not really a secret one but the locker rooms and front bathrooms are always busy and I’ve never seen anyone else in these ones."
          ],
          [
           "3rd floor and up in Keezell since almost no classes on that floor."
          ],
          [
           "Duke hall."
          ],
          [
           "5th floor of Rose Library"
          ],
          [
           "under line 6 at D-hall"
          ],
          [
           "under line 6 at D-hall"
          ],
          [
           "My go to spot was always the third floor of TDU"
          ],
          [
           "Memorial Hall-- the bathrooms just outside the auditorium to the left as you enter the building."
          ],
          [
           "For those who don't know, Leeolou is part of Festival but it has its own entrance behind the Rose Library, up from the street where the library drop box is located."
          ],
          [
           "Go into the Leeolou entrance, turn left, and look for bathrooms on your left."
          ],
          [
           "There’s a hidden bathroom on the top floor of Madison Union."
          ],
          [
           "When I was a student Warren hall 1st floor (part of Madison Union) had a nice private restroom with a shower."
          ],
          [
           "This is NOT the restroom in TDU."
          ],
          [
           "You will need to walk from Taylor to Warren and then find a way to the first floor."
          ],
          [
           "I recommend the top floor of Roop Hall."
          ],
          [
           "Roop Hall was open 24 hours for whatever reason and no one is checking on the top floor."
          ],
          [
           "Bonus if you have a buddy tag a long in the next stall for a group poop at Roop."
          ],
          [
           "East Campus superiority."
          ],
          [
           "It's always so interesting to see some of the older folk refer to Chandler as Potomac Hall, granted that the name change wasn't even that long ago."
          ],
          [
           "The area around JMU is clear for takeoff according to the B4UFLY app, so no permission is necessary."
          ],
          [
           "I lived in Potomac Hall for three years, and was an RA there for two of those years."
          ],
          [
           "It will always be Potomac Hall to me."
          ],
          [
           "Calling it Potomac in the captions was a deliberate decision."
          ],
          [
           "Former Chesapeake resident, TIL Potomac is now Chandler."
          ],
          [
           "Former Chesapeake resident, TIL Potomac is now Chandler."
          ],
          [
           "For those of us who are older, myself included, Rose Library is a second library built on the other side of campus."
          ],
          [
           "My understanding with this name change is that after original Chandler was slated for demolition, the Chandler family, in discussion with the university opted to move the name to another building, and Potomac was that building."
          ],
          [
           "Colleges of America taking the greed too far."
          ],
          [
           "It feels like this is going to play out the same across the US, gradually getting all colleges to follow suit."
          ],
          [
           "Then, when all the students are sent home, bringing COVID with them, I’d expect a second wave will sweep across the US...and if it’s hitting at the same time as the seasonal flu starts up, this could be way worse than back in Spring for all of us."
          ],
          [
           "Then, you could narrow it down to that individual that was in contact with them :) And your saying “when the rates continue to rise in Harrisonburg” etc."
          ],
          [
           "So many people from all over the U.S. just came to Harrisonburg for college and now they have to move out, bringing even MORE people."
          ],
          [
           "So many people from all over the U.S. just came to Harrisonburg for college and now they have to move out, bringing even MORE people."
          ],
          [
           "I understand they need us to come back so they don’t have to fire half of their staff in the middle of a pandemic but I think they may not be fully considering the massive health risk to the harrisonburg community and the fact that everyone is going to party anyway"
          ],
          [
           "Harrisonburg resident here, urban mountain bike the stairs and ledges on campus sometimes during the summer."
          ],
          [
           "I would hit the jump coming down the sidewalk right where Carrier meets Bluestone on the left hand side by that big hole."
          ],
          [
           "Foreign exchange students from France."
          ],
          [
           "At the block party at the end of the week, some girls invited me and my roommate back to their dorm in Skyline, and we were so excited."
          ],
          [
           "\"Airport\" was my shit."
          ],
          [
           "Airport, that's what I meant haha."
          ],
          [
           "ORL probably has a list of people who lived in Hillside in each year."
          ],
          [
           "The Hillside comment is historical, so although it was written '07 onward, the actual Hillside stairwell interaction could have been '03 onward."
          ],
          [
           "The Hillside comment is historical, so although it was written '07 onward, the actual Hillside stairwell interaction could have been '03 onward."
          ],
          [
           "I know a Kevin who lived in Hillside spring of '07"
          ],
          [
           "I'd bet you're right about the Starbucks feeding all the starving in America, if not a good chunk"
          ],
          [
           "I don’t recall us serving wings at D-Hall today, so it would’ve been another place."
          ],
          [
           "I don’t recall us serving wings at D-Hall today, so it would’ve been another place."
          ],
          [
           "Do you know how much food JMU had to waste from keeping D hall open during fall break?"
          ],
          [
           "Don't you know they dye Newman Lake anyway?"
          ],
          [
           "How to be helpful while ICE is around town There are lots of rumors this week about ICE activity in and around Harrisonburg."
          ],
          [
           "Being undocumented in the US is not a crime for all the other commenters below, which you can easily find with a google search."
          ],
          [
           "JMU students, especially if you’re new to the hburg area, should be aware that there is gang activity that includes illegal immigrants along the I-81 corridor, including initiation of kids in public school and human trafficking."
          ],
          [
           "Statistically native us citizens commit more crime than illegal immigrants or any immigrants for that matter."
          ],
          [
           "What percentage of gang members in the US are US citizens?"
          ],
          [
           "What percentage of gang members in the US are US citizens?"
          ],
          [
           "being undocumented is not a criminal act in the united states, only a civil violation."
          ],
          [
           "Didn’t think this delusion existed in Harrisonburg."
          ],
          [
           "I agree, however, it’s important to keep in mind that illegal immigrants do have rights but not the same rights at US citizens."
          ],
          [
           "do you have empathy for all of the victims of gang violence committed by the thousands of venezuelan prisoners that were released into the united states during biden's presidency?"
          ],
          [
           "#1 UNIVERSITY IN VIRGINIA!!!"
          ],
          [
           "“The residence halls where students will most likely quarantine in their current living space are Chandler, Chesapeake, Converse, Gifford, Grace Street Apartments, Hoffman, Logan, Spotswood, Valley and Wampler” is what I’m talking about tho https://www.jmu.edu/stop-the-spread/reopening/containment/index.shtml"
          ],
          [
           "“The residence halls where students will most likely quarantine in their current living space are Chandler, Chesapeake, Converse, Gifford, Grace Street Apartments, Hoffman, Logan, Spotswood, Valley and Wampler” is what I’m talking about tho https://www.jmu.edu/stop-the-spread/reopening/containment/index.shtml"
          ],
          [
           "“The residence halls where students will most likely quarantine in their current living space are Chandler, Chesapeake, Converse, Gifford, Grace Street Apartments, Hoffman, Logan, Spotswood, Valley and Wampler” is what I’m talking about tho https://www.jmu.edu/stop-the-spread/reopening/containment/index.shtml"
          ],
          [
           "“The residence halls where students will most likely quarantine in their current living space are Chandler, Chesapeake, Converse, Gifford, Grace Street Apartments, Hoffman, Logan, Spotswood, Valley and Wampler” is what I’m talking about tho https://www.jmu.edu/stop-the-spread/reopening/containment/index.shtml"
          ],
          [
           "“The residence halls where students will most likely quarantine in their current living space are Chandler, Chesapeake, Converse, Gifford, Grace Street Apartments, Hoffman, Logan, Spotswood, Valley and Wampler” is what I’m talking about tho https://www.jmu.edu/stop-the-spread/reopening/containment/index.shtml"
          ],
          [
           "“The residence halls where students will most likely quarantine in their current living space are Chandler, Chesapeake, Converse, Gifford, Grace Street Apartments, Hoffman, Logan, Spotswood, Valley and Wampler” is what I’m talking about tho https://www.jmu.edu/stop-the-spread/reopening/containment/index.shtml"
          ],
          [
           "“The residence halls where students will most likely quarantine in their current living space are Chandler, Chesapeake, Converse, Gifford, Grace Street Apartments, Hoffman, Logan, Spotswood, Valley and Wampler” is what I’m talking about tho https://www.jmu.edu/stop-the-spread/reopening/containment/index.shtml"
          ],
          [
           "I lived in chandler at one point and the rooms have vents on the ceiling and the air way is shared between rooms, sometimes could hear noise from neighbors through them"
          ],
          [
           "Someone could be sick at home in New Jersey and felt obligated to tell us.”"
          ],
          [
           "My Madison is not the same as their public facing site."
          ],
          [
           "My Madison is built on PeopleSoft, Oracle’s ancient acquisition from 2005 that has a Campus management solution (fun fact PeopleSoft’s original CEO created Workday after the acquisition)."
          ],
          [
           "The other Virginia schools are all Banner, IIRC."
          ],
          [
           "I lived in Eagle from 04 to 05."
          ],
          [
           "As someone who was an RA in Eagle, that's some light work."
          ],
          [
           "It’s all too common the amount of people who do have to be from Jersey because that’s just lazy and pathetic clearly their parents didn’t teach them shit except spoil them 🥴"
          ],
          [
           "I made a map showing where JMU students vote this year (If they are registered at their Harrisonburg address)"
          ],
          [
           "Found in Pheasant Run with no collar"
          ],
          [
           "You might send a pic to Park Apartments next door in case it's from there."
          ],
          [
           "When I lived in Pheasant (2015-2019) there were several local ferals that would go into people's houses sometimes to hang out-- it might not belong to anyone!"
          ],
          [
           "There’s a lot of cats in harrisonburg that just kinda wander around."
          ],
          [
           "Not mine but I live in Phes and I'll happily take her lol."
          ],
          [
           "desperately need “misplaced” backpack at around 7:40 pm I left my large black backpack at E hall and when I came back it was missing."
          ],
          [
           "Yeah that makes sense, I forgot to include the “with JMU” part but ive heard its kinda rough in Charlottesville rn."
          ],
          [
           "Yeah that makes sense, I forgot to include the “with JMU” part but ive heard its kinda rough in Charlottesville rn."
          ],
          [
           "Have a feeling they'll wait to see what Mason and VT do."
          ],
          [
           "Have a feeling they'll wait to see what Mason and VT do."
          ],
          [
           "I live in Charlottesville."
          ],
          [
           "Surprisingly, I’ve heard the COVID rates in Charlottesville are better than harrisonburg, that’s what makes me nervous about coming back to JMU."
          ],
          [
           "Surprisingly, I’ve heard the COVID rates in Charlottesville are better than harrisonburg, that’s what makes me nervous about coming back to JMU."
          ],
          [
           "It's alright in Charlottesville and people are taking it seriously."
          ],
          [
           "That makes sense, per capita Harrisonburg is pretty bad since not many people actually live there."
          ],
          [
           "3) We have a number of organizations in the Harrisonburg area that specifically work to help our Black community."
          ],
          [
           "Finally, remember that even if you never made the connection that Jackson Hall is named for Stonewall Jackson, that doesn’t mean other students or prospective students didn’t."
          ],
          [
           "It’s called 20th century black radical traditions in Latin America and the Caribbean!"
          ],
          [
           "It’s called 20th century black radical traditions in Latin America and the Caribbean!"
          ],
          [
           "James Madison was a founding father and president of the United States, who also owned slaves."
          ],
          [
           "My roommate is from jersey, I’ll use some of these next time I’m roasting him"
          ],
          [
           "Gotta admit, driving in Hbrug is INCREDIBLY slow compared to the ol NJ land."
          ],
          [
           "A road like Port Republic would be a 45 in NJ with normal traffic light wait times, and that 25 up Chesnut ridge, yikes."
          ],
          [
           "A road like Port Republic would be a 45 in NJ with normal traffic light wait times, and that 25 up Chesnut ridge, yikes."
          ],
          [
           "A road like Port Republic would be a 45 in NJ with normal traffic light wait times, and that 25 up Chesnut ridge, yikes."
          ],
          [
           "The NJ folks just aren’t used to taking it slow."
          ],
          [
           "That is not to say all of them want to speed through JMU at a million MPH, but they are so used to it from driving up North simply because if they don’t drive aggressively up there, they will get squashed."
          ],
          [
           "I'm from New York, and the jokes about New Jersey drivers ring true, exceeded only by the horrors of Montreal drivers."
          ],
          [
           "I'm from New York, and the jokes about New Jersey drivers ring true, exceeded only by the horrors of Montreal drivers."
          ],
          [
           "I'm from New York, and the jokes about New Jersey drivers ring true, exceeded only by the horrors of Montreal drivers."
          ],
          [
           "It always amused me to see a NJ driver blasting through traffic, cutting multiple people off, accelerating and then slamming on the brakes ... and ending up at a stoplight right in front of me."
          ],
          [
           "I have seen PA drivers do this, NJ do that, VA do something, NY do this."
          ],
          [
           "I have seen PA drivers do this, NJ do that, VA do something, NY do this."
          ],
          [
           "I have seen PA drivers do this, NJ do that, VA do something, NY do this."
          ],
          [
           "I have seen PA drivers do this, NJ do that, VA do something, NY do this."
          ],
          [
           "JMU alum leading Mars explorations"
          ],
          [
           "I don't know the numbers but I've been living in H-burg for 10 years and you can see an increase in minorities, though its still insanely small..."
          ],
          [
           "I don't know the numbers but I've been living in H-burg for 10 years and you can see an increase in minorities, though its still insanely small..."
          ],
          [
           "VCU, William and Mary, George Mason, and one other school, I cant remember, all used tests from a lab in Louisiana that are not approved by the CDC, so many of those original tests could have been inaccurate."
          ],
          [
           "Well, at least the kids in the Village aren't dying of heat stroke anymore."
          ],
          [
           "And those in Spots, and all the other A/C-less buildings lmao."
          ],
          [
           "P.S."
          ],
          [
           "The Studio and Oasis are little self-care spaces that students can go into and do all kinds of things (paint, color, relax in a massage chair, etc.)."
          ],
          [
           "The Studio and Oasis are little self-care spaces that students can go into and do all kinds of things (paint, color, relax in a massage chair, etc.)."
          ],
          [
           "Just be careful of those hills coming from East Campus; you pick up a lot more speed then you think!"
          ],
          [
           "Just Outside The Football Stadium, smh"
          ],
          [
           "Besides if you do the math it comes out that 1 out of 3 homes in the USA have 1 infected individual."
          ],
          [
           "I believe BOTH the faculty, Students and The Harrisonburg community needs to coordinate something; this bullshit decision WILL get someone kill and JMU won’t take the responsibility for that"
          ],
          [
           "Public employees in Virginia are prohibited by law from engaging in collective bargaining, which leaves the employees in a very weak position."
          ],
          [
           "When the administration sends an email telling students they expect them to quarantine 8 days before entering Harrisonburg, and they are depending on students to \"make good judgments\" as one of the key points of their re-opening plan, it's kind of insulting to the community."
          ],
          [
           "Harrisonburg individual tests positive for coronavirus"
          ],
          [
           "Do not go to Backcountry."
          ],
          [
           "Oh, believe me I would, but #1 I graduated last December, and #2 I was in a graduate program that had me in Malta most of the time I was enrolled at JMU."
          ],
          [
           "I love paintball so much but haven't been able to play competitively since I started in University becuase I was either no where near a team (like in Malta) or had no time (when I was at UCF), but in high school and community college I was lucky enough to get on a team semi-sponsored by Dye and was able to get a full set of gear (jersey, pants, mask, pod pack, hopper, tank, and gun) for $750!"
          ],
          [
           "If you find anything he's said compelling, you should keep in mind he also says things like this: >If you believe that the Jewish state has a right to exist, then you must allow Israel to transfer the Palestinians and the Israeli-Arabs from Judea, Samaria, Gaza and Israel proper."
          ],
          [
           "If you find anything he's said compelling, you should keep in mind he also says things like this: >If you believe that the Jewish state has a right to exist, then you must allow Israel to transfer the Palestinians and the Israeli-Arabs from Judea, Samaria, Gaza and Israel proper."
          ],
          [
           "If you find anything he's said compelling, you should keep in mind he also says things like this: >If you believe that the Jewish state has a right to exist, then you must allow Israel to transfer the Palestinians and the Israeli-Arabs from Judea, Samaria, Gaza and Israel proper."
          ],
          [
           "If you find anything he's said compelling, you should keep in mind he also says things like this: >If you believe that the Jewish state has a right to exist, then you must allow Israel to transfer the Palestinians and the Israeli-Arabs from Judea, Samaria, Gaza and Israel proper."
          ],
          [
           "If you find anything he's said compelling, you should keep in mind he also says things like this: >If you believe that the Jewish state has a right to exist, then you must allow Israel to transfer the Palestinians and the Israeli-Arabs from Judea, Samaria, Gaza and Israel proper."
          ],
          [
           "Last semester a guy in my class mentioned that he ran into a New England Patriots scout outside of showker waiting at the Starbucks truck."
          ],
          [
           "Might be unrelated but a cop showed up and got out of his car right as we walked out of Wilson and we had to run"
          ],
          [
           "They own like half the apartments in Harrisonburg"
          ],
          [
           "Alumni here - I was one of the first to move into Charleston townes when they were first built and they were great at the time (compared to ashby and others)."
          ],
          [
           "How many Harrisonburg or county residents went to church, this morning?"
          ],
          [
           "I also certainly believe there is moronic behavior from the non-student population of Harrisonburg."
          ],
          [
           "Tomorrow is Virginia's primary."
          ],
          [
           "And don't forget [Kristen Cavallo](https://www.linkedin.com/in/kristen-cavallo-1044633/) ('91) in Richmond!"
          ],
          [
           "New York, DC, Boston, Vegas, Toronto."
          ],
          [
           "New York, DC, Boston, Vegas, Toronto."
          ],
          [
           "New York, DC, Boston, Vegas, Toronto."
          ],
          [
           "New York, DC, Boston, Vegas, Toronto."
          ],
          [
           "New York, DC, Boston, Vegas, Toronto."
          ],
          [
           "Pretty sizeable agency here in VA, and it seems like CarMax (via the JMU connection I imagine!)"
          ],
          [
           "Not just in America, but across any country with a large wealth gap between the rich and the middle/lower classes."
          ],
          [
           "So again, the financial burden for propping up JMU comes from the taxpayers."
          ],
          [
           "Pro tip: don’t come to the Quad on Saturday."
          ],
          [
           "That’s a southern rail company, bnsf based out of Santa Fe, New Mexico"
          ],
          [
           "That’s a southern rail company, bnsf based out of Santa Fe, New Mexico"
          ],
          [
           "It’s probably at New Mexico State or New Mexico."
          ],
          [
           "It’s probably at New Mexico State or New Mexico."
          ],
          [
           "I’m pretty sure it’s a New Mexico freight company."
          ],
          [
           "It's probably somewhere in Oregon since the train is PW 2310 (so Portland and Western)."
          ],
          [
           "It's probably somewhere in Oregon since the train is PW 2310 (so Portland and Western)."
          ],
          [
           "Looks to be Portland and Western, so out west."
          ],
          [
           "Looks to be Portland and Western, so out west."
          ],
          [
           "It's a Genesee and Wyoming owned railroad."
          ],
          [
           "It's a Genesee and Wyoming owned railroad."
          ],
          [
           "Plus, herd immunity in terms of getting 90-100% of the Us, let alone the world vaccinated is probably impossible The whole selling point and reason a lot of people got vaccinated was and is to live their lives again"
          ],
          [
           "I'm an on-campus dweller who is DYING to get back to Harrisonburg."
          ],
          [
           "Found these in Leesburg yesterday."
          ],
          [
           "There was only three not from Loudon, Fairfax or another nova county."
          ],
          [
           "There was only three not from Loudon, Fairfax or another nova county."
          ],
          [
           "Is every single person at JMU from nova pretty much?"
          ],
          [
           "I got them from the Virginia Dinner in Wakefield years sgo"
          ],
          [
           "I remember from my time there from 1999-2003, I got the sense that yes, NOVA was where most people were from."
          ],
          [
           "I definitely felt like I was missing a shared experience by not having been from there (I grew up in Augusta County, so I was almost a local)."
          ],
          [
           "Nova or Richmond area"
          ],
          [
           "Nova or Richmond area"
          ],
          [
           "Very Virginia Shop in Leesburg."
          ],
          [
           "Very Virginia Shop in Leesburg."
          ],
          [
           "Granted, Tuscaloosa was doing worse before UA came back then Harrisonburg was before JMU came back, but I think that we'd probably still being crazy numbers in the first few weeks even if entry testing had been done."
          ],
          [
           "Granted, Tuscaloosa was doing worse before UA came back then Harrisonburg was before JMU came back, but I think that we'd probably still being crazy numbers in the first few weeks even if entry testing had been done."
          ],
          [
           "Granted, Tuscaloosa was doing worse before UA came back then Harrisonburg was before JMU came back, but I think that we'd probably still being crazy numbers in the first few weeks e did you do this"
          ],
          [
           "Granted, Tuscaloosa was doing worse before UA came back then Harrisonburg was before JMU came back, but I think that we'd probably still being crazy numbers in the first few weeks e did you do this"
          ],
          [
           "Thankfully I’ve been independent since 19 and living in Harrisonburg since then, so that definitely influences my feelings towards “staying home.”"
          ],
          [
           "We all agree JMU is a magical place."
          ],
          [
           "It seems like standard procedures were ignored or they are lacking in Harrisonburg."
          ],
          [
           "Beat Appalachian state in football."
          ],
          [
           "Also Middle Tennessee just thoroughly beat a ranked Miami."
          ],
          [
           "Also Middle Tennessee just thoroughly beat a ranked Miami."
          ],
          [
           "And JMU routed Middle Tennessee like 44-7."
          ],
          [
           "I’m not positive, but you might be able to park in festi lots or maybe the resident lot on the other side of university boulevard."
          ],
          [
           "I was driving through campus last week with my GF on the way back home to Maryland, and I referred to the Atlantic Union Bank Center or whatever it's called as the \"Algerdome\"."
          ],
          [
           "Maury is now Mountain Hall and Ashby is now Valley Hall."
          ],
          [
           "Maury is now Mountain Hall and Ashby is now Valley Hall."
          ],
          [
           "Jackson is under construction, so no sign can be seen currently."
          ],
          [
           "Old photos of Jackson Hall show the fan window on the front, but for decades, it had been mostly filled in, with a much smaller window in its place."
          ],
          [
           "My father is the greatest lawyer in the US, the world, and human history, including the future, which he knows due to the fact that he sued the future and they travelled back in time to tell him."
          ],
          [
           "The entire history of the U.S."
          ],
          [
           "Also idk about 2011 but Tech is way harder to get into than JMU now."
          ],
          [
           "I come from a small town in southern Va and live in a one story 3 bedroom farm house."
          ],
          [
           "You feel inadequate now, but there's a huge \"keeping up with the Jones'\" factor, especially in the DMV (I'm in Nebraska now)."
          ],
          [
           "Your not inferior, your normal, money or no money we all eat microwave dinners, can’t find parking, and hate walking from ISAT to the quad."
          ],
          [
           "As someone from Harrisonburg, everyone I know makes fun of the super rich kids because they didn’t have to work for what they have."
          ],
          [
           "Feeling shitty about being poor...I definitely get that...I live in an area outside of NYC where people commute 2+ hrs to work to afford the McMansion..maybe they are happy..I don’t think so."
          ],
          [
           "The Library, office hours, D-hall."
          ],
          [
           "I made 1 really good friend here, but of course he moved back to Florida."
          ],
          [
           "Spent most of my time in Showker."
          ],
          [
           "It can be really tough to be in a setting like JMU that's filled with extroverts when maybe you're more of an introvert."
          ],
          [
           "Response to your proposals u/mtnmcallister **Response to B** \\- MAD4U hosts a free event called Tea Time every Wednesday from 4pm to 5pm on the 3rd floor of Madison Union (Outside the SGA and UPB offices)."
          ],
          [
           "Walmart off Reservoir?"
          ],
          [
           "Harrisonburg locals can be something else."
          ],
          [
           "No, it’s off south high/Erickson on the other side of town."
          ],
          [
           "Only really close to Pheasant and the Mill so you don’t see many students there."
          ],
          [
           "Only really close to Pheasant and the Mill so you don’t see many students there."
          ],
          [
           "Was out in western Augusta County today on a photography adventure, and my travels took me past the Stokesville Observatory."
          ],
          [
           "Stokesville campground is one of my favorite places in Virginia"
          ],
          [
           "Stokesville campground is one of my favorite places in Virginia"
          ],
          [
           "Beast was at the walmart in harrisonburg!"
          ],
          [
           "That looks like the hedge maze at Luray Caverns as well."
          ],
          [
           "I think the guy lives in NOVA and came down to the Valley for some vidmaking fun..."
          ],
          [
           "I think the guy lives in NOVA and came down to the Valley for some vidmaking fun..."
          ],
          [
           "He actually lives in NC, so this was a pleasant shock to see some familiar locations."
          ],
          [
           "Eagle Hall heat?"
          ],
          [
           "Eagle Hall is like some fucked up version of a FNAF spinoff where you can only have any sort of privacy if you close your room door but if you do you have zero AC and the temperature goes to to like 85 in ten minutes so you have to open the door again and listen to your hall mate hooligans until it’s cold enough again to shut the door without being boiled alive by the Harrisonburg August heat."
          ],
          [
           "Eagle Hall is like some fucked up version of a FNAF spinoff where you can only have any sort of privacy if you close your room door but if you do you have zero AC and the temperature goes to to like 85 in ten minutes so you have to open the door again and listen to your hall mate hooligans until it’s cold enough again to shut the door without being boiled alive by the Harrisonburg August heat."
          ],
          [
           "At least it’s good for getting to know people, I guess everyone in Eagle hall has a “we’re all in this together” mentality If this fucking building caught on fire I’d think the AC just broke I swear"
          ],
          [
           "One particularly hot night I slept in Hoffman Hall lounge cause it was cooler"
          ],
          [
           "i lived in eagle a few years ago (on the very top floor……) & if it makes you feel any better, it seriously cools down in the month of september."
          ],
          [
           "I had a neighbor who did the same when I lived in the old Chandler hall next to eagle my second year."
          ],
          [
           "Would've loved it since I lived in Chandler in my sophomore year!"
          ],
          [
           "I've also heard that the food trucks were originally intended as a temporary solution to the rebuilding of D-hall, and with it rebuilt, there was less need to have them around."
          ],
          [
           "I've also heard that the food trucks were originally intended as a temporary solution to the rebuilding of D-hall, and with it rebuilt, there was less need to have them around."
          ],
          [
           "more or less nonexistent), they couldn't accept JAC cards because there was no jack for a network connection on the outside of Showker - or most other buildings, for that matter."
          ],
          [
           "I've hired developers that went to prestigious schools, and also ones that went to community college (one of my best developers/technologists went to a small CC in Wisconsin)."
          ],
          [
           "The old Viewlex planetarium projector from the 1970s in Miller Hall, April 2002."
          ],
          [
           "This was replaced with a new system when Miller Hall was renovated in the 2000s."
          ],
          [
           "My heart aches for all of you who have poured yourselves completely into your own unique and special Madison experiences."
          ],
          [
           "** For students considering returning to live in off-campus housing in Harrisonburg, please note that in-person access to university facilities and services is extremely limited."
          ],
          [
           "** Based on guidance issued by the White House and the Governor of Virginia not to gather in groups of more than 10 people, all events on JMU’s campus, regardless of size, are cancelled through May 15."
          ],
          [
           "** We have made the decision to close all short-term summer study abroad programs, as well as our summer semester-long programs in London, Antwerp, Salamanca, Florence and Edinburgh."
          ],
          [
           "** We have made the decision to close all short-term summer study abroad programs, as well as our summer semester-long programs in London, Antwerp, Salamanca, Florence and Edinburgh."
          ],
          [
           "** We have made the decision to close all short-term summer study abroad programs, as well as our summer semester-long programs in London, Antwerp, Salamanca, Florence and Edinburgh."
          ],
          [
           "** We have made the decision to close all short-term summer study abroad programs, as well as our summer semester-long programs in London, Antwerp, Salamanca, Florence and Edinburgh."
          ],
          [
           "** We have made the decision to close all short-term summer study abroad programs, as well as our summer semester-long programs in London, Antwerp, Salamanca, Florence and Edinburgh."
          ],
          [
           "The stalkers are probably in Pike."
          ],
          [
           "Frisco, TX"
          ],
          [
           "Frisco, TX"
          ],
          [
           "Anybody heading to Frisco in January?"
          ],
          [
           "I wish aspen the best on getting rent renewals and new customers lol"
          ],
          [
           "I, too, live in Aspen."
          ],
          [
           "Welp looks like we're just gonna have to create another duke dog alley from the commons to Aspen."
          ],
          [
           "I don't know...I've always been a little off-put by Aspen Heights but I just can't quite put my finger on why."
          ],
          [
           "My current complex in richmond has one of those."
          ],
          [
           "It kinda sounds like Aspen Heights Harrisonburg is going to get an overhaul in management."
          ],
          [
           "It kinda sounds like Aspen Heights Harrisonburg is going to get an overhaul in management."
          ],
          [
           "apparently Aspen bought, or offered to buy 2 for this one apartment that was close to the model apartment."
          ],
          [
           "Don't feel bad, I didn't know until I saw this post and googled what happened, and I have friends who live at Aspen."
          ],
          [
           "Frats bought kegs and Aspen matched how many kegs they bought by buying their own for the party."
          ],
          [
           "I mean, I knew that Aspen was was really trying to appeal to the youngin's when they launched their huge Facebook campaign, but I don't know what would possess them to buy kegs for people in all honesty lol"
          ],
          [
           "I’ve become friends with Dukes who are much younger and much older than I am, who I met well after I left Harrisonburg."
          ],
          [
           "Big ol Hawk caught a fat squirrel at D-Hall"
          ],
          [
           "Big ol Hawk caught a fat squirrel at D-Hall"
          ],
          [
           "https://preview.redd.it/4agvhs9ly80c1.jpeg?width=2785&format=pjpg&auto=webp&s=e2656ac7c5bb18a0d72abe434dd0332afeb139b7 This is near the parking deck behind SSC."
          ],
          [
           "In Virginia, you must register by October 13th."
          ],
          [
           "Its important for people to know that college students can usually vote absentee via mail anyway, but this year ANYONE in Virginia can vote absentee for any reason."
          ],
          [
           "Remember when everyone freaked out at Alabama having 500 in the first week?"
          ],
          [
           "In the midst of this challenging time, we extend a warm welcome to members of the [Class of 2024](https://urldefense.proofpoint.com/v2/url?u=http-3A__emclick.imodules.com_ls_click-3Fupn-3Dw3rtLLOBBsx2UYJQqVZ7UmCgXCCRKQofc4YzU3mELwHu-2D2FeBnbjHGqLqZq9FCzabLtXD2qfUY9Y9mBvFUIZCUParCf2C4DYJrMbG-2D2FEBtHWu4hXCJHZxqsCyEGrDfDHkSUm2dR-5FfuC8-2D2FUBqhKVHdL4f-2D2Fca3qJt-2D2Ft2F-2D2FRYej3nDn-2D2Bq-2D2FizRoixRhaYGS9k9SeoNHkSxUlnh7F-2D2BTz1G9GmL0lHyWcyvE2e81T8bVKfsSBNuc-2D2BaxuVe8PGFNIZhsGaPsTmQrIdBUURht8UWiV18rHOWOCyGrcoQfTbwYix2jxO2UXP7BgWOw01RcvgGdHi5nrrvHwCaVu-2D2BenLXkOhlhJK-2D2F1kJzGJbubPEV0QP4ivYolvCPrKI1V6CEurVmBGaGJ4258-2D2BtOj-2D2FPfYCwSDgJt8uKo9ettj989UMlrARFyF3CY1Qd8rI7ys5n6kLJjij-2D2FtejD-2D2BHORoKWRbtMp-2D2Bo2Xtr3QpymXOdmh8UvyLH1Ah5Jsg4UD5kf8kU3X8SxAfh8UwED6m7-2D2BngHaHU9Licwtz8SHyzbQnyWScUuDMv8BR-2D2Bg12Irdc5nCyxQCWo4ebvFMUNgnmtFSai-2D2FhhFOMfK2DYdWUp-2D2Bhn0EZSSXj3MvM0UJ53Uim8NGUumH5D1wZmk-2D2B-2D2BZAfN55SVGpZYhGKIXToq1Du27mfBoRMeTQ-2D3D-2D3D&d=DwMFaQ&c=RWKzQL7PIkYKzsYSjZn54yrN72ooGPhHwUXdJ0S2Irw&r=yENlR_qM-FJ--47INu_Dn260ZfCCU6WW_hTYZ0MgJUQ&m=t6x3MKrc9OyEobmQkMv0rRVga-Q9eamMzUKrKAo7GAs&s=8ZbzKOs-8CWcQH9yTn2gA5JbUpz1AEO38JTR3JXvJi8&e=) as they begin their Madison Experience."
          ],
          [
           "They, too, have experienced many sacrifices, many uncertainties and ongoing upheaval in their lives, but they are here, on our campus and ready to make their mark on Madison."
          ],
          [
           "I love the flex of bringing 4k plus new students into Virginia only so they have a chance of getting sick before being sent back to their families and communities in 41 different states...."
          ],
          [
           "OK. > **The data we share is an underrepresentation of COVID-19 in Virginia."
          ],
          [
           "The World Health Organization (WHO) published a very detailed [report](https://www.who.int/docs/default-source/coronaviruse/who-china-joint-mission-on-covid-19-final-report.pdf) about the outbreak of COVID-19 in China and found that 80% of cases were mild or moderate."
          ],
          [
           "One of the points is that \"The data we share is an underrepresentation of COVID-19 in Virginia\"."
          ],
          [
           "Bridgeforth stadium is named for the fourth bridge built from main campus to east campus that collapsed back in 1995 killing two motorists."
          ],
          [
           "Godwin Hall is named after the Celtic word for “goblin” leading students to suspect that there may be something sinister lying in the building’s basement."
          ],
          [
           "ISAT stands for “Intense Student Academic Trauma” which is why the conjoined science buildings on east campus are known as “ISAT” Wilson Hall was named by a student poll back in the 2000."
          ],
          [
           "To this day every December 7th, students will leave volley balls inside Wilson Hall to commemorate the film’s release The Student Success Center used to be a Hot Topic before being purchased by the University back in 2005 Carrier Library was named after a former JMU President."
          ],
          [
           "To this day every December 7th, students will leave volley balls inside Wilson Hall to commemorate the film’s release The Student Success Center used to be a Hot Topic before being purchased by the University back in 2005 Carrier Library was named after a former JMU President."
          ],
          [
           "D-hub isn’t actually a dinning hall on campus, it’s actually just what students used to call D-hall."
          ],
          [
           "Eagle hall was named after the Eagle of a former JMU President."
          ],
          [
           "Brickhouse was named after a former JMU President Newman lake is named after Ted Newman who went missing 50 years ago."
          ],
          [
           "This is what gives the lake it’s Caspian blue coloration."
          ],
          [
           "\"Carrier Library was named after a former JMU president\" Ah yes, President Library, one of the best there was"
          ],
          [
           "Actually Brickhouse was named after the basketball team because they brick so many shots you could build a house with them"
          ],
          [
           "I know some other Virginia universities have."
          ],
          [
           "For perspective, three weeks ago coronavirus in Italy was a non issue, now theyve shut down entirely."
          ],
          [
           "Everyone struggles with 261 in one way or another."
          ],
          [
           "The rest of the major will stay difficult, but if you can pass 261, you can make it the whole way."
          ],
          [
           "Oh the hours I've spent on the Quad, admiring the Quad!"
          ],
          [
           "Oh the hours I've spent on the Quad, admiring the Quad!"
          ],
          [
           "Ah, nothing like walking from Festival, past ISAT, down across 81 with a view like that."
          ],
          [
           "Ah, nothing like walking from Festival, past ISAT, down across 81 with a view like that."
          ],
          [
           "I read the owner of Dave’s now owns Francesco’s in Bridgewater but I’m looking for a place in Harrisonburg."
          ],
          [
           "I read the owner of Dave’s now owns Francesco’s in Bridgewater but I’m looking for a place in Harrisonburg."
          ],
          [
           "Need something tasty for after we hang 80 on Ball State."
          ],
          [
           "If you like Mediterranean food, try Xenia."
          ],
          [
           "Try Ciro's (the elkton location is also a great spot a bit fancier if you care about that kind of thing and their menu as a whole is larger as well for pasta mains) Brothers (in the Luigi's spot - RIP) best vodka sauce in town (made often by a Hounduran no less) The Sub Station is a VERY random but great spot in the old Waffle House on the south end of town - mexican and hoagies."
          ],
          [
           "Try Ciro's (the elkton location is also a great spot a bit fancier if you care about that kind of thing and their menu as a whole is larger as well for pasta mains) Brothers (in the Luigi's spot - RIP) best vodka sauce in town (made often by a Hounduran no less) The Sub Station is a VERY random but great spot in the old Waffle House on the south end of town - mexican and hoagies."
          ],
          [
           "Yeah it just works somehow A&A kebab near EMU is a gem - absolutely nothing to look at, but I've found those can be some of the best spots."
          ],
          [
           "I stopped in on a drive through Harrisonburg and it's in the old 7-11 off South Main St. Not a place to drink, but the food was very high quality and had an interesting menu."
          ],
          [
           "Grew up in hburg hit up Jack Browns for a burger, Billy Jack's for wings/chicken both are good places to grab a beer, and if you ate looking for the best food downtown hit Mashita."
          ],
          [
           "My wife and I are from the Philly area and always hit Urgie’s for a cheesesteak and some drinks when in Harrisonburg"
          ],
          [
           "My wife and I are from the Philly area and always hit Urgie’s for a cheesesteak and some drinks when in Harrisonburg"
          ],
          [
           "A little off the beaten path as far as JMU goes but Francesco’s in Bridgewater is now owned by the people who owned Dave’s."
          ],
          [
           "Any idea what those were called or what brand they were, OC?"
          ],
          [
           "Was Biltmore the place that did thumbs and toes on Tuesdays?"
          ],
          [
           "Yeah I’m down to try the ale house but I feel like drinking good beer in Harrisonburg would be betraying my roots."
          ],
          [
           "All we need to do right now is focus on Ball State and hope we don’t have a huge letdown after the big win."
          ],
          [
           "Boise State seems to be the biggest roadblock right now but it's still very early in the season"
          ],
          [
           "Dude I moved from Virginia to Boise 3 months ago and if we somehow get a matchup I can’t wait to wear all out jmu attire and watch everyone around me squirm"
          ],
          [
           "Dude I moved from Virginia to Boise 3 months ago and if we somehow get a matchup I can’t wait to wear all out jmu attire and watch everyone around me squirm"
          ],
          [
           "Where is D Hall?????"
          ],
          [
           "That’s what D hall was back in the my day and it was glorious."
          ],
          [
           "Gibbons Hall I believe was the name of the building."
          ],
          [
           "It had four dining facilities: D Hall, Market One, Let's Go (i think that's what it was called?"
          ],
          [
           "Kids these days don’t know what the old Gibbons Hall (D Hall) looks like."
          ],
          [
           "The old D Hall"
          ],
          [
           "Gibbons Hall!"
          ],
          [
           "I'm from the UK and studied abroad here from 2011-12, thanks for making me feel well old.... hahaha"
          ],
          [
           "That was D Hall up until 2016-17 when they tore it down to build the new D hall that opened in 2018-19"
          ],
          [
           "Can’t forget about the Chik Fila there, that was the only source before the one on 33 opened up."
          ],
          [
           "I’m just trying to imagine what my GPA would have been freshman year if I weren’t living in the Village."
          ],
          [
           "I managed to pry a brick out of the Ikenberry walk path after a few beers lol."
          ],
          [
           "Yeah the Sbarro was in Market One, along with a mediocre burger place and some other spot(s) I can’t remember."
          ],
          [
           "It was by the Dhall entrance closest to Carrier, not in the Market One mix."
          ],
          [
           "He is a terrible representative for Virginia from what I’ve seen."
          ],
          [
           "You do know that Virginia governors cannot serve consecutive terms right?"
          ],
          [
           "In all my years living in Harrisonburg I have never seen those."
          ],
          [
           "I grew up (and attended college) in Florida."
          ],
          [
           "It is truly a Virginia problem, not just a JMU problem."
          ],
          [
           "You’re gonna have such an amazing time at jmu, HMU if you have any questions!"
          ],
          [
           "I heard there was a group of people approaching women outside HBS (happened to my friend) asking if they were interested in joining a religion with a female god."
          ],
          [
           "Outside of Madison Union, often there are two people that try to lure students in by offering them a free bracelet."
          ],
          [
           "Harrisonburg is a major hub for the underground economy."
          ],
          [
           "They actively avoid me now when I walk by TDU..."
          ],
          [
           "It is 4-8 east of 81."
          ],
          [
           "What you are reading includes the Mountains to the west in the upper part of the county and into WVa."
          ],
          [
           "I mean I saw the map where they showed how much snow every county was gonna get and all but a tiny part of the west side of Harrisonburg was said to get 4-8 with some areas getting 10"
          ],
          [
           "The executive administration works for the Board of Visitors who works for the Governor of Virginia."
          ],
          [
           "weirdest, funniest, best memories of living in eagle hall at jmu"
          ],
          [
           "interesting things about living in eagle: -going to the family room to escape the heat -Jim George (hall director) watching the Bachelor with everyone in the family room -people setting off the fire alarm at 2 AM (usually burnt popcorn)"
          ],
          [
           "Favorite memory involving me was rappelling off the side of Eagle in ROTC."
          ],
          [
           "I got a little confused for a second just because they recently renamed the east campus dorm Potomac Hall (my freshman dorm) to Chandler."
          ],
          [
           "I got a little confused for a second just because they recently renamed the east campus dorm Potomac Hall (my freshman dorm) to Chandler."
          ],
          [
           "The old Chandler was next to Eagle (right?)"
          ],
          [
           "We spent the whole night watching IASIP in showker."
          ],
          [
           "I rappelled off Eagle with the ROTC back in 1992!"
          ],
          [
           "Okay so I DMd JMUs ig to try to get the scoop because i need to know if i should camp in the pit for a good spot/where the stage will be and they said “We can’t share that information but can confirm that anyone on the Quad will be able to see the Jo Bros.” Interpret that as you may, my guess is it’ll be like the lil plexiglass box like their current tour setup?"
          ],
          [
           "Yeah I can’t decide if they’d be on the regular tv stage where the silly football talk will be going on (lol) or a separate stage elsewhere like up at Wilson or something."
          ],
          [
           "UPDATE: arrest made following shooting on Devon lane The Harrisonburg Police Department arrested Harrisonburg resident Tyreaf Isaiah Fleming, 20, on Sunday afternoon, according to an updated press release."
          ],
          [
           "UPDATE: arrest made following shooting on Devon lane The Harrisonburg Police Department arrested Harrisonburg resident Tyreaf Isaiah Fleming, 20, on Sunday afternoon, according to an updated press release."
          ],
          [
           "Harrisonburg Transit bus, servicing what I believe may be Godwin Hall bus stop, 1994"
          ],
          [
           "Welcome to the United States of America."
          ],
          [
           "My understanding is that JMU is trying to do what other Virginia schools are doing, especially UVA and VCU."
          ],
          [
           "They're setting the bar, however shitty, to all other Virginia schools."
          ],
          [
           "Off campus yes, but that’s most places in America right now."
          ],
          [
           "They never resulted in violence, but they would draw huge crowds outside of carrier."
          ],
          [
           "I'm from Charlottesville, and I remember when they stormed into the town to spew their hate, so I know this all too well."
          ],
          [
           "If anyone is struggling with addiction, knows anyone that is struggling, or just wants one, a Virginia non-profit offers to ship you a FREE Narcan/ Naloxone opioid overdose reversal kit."
          ],
          [
           "<3 In 2016, there were 1,130 opioid-related overdose deaths­­ in Virginia—a rate of 13.5 deaths per 100,000 persons."
          ],
          [
           "We are willing to ship the supplies to anywhere in VIRGINIA."
          ],
          [
           "JMU has been doing so many renovations and expansions that I wonder what campus will look like when I come back from Cali in a few years."
          ],
          [
           "Which is ESPECIALLY irritating this year because we literally went to Italy for new years to play for the Pope in January!!"
          ],
          [
           "Friend of mine said someone was shooting near Foxhill"
          ],
          [
           "Talks about a shooting on port republic and Devon."
          ],
          [
           "Talks about a shooting on port republic and Devon."
          ],
          [
           "A friend from Foxhill said they heard gunshots and cars apparently"
          ],
          [
           "Devon lane is cordoned off now."
          ],
          [
           "But shootings are complete ridiculous and HPD needs to stop fucking around with kind of glossing over JMU hubs as just college kids being college kids."
          ],
          [
           "But renaming Ashby to the Harrison isn’t actually doing shit for that area."
          ],
          [
           "But renaming Ashby to the Harrison isn’t actually doing shit for that area."
          ],
          [
           "WHSV is reporting that 8 people were shot last night on Devon."
          ],
          [
           "I received this emergency notification on my phone just about half hour ago : \"There is an active shooter off campus in the vicinity of Devon Lane in the city of Harrisonburg."
          ],
          [
           "Bet it came from Deer Crossing"
          ],
          [
           "I live at squire and there's been a helicopter overhead for like 15 minutes"
          ],
          [
           "I have a story from when I lived in Fox that I forgot about until this thread."
          ],
          [
           "By far the sketchiest thing that happened on Devon in the 3 years I lived there."
          ],
          [
           "3 others taken to UVA for treatment in Charlottesville.\""
          ],
          [
           "If they’re getting airlifted to Charlottesville then they’re most likely in critical condition."
          ],
          [
           "There are very few ground transport services to take patients to UVA (911 ambulances do not do these transports.)"
          ],
          [
           "Trip to the bell tower last spring (2/2)."
          ],
          [
           "JMU Dining Updates - losing the Mac & cheese station in market 64 (for a new concept) - Java city is moving where qudoba was - there will be an ice cream place where Java city was in market 64 - Qudoba is shut down FOREVER - PC Wings is shut down FOREVER - New Mexican place being put in where pc wings was in dukes dining - Mexican station in E-hall is closed for a new concept - If you have a Panera sip club membership, you can now use it at the Panera on campus - D-hall & E-hall still plan to close at 8pm"
          ],
          [
           "JMU Dining Updates - losing the Mac & cheese station in market 64 (for a new concept) - Java city is moving where qudoba was - there will be an ice cream place where Java city was in market 64 - Qudoba is shut down FOREVER - PC Wings is shut down FOREVER - New Mexican place being put in where pc wings was in dukes dining - Mexican station in E-hall is closed for a new concept - If you have a Panera sip club membership, you can now use it at the Panera on campus - D-hall & E-hall still plan to close at 8pm"
          ],
          [
           "JMU Dining Updates - losing the Mac & cheese station in market 64 (for a new concept) - Java city is moving where qudoba was - there will be an ice cream place where Java city was in market 64 - Qudoba is shut down FOREVER - PC Wings is shut down FOREVER - New Mexican place being put in where pc wings was in dukes dining - Mexican station in E-hall is closed for a new concept - If you have a Panera sip club membership, you can now use it at the Panera on campus - D-hall & E-hall still plan to close at 8pm"
          ],
          [
           "JMU Dining Updates - losing the Mac & cheese station in market 64 (for a new concept) - Java city is moving where qudoba was - there will be an ice cream place where Java city was in market 64 - Qudoba is shut down FOREVER - PC Wings is shut down FOREVER - New Mexican place being put in where pc wings was in dukes dining - Mexican station in E-hall is closed for a new concept - If you have a Panera sip club membership, you can now use it at the Panera on campus - D-hall & E-hall still plan to close at 8pm"
          ],
          [
           "Mac & Cheese seems more popular than Mediterranean food"
          ],
          [
           "I’m looking forward to the Mediterranean food."
          ],
          [
           "Disabled Duke who needs help moving out of Harrisonburg this weekend Edit: I have back and joint problems due to autoimmune disease so moving is excruciating."
          ],
          [
           "I live in a furnished apartment (no furniture needs to be movies) in one of the student apartments in Harrisonburg and leaving Sunday."
          ],
          [
           "I’m actually moving back home to my country because of my poor health and being lonely here in the United States without family after graduating and working in Harrisonburg/DC/Texas for decade."
          ],
          [
           "Moving myself and no longer living in Harrisonburg since graduating"
          ],
          [
           "I always say Hburg and JMU is my little bubble of heaven on Earth ❤️ even moving back to my home country, I will miss this place with all my heart"
          ],
          [
           "Newman Lake is almost exactly 2/3 of a mile in circumference."
          ],
          [
           "Anything not spent at the end of the fiscal year gets reclaimed by Richmond and it might impact what they receive for the following year."
          ],
          [
           "> Anything not spent at the end of the fiscal year gets reclaimed by Richmond and it might impact what they receive for the following year The governor is allowing carryover funds this year."
          ],
          [
           "Uncle Ron once put his hand on my friend's shoulder in D-Hall and asked him if it was too hot in here."
          ],
          [
           "Walking in Honor of my Grandma I am a JMU student and I am participating in this year's Walk to End Alzheimer's in Harrisonburg in memory of my grandma."
          ],
          [
           "Other side of the sexual assault debate EDIT: To clear up confusion, the incident occurred in Florida, which is why Florida criminal law is relevant instead of Virginia law."
          ],
          [
           "Other side of the sexual assault debate EDIT: To clear up confusion, the incident occurred in Florida, which is why Florida criminal law is relevant instead of Virginia law."
          ],
          [
           "Other side of the sexual assault debate EDIT: To clear up confusion, the incident occurred in Florida, which is why Florida criminal law is relevant instead of Virginia law."
          ],
          [
           "Relevant Florida Statute: 794.011 Sexual Battery- “Sexual battery” means **oral, anal, or vaginal penetration** by, or union with, the sexual organ of another or the anal or vaginal penetration of another by any other object; however, sexual battery does not include an act done for a bona fide medical purpose."
          ],
          [
           "Florida does not have a relevant statute against sexual assault other than sexual battery, **which does not include groping**."
          ],
          [
           "Groping **against one's consent** would fall under ordinary battery under FL law."
          ],
          [
           "Consider, once again, that this was not a case of sexual battery, per Florida statute, but rather misdemeanor battery."
          ],
          [
           "Thus, any off-campus scuffle in Virginia that results in misdemeanor charges being sought (think drunken fight at an off-campus housing location) could theoretically result in expulsion under this precedent."
          ],
          [
           "But with all the \"other sides\" aside, she was forced to deal with, in the words of Wikipedia, \"bullying or coercion of a sexual nature,\" and I don't care who the hell is at fault for her decision to show her tits to her guy friends at spring break (a decision shared by a large number, if not a majority, of Panama City spring breakers, not that that makes it justifiable, just putting it into perspective), the decision that the guys made to sexually harass her is in no way acceptable, and they should have to answer for their actions accordingly."
          ],
          [
           "anyone that knows her could tell you that she gets around and is promiscuous, and i was there in fl...she was running around topless all day showing guys her nipple rings."
          ],
          [
           "she wasn't even a jmu student when this whole thing happened in FL."
          ],
          [
           "Sexual harassment laws in FL refer specifically, and only to, harassment *in the workplace*, which does not apply here."
          ],
          [
           "The incident happened in Florida, thus Florida law presides over it, not Virginia law."
          ],
          [
           "The incident happened in Florida, thus Florida law presides over it, not Virginia law."
          ],
          [
           "The incident happened in Florida, thus Florida law presides over it, not Virginia law."
          ],
          [
           "Legally speaking, assault is the threat of violence, but physical contact is not an element (at least in Virginia law)."
          ],
          [
           "It does cover the crime of battery off-campus, apparently extending to Florida in this case."
          ],
          [
           "Seems that Florida only deems an act as \"sexual harassment\" when it occurs in the work place."
          ],
          [
           "So you're right, in the case of Florida laws, this situation fits the definition of Video Voyeurism."
          ],
          [
           "And in Florida, the penalty for a third degree felony is max 5 years and $5000 fine."
          ],
          [
           "So while the crime (Video Voyeurism) was committed in Florida, it became a university issue once it began to compromise the educational atmosphere (so much so that she is no longer a student there)."
          ],
          [
           "The only constant I'm noticing here is that FL laws really are just a shitehole all over."
          ],
          [
           "This entire post is basically trying to argue that it wasn't sexual battery/assault, but as you can see from my post and from the charges laid against the defendents, under virginia law this is sexual battery."
          ],
          [
           "Virginia law is completely irrelevant."
          ],
          [
           "If they had filmed themselves smoking weed in Colorado, would you be okay with JMU bringing action against them for violation of the drug/alcohol policy, under the premise that it's a crime in Virginia?"
          ],
          [
           "If they had filmed themselves smoking weed in Colorado, would you be okay with JMU bringing action against them for violation of the drug/alcohol policy, under the premise that it's a crime in Virginia?"
          ],
          [
           "I would think so, but I admit I do not know case law history in FL related to this issue."
          ],
          [
           "I recall a case in Virginia I believe, where two underage (<18, maybe <16) kids had sex consensually."
          ],
          [
           "What I imagine someone would look like after a dip in Newman Lake"
          ],
          [
           "Myself and some friends drunkenly swam in Newman last spring."
          ],
          [
           "This man helped JMU stand with the best football programs in America and played a part in bringing it to the national stage."
          ],
          [
           "It is, but they gave him 4.4 million reasons to come to Indiana..."
          ],
          [
           "They may have more money, but at least we don't have to live in Indiana"
          ],
          [
           "Also, if youre a VA resident but your voting location is NOT Harrisonburg, [heres where you can register for an absentee ballot](https://vote.elections.virginia.gov/VoterInformation) And here are some [FAQ: college students](https://www.elections.virginia.gov/registration/college-student-info/)"
          ],
          [
           "Also, if youre a VA resident but your voting location is NOT Harrisonburg, [heres where you can register for an absentee ballot](https://vote.elections.virginia.gov/VoterInformation) And here are some [FAQ: college students](https://www.elections.virginia.gov/registration/college-student-info/)"
          ],
          [
           "He is really famous in north carolina."
          ],
          [
           "I went to East Carolina before transferring here."
          ],
          [
           "He went to East Carolina and played football."
          ],
          [
           "I miss the burger place at Market One before it became a Burger Studio in 2011."
          ],
          [
           "Students at the University of Wisconsin were taken aback when their school didn't rate even an honorable mention; after all, everyone knows about the legendary cheesehead antics that go on in Madison."
          ],
          [
           "The Quad last night through the fog."
          ],
          [
           "Looking forward to seeing the Quad on Saturday again..."
          ],
          [
           "22 Nebraska falling to 24 Illinois helps slightly."
          ],
          [
           "22 Nebraska falling to 24 Illinois helps slightly."
          ],
          [
           "Unfortunately with App State being shellshocked by South Alabama and UVA taking it to Coastal, this is as notable of a game we are getting this year"
          ],
          [
           "Gotta pound Sun Belt opponents as often as possible now."
          ],
          [
           "My friends and I watched the game on stream east all the way in Italy"
          ],
          [
           "I see this pair of ducks on the quad almost every day, either by the music building or outside of Wampler - I’ve noticed that the male started to have a limp like a week ago and it’s gotten significantly worse as of like yesterday, he can’t keep up with the female anymore and had to stop walking every few steps."
          ],
          [
           "You should go to Virginia’s Wildlife Rehabilitators and call them to see what you can do since you saw them last :) Hope that helps at all and I hope these guys get help"
          ],
          [
           "I just googled them - they’re out in Waynesboro, will they take a call 40 minutes away from them?"
          ],
          [
           "Student Representative to the Board of Visitors (and amazing best friend), Xavier Williams, and I will be in Richmond in a few days at the Virginia General Assembly to advocate for financial aid-based scholarships and other legislation (college affordability, food security, etc."
          ],
          [
           "I’m also the co-chair for the Student Advisory Council to the State Council of Higher Education for Virginia which means that I represent all public colleges across Virginia."
          ],
          [
           "I’m also the co-chair for the Student Advisory Council to the State Council of Higher Education for Virginia which means that I represent all public colleges across Virginia."
          ],
          [
           "TIL JMU's delegate tony wilt voted to ban premarital sex in virginia"
          ],
          [
           "I assume if you’re working and living in Virginia you should apply for VA unemployment but I don’t know for sure."
          ],
          [
           "To the best of my knowledge, Virginia has suspended the job search requirements for the time being."
          ],
          [
           "Hey guys, I go to a Virginia community college that literally guarantees automatic acceptance to JMU if I have a GPA over 3.0 and have completed a couple other academic requirements (which I have done)."
          ],
          [
           "I go to a Community College in NY I applied last year got deferred so I’m trying again as a transfer."
          ],
          [
           "hi im from nova and i have 3.606 gpa and 1310 sat (i know stats aren’t the best) but im pres of 2 clubs, varsity sport 4 years, captain for 2 years, extracurricular commitment for 9 years now, 50 service hours."
          ],
          [
           "Hi, im from nova."
          ],
          [
           "I'm a random harrisonburg resident and I got the board invite last year."
          ],
          [
           "there's numerous specific classes they require us to take at various colleges around VA and they have attic grade requirements for some of them."
          ],
          [
           "Still doesn’t count for the thousands that Harrisonburg is going through right now."
          ],
          [
           "Don’t forget to vote Red to show these lying and corrupt democrats who deserve the rights (US!)"
          ],
          [
           "Democrats on the other hand want to destroy America, spread hate and negativity, tear down all form of law and order, cause chaos and freak out over CNN’s inaccurate and misleading headlines again."
          ],
          [
           "Twice as many black people died from black on black violence in Chicago in ONE DAY than died from police brutality in an entire year (Washington Post Police Violence Database)."
          ],
          [
           "Blacks have built america’s wealth and have gotten so little recognition."
          ],
          [
           "The contract was broken in 1921 when a wealthy black community in Tulsa was bombed due to racial differences."
          ],
          [
           "When black communities built themselves up in Rosewood in 1923 and were massacred in the streets."
          ],
          [
           "The Department of Justice’s report on Ferguson, Missouri, showed high incarceration rates there, because residents often could not afford to pay the fines incurred from ticketing they disproportionately faced."
          ],
          [
           "The Department of Justice’s report on Ferguson, Missouri, showed high incarceration rates there, because residents often could not afford to pay the fines incurred from ticketing they disproportionately faced."
          ],
          [
           "And a panel of New York police officers recently admitted they often target the most vulnerable — poor people, people of color, and LGBTQ people — to meet quotas."
          ],
          [
           "Plus, knowing JMU students, it would result in ragers all around Harrisonburg."
          ],
          [
           "I know the campus itself is amazing, but I’m wondering what great activities/places there are in Harrisonburg."
          ],
          [
           "Asian male from Portland GPA: 3.55 (unweighted) 3.77 (weighted) SAT: 1530 ACT: 36 No awards Sports: tennis and track Extracurriculars: engineering internships (2019) ,karate (2012-2019) and Art club Intended major: business AP tests: AP physics 1: 5 AP statistics: 5 AP US History: 4 AP language and composition: 4 I used to live in Virginia, and my mom is alumni from JMU and my dad is an alumni from VT."
          ],
          [
           "Asian male from Portland GPA: 3.55 (unweighted) 3.77 (weighted) SAT: 1530 ACT: 36 No awards Sports: tennis and track Extracurriculars: engineering internships (2019) ,karate (2012-2019) and Art club Intended major: business AP tests: AP physics 1: 5 AP statistics: 5 AP US History: 4 AP language and composition: 4 I used to live in Virginia, and my mom is alumni from JMU and my dad is an alumni from VT."
          ],
          [
           "Asian male from Portland GPA: 3.55 (unweighted) 3.77 (weighted) SAT: 1530 ACT: 36 No awards Sports: tennis and track Extracurriculars: engineering internships (2019) ,karate (2012-2019) and Art club Intended major: business AP tests: AP physics 1: 5 AP statistics: 5 AP US History: 4 AP language and composition: 4 I used to live in Virginia, and my mom is alumni from JMU and my dad is an alumni from VT."
          ],
          [
           "I lived in Harrisonburg (if that matters at all)"
          ],
          [
           "I’m a prospective student from West Virginia!"
          ],
          [
           "There’s Ruby’s arcade, has duckpin bowling and shit, fun as fuck."
          ],
          [
           "They recently opened up an axe throwing place kind of near Macadoo’s on the east campus side."
          ],
          [
           "There’s a great one to a fire tower just 30 minutes west on 33."
          ],
          [
           "And that light is coming from Bridgeforth Stadium Friday night @ 7 pm!"
          ],
          [
           "Seriously though, there’s no better way to end the semester than watch the Dukes kick the shit out of Northern Iowa on prime time."
          ],
          [
           "Let’s be loud and help the team get back to Frisco."
          ],
          [
           "If anyone is struggling with addiction, knows anyone that is struggling, or just wants one, a Virginia non-profit offers to ship you a FREE Narcan/ Naloxone opioid overdose reversal kit."
          ],
          [
           "(VA only) In 2016, there were 1,130 opioid-related overdose deaths­­ in Virginia—a rate of 13.5 deaths per 100,000 persons."
          ],
          [
           "(VA only) In 2016, there were 1,130 opioid-related overdose deaths­­ in Virginia—a rate of 13.5 deaths per 100,000 persons."
          ],
          [
           "We are willing to ship the supplies to anywhere in VIRGINIA."
          ],
          [
           "&#x200B; So please, continue to use Eastover as a shortcut."
          ],
          [
           "Welcome to the best school in America brotato"
          ],
          [
           "Pick the quad as your first choice for housing"
          ],
          [
           "And we generally PT at either the UREC turf, or inside Godwin, so the Quad is actually about as far away as possible."
          ],
          [
           "And we generally PT at either the UREC turf, or inside Godwin, so the Quad is actually about as far away as possible."
          ],
          [
           "Quad or Skyline are the way to go."
          ],
          [
           "Quad or Skyline are the way to go."
          ],
          [
           "Otherwise Quad all the way."
          ],
          [
           "Village is the best (Ikenberry represent!)"
          ],
          [
           "Village is the best (Ikenberry represent!)"
          ],
          [
           "I'm also from just north of Detroit, where our average temperature this week was well below zero."
          ],
          [
           "Vote For Harrisonburg!"
          ],
          [
           "Harrisonburg already has a great independent music scene."
          ],
          [
           "On November 2nd, Virginia will elect a Governor, Lt."
          ],
          [
           "Early voting runs from **September 17th until October 30th**, and takes place at [local voter registration offices](https://vote.elections.virginia.gov/VoterInformation/PublicContactLookup) in each of Virginia’s counties and independent cities."
          ],
          [
           "If you live at Grace Street apts it's 42 West Grace Street Box ####."
          ],
          [
           "my buddy is going to USC (South Carolina) they just announced a mask mandate."
          ],
          [
           "God is Alger's gift to us"
          ],
          [
           "I also think the \"West\" stuff started happening more since the additions of the Student Success Center and the Health and Behavioral building."
          ],
          [
           "They moved all the student services to the Student Success Center instead of in Wilson and Taylor Hall (now called Madison Union I think), and D-Hall has been gone for a while and the construction is taking up a lot of that area."
          ],
          [
           "They moved all the student services to the Student Success Center instead of in Wilson and Taylor Hall (now called Madison Union I think), and D-Hall has been gone for a while and the construction is taking up a lot of that area."
          ],
          [
           "I know at my transfer orientation they called it West Campus."
          ],
          [
           "FFS \"North campus\" is on fucking Main Campus because it's like two steps from the damn quad!"
          ],
          [
           "But seeing a male at memorial (outside of the geology area) and him being on reddit when i saw him, it was a near statistical anomaly."
          ],
          [
           "Caught this on Lake Newman earlier today, 30+ inch carp"
          ],
          [
           "Is Lake Newman the same thing as the on-campus lake we called Newman Lake?"
          ],
          [
           "Is Lake Newman the same thing as the on-campus lake we called Newman Lake?"
          ],
          [
           "Make sure you make it out to Beaver Creek before it warms up, I always had more luck there than I ever did at Mossy."
          ],
          [
           "Make sure you make it out to Beaver Creek before it warms up, I always had more luck there than I ever did at Mossy."
          ],
          [
           "Spinner baits were always a big success at the top of Newman Lake and even better at the Arboretum pond."
          ],
          [
           "Go fish in the Arb, I used to catch tons of bass out of there."
          ],
          [
           "Even in the DC area there are huge wait lists for providers — even for those willing to pay out of pocket or who have insurance coverage."
          ],
          [
           "I understand Rome wasn’t built in a day and that it takes time to make changes but I’m just curious if they’ve begun addressing it."
          ],
          [
           "Like u/Cold_Party_2571 said even in big cities like Washington D.C. mental health professionals are sadly spread thin."
          ],
          [
           "When I came back from Afghanistan, we had to take these mental health surveys about what we saw and how we were feeling."
          ],
          [
           "And it’s not just in the US either, as some people believe for some reason."
          ],
          [
           "Shopping cart serial killer in Hburg and Fairfax TW: SA, abuse, and murded."
          ],
          [
           "The arrested perpetrator is currently detained in the Harrisonburg jail."
          ],
          [
           "Here’s the link to the story[link](https://www.whsv.com/2021/12/17/live-press-conference-with-harrisonburg-dc-officials-regarding-alleged-serial-killer/)"
          ],
          [
           "human trafficking is unfortunately a very real reality in harrisonburg."
          ],
          [
           "I've heard 83 is a drug trafficking highway, it may include people too."
          ],
          [
           "I am 37 and have lived in Harrisonburg my entire life."
          ],
          [
           "Looks like the vape shop behind Wendys on South Main"
          ],
          [
           "Especially the elderly population of Harrisonburg and wherever students return to and transmit the virus."
          ],
          [
           "There’s a Korean bbq food truck by the Hardee’s off mlk."
          ],
          [
           "I would drive back to Harrisonburg JUST to eat there."
          ],
          [
           "la morena, mashita, little grill, boboko, indian american cafe, lolas."
          ],
          [
           "la morena, mashita, little grill, boboko, indian american cafe, lolas."
          ],
          [
           "For tacos or any sort of Mexican Food, I love to go to Jalisco’s."
          ],
          [
           "It is in Bridgewater and about a 10 minute drive from campus but it is AMAZING."
          ],
          [
           "Harrisonburg honestly has a great variety of food."
          ],
          [
           "My goal was to try every restaurant in Harrisonburg and I could have done it before I graduated if it weren’t for COVID."
          ],
          [
           "Salgado's Pupuseria y Taqueria is a former food trunk turned restaurant that hands down has the best tacos and pupusas In town."
          ],
          [
           "Babylon, Taste of India (the one near East Campus), Magnolias, Little Italy (some of the best pizza and calzones), Billy Jacks is good but I think Sticky Nuggs are insanely overrated, Beyond has good cocktails and asian cuisine, Grilled Cheese Mania (slightly overpriced), Little Grill Collective, Rubys, Urgies,"
          ],
          [
           "Babylon, Taste of India (the one near East Campus), Magnolias, Little Italy (some of the best pizza and calzones), Billy Jacks is good but I think Sticky Nuggs are insanely overrated, Beyond has good cocktails and asian cuisine, Grilled Cheese Mania (slightly overpriced), Little Grill Collective, Rubys, Urgies,"
          ],
          [
           "Love Clementines and Kyoto!"
          ],
          [
           "The Thunderbird Cafe down 33 near massanutten has great Reubens and they have an amazing brunch burrito."
          ],
          [
           "Billy jacks sticky nugs is by far the best meal in Harrisonburg though"
          ],
          [
           "I was wondering when someone was gonna bring up El Sol, their menudo hit the spot!"
          ],
          [
           "Keep going down 33 for Hank's BBQ from the same owners."
          ],
          [
           "I wasn't 100% positive on the name bc its been awhile since i've been to the burg, but I make a point to go every time im in town"
          ],
          [
           "Potomac 2a represent"
          ],
          [
           "I remember Potomac getting busted by dozens of cops during my orientation."
          ],
          [
           "These Are Some Of My Favorite Photos I've Taken This Year At JMU."
          ],
          [
           ">The president of James Madison University allowed former Virginia Lt. Gov."
          ],
          [
           "> The records show that after approaching Alger about a job, Bolling was allowed to write parts of his own job description, including changing his title; was granted reduced-rate rent on a university-owned house and given a “signing bonus” to cover the first year of the rent, at his request; was allowed by Alger to continue some work at the insurance firm he works for in the Richmond area after he started on the payroll at JMU, which Bolling told university officials would net him a total of $50,000; and received free club seats to home football games."
          ],
          [
           "ESPN College GameDay setting up on The Quad"
          ],
          [
           "Right outside of Harrison, too."
          ],
          [
           "East Campus is a far superior dining experience!"
          ],
          [
           "I saw someones boxers once stuffed behind a toilet on the first floor of Miller Hall."
          ],
          [
           "Stolen Nintendo Switch I live at The Mill apartments in Harrisonburg, and my car was broken into last night."
          ],
          [
           "Stolen Nintendo Switch I live at The Mill apartments in Harrisonburg, and my car was broken into last night."
          ],
          [
           "There is a reason that of all the colleges and universities in the Commonwealth, JMU has the \"best party culture\" monikor."
          ],
          [
           "Rockingham county was once the turkey production capital of the world, idk if it still is, but it tends to smell like this with precipitation :)"
          ],
          [
           "As someone born in Harrisonburg, that's just the Harrisonburg smell, lol"
          ],
          [
           "As someone born in Harrisonburg, that's just the Harrisonburg smell, lol"
          ],
          [
           "If you live on the east coast, very good chance you Thanksgiving Turkey comes from Harrisonburg, Rockingham or Augusta"
          ],
          [
           "If you live on the east coast, very good chance you Thanksgiving Turkey comes from Harrisonburg, Rockingham or Augusta"
          ],
          [
           "If you live on the east coast, very good chance you Thanksgiving Turkey comes from Harrisonburg, Rockingham or Augusta"
          ],
          [
           "It’s the turkey capital of Virginia and third in the US"
          ],
          [
           "It’s the turkey capital of Virginia and third in the US"
          ],
          [
           "Stg it’s just the grain processing stuff west of 81, it definitely smells more like animal feed than actual animals"
          ],
          [
           "Strange Man Asking for Pics in Campus View/Copper Beech Hey all - I had an odd experience with a random stranger yesterday and I'm curious if any of you who live in Campus View Apartments or Copper Beech have had the same."
          ],
          [
           "Strange Man Asking for Pics in Campus View/Copper Beech Hey all - I had an odd experience with a random stranger yesterday and I'm curious if any of you who live in Campus View Apartments or Copper Beech have had the same."
          ],
          [
           "Some guy named Sam/Steve (didn't give his last name) came up to me as I was shooting hoops at the Campus View basketball courts."
          ],
          [
           "The hottest people go to JMU you silly goober, why else do you think i came here aside from the massive monetary gain?"
          ],
          [
           "Yeah, I lived in Cedar (I think?)"
          ],
          [
           "I lived in Dogwood in 2013 and I’m pretty sure it was like 2015-2016 when they turned into frat houses."
          ],
          [
           "So Greek Row is all frats again?"
          ],
          [
           "My detailed thoughts around JMU bringing students back to Harrisonburg 🤡"
          ],
          [
           "ofc jmu isn’t releasing data but apparently harrisonburg had the greatest rate of covid cases per 100k residents?"
          ],
          [
           "Lol Harrisonburg has more cases than the entire country of New Zealand."
          ],
          [
           "I posted earlier this month about an issue in my apartment building at 1093 in Southview (doxxing myself **hard** rn lmao)."
          ],
          [
           "I was part of the Southview fire in March 2019."
          ],
          [
           "He was up in NoVA."
          ],
          [
           "[Willow and Oak are the primary isolation/quarantine locations."
          ],
          [
           "[Willow and Oak are the primary isolation/quarantine locations."
          ],
          [
           "If JMU were to switch to an online-only format, we should compile any and all in-person class options that they can take to remain in the United States!"
          ],
          [
           "could very well be wrong but with more and more cases showing up around the DC area and with how many JMU students live around there, it seems probable at the least."
          ],
          [
           "As an alumni who is now thousands of miles from JMU, this poster brings back all the memories of just how savage us Dukes are"
          ],
          [
           "Its so hard to find friends as an older JMU student I'm a transfer student from the west coast and I'm 30 years old."
          ],
          [
           "I’m a transfer student from northern VA and I’m 25."
          ],
          [
           "Find friends elsewhere in Harrisonburg"
          ],
          [
           "A Harrisonburg LARPing group meets every Saturday in Hillandale Park."
          ],
          [
           "A Harrisonburg LARPing group meets every Saturday in Hillandale Park."
          ],
          [
           "You can just show up on a Saturday at noon near the end of the driveway at Hillandale."
          ],
          [
           "Harrisonburg has quite a few groups for folks in your age bracket."
          ],
          [
           "Harrisonburg is still not very vaccinated yet."
          ],
          [
           "I graduated in 2020, so I'm not running around Harrisonburg outside of work, but I do work at the hospital there—and as long as they have mask requirements there, where they can see the worst of the covid cases in the area, I'm wearing my mask in public"
          ],
          [
           "There were 4 new cases of Covid in Harrisonburg and 8 in the county on March 8."
          ],
          [
           "He's doing a three day tour around the Shenandoah valley just visiting in on local communities!"
          ],
          [
           "I was looking at Niche and saw that JMU is ranked #6 for best college campuses in America and #8 for best college food in America."
          ],
          [
           "I was looking at Niche and saw that JMU is ranked #6 for best college campuses in America and #8 for best college food in America."
          ],
          [
           "The campus is seriously beautiful and, if you avoid D-Hall, the food is amazing too."
          ],
          [
           "I don’t think D-Hall is bad, i just think there are so many better places to go there’s almost no point"
          ],
          [
           "I don’t think D-Hall is bad, i just think there are so many better places to go there’s almost no point"
          ],
          [
           "I was just watching Jaws the other day when I had the horrifying realization that Alger is basically the mayor of Amity."
          ],
          [
           "It's absurd, they either shouldn't have brought us back, or actually bit the bullet, tested EVERYONE (or required a negative test within a week of coming to Harrisonburg) and a quarantine period with no fuckery."
          ],
          [
           "Not to discourage anyone, but FWIW class action lawsuits aren't allowed in Virginia state court."
          ],
          [
           "When it rains be sure to get outside and smell the air, the Burg takes on the perfume of daisies and sunshine"
          ],
          [
           "Newman Lake is a really good place to swim."
          ],
          [
           "Eagle Hall is one of the best dorms for freshmen."
          ],
          [
           "Bridgeforth stadium is named for the fourth bridge built from main campus to east campus that collapsed back in 1995 killing two motorists."
          ],
          [
           "Godwin Hall is named after the Celtic word for “goblin” leading students to suspect that there may be something sinister lying in the building’s basement."
          ],
          [
           "ISAT stands for “Intense Student Academic Trauma” which is why the conjoined science buildings on east campus are known as “ISAT” Wilson Hall was named by a student poll back in the 2000."
          ],
          [
           "To this day every December 7th, students will leave volley balls inside Wilson Hall to commemorate the film’s release The Student Success Center used to be a Hot Topic before being purchased by the University back in 2005 Carrier Library was named after a former JMU President."
          ],
          [
           "To this day every December 7th, students will leave volley balls inside Wilson Hall to commemorate the film’s release The Student Success Center used to be a Hot Topic before being purchased by the University back in 2005 Carrier Library was named after a former JMU President."
          ],
          [
           "D-hub isn’t actually a dinning hall on campus, it’s actually just what students used to call D-hall."
          ],
          [
           "Newman lake is named after Ted Newman who went missing 50 years ago."
          ],
          [
           "This is what gives the lake it’s Caspian blue coloration."
          ],
          [
           "Newman Lake is totally not filled with gray water."
          ],
          [
           "The local residents of Harrisonburg LOVE students."
          ],
          [
           "I live in the Harrison."
          ],
          [
           "Why are so many people At JMU from Jersey like I srsly don’t get it"
          ],
          [
           "Because there are no good schools in NJ besides Rutgers."
          ],
          [
           "Plus JMU is one of the cheaper out of state universities compared to many near NJ."
          ],
          [
           "To tack onto all of the \"no good schools in NJ\" comments, according to my dad, who's been a professor at Tech since '89, Virginia's schools are very aware of this and have been recruiting heavily out of NJ and NY for a long time."
          ],
          [
           "To tack onto all of the \"no good schools in NJ\" comments, according to my dad, who's been a professor at Tech since '89, Virginia's schools are very aware of this and have been recruiting heavily out of NJ and NY for a long time."
          ],
          [
           "To tack onto all of the \"no good schools in NJ\" comments, according to my dad, who's been a professor at Tech since '89, Virginia's schools are very aware of this and have been recruiting heavily out of NJ and NY for a long time."
          ],
          [
           "To tack onto all of the \"no good schools in NJ\" comments, according to my dad, who's been a professor at Tech since '89, Virginia's schools are very aware of this and have been recruiting heavily out of NJ and NY for a long time."
          ],
          [
           "At a certain point, the cycle became self-sustaining with NJ alumni of VA schools establishing a good reputation for VA's state schools to the NJ youngins and now the recruiting basically takes care of itself."
          ],
          [
           "At a certain point, the cycle became self-sustaining with NJ alumni of VA schools establishing a good reputation for VA's state schools to the NJ youngins and now the recruiting basically takes care of itself."
          ],
          [
           "Cause Jersey has shit state colleges and the private ones cost just as much if not more than out of state tuition."
          ],
          [
           "The way it was explained to me by some NJ folks was that JMU was a cheap out-of-state option that was far enough away from their parents, but not too far."
          ],
          [
           "As prices in a lot of NJ areas are pretty high, Virginia rent, bills, etc., seemed to be much more manageable."
          ],
          [
           "As prices in a lot of NJ areas are pretty high, Virginia rent, bills, etc., seemed to be much more manageable."
          ],
          [
           "Ditto with New York and NOVA folks, too."
          ],
          [
           "Ditto with New York and NOVA folks, too."
          ],
          [
           "Most students were from NJ, NY, or NOVA."
          ],
          [
           "Most students were from NJ, NY, or NOVA."
          ],
          [
           "Most students were from NJ, NY, or NOVA."
          ],
          [
           "This and there's more people in NJ then in Virginia."
          ],
          [
           "This and there's more people in NJ then in Virginia."
          ],
          [
           "Princeton, Seton Hall, Rowan are all pretty good."
          ],
          [
           "I mean NOVA makes way more sense, because it is a Virginia State school."
          ],
          [
           "In some ways, but NOVA alone probably has more top- to mid-level universities to choose from on its own than most of NJ."
          ],
          [
           "Out of state for JMU is around 26k and in state for Rutgers is around 14k for in state now.In Princeton the average financial aid package for a freshman on aid is $39,700, so you would paying way less than JMU out of state."
          ],
          [
           "Marymount?"
          ],
          [
           "GWU, & American aren't NOVA they're in DC."
          ],
          [
           "And I said Mason that's 1 university compared to all the VA state schools."
          ],
          [
           "Marymount is private."
          ],
          [
           "GWU is private, too, and they have a satellite campus in Foggy Bottom."
          ],
          [
           "Foggy Bottom is in DC...."
          ],
          [
           "Foggy Bottom is in DC...."
          ],
          [
           "Hoping the university will pull through when they finish rebuilding Phillips near Madison Union and bring back Dukes/Top Dog, but I’m not totally sure what they’re doing."
          ],
          [
           "Hoping the university will pull through when they finish rebuilding Phillips near Madison Union and bring back Dukes/Top Dog, but I’m not totally sure what they’re doing."
          ],
          [
           "What is Varner House I walk by this building all of the time and I literally don’t know what it is."
          ],
          [
           "It looks really similar to the stadium at jmu if you ignore the surrounding buildings"
          ],
          [
           "Made the mistake of attempting to walk to Taylor from the commons...not knowing it was bid night..."
          ],
          [
           "Mary Ann and I both lived in the Washington metro area for over a decade as we were beginning our professional careers and we have always maintained close professional and personal ties there."
          ],
          [
           "I don't have an expert opinion on how much prestige it has, but I can say that people know JMU when i say it now, but when i was a student and said it outside of VA, NJ, NC, PA, and NY it was like 15% people would know about it."
          ],
          [
           "I don't have an expert opinion on how much prestige it has, but I can say that people know JMU when i say it now, but when i was a student and said it outside of VA, NJ, NC, PA, and NY it was like 15% people would know about it."
          ],
          [
           "I don't have an expert opinion on how much prestige it has, but I can say that people know JMU when i say it now, but when i was a student and said it outside of VA, NJ, NC, PA, and NY it was like 15% people would know about it."
          ],
          [
           "I don't have an expert opinion on how much prestige it has, but I can say that people know JMU when i say it now, but when i was a student and said it outside of VA, NJ, NC, PA, and NY it was like 15% people would know about it."
          ],
          [
           "I don't have an expert opinion on how much prestige it has, but I can say that people know JMU when i say it now, but when i was a student and said it outside of VA, NJ, NC, PA, and NY it was like 15% people would know about it."
          ],
          [
           "I asked Bing AI to generate a picture of Wilson Hall (I specified \"Wilson Hall at JMU\"), and it certainly took some artistic license with the architecture"
          ],
          [
           "I felt VT was ultimately too far for me personally."
          ],
          [
           "At JMU, the people in front of me were talking about the prior nights episode of Family Guy."
          ],
          [
           "most of Jersey, LI, NoVa) but there are also down to earth, genuine kids who value their education and building friendships."
          ],
          [
           "most of Jersey, LI, NoVa) but there are also down to earth, genuine kids who value their education and building friendships."
          ],
          [
           "most of Jersey, LI, NoVa) but there are also down to earth, genuine kids who value their education and building friendships."
          ],
          [
           "Ah, JMU… my home away from home."
          ],
          [
           "I'd flunked out of college my freshman year at another college and found myself back home in VA with an Associates from community college."
          ],
          [
           "That combined with it being in a smaller VA town was way more my speed."
          ],
          [
           "• West Virginia was nearby, and at that time you could buy liquor there at age 18."
          ],
          [
           "I love to fish and hike so the rural areas just around Harrisonburg are as close to heaven as you can get at any university that has a good history program."
          ],
          [
           "Maybe i’m just pessimistic but I feel surrounded by NPCs here, in a town where every restaurant closes before 11pm and it’s hard to get decent mental health resources to help with my pessimistic outlook and other problems… Also, outside of JMU, unless you like hiking, skiing, or meth there’s not a lot of redeeming features to the Harrisonburg/shenandoah valley area, the “oh look at the pretty mountains!!"
          ],
          [
           "Maybe i’m just pessimistic but I feel surrounded by NPCs here, in a town where every restaurant closes before 11pm and it’s hard to get decent mental health resources to help with my pessimistic outlook and other problems… Also, outside of JMU, unless you like hiking, skiing, or meth there’s not a lot of redeeming features to the Harrisonburg/shenandoah valley area, the “oh look at the pretty mountains!!"
          ],
          [
           "Harrisonburg does not have the infrastructure to support a mass outbreak, RMH is not physically capable if that were to happen."
          ],
          [
           "Harrisonburg does not have the infrastructure to support a mass outbreak, RMH is not physically capable if that were to happen."
          ],
          [
           "Virginia is 70% vaccinated and even that is a huge feat."
          ],
          [
           "US Government does NOT use Zoom."
          ],
          [
           "Not sure which part of the US govt you’re talking about but Congress is using Zoom"
          ],
          [
           "Who’s caring for the Quad cats this summer?"
          ],
          [
           "They were relocated to Keezell, briefly, but they didn't take to that new location so their shelter and feeing station was moved back to Burruss, just around the side."
          ],
          [
           "They were relocated to Keezell, briefly, but they didn't take to that new location so their shelter and feeing station was moved back to Burruss, just around the side."
          ],
          [
           "They were at the corner of Madison Drive and the sidewalk that leads up to Burrus."
          ],
          [
           "Right now it's to the side a bit (by the west side entrance of Burruss) because JMU landscaping took out the giant bushes in front of Burruss."
          ],
          [
           "Right now it's to the side a bit (by the west side entrance of Burruss) because JMU landscaping took out the giant bushes in front of Burruss."
          ],
          [
           "Once new shrubs are put in front of Burruss, the cooler shelter and the feeding station will (I think) be moved back to where they were."
          ],
          [
           "Don’t know where you’re from but living in Harrisonburg and getting to know the town was just as amazing an experience as being at JMU itself."
          ],
          [
           "Every place on earth (basically only the southern US stares really) with low compliance is suffering."
          ],
          [
           "Might want to look at the statistics again if you think it is only the South suffering."
          ],
          [
           "However, as long as idiots hold out on mask compliance US deaths are going to escalate until they exceed combat deaths in WW2 before the end of the year."
          ],
          [
           "It’s AIRBORNE."
          ],
          [
           "As you move the coat into the mid-Atlantic you see a decline to 50/50."
          ],
          [
           "As you move the coat into the mid-Atlantic you see a decline to 50/50."
          ],
          [
           "It’s probably worst as you head to Florida but I’ve been unable to test that."
          ],
          [
           "As much as I want to stay on campus, the reality is that JMU is pushing because they need the money, all colleges are, once the numbers start to spike 3-5 weeks in (not just JMU but all over the state and Harrisonburg) they’ll be forced to rethink it and send us home, at least that’s what I hope will happen."
          ],
          [
           "Also, did you see the videos from Spring Break in Florida, the Memorial Day party in the Ozarks and countless other stories of large parties being held where the virus inevitably got passed around?"
          ],
          [
           "Also, did you see the videos from Spring Break in Florida, the Memorial Day party in the Ozarks and countless other stories of large parties being held where the virus inevitably got passed around?"
          ],
          [
           "If anyone is struggling with addiction, knows anyone that is struggling, or just wants one, a Virginia non-profit offers to ship you a FREE Narcan/ Naloxone opioid overdose reversal kit."
          ],
          [
           "In 2016, there were 1,130 opioid-related overdose deaths­­ in Virginia—a rate of 13.5 deaths per 100,000 persons."
          ],
          [
           "We are willing to ship the supplies to anywhere in VIRGINIA."
          ],
          [
           "Police respond to reports of shots fired at Harrisonburg Walmart"
          ],
          [
           "With that said I worked in a mental health facility in Harrisonburg and staff from the counseling center were always trying to get updated information from our facility so that they could refer students to a good provider outside of JMU."
          ],
          [
           "With a girlfriend who goes to JMU, k completely agree."
          ],
          [
           "Whatever combination of JMU, Harrisonburg, and the Valley which led you to the conclusion you need to be elsewhere, I hope you find a place you find fitting."
          ],
          [
           "Whatever combination of JMU, Harrisonburg, and the Valley which led you to the conclusion you need to be elsewhere, I hope you find a place you find fitting."
          ],
          [
           "My freshman year roommate just transferred out to Boulder and she’s sm happier if u know it’s not right for u no reason to stay"
          ],
          [
           "I agree, it was a bit jarring to be at a PWI, but eventually, I just kinda got used to it."
          ],
          [
           "Boulder is pretty far though?"
          ],
          [
           "Colorado, right?"
          ],
          [
           "I've been around college towns and more rural towns which are fine- but I abhor Harrisonburg."
          ],
          [
           "**Paul Jennings** \\- Paul Jennings is the newest dorm located on East Campus right behind UREC."
          ],
          [
           "**Skyline Dorms** \\- although Location is an important factor when picking dorms, the East Campus dorms are just better."
          ],
          [
           "Skyline dorms are also decently new dorms that are right across from E-Hall, which has the best food on campus (not a debate)."
          ],
          [
           "Skyline dorms are also decently new dorms that are right across from E-Hall, which has the best food on campus (not a debate)."
          ],
          [
           "Skyline is close to the science/engineering buildings, but pretty far from Main Campus, so be prepared to take the bus!"
          ],
          [
           "Skyline is close to the science/engineering buildings, but pretty far from Main Campus, so be prepared to take the bus!"
          ],
          [
           "**Bluestone** \\- Bluestone dorms are right in the middle of Main Campus, so no bus taking will be necessary."
          ],
          [
           "Bluestone dorms are also very close to the dining halls and everything else on Main Campus."
          ],
          [
           "Hillside is basically the older version of Skyline on Main campus."
          ],
          [
           "Hillside is basically the older version of Skyline on Main campus."
          ],
          [
           "Hillside is in a decent location in terms of food and main campus classes, but the dorms themselves aren’t in the best shape."
          ],
          [
           "The village is also the party area of JMU, so be prepared."
          ],
          [
           "**Lakeside** \\- Lakeside is the last resort area, don’t pick this on purpose."
          ],
          [
           "There are no redeeming qualities about Lakeside other than its proximity to COB and the friends you will make along the way (you will bond through shared suffering)."
          ],
          [
           "As a COB student, Lakeside would be 5th or 4th."
          ],
          [
           "You get to choose where you live (not sure when) but you will most likely have the options of Skyline, Hillside, Village, and Lakeside"
          ],
          [
           "You get to choose where you live (not sure when) but you will most likely have the options of Skyline, Hillside, Village, and Lakeside"
          ],
          [
           "You get to choose where you live (not sure when) but you will most likely have the options of Skyline, Hillside, Village, and Lakeside"
          ],
          [
           "You get to choose where you live (not sure when) but you will most likely have the options of Skyline, Hillside, Village, and Lakeside"
          ],
          [
           "I’ve had a great time at JMU, but living in the Village was one of the worst times of my life."
          ],
          [
           "Not to mention East Campus as a whole has a much better vibe than Main Campus (Village area) although that's just my opinion."
          ],
          [
           "Not to mention East Campus as a whole has a much better vibe than Main Campus (Village area) although that's just my opinion."
          ],
          [
           "Another thing that really pissed me off was the fact that my room and board was the same as someone who lived in Jennings or on east campus."
          ],
          [
           "Dude I slept in my friends’ dorm (Huffman) when they had AC for like 2 weeks in my first semester because even with 3 fans going and windows open our room got to 100 degrees."
          ],
          [
           "I lived in weaver and those dhall shits hit different when you ran up that hill in the village"
          ],
          [
           "Active shooter situation at Bridgewater"
          ],
          [
           "Shooting outside of Nats Park - Hope everyone at the game tonight made it home safe - Message from Dr. Tim Miller re: resources"
          ],
          [
           "I want to make dnd accessible for people in the future."
          ],
          [
           "And yet somehow all the other schools in VA are doing just fine."
          ],
          [
           "I can't speak to what other Virginia schools chose to do in terms of their community standards, how they incentivized compliance & risk-reducing behaviors, established punishments, etc."
          ],
          [
           "I can say from personal experience while a current grad student in North Carolina that the same 'problem' is occurring at campuses here, so I don't fully believe that it's an issue solely endemic to JMU."
          ],
          [
           "Yeah because there are no other differences between JMU's administrative decisions involving COVID and any of the other schools in Virginia."
          ],
          [
           "the students who live off campus technically qualify as \"harrisonburg residents\" (or maybe they don't...?"
          ],
          [
           "they plan on staying in harrisonburg, and it is likely that they will continue to party once they have \"nothing left to lose\"."
          ],
          [
           "im just saying, at a party school like jmu, cases will continue to skyrocket at off-campus gatherings due to students staying in harrisonburg."
          ],
          [
           "They'll climb in Harrisonburg, climb in students' hometowns, then climb again once (or if) students return to Harrisonburg in October."
          ],
          [
           "They'll climb in Harrisonburg, climb in students' hometowns, then climb again once (or if) students return to Harrisonburg in October."
          ],
          [
           "Though I'm not a townie I did spend another year after graduating living in Harrisonburg, and I agree that a lot of people don't take COVID seriously."
          ],
          [
           "JMU as an institution is aware of how Harrisonburg operates."
          ],
          [
           "That's probably Cru - they were advertising a Luau at the Village basketball courts."
          ],
          [
           "I do agree if we had wide spread testing we’d be able to find and isolate more cases before it spreads, but unfortunately that’s not the path America has taken."
          ],
          [
           "It seems like the best way to keep kids on campus for more than 2 weeks would be making sure nobody is coming to Harrisonburg with the virus (though we'd still be lucky to make it a month without an outbreak)."
          ],
          [
           "Not just here in Harrisonburg, but nationally."
          ],
          [
           "A great petition to have the name of Jackson Hall changed!"
          ],
          [
           "There’s a few buildings on campus with confederate general names like Ashby hall Edit: the only two I found were Jackson and Ashby Edit 2: there are two more, Maury and Harrison"
          ],
          [
           "I'm a POC and I had no idea Jackson Hall was named for Stonewall Jackson."
          ],
          [
           "I would imagine most people, most of the time, don’t really think about it, but in the current America we live in theres really no reason to keep a hall named after some racist confederate general."
          ],
          [
           "Maury Hall is named for Matthew Fontaine Maury, a confederate naval officer who, among other things, wanted to set up the Amazon region in Brazil as a resettlement opportunity for slave owners and their slaves in the event that they needed to flee the US."
          ],
          [
           "Maury Hall is named for Matthew Fontaine Maury, a confederate naval officer who, among other things, wanted to set up the Amazon region in Brazil as a resettlement opportunity for slave owners and their slaves in the event that they needed to flee the US."
          ],
          [
           "Maury Hall is named for Matthew Fontaine Maury, a confederate naval officer who, among other things, wanted to set up the Amazon region in Brazil as a resettlement opportunity for slave owners and their slaves in the event that they needed to flee the US."
          ],
          [
           "Maury Hall is named for Matthew Fontaine Maury, a confederate naval officer who, among other things, wanted to set up the Amazon region in Brazil as a resettlement opportunity for slave owners and their slaves in the event that they needed to flee the US."
          ],
          [
           "[https://en.wikipedia.org/wiki/Matthew\\_Fontaine\\_Maury](https://en.wikipedia.org/wiki/Matthew_Fontaine_Maury) JMU's website uses this misleading language to describe him/the building name: \"Maury Hall, originally called the Science Hall, was the university's first academic and administrative building."
          ],
          [
           "It was completed in 1909 and named in honor of Matthew Fontaine Maury, Virginia scientist and oceanographer\"."
          ],
          [
           "Harrison Hall named after Gessner Harrison who was a confederate supporter and a slave owner"
          ],
          [
           "Yeah u/midmen also commented about Harrison hall that has the same similar issue."
          ],
          [
           "Hey JMU, if you're registered to vote in VA, but not in Harrisonburg, TODAY (saturday) is the LAST day to vote absentee in your home town."
          ],
          [
           "Hey JMU, if you're registered to vote in VA, but not in Harrisonburg, TODAY (saturday) is the LAST day to vote absentee in your home town."
          ],
          [
           "If you're from elsewhere in Virginia and never managed to register in Harrisonburg, it's NOT TOO LATE TO VOTE -- you can still vote absentee in your home town/city by appearing in person TODAY (SATURDAY) - in most municipalities in Virginia the registrar's office will be open until 4ish (a few I looked up are open until 4:30 or 5 - but it varies, be sure to look up your town/county - see below for link to pdf with that info.)"
          ],
          [
           "If you're from elsewhere in Virginia and never managed to register in Harrisonburg, it's NOT TOO LATE TO VOTE -- you can still vote absentee in your home town/city by appearing in person TODAY (SATURDAY) - in most municipalities in Virginia the registrar's office will be open until 4ish (a few I looked up are open until 4:30 or 5 - but it varies, be sure to look up your town/county - see below for link to pdf with that info.)"
          ],
          [
           "If you're from elsewhere in Virginia and never managed to register in Harrisonburg, it's NOT TOO LATE TO VOTE -- you can still vote absentee in your home town/city by appearing in person TODAY (SATURDAY) - in most municipalities in Virginia the registrar's office will be open until 4ish (a few I looked up are open until 4:30 or 5 - but it varies, be sure to look up your town/county - see below for link to pdf with that info.)"
          ],
          [
           "&nbsp; here is a partial list of links , of course not to every city in VA but I'm sure you can look yours up."
          ],
          [
           "&nbsp; That PDF also has phone numbers listed for every registrar office in Virginia, so if you have doubt about they're hours you can give them a ring (or go googling for it, suit yourself : ) ) &nbsp; After you fill out the form they will ask for ID - luckily a student ID at a Virginia college or university will do just fine!"
          ],
          [
           "&nbsp; That PDF also has phone numbers listed for every registrar office in Virginia, so if you have doubt about they're hours you can give them a ring (or go googling for it, suit yourself : ) ) &nbsp; After you fill out the form they will ask for ID - luckily a student ID at a Virginia college or university will do just fine!"
          ],
          [
           "He's got a few good options to choose from (JMU, Bama, UK, Michigan State, UNCC) and waiting on a couple others but his heart is definitely with JMU."
          ],
          [
           "I have actually seen him standing with a protest sign (alone) at the corner of Port and Bluestone."
          ],
          [
           "I have actually seen him standing with a protest sign (alone) at the corner of Port and Bluestone."
          ],
          [
           "When I was at JMU we called the nut job who was outside Carrier Library the Angry Bible Man."
          ],
          [
           "I was in Rockingham Hall."
          ],
          [
           "I roomed with a dude who rushed the Pike, which was a yikes in general."
          ],
          [
           "--- ^(I'm a bot that converts temperature between two units humans can understand, then convert it to Kelvin for bots and physicists to understand)"
          ],
          [
           "Collective list of happy Hour Specials in harrisonburg"
          ],
          [
           "Does ANYONE know this man and if he is still selling beef jerky in Harrisonburg?"
          ],
          [
           "I live in copper and got the mans chicken last weekend, I’ve seen him out there most weekends"
          ],
          [
           "Might not be the same guy but he sells it at the Dayton market too"
          ],
          [
           "Hey guys, I’m going into my senior year of high school in Chicago, Illinois, and my college search is pretty much coming to a close, one school that stood out was JMU."
          ],
          [
           "Hey guys, I’m going into my senior year of high school in Chicago, Illinois, and my college search is pretty much coming to a close, one school that stood out was JMU."
          ],
          [
           "There is a constant focus on our facilities and how they can better use spaces to benefit students (both Showker and Jackson halls are undergoing expansion renovations) as well as the athletic business side of JMU."
          ],
          [
           "There is a constant focus on our facilities and how they can better use spaces to benefit students (both Showker and Jackson halls are undergoing expansion renovations) as well as the athletic business side of JMU."
          ],
          [
           "Harrisonburg and the surrounding area are awesome and a great way to expand your horizons past what you're used to in your hometown."
          ],
          [
           "If you're used to a big city, Harrisonburg is definitely going to feel limited."
          ],
          [
           "That being said, Harrisonburg is a pretty vibrant little town."
          ],
          [
           "United flies from ORD to SHD."
          ],
          [
           "United flies from ORD to SHD."
          ],
          [
           "Chicago is so flat, those VA mountains are beautiful."
          ],
          [
           "Chicago is so flat, those VA mountains are beautiful."
          ],
          [
           "JMU was also ranked #1 for the second year in a row for the best college in Virginia for employment."
          ],
          [
           "I graduated from JMU in 2018 and then moved to Illinois to work at UIUC for the past 2 years."
          ],
          [
           "It also offers a good contrast to the flat landscape and corn of Illinois."
          ],
          [
           "Just curious but why did jmu stand out when u live outside of va?"
          ],
          [
           "I live in Harrisonburg and I'm gonna be the opposite jmu ruins this town I've lived here for 33 years born and raised you wanna know what happens when jmu is in?"
          ],
          [
           "As a jmu Greek life alum, I hate to tell you that JMUs Greek life participation is significantly lower than pretty much every school in Virginia that is similar in size."
          ],
          [
           "I love the south and I was looking for a southern school that could give me good access to a city."
          ],
          [
           "JMU has both, it gives me access to both NYC and Washington, and it’s a beautiful southern school."
          ],
          [
           "JMU has both, it gives me access to both NYC and Washington, and it’s a beautiful southern school."
          ],
          [
           "Is Virginia really the South anymore?"
          ],
          [
           "Is Virginia really the South anymore?"
          ],
          [
           "I think its kind of become more mid-atlantic like Maryland"
          ],
          [
           "I really want to see what the “SEC of FBS”  aka Missouri Valley chooses to do."
          ],
          [
           "I’ve been to the Lavender Lounge in SSC (which another user was talking about) and it’s actually super sweet!"
          ],
          [
           "I’m not sure how prevalent it is outside of the psychology department, but I wanna say like 90-100% of the teachers in Miller Hall had one up."
          ],
          [
           "Walking through engeo would kill you"
          ],
          [
           "P.S."
          ],
          [
           "There are two lots, D6 (next to Festival) and V (between Cleveland and Johnston) that are Faculty/Staff 24/7."
          ],
          [
           "There are two lots, D6 (next to Festival) and V (between Cleveland and Johnston) that are Faculty/Staff 24/7."
          ],
          [
           "There are two lots, D6 (next to Festival) and V (between Cleveland and Johnston) that are Faculty/Staff 24/7."
          ],
          [
           "The UBO does also send accounts to collections agencies and they will utilize the Virginia Set-Off-Debt program that allows them to have the money taken out of your Virginia tax refund."
          ],
          [
           "The UBO does also send accounts to collections agencies and they will utilize the Virginia Set-Off-Debt program that allows them to have the money taken out of your Virginia tax refund."
          ],
          [
           "In any case, I've parked in garages overnight plenty of times (typically at Metro garages near DC), and no one has ever messed with my car."
          ],
          [
           "**Complex:** Mountain View Apartments **Rent:** $425/mo (they are raising the rates from last year) **Included:** Trash and Internet **Amenities:** Gazebo (yes that is all you get) **Pros:** * Very close to campus, you can coast downhill to main campus from the path behind the apartments if you use a bike."
          ],
          [
           "There are buses at the end of the street which takes you to Godwin as well or you can walk."
          ],
          [
           "* Usually wont have a problem with parking * Close to Walmart and East Campus **Cons:** * You are effectively paying around $460 when you include utilities."
          ],
          [
           "* Usually wont have a problem with parking * Close to Walmart and East Campus **Cons:** * You are effectively paying around $460 when you include utilities."
          ],
          [
           "how would that not be included tho **Pros:** Rent obviously, Location: near Devon ln , Forest Manor and Fox."
          ],
          [
           "how would that not be included tho **Pros:** Rent obviously, Location: near Devon ln , Forest Manor and Fox."
          ],
          [
           "Location is on the same strip with Foxhill and Squire Hill, there's more of a party scene down there."
          ],
          [
           "Location is on the same strip with Foxhill and Squire Hill, there's more of a party scene down there."
          ],
          [
           "Can someone who has lived in Fox hill tell me if its nice?"
          ],
          [
           "* Walking to campus is out of the question, unless you want to walk 30 minutes to East Campus"
          ],
          [
           "The cheapest we can find is Southview but we're trying to never have to deal with The Hills again."
          ],
          [
           "The cheapest we can find is Southview but we're trying to never have to deal with The Hills again."
          ],
          [
           "Some more on Southview: (Disclaimer: It’s been a year or so since I lived there, so things may have changed) The internet kind of sucked, especially with 4 people using it."
          ],
          [
           "I pay $510 all in for 4 bed 4 bath in Campus View."
          ],
          [
           "There are probably 40-50 spots total and sooooo many people living in Campus View."
          ],
          [
           "The drive to east campus is not bad at all- maybe 7 minutes and Reservoir is much better than Port in terms of traffic."
          ],
          [
           "The drive to east campus is not bad at all- maybe 7 minutes and Reservoir is much better than Port in terms of traffic."
          ],
          [
           "If rooming as a freshman, the village and Skyline dorms are the closest to where he will be attending class."
          ],
          [
           "I'm from Salem VA, and have been watching Alison report since she got to the station."
          ],
          [
           "Governor McAuliffe tweeted: > Heartbroken over **senseless** murders today in Smith Mountain Lake."
          ],
          [
           "From Salem too, I hadn't heard about it until I got into work just now."
          ],
          [
           "After the first few days of walking around JMU"
          ],
          [
           "Deer Run offers a great variety of discounted, stolen bikes."
          ],
          [
           "Here is what the linked meme says in case it is blocked at your school/work or is unavailable for any reason: #***I Should Buy A Boat*** >***Post Title:*** *After the first few days of walking around JMU* >***Bottom:*** *I SHOULD BUY A BIKE* [Original Link^1](http://imgur.com/NomFbbR) | [Meme Template^2](http://imgur.com/memegen/create/NomFbbR)"
          ],
          [
           "I'm in Aspen Heights and rode my bike to campus today."
          ],
          [
           "The hill on Port wasn't as bad as I thought it'd be."
          ],
          [
           "What it feels like being in Harrisonburg over break."
          ],
          [
           "JMU breaks are the best time to be Harrisonburg."
          ],
          [
           "No one around (if you live in regular student housing areas) but also, *no one around* Lived in Charleston last year as I tried to get into grad school."
          ],
          [
           "As an alumni and 'burg local I'm really looking forward to actually being able to get a seat at Jack Brown's this weekend ; )"
          ],
          [
           "Same for Copper Beech."
          ],
          [
           "Go back to Charlottesville"
          ],
          [
           "Emergency ride from Lynchburg to Harrisonburg or Lynchburg to Lexington."
          ],
          [
           "Emergency ride from Lynchburg to Harrisonburg or Lynchburg to Lexington."
          ],
          [
           "Emergency ride from Lynchburg to Harrisonburg or Lynchburg to Lexington."
          ],
          [
           "Emergency ride from Lynchburg to Harrisonburg or Lynchburg to Lexington."
          ],
          [
           "So I need to find a way to get back home to Harrisonburg."
          ],
          [
           "I (female) took a MegaBus on Saturday (07/02) from Harrisonburg to Lexington to visit my so called boyfriend who lives in Lynchburg."
          ],
          [
           "I (female) took a MegaBus on Saturday (07/02) from Harrisonburg to Lexington to visit my so called boyfriend who lives in Lynchburg."
          ],
          [
           "I (female) took a MegaBus on Saturday (07/02) from Harrisonburg to Lexington to visit my so called boyfriend who lives in Lynchburg."
          ],
          [
           "There is no direct bus that goes from Hburg to Lynchburg so he had to pick me up from Lex to drive me to his house."
          ],
          [
           "I scrambled to get myself a hotel and now I am stranded without a car in Lynchburg until Jul 5 which is when I’m suppose to check out."
          ],
          [
           "It is 9PM and he has not reached out to me since the incident and I just want to get home to Harrisonburg at this point and forgot this."
          ],
          [
           "I’m willing to pay someone to take me to either Lexington where I can catch a MegaBus or pay someone to take me straight to Harrisonburg."
          ],
          [
           "I’m willing to pay someone to take me to either Lexington where I can catch a MegaBus or pay someone to take me straight to Harrisonburg."
          ],
          [
           "**07/04 UPDATE** 11AM: I have reached out to a contact/friend in the Roanoke/Lex area and it is looking good so far."
          ],
          [
           "I just want to get home to my apt in Harrisonburg."
          ],
          [
           "I’m a 2016 grad living in Roanoke and can get you to Lexington today."
          ],
          [
           "I’m a 2016 grad living in Roanoke and can get you to Lexington today."
          ],
          [
           "I'm nowhere near you and I'm not heading to Harrisonburg anytime soon, but I wanted to comment to say I'm sending all the love and I hope you find a ride."
          ],
          [
           "I’ve reached out to a friend in the Roanoke/Lexington area this morning and they said they can help me around 5PM today."
          ],
          [
           "I’ve reached out to a friend in the Roanoke/Lexington area this morning and they said they can help me around 5PM today."
          ],
          [
           "My 2nd best option is to reach out to a friend that lives in near Roanoke but I’ll do that tmrw morning."
          ],
          [
           "I was able to contact a few friends and one pulled through and drove me from Lynchburg to Harrisonburg."
          ],
          [
           "I was able to contact a few friends and one pulled through and drove me from Lynchburg to Harrisonburg."
          ],
          [
           "(WARNING) WHITE SEDAN EGGED ME LAST NIGHT (LOOKING FOR INFO + WARNING) Hello all, I was walking back to east campus from grace street at around 3 am last night when I got egged out of nowhere."
          ],
          [
           "Many years ago something similar happened to me while walking down Main Street as I returned to my dorm on the quad during my freshman year."
          ],
          [
           "Their 5 man LoL roster probably earning an average of around $2m/y each to play, and could be one of North America's best chances to do well internationally in the last 5-6 years."
          ],
          [
           "At the very least JMU is still requiring masks indoors and offering free testing everyday in the Union."
          ],
          [
           "Just found out that our Starship robots are from Estonia, and that they use them in the capital Tallinn."
          ],
          [
           "Just found out that our Starship robots are from Estonia, and that they use them in the capital Tallinn."
          ],
          [
           "Shopping Local I feel like as students we all just jump all over Target and Walmart whenever we need something just because it’s convenient but it’s really been annoying me lately since Harrisonburg is kind of a small town."
          ],
          [
           "Also, Bring Your Own in the Agora market downtown."
          ],
          [
           "The sharp shopper is a grocery store down Smain away from campus seems local super cheap prices too"
          ],
          [
           "Agora market downtown has some cool nifty shops and coffee 3."
          ],
          [
           "There’s also this really nice flea/farmer’s market type-beat place off of South Main."
          ],
          [
           "Kinda out of the way but there’s an apothecary in Waynesboro called “Pyramid”— might want to check that out."
          ],
          [
           "I've graduated and moved away from harrisonburg and I still miss the co op and farmers market dearly."
          ],
          [
           "Hopeful Things in Dayton - a Pottery Barn vibe without PB prices New Creation (on S. Main & in Agora) - supporting victims of human trafficking Dayton Market - all kinds of shops Lady Jane downtown Hburg Edit: spacing"
          ],
          [
           "Hopeful Things in Dayton - a Pottery Barn vibe without PB prices New Creation (on S. Main & in Agora) - supporting victims of human trafficking Dayton Market - all kinds of shops Lady Jane downtown Hburg Edit: spacing"
          ],
          [
           "Hopeful Things in Dayton - a Pottery Barn vibe without PB prices New Creation (on S. Main & in Agora) - supporting victims of human trafficking Dayton Market - all kinds of shops Lady Jane downtown Hburg Edit: spacing"
          ],
          [
           "Hopeful Things in Dayton - a Pottery Barn vibe without PB prices New Creation (on S. Main & in Agora) - supporting victims of human trafficking Dayton Market - all kinds of shops Lady Jane downtown Hburg Edit: spacing"
          ],
          [
           "They're a small chain with three Virginia locations and a few Pennsylvania locations."
          ],
          [
           "They're a small chain with three Virginia locations and a few Pennsylvania locations."
          ],
          [
           "Yeah my place is managed by forrest hills and it's pathetic."
          ],
          [
           "JMU would also come in and subsidize it or do something as there isn’t enough housing in Harrisonburg for everyone to live in after eviction and JMU needs students on campus as demonstrated this year."
          ],
          [
           "You don’t understand how eviction works in Virginia."
          ],
          [
           "You understand VA police and Harrisonburg police are the people who serve eviction notices and force you to vacate the property, not the owner?"
          ],
          [
           "Augusta Health has lots of vaccine appointments available in Fishersville this week!"
          ],
          [
           "They're open to anyone 16+ that lives or works in the Central Shenandoah Health District - which includes Harrisonburg and Rockingham County."
          ],
          [
           "They're open to anyone 16+ that lives or works in the Central Shenandoah Health District - which includes Harrisonburg and Rockingham County."
          ],
          [
           "Just remember that Virginia expects you to return to the same site you got first dose, and Augusta is really good about scheduling the exact day and time when you're in the 15 minute timeout at the end."
          ],
          [
           "i’m nervous that i’ll get sick after my second dose, and thinking of blowing off my appointment until i get back home in jersey after the year is over."
          ],
          [
           "i wouldnt blow off either appointment - i would cancel my first appointment, and get both doses at a later date (ex: may or june in jersey)."
          ],
          [
           "He also failed to consider the town of Harrisonburg, which he has given so much too but which has also given so much to him and this institution."
          ],
          [
           "Pray tell again how Alger has no power?"
          ],
          [
           "But they may well pass it on to other Harrisonburg residents or students who don't deserve it, especially if they're asymptomatic."
          ],
          [
           "Hey Dukes, make sure that y’all download VDH’s COVID-19 exposure notification app before you head back to Harrisonburg next week!"
          ],
          [
           "Hi JMU, if anyone is struggling with addiction, knows anyone that is struggling, or just wants one, a Virginia non-profit offers to ship you a FREE Narcan/ Naloxone opioid overdose reversal kit."
          ],
          [
           "<3 In 2016, there were 1,130 opioid-related overdose deaths­­ in Virginia—a rate of 13.5 deaths per 100,000 persons."
          ],
          [
           "We are willing to ship the supplies to anywhere in VIRGINIA."
          ],
          [
           "Apparently there were gunshots at Devon, what happened?"
          ],
          [
           "HPD released a statement on Facebook: HPD Investigating Shooting Devon Lane Shooting HARRISONBURG, Va. – At approximately 1:00 am this morning, officers with the Harrisonburg Police Department (HPD) and James Madison University Police Department (JMU) responded to the 1400 block of Devon Lane after hearing gun shots in the area."
          ],
          [
           "HPD released a statement on Facebook: HPD Investigating Shooting Devon Lane Shooting HARRISONBURG, Va. – At approximately 1:00 am this morning, officers with the Harrisonburg Police Department (HPD) and James Madison University Police Department (JMU) responded to the 1400 block of Devon Lane after hearing gun shots in the area."
          ],
          [
           "2) Downstairs of Harrison Hall."
          ],
          [
           "The downstairs of harrison (with the vending machine oasis), has a big hallway that stretches either left and right."
          ],
          [
           "They may have fixed this, as it was 3 yrs ago....but I would check (one of the vents below ashby hall) Oh...and use the search function."
          ],
          [
           "That's how I got Wilson Hall cupola access back in 2001."
          ],
          [
           "Go into Harrison hall at night and befriend a janitor."
          ],
          [
           "Don't go through Ashby the building- we got into the subbasement once when it was unlocked and literally took a door off the hinges in order to go in the direction of the quad...it ended in a bricked up wall that most likely used to be tunnel access."
          ],
          [
           "Also, I know of an access to some section of tunnels in Garber down in the laundry room."
          ],
          [
           "I stopped by the area between Ashby and Harrison earlier today and there seems to be a door behind the bushes (on the side of the connector facing away from the quad, towards Gifford)."
          ],
          [
           "I stopped by the area between Ashby and Harrison earlier today and there seems to be a door behind the bushes (on the side of the connector facing away from the quad, towards Gifford)."
          ],
          [
           "I stopped by the area between Ashby and Harrison earlier today and there seems to be a door behind the bushes (on the side of the connector facing away from the quad, towards Gifford)."
          ],
          [
           "My comment in this thread is from the other side of the quad in Ashby...no access from there as of '09 :("
          ],
          [
           "I live in Spotswood now, the 'dungeon' is locked 99% of the time."
          ],
          [
           "my roommate and I lived in Shenandoah that year and we decided to call it Pangs...like, Hunger Pangs."
          ],
          [
           "Fire alarm at Eagle hall!"
          ],
          [
           "We used to go wait in the lobby of Chandler when it was really bad."
          ],
          [
           "Omicron is milder but more transmissible than delta, so the landscape has slightly changed."
          ],
          [
           "Omicron is milder but more transmissible than delta, so the landscape has slightly changed."
          ],
          [
           "About 45 percent of the US population gets the flu vaccine."
          ],
          [
           "Otherwise, like everyone else in the US, they’re more than likely taking their chances with the virus."
          ],
          [
           "“*Protecting the health of our Harrisonburg and Rockingham County community—including students, faculty, staff—is our top priority, and we need to act swiftly to stop the spread as best we can."
          ],
          [
           "“*Protecting the health of our Harrisonburg and Rockingham County community—including students, faculty, staff—is our top priority, and we need to act swiftly to stop the spread as best we can."
          ],
          [
           "While sending students home does make things safer for the people of Harrisonburg and Rockingham County, it also means that you’re sending potentially 500+ infected students, as well as any students who have been in contact with them, back home to spread the disease."
          ],
          [
           "While sending students home does make things safer for the people of Harrisonburg and Rockingham County, it also means that you’re sending potentially 500+ infected students, as well as any students who have been in contact with them, back home to spread the disease."
          ],
          [
           "“*To protect the health and safety of the communities to which students might be returning, students who have been advised to isolate or quarantine should finish out their prescribed time before leaving Harrisonburg."
          ],
          [
           "It would be one thing if cases were going down, but the number of cases is rising not just in Virginia, but across the entire United States."
          ],
          [
           "It would be one thing if cases were going down, but the number of cases is rising not just in Virginia, but across the entire United States."
          ],
          [
           "Look at all the frats and sororities shut down rn."
          ],
          [
           "Use the bus or just park on Hunters Road if it’s a long commute"
          ],
          [
           "It’s the parking deck at the Stadium"
          ],
          [
           "This isn’t some cupcake prison this is a prison in Siberia."
          ],
          [
           "I just saw a white robot with wheels and a little red flag wandering around near Forbes."
          ],
          [
           "Starship deliveries is going to operate in Harrisonburg soon Also Alger is actually inside that it's his new whip"
          ],
          [
           "[https://www.starship.xyz/careers/](https://www.starship.xyz/careers/) Robot Operators, Shift Lead, and Robot Techs in Harrisonburg"
          ],
          [
           "Stick to West Campus."
          ],
          [
           "As an alum who graduated in 2005, and routinely sees large groups of students on South Main pissing against houses every Thursday, Friday, and Saturday, I have to disagree."
          ],
          [
           "I'm not saying JMU has the reputation UVA or W&M have but to put Radford in that category is ridiculous lol (no disrespect, but it's a school in VA that people tend to transfer after a couple years to JMU or VT or GMU or whatever)."
          ],
          [
           "Maybe go check out a job fair in Showker where big employers are literally throwing jobs at students."
          ],
          [
           "I work in consulting in the DC metro area."
          ],
          [
           "Some of my favorite locations include: 2nd floor of Wilson, top floor of HBS, any handicap stall in SSC, or bottom floor of Wayland Hall."
          ],
          [
           "The 5th floor of Madison Union, the floor with the big ballroom, has a giant single handicap stall next to one of the stairwells."
          ],
          [
           "My favorite spot is in ISAT because the doors are put on so high that you can make eye contact with anyone from under the door"
          ],
          [
           "Literally get lost in the bowels of Memorial and you will find the greatest bathrooms at JMU, maybe even Harrisonburg, ... maybe even all of Rockingham County."
          ],
          [
           "Literally get lost in the bowels of Memorial and you will find the greatest bathrooms at JMU, maybe even Harrisonburg, ... maybe even all of Rockingham County."
          ],
          [
           "Literally get lost in the bowels of Memorial and you will find the greatest bathrooms at JMU, maybe even Harrisonburg, ... maybe even all of Rockingham County."
          ],
          [
           "I second bottom floor of Wayland."
          ],
          [
           "/u/Lil-Dicky is coming to JMU!"
          ],
          [
           "Just announced today, he'll be coming to the Burg on November 5th!"
          ],
          [
           "Meal plan changes invoke rage I thought the meal plan changes just were limiting daily punches on Duke deals like those at chickfila or subway, but turns out you actually can't punch out anywhere."
          ],
          [
           "Hope he doesn't get snatched up by the falcons at D-Hall"
          ],
          [
           "Hope he doesn't get snatched up by the falcons at D-Hall"
          ],
          [
           "I didn’t know this was a special squirrel it was over by Kings Hall pond today after the rain I thought it was a baby stripeless skunk"
          ],
          [
           "Also lead Morehead State to the tourney in 2021 and 2024 and NIT bid in 2023."
          ],
          [
           "I really wanted to go, but I can't know and I heard flights and hotel rooms are crazy expensive in Ft. Worth for that date."
          ],
          [
           "fr worth and dallas area has a tonnnn of hotel and road infrastructure."
          ],
          [
           "As a somewhat oldhead, who went to JMU during 2005-2009: The Title IX debacle was solely an excuse to kick out any of the teams that used Godwin as a base, so that they could eventually demolish/cut into Godwin and expand the stadium in the long-term quest to be a Division One Football School."
          ],
          [
           "As a somewhat oldhead, who went to JMU during 2005-2009: The Title IX debacle was solely an excuse to kick out any of the teams that used Godwin as a base, so that they could eventually demolish/cut into Godwin and expand the stadium in the long-term quest to be a Division One Football School."
          ],
          [
           "As I recall, in 2009, they announced that the stadium was going to expand with some of Godwin being impacted, and this year the plan came true (edit: the part of the plan where they became Division One; though I do think that when they expanded the stadium in like 2010 it involved cutting into Godwin a bit)."
          ],
          [
           "As I recall, in 2009, they announced that the stadium was going to expand with some of Godwin being impacted, and this year the plan came true (edit: the part of the plan where they became Division One; though I do think that when they expanded the stadium in like 2010 it involved cutting into Godwin a bit)."
          ],
          [
           "They're tearing down Godwin Hall in favor of further stadium expansion?"
          ],
          [
           "It went to trial, I’ve seen articles in the news, a bunch of high profile figures in Harrisonburg had to testify in court on the matter as they were called out for using students as prostitutes."
          ],
          [
           "Sorry, for this one I meant that they're joining FCS - I don't know if they're tearing down Godwin, but they expanded the stadium enough and went through the long-term strategy enough to join the big leagues (and get the huge amounts of money that come with it)."
          ],
          [
           "I had no idea was it was based in godwin."
          ],
          [
           "I couldn't find anything online about any changes to Godwin Hall, so it kind of felt out of left field."
          ],
          [
           "Just went to the ABC store off Port Republic with a friend to grab some things for the weekend (unrelated to JMU’s announcement) and there was a *long* line of students at the register/in the parking lot."
          ],
          [
           "Look at all the frats and sororities shut down rn."
          ],
          [
           "JMU is just a microcosm of how the entire US is handling the pandemic."
          ],
          [
           "Jersey drivers.. Thursday afternoon, driving North on 81, I'm in the left lane about to pass a truck in the right lane."
          ],
          [
           "But now I can clearly see the JMU sticker and the Jersey plates :-) Now, I think that the driver in front of the Jersey car might be getting a little annoyed by her coming up that close, so he slows down a little and doesn't pass the truck, and suddenly the Jersey driver sees an opportunity to follow the truck in the right lane and sneak around."
          ],
          [
           "But now I can clearly see the JMU sticker and the Jersey plates :-) Now, I think that the driver in front of the Jersey car might be getting a little annoyed by her coming up that close, so he slows down a little and doesn't pass the truck, and suddenly the Jersey driver sees an opportunity to follow the truck in the right lane and sneak around."
          ],
          [
           "But now I can clearly see the JMU sticker and the Jersey plates :-) Now, I think that the driver in front of the Jersey car might be getting a little annoyed by her coming up that close, so he slows down a little and doesn't pass the truck, and suddenly the Jersey driver sees an opportunity to follow the truck in the right lane and sneak around."
          ],
          [
           "Before I exit on 66, she is right behind me again."
          ],
          [
           "From PA here - New Jersey drivers are the worst drivers in the country."
          ],
          [
           "From PA here - New Jersey drivers are the worst drivers in the country."
          ],
          [
           "Jersey highway speed limits are a suggestion."
          ],
          [
           "Any time I'm in another part of the country and I see someone cut in front of me and speed off, sure enough it's that damn yellow Jersey plate"
          ],
          [
           "People below the mason-dixon line drive like they have nowhere to be."
          ],
          [
           "And yes, whenever I'm on a road trip anywhere in the country, then it's often that yellow Jersey plate."
          ],
          [
           "If there is a car in front of you, then, Correction.. Jersey drivers are second to JMU students driving in Harrisonburg."
          ],
          [
           "If there is a car in front of you, then, Correction.. Jersey drivers are second to JMU students driving in Harrisonburg."
          ],
          [
           "As a person who's lived up north and now lives in the DC area, I'll take that any day."
          ],
          [
           "I'm perfectly fine in DC, and PG county where I was en route."
          ],
          [
           "I'm perfectly fine in DC, and PG county where I was en route."
          ],
          [
           "Reddit is the place for random shit.. And I figured that my random thoughts about the stereotype of Jersey drivers being bad, would fit in here."
          ],
          [
           "No deep messages here, other than reinforcing the stereotype that Jersey drivers can be bad."
          ],
          [
           "I'm sure that even some Jersey drivers would agree.."
          ],
          [
           "Interactive map of districts and candidates for Virginia's state legislature election November 5th 2019"
          ],
          [
           "PSA #2: Due to inclement weather, JMU will be closed on November 15, 2018."
          ],
          [
           "JMU student found dead in Gingerbread House after consuming 'poppy seed tea'"
          ],
          [
           "86 degrees here in LA."
          ],
          [
           "Waited 30 minutes for a latte at pleasant valley only to find out the girl didn't do the order right, so it never got made (it was on our receipt)."
          ],
          [
           "anyone know where they moved the condom rack thing there used to be a huge shelf of free condoms in SSC but it moved and I havent seen it UPDATE: its in the wellness center now located 2nd floor of UREC"
          ],
          [
           "lol it’s still in ssc, it’s on the way to the women’s clinic (just a little farther into the uhc)"
          ],
          [
           "Grace street, champions and the parking outside of EnGeo/Isat/physchem are notoriously the worst."
          ],
          [
           "The Convo center and the east campus deck never fill up, and so far neither have the gravel lots on Harrison Street."
          ],
          [
           "I recommend parking at Warsaw, usually there’s still parking past 8:30 am"
          ],
          [
           "You’re really going to compare modern day America to Nazi Germany because you are encouraged to get a SAFE AND FREE vaccine against a virus that has killed over 600,000 Americans"
          ],
          [
           "You’re really going to compare modern day America to Nazi Germany because you are encouraged to get a SAFE AND FREE vaccine against a virus that has killed over 600,000 Americans"
          ],
          [
           "Story on students adjusting to JMU being closed for the rest of the semester Hi!"
          ],
          [
           "I’m a reporter with WMRA (the NPR affiliate in Harrisonburg) and I’m working on a story about how JMU students who have been living on campus are adjusting after being forced to leave campus, and looking for people interview about that (over the phone, because social distancing)."
          ],
          [
           "The only people that have replied so far are the Alger worshippers."
          ],
          [
           "We've been just going to Backcountry or Ruby's most weekend."
          ],
          [
           "P.S."
          ],
          [
           "What is Harrisonburg like to live in?"
          ],
          [
           "If you like hiking, there's some fantastic spots just outside of Harrisonburg, which is one my personal favorite things about the location of JMU!"
          ],
          [
           "If you like hiking, there's some fantastic spots just outside of Harrisonburg, which is one my personal favorite things about the location of JMU!"
          ],
          [
           "I lived in Southview for 2 years and never had any issue with the place, aside from some obnoxious roommates for a bit."
          ],
          [
           "There is also so much to do right outside of Harrisonburg."
          ],
          [
           "We have our work cut out against New Hampshire/SDSU."
          ],
          [
           "But if New Hampshire wins, it should be a two-peat of what happened during the regular season."
          ],
          [
           "I think I remember actually seeing his house off of 33 one day driving to Blue Hole."
          ],
          [
           "I think I remember actually seeing his house off of 33 one day driving to Blue Hole."
          ],
          [
           "He lives out near Rawly on 33 west."
          ],
          [
           "You need China King as one of the places to order food!"
          ],
          [
           "Everyone needs to get down to Richmond tonight and get loud!!"
          ],
          [
           "BoG is one of the best food options in Harrisonburg for healthy, local eats."
          ],
          [
           "The location near EMU is definitely the better of the two."
          ],
          [
           "I see these everyday in harrison, it kills me on the inside a little bit each time"
          ],
          [
           "Fallout 76 Coming to Shenandoah and Harrisonburg (Most Likely)"
          ],
          [
           "Fallout 76 Coming to Shenandoah and Harrisonburg (Most Likely)"
          ],
          [
           "They actually say that it was coming to Shenandoah Valley?"
          ],
          [
           "Parents and prospective students are always fascinated by the fun facts and the history of JMU/tunnels are my go-to at the Quad stop."
          ],
          [
           "Also, favorite story was the kid trying to get into the tunnels by going through the ceiling in Harrison and just busted through the ceiling into the adjacent classroom."
          ],
          [
           "Here's a pic from a couple weeks ago: https://i.imgur.com/A0u91Rz.jpeg It's mostly utility stuff, but we got some network cabling run down there a few years back when ESPN GameDay was here, to get their truck connectivity on the Quad."
          ],
          [
           "I’d love to see like a topographic-esque photo of the tunnels to compare, kind of like the NYC train station underneath the city hall, which coincidentally is also on the wall in our Grace Subway."
          ],
          [
           "Or, if you can, try and get up and go to Market before 9 am to get some breakfast and lunch with one or two punches!"
          ],
          [
           "I’m an alum from back when dhall was in a circular building called Gibbons (RIP) and I remember feeling this way off and on at the beginning of freshman year too."
          ],
          [
           "Yeah I went to D Hall at like 4:30ish most of last semester because it was so wonderfully empty"
          ],
          [
           "Anyone else notice that \"East Campus\" is a bit of a misnomer?"
          ],
          [
           "For all of the effort that JMU puts in to describe the part of campus that is on the far side of I-81 as \"East Campus\", has anyone else noticed that it's a bit of a misnomer?"
          ],
          [
           "For all of the effort that JMU puts in to describe the part of campus that is on the far side of I-81 as \"East Campus\", has anyone else noticed that it's a bit of a misnomer?"
          ],
          [
           "I never thought anything of it when I was a student, pre-Google Maps, because it made enough sense back then: I-81 is a north-south highway, therefore it must be east."
          ],
          [
           "But looking at Google Maps, it turns out that I-81, while it runs north-south overall, actually runs east-west in the part that goes past the campus."
          ],
          [
           "And that means that the \"East Campus\" is actually entirely to the south of the main campus, and only partly to the east."
          ],
          [
           "I always thought that was weird after noticing it a few years ago, and now that \"East\" designation bothers me."
          ],
          [
           "It’s south of 81 but it is still east of main campus."
          ],
          [
           "Between Staunton and Roanoke, I-81 starts to morph into an East/West highway, which it eventually becomes when it merges with 40 outside Knoxville."
          ],
          [
           "Between Staunton and Roanoke, I-81 starts to morph into an East/West highway, which it eventually becomes when it merges with 40 outside Knoxville."
          ],
          [
           "Between Staunton and Roanoke, I-81 starts to morph into an East/West highway, which it eventually becomes when it merges with 40 outside Knoxville."
          ],
          [
           "Between Staunton and Roanoke, I-81 starts to morph into an East/West highway, which it eventually becomes when it merges with 40 outside Knoxville."
          ],
          [
           "Between Staunton and Roanoke, I-81 starts to morph into an East/West highway, which it eventually becomes when it merges with 40 outside Knoxville."
          ],
          [
           "Then there's the wrong-way multiplex with I-77, where the road is physically going east-west, but you're simultaneously going northbound on I-81 and southbound on I-77."
          ],
          [
           "Then there's the wrong-way multiplex with I-77, where the road is physically going east-west, but you're simultaneously going northbound on I-81 and southbound on I-77."
          ],
          [
           "Then there's the wrong-way multiplex with I-77, where the road is physically going east-west, but you're simultaneously going northbound on I-81 and southbound on I-77."
          ],
          [
           "Looking for similar examples of areas with \"East\" and West\" (or N and S) in the name seeming wrong."
          ],
          [
           "Looking for similar examples of areas with \"East\" and West\" (or N and S) in the name seeming wrong."
          ],
          [
           "81 is the primary one, but the elementary schools in Salem approximately reflect that false compass."
          ],
          [
           "South Salem is the furthest West."
          ],
          [
           "South Salem is the furthest West."
          ],
          [
           "West Salem is on the North side of town."
          ],
          [
           "And East Salem is the furthest South."
          ],
          [
           "And East Salem is the furthest South."
          ],
          [
           "It wasn’t until I started driving back and forth to JMU that I realized how sharply the Roanoke Valley turns West after the Shenandoah Valley."
          ],
          [
           "I wasn't aware of the naming issues in Salem, though I worked there for years."
          ],
          [
           "Yea, Salem is a universe unto itself sometimes."
          ],
          [
           "I sometimes lurk on the Roanoke subreddit, and there seems to be shade thrown regularly toward Salem."
          ],
          [
           "No, as someone who moved to Salem at the age of 9, I get it."
          ],
          [
           "Salem has a pretty big superiority complex."
          ],
          [
           "I was going to have the coolest internship ever this summer, with a music festival in New York City, and now I’ll just be sitting in my parents house for 3 months."
          ],
          [
           "There kind of are right near the ihop"
          ],
          [
           "Our FoxHill Townhome :)"
          ],
          [
           "When you walk into Dukes and see Topio's has a line, it's time to get the fuck out of there."
          ],
          [
           "I haven't walked into Dukes in like, two years."
          ],
          [
           "just applied and wanna know what harrisonburg is like so i come from a relatively small redneck town in the middle of amish country in pa. i’m transferring out of a local college so I can have a bit of change in my life."
          ],
          [
           "just applied and wanna know what harrisonburg is like so i come from a relatively small redneck town in the middle of amish country in pa. i’m transferring out of a local college so I can have a bit of change in my life."
          ],
          [
           "what is harrisonburg like."
          ],
          [
           "Harrisonburg is where on your way to the grocery store you can drive by frat bros drinking in their front yard at noon, get stuck behind a horse and buggy, see a woman in a burka walking down the sidewalk, and mingle with rich NOVA kids and rednecks going to the same Wal-Mart."
          ],
          [
           "Harrisonburg is where on your way to the grocery store you can drive by frat bros drinking in their front yard at noon, get stuck behind a horse and buggy, see a woman in a burka walking down the sidewalk, and mingle with rich NOVA kids and rednecks going to the same Wal-Mart."
          ],
          [
           "Harrisonburg is also has a high population of Hispanic migrants while being surrounded by a lot of rural areas."
          ],
          [
           "There is a large community of queer people in Harrisonburg."
          ],
          [
           "Harrisonburg is often dubbed the Friendly City because of the general reputation of friendly people and furthermore, Harrisonburg and the immediate Rockingham county surrounding it houses a rather large community of Hispanic, Middle eastern, and other POC populations (this to say, JMU is still a Primarily White Institution) As for JMU specifically, you may find yourself just as safe to be yourself."
          ],
          [
           "Harrisonburg is often dubbed the Friendly City because of the general reputation of friendly people and furthermore, Harrisonburg and the immediate Rockingham county surrounding it houses a rather large community of Hispanic, Middle eastern, and other POC populations (this to say, JMU is still a Primarily White Institution) As for JMU specifically, you may find yourself just as safe to be yourself."
          ],
          [
           "Harrisonburg is often dubbed the Friendly City because of the general reputation of friendly people and furthermore, Harrisonburg and the immediate Rockingham county surrounding it houses a rather large community of Hispanic, Middle eastern, and other POC populations (this to say, JMU is still a Primarily White Institution) As for JMU specifically, you may find yourself just as safe to be yourself."
          ],
          [
           "Harrisonburg is often dubbed the Friendly City because of the general reputation of friendly people and furthermore, Harrisonburg and the immediate Rockingham county surrounding it houses a rather large community of Hispanic, Middle eastern, and other POC populations (this to say, JMU is still a Primarily White Institution) As for JMU specifically, you may find yourself just as safe to be yourself."
          ],
          [
           "Harrisonburg itself isn’t some big city."
          ],
          [
           "You’re not going to find skyscrapers or any cool thing like that, and you may realize that large portion of the urban area quite literally just surrounds campus because JMU has such a large footprint in Harrisonburg, but it serves the needs of the large population in and around the city."
          ],
          [
           "The next closest city is Staunton, just south of Harrisonburg, which is bigger than Harrisonburg, but relatively the same vibes."
          ],
          [
           "The next closest city is Staunton, just south of Harrisonburg, which is bigger than Harrisonburg, but relatively the same vibes."
          ],
          [
           "The next closest city is Staunton, just south of Harrisonburg, which is bigger than Harrisonburg, but relatively the same vibes."
          ],
          [
           "Also, Dayton, just a mere 10 minutes from Harrisonburg, also supports a large Amish community as well."
          ],
          [
           "Also, Dayton, just a mere 10 minutes from Harrisonburg, also supports a large Amish community as well."
          ],
          [
           "Overall, I think you might enjoy Harrisonburg and JMU."
          ],
          [
           "Overall, I think you might enjoy Harrisonburg and JMU."
          ],
          [
           "Best of luck on getting into JMU :)"
          ],
          [
           "I'm queer in Harrisonburg."
          ],
          [
           "I wind up travel to Charlottesville or Richmond for any of that."
          ],
          [
           "I wind up travel to Charlottesville or Richmond for any of that."
          ],
          [
           "If you're coming from a small town Harrisonburg will be bigger and way more cultural than what you're used to."
          ],
          [
           "I’m from New York, came out my senior year of HS, and loved JMU but was deeply nervous of moving further south and how I’d be accepted."
          ],
          [
           "Harrisonburg is an amazing community, of kind, sweet people - especially if you can find off campus housing in downtown like I did starting my sophomore year."
          ],
          [
           "A lot of stores in downtown Harrisonburg are also lgbtq friendly or owned."
          ],
          [
           "It is pretty rural as well depending on where you live (I live on the outskirts of campus and have a great view of the mountains) only a 20 minute drive to massanutten and that surrounding area is rather rural as well."
          ],
          [
           "it’s crazy but it’s nice , i’m from a small redneck town in connecticut and i enjoy it here"
          ],
          [
           "I'll say Harrisonburg is a college town."
          ],
          [
           "So you are looking for a town that has a lot of stuff outside of the college, Harrisonburg isn't the best place."
          ],
          [
           "With that said, there isn't really much wrong with Harrisonburg, it voted blue (while Rockingham is very red)."
          ],
          [
           "With that said, there isn't really much wrong with Harrisonburg, it voted blue (while Rockingham is very red)."
          ],
          [
           "Don’t forget the weirdly high amount of New Jersey people."
          ],
          [
           "I feel like I’ve met more people from New Jersey than I have from every other state combined (outside of VA of course)"
          ],
          [
           "I feel like I’ve met more people from New Jersey than I have from every other state combined (outside of VA of course)"
          ],
          [
           "Staunton is smaller than Harrisonburg and substantially so."
          ],
          [
           "Staunton is smaller than Harrisonburg and substantially so."
          ],
          [
           "When you include Waynesboro they are similar sized."
          ],
          [
           "Also there are none to little Amish in Dayton, but rather old order Mennonites."
          ],
          [
           "Just for some more directional bits up north the closest city is an hour north, Winchester, which is smaller than HBurg."
          ],
          [
           "But Rockingham county is very rural like where you’re from."
          ],
          [
           "Most of them are rather chill and keep to themselves but something I’ve noticed in the art community is there are a few who are very outspoken and will judge you (tbf mostly silently) I’ve never seen any sort of hate crimes in public or anything besides one incident with Palestine protestors and frat guys on their senior campus crawl."
          ],
          [
           "Don’t worry about Harrisonburg culture, you’ll fit right in."
          ],
          [
           "My cousin who lives in Northern Virginia says it’s basically 13th grade for NOVA kids and it felt that way too, it felt like somehow most people already knew each other or had a friend group before they even got there and even a few people who I would pass that seemed to stray away from the blonde Ballage Lululemon copy paste (no hate they just usually stay away from talking to me) seem to have no interest in talking to me or making new friends as they already had them."
          ],
          [
           "My cousin who lives in Northern Virginia says it’s basically 13th grade for NOVA kids and it felt that way too, it felt like somehow most people already knew each other or had a friend group before they even got there and even a few people who I would pass that seemed to stray away from the blonde Ballage Lululemon copy paste (no hate they just usually stay away from talking to me) seem to have no interest in talking to me or making new friends as they already had them."
          ],
          [
           "I lived over on East Campus my freshman year and I felt just as isolated from my floor in Chandler."
          ],
          [
           "I lived over on East Campus my freshman year and I felt just as isolated from my floor in Chandler."
          ],
          [
           "Hearing all this is getting me a little worried since I'm transferring in from the west coast."
          ],
          [
           "I graduated in '19 and came from outside Buffalo, NY, so I didn't know a soul going to JMU."
          ],
          [
           "it might not be a bad idea to go to Harrisonburg community events, like the synth music nights, farmers markets, and maybe try out a club that's a little out of your comfort zone to see if you vibe with the people there."
          ],
          [
           "Save Harrisonburg Emergency Communications Center Wanted to share this with the rest of the JMU and Harrisonburg community."
          ],
          [
           "This affects everyone living in Harrisonburg - students, local residents, and visitors just passing by."
          ],
          [
           "https://www.facebook.com/profile.php?id=100090196377642&mibextid=LQQJ4d Contact city officials and spread the word so JMU and the city can have continue to have 911 dispatch Harrisonburg City Council: Mayor Deanna Reed Deanna.Reed@harrisonburgva.gov Vice Mayor Laura Dent Laura.Dent@harrisonburgva.gov Harrisonburg City Manager- Ande Banks Email- ande.banks@harrisonburgva.gov Phone- 540-432-7701 Rockingham County Administrator- Stephen King Email- sking@rockinghamcountyva.gov Phone- 540-564-3012"
          ],
          [
           "https://www.facebook.com/profile.php?id=100090196377642&mibextid=LQQJ4d Contact city officials and spread the word so JMU and the city can have continue to have 911 dispatch Harrisonburg City Council: Mayor Deanna Reed Deanna.Reed@harrisonburgva.gov Vice Mayor Laura Dent Laura.Dent@harrisonburgva.gov Harrisonburg City Manager- Ande Banks Email- ande.banks@harrisonburgva.gov Phone- 540-432-7701 Rockingham County Administrator- Stephen King Email- sking@rockinghamcountyva.gov Phone- 540-564-3012"
          ],
          [
           "https://www.facebook.com/profile.php?id=100090196377642&mibextid=LQQJ4d Contact city officials and spread the word so JMU and the city can have continue to have 911 dispatch Harrisonburg City Council: Mayor Deanna Reed Deanna.Reed@harrisonburgva.gov Vice Mayor Laura Dent Laura.Dent@harrisonburgva.gov Harrisonburg City Manager- Ande Banks Email- ande.banks@harrisonburgva.gov Phone- 540-432-7701 Rockingham County Administrator- Stephen King Email- sking@rockinghamcountyva.gov Phone- 540-564-3012"
          ],
          [
           "https://www.facebook.com/profile.php?id=100090196377642&mibextid=LQQJ4d Contact city officials and spread the word so JMU and the city can have continue to have 911 dispatch Harrisonburg City Council: Mayor Deanna Reed Deanna.Reed@harrisonburgva.gov Vice Mayor Laura Dent Laura.Dent@harrisonburgva.gov Harrisonburg City Manager- Ande Banks Email- ande.banks@harrisonburgva.gov Phone- 540-432-7701 Rockingham County Administrator- Stephen King Email- sking@rockinghamcountyva.gov Phone- 540-564-3012"
          ],
          [
           "Hey- my brother was at JMU then!"
          ],
          [
           "From where to where is this on campus, i can obv see its somewhere near Wilson hall"
          ],
          [
           "Don't interact with every cat on campus as rabies is ramping up in Harrisonburg I can confirm!!"
          ],
          [
           "She was last seen on Stratford Drive in Pheasant!!"
          ],
          [
           "Harrisonburg is awesome and there will be plenty to do outside of class/school."
          ],
          [
           "The stir fry in D-hall sucks now That is all..."
          ],
          [
           "The old stir fry was the best thing in D-hall"
          ],
          [
           "The old stir fry was the best thing in D-hall"
          ],
          [
           "Chestnut Ridge Coffee Roasters (which seems odd to keep that name and not be on Chestnut Ridge anymore, but what do I know) is now setting up shop, there."
          ],
          [
           "Chestnut Ridge has nothing to do with activities in the big building, they only have the small office next door."
          ],
          [
           "Outside of my 1083 roommates and the people I moved into southview with, they’ve all been smokers or people who don’t know what a trash can is."
          ],
          [
           "I lived in Southview about 5 or 6 years ago."
          ],
          [
           "please please please if you haven't already, there's still time - go **register to vote** in virginia - you can do it **online!"
          ],
          [
           "Yeah, it sucks Madison had slaves but that doesn't void the fact that HE BUILT the US in a way that we were able to have free speech and such."
          ],
          [
           "I mean I know true racism from growing up in the south and I did not catch any of that going on at jmu."
          ],
          [
           "This one girl my freshman year threw a piss fit on Facebook about a kid hanging a confederdate flag outside his window in bluestone."
          ],
          [
           "Harrisonburg, VA police refuse to release existing bodycam footage of fatal shooting, refuse third party investigation, citing \"department preference.\""
          ],
          [
           "Harrisonburg, VA police refuse to release existing bodycam footage of fatal shooting, refuse third party investigation, citing \"department preference.\""
          ],
          [
           "X-Post referenced from /r/news by /u/kanfayo [Harrisonburg, VA police refuse to release existing bodycam footage of fatal shooting, refuse third party investigation, citing \"department preference."
          ],
          [
           "X-Post referenced from /r/news by /u/kanfayo [Harrisonburg, VA police refuse to release existing bodycam footage of fatal shooting, refuse third party investigation, citing \"department preference."
          ],
          [
           "Freshman year I lived at Skyline in Potomac Hall and I'm currently at Sunchase Apartments."
          ],
          [
           "Freshman dorms--- village vs bluestone what should I put as my number one choice Keep in mind I found a Roomate online already but I like the idea of having other people in room just in case it doesn't work out I'm a very social person- looking to rush- be friends with bunch of people in building Not sure how bad no Ac is"
          ],
          [
           "I'm a graphic design major transferring from Blue Ridge."
          ],
          [
           "I lived in Lakeside so I know the no AC life like the back of my hand."
          ],
          [
           "But from what I hear Village is great for making friends and it's probably the most convenient location."
          ],
          [
           "You want skyline for ehall and urec or bluestone."
          ],
          [
           "Lived in Gifford Hall on Bluestone and enjoyed it, only problem was the RA's that seemed out to get students, but that doesn't reflect the building."
          ],
          [
           "Lived in Gifford Hall on Bluestone and enjoyed it, only problem was the RA's that seemed out to get students, but that doesn't reflect the building."
          ],
          [
           "As someone from Lynchburg, I can't wait to see Liberty get their asses kicked."
          ],
          [
           "Everytime at the walkways outside Wilson Hall..."
          ],
          [
           "For instance, I came across a post about that old cabin in between the Harrison and Arcadia and now i'm so intrigued."
          ],
          [
           "For instance, I came across a post about that old cabin in between the Harrison and Arcadia and now i'm so intrigued."
          ],
          [
           "Not an alumni but I found it neat that the Stine on a lit if the old buildings on campus came from a quarry where Forbes is now I also find it funny that SSC used to be a hospital back in the day (fun fact: the consueling center was relatively where tge place babies used to born at)"
          ],
          [
           "The secondary theater was called Theater II, and it was in an old poultry facility located [here](https://maps.app.goo.gl/Qo3uzSbFHEuo6pRe7)."
          ],
          [
           "My understanding is that most fraternities were not \"kicked off campus\", but rather, they found it more beneficial to have their own facilities off campus and left their spaces on what was called \"Greek Row\" at the time."
          ],
          [
           "Heads are really going to spin when they find out about 10¢ draft night at Main Street Bar (now Clementine)"
          ],
          [
           "Meanwhile I thought B Dubs was a local Harrisonburg restaurant and not a national chain 🤦‍♂️"
          ],
          [
           "Campus and Harrisonburg in general has a lot of fun stuff imo."
          ],
          [
           "Hang out with some friends by Newman Lake, food downtown is great, or explore the plethora of social clubs JMU has to offer."
          ],
          [
           "There is also a farmers market by city hall and one that comes to campus in the spring."
          ],
          [
           "I'm currently staying at the Hilton Double Tree near Lowes and it's pretty good all things considered."
          ],
          [
           "Still mad as hell that this happened but at least they didn't send us to some sketchy place in Harrisonburg."
          ],
          [
           "As I understand it, residents who choose to stay in a hotel paid for by Altitude will receive $25 per day towards their rent when Phase II opens."
          ],
          [
           "I was unaware of any sketchy places in Harrisonburg."
          ],
          [
           "Virginia tech’s recreation center does not require masks on at all while exercising."
          ],
          [
           "The flu had a per capita death rate of 1.8 deaths per 100,000 people between 1999 and 2019 in the US."
          ],
          [
           "COVID’s rate in the US is 217.54 per 100,000 people."
          ],
          [
           "COVID killed more than 8 times more people in the US in 2021 than the worst flu season on record in the past decade."
          ],
          [
           "We aren't a small Northeast private college with an endowment in the multi-billions."
          ],
          [
           "I could make a wild guess and say that everyone and their mother here in Harrisonburg got infected over Christmas/New Years."
          ],
          [
           "Not sure about JMU going online, but with Harrisonburg the way it is, the reasonable thing to do is not bring people from all over the country here to get infected… but what will JMU do?"
          ],
          [
           "the positivity rate for covid is roughly 30% in harrisonburg and almost 35% for virginia as a whole."
          ],
          [
           "the positivity rate for covid is roughly 30% in harrisonburg and almost 35% for virginia as a whole."
          ],
          [
           "Their food bowls are in between the bushes at the front of Burruss (facing the building it’s to the left of the steps) but idk where the cats are currently, I haven’t been able to pet them this year at all they’ve been way more skittish than they were last year :("
          ],
          [
           "JMU saying it’s a waste to test asymptomatic students is rich considering they use half the water supply in Harrisonburg to water the concrete"
          ],
          [
           "Is eagle hall really that bad?"
          ],
          [
           "Cons: No AC, large brick oven basically, horrible bathroom style, lots of shenanigans (which is fine to a lot, but after while for me it can get annoying, especially all the fire alarms), close to football field so lots of foot traffic and you hear the band practice at 9am on gameday (not a problem this year I guess) Pros: close to middle of campus/Quad, community feeling from everyone hating the building, you might get out more and explore campus extensively to minimize the amount of time you spend in Eagle"
          ],
          [
           "&#x200B; That said, it's a fucking crime they make us pay as much to live there as people living on East Campus."
          ],
          [
           "Some might argue that it's in the middle of campus, but I always felt the Village was truly in the middle."
          ],
          [
           "At the end of the day, Eagle's just an old building."
          ],
          [
           "Also, when you tell people you live in Eagle, you definitely get street cred."
          ],
          [
           "But Eagle is a great place to live if you're an MRD!"
          ],
          [
           "Haven’t been in Eagle specifically, but if it’s anything like Shorts (who I visited a friend in): Yes."
          ],
          [
           "JMU student Luciano Benjamin running for Harrisonburg City Council"
          ],
          [
           "lol i'm sure he understands that Harrisburg is a lot more than jmu."
          ],
          [
           "JMU has over 21,000 students that live in Harrisonburg for the majority of the year."
          ],
          [
           "Most of harrisonburg is meth addicted truck drivers and welders and construction workers."
          ],
          [
           "Like that's the problems harrisonburg faces really?"
          ],
          [
           "Try fixing the local schools, or even improve in acquiring better doctors at RMH as most people go to augusta instead."
          ],
          [
           "Careless smoking caused the Southview fire back in 2019 and that resulted in the loss of a building."
          ],
          [
           "That's what has caused almost every apartment fire in Harrisonburg since ever."
          ],
          [
           "Update: I made an update post, they are there because Harrisonburg is talking about “lynching” some of the horrible history it’s had from its history."
          ],
          [
           "In front of d hall right by Madison union."
          ],
          [
           "Back in my day, the Commons was an apartment complex on Port..."
          ],
          [
           "Back in my day, the Commons was an apartment complex on Port..."
          ],
          [
           "Also, look for a sprinkler system in the properties where you are thinking about living, because that makes a ton of difference between a massive fire like what happened at South View and nipping it in the bud."
          ],
          [
           "I remember back in 2003 at Stone Gate that the fire alarm system was inoperable in one of the buildings (pull station was down and no alarm was sounding)."
          ],
          [
           "Southview up until this year didn’t require it but this year was the first year they did but like the Harrison some people slipped through without it"
          ],
          [
           "I was in a hotel in Wisconsin once and a random guy I was in the elevator with noticed my JMU hoodie and started talking to me about how he graduated in the 80s and rarely ever sees any JMU people in that part of Wisconsin."
          ],
          [
           "I was in a hotel in Wisconsin once and a random guy I was in the elevator with noticed my JMU hoodie and started talking to me about how he graduated in the 80s and rarely ever sees any JMU people in that part of Wisconsin."
          ],
          [
           "If you're in the DC area I will 100% bring some back for ya."
          ],
          [
           "Thanks but I think I'll actually grab some when I visit friends in Richmond next weekend."
          ],
          [
           "Come see us perform some of the music tonight at TDU!"
          ],
          [
           "Ok, I recognize the reservoir, and I think a couple of those are Silver Lake."
          ],
          [
           "I'm a big fisherman back home in Jersey, but I only have a salt water license."
          ],
          [
           "I would go to the Rockingham Cooperative which is a local outdoor store/hardware store on the corner of South High Street and South Avenue."
          ],
          [
           "I would go to the Rockingham Cooperative which is a local outdoor store/hardware store on the corner of South High Street and South Avenue."
          ],
          [
           "Virginia GOP Caught Destroying Voter Registration Forms - Yep, you guessed it, that was done right here in Harrisonburg"
          ],
          [
           "Virginia GOP Caught Destroying Voter Registration Forms - Yep, you guessed it, that was done right here in Harrisonburg"
          ],
          [
           "They are not associated with Strategic Allied Consulting, which is the firm hired by the GOP to register voters that has been accused of voter fraud in Florida."
          ],
          [
           "I do wonder, especially when Rockingham county all around us is considered to be one of the 'most' conservative counties in the nation (Would love the source on that, I've been told twice by 2 different people now)."
          ],
          [
           "[Here's a link](http://www.harrisonburgva.gov/registrar) to the Harrisonburg voter registrar's office."
          ],
          [
           "Just saw this article, a man in PA was arrested in relation to this... story here: http://elections.americablog.com/2012/10/gop-contractor-arrested-for-vote-fraud-in-pa.html"
          ],
          [
           "Dorms: rly depends on what you want, lots of stem majors, upperclassmen, and athletes live in skyline and it's a nice area, village is known for partying and is where a lot of Greek life ppl live, but the buildings are old, bluestone is so pretty and have jack and Jill suites, others are just regular hall style and don't rly have a \"type\" of person who lives there."
          ],
          [
           "Avoid memorial if you can it's very far (not easy if you're an education major) Overall I love it here and I highly recommend it."
          ],
          [
           "It’s 30 minutes just to Staunton let alone another 20+ to go over the mountain"
          ],
          [
           "What was this area on old East Campus?"
          ],
          [
           "I had all my SMAD classes there, and graduated the year before they finished renovating Harrison."
          ],
          [
           "Oh cool, when did they finish renovating the Harrison?"
          ],
          [
           "They recently redid the inside of Harrison again for a little facelift over the summer a few years ago."
          ],
          [
           "Always told visitors to Harrisonburg to check it out."
          ],
          [
           "My car is absolutely buried, like a lot of the others at the Harrison, not to mention it would do awful in the snow, so im counting on the bus"
          ],
          [
           "I live in a neighboring county and commute to JMU and while main roads are pretty clear according to my mom, I live on a back road in the middle of no where (she hasn’t been driving out, my dad has 4WD so he takes her to work in these conditions)."
          ],
          [
           "I can’t speak on the apartments or Harrisonburg road conditions but i wonder if they’ve considered commuting students and professors traveling in?"
          ],
          [
           "One of the other counties near me got less snow than us and Harrisonburg and their school systems closed tomorrow."
          ],
          [
           "Harrisonburg City Public schools have a delay, idk what that can do"
          ],
          [
           "Rockingham County Public Schools has already cancelled for tomorrow"
          ],
          [
           "So has Shenandoah County where I commute from."
          ],
          [
           "Thankfully I don't live on campus, gives me another reason to absolutely yeet that ping pong table from Hoffman again and put it in Wayland"
          ],
          [
           "i would totally fill out da form but i am now in richmond :("
          ],
          [
           "Most services have several servers located around the US, as well as in other countries."
          ],
          [
           "This is very beneficial if you are traveling outside of the country per say, and need to access a website that is only available in the U.S. You can connect to a U.S. server at the touch of a button."
          ],
          [
           "This is very beneficial if you are traveling outside of the country per say, and need to access a website that is only available in the U.S. You can connect to a U.S. server at the touch of a button."
          ]
         ],
         "hovertemplate": "Reddit Post Score=%{x}<br>RoBERTa Compound Sentiment Score=%{y}<br>sentences=%{customdata[0]}<extra></extra>",
         "legendgroup": "",
         "marker": {
          "color": "#636efa",
          "opacity": 0.6,
          "symbol": "circle"
         },
         "mode": "markers",
         "name": "",
         "showlegend": false,
         "type": "scattergl",
         "x": {
          "bdata": "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",
          "dtype": "i2"
         },
         "xaxis": "x",
         "y": {
          "bdata": "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",
          "dtype": "f4"
         },
         "yaxis": "y"
        }
       ],
       "layout": {
        "annotations": [
         {
          "showarrow": false,
          "text": "Neutral Sentiment",
          "x": 1,
          "xanchor": "right",
          "xref": "x domain",
          "y": 0,
          "yanchor": "bottom",
          "yref": "y"
         },
         {
          "showarrow": false,
          "text": "Neutral Score",
          "x": 0,
          "xanchor": "left",
          "xref": "x",
          "y": 1,
          "yanchor": "top",
          "yref": "y domain"
         },
         {
          "bgcolor": "rgba(255,255,255,0.8)",
          "bordercolor": "black",
          "borderwidth": 1,
          "font": {
           "size": 12
          },
          "showarrow": false,
          "text": "Correlation: -0.050<br>P-value: 3.497e-02",
          "x": 0.02,
          "xref": "paper",
          "y": 0.98,
          "yref": "paper"
         }
        ],
        "height": 600,
        "legend": {
         "tracegroupgap": 0
        },
        "shapes": [
         {
          "line": {
           "color": "gray",
           "dash": "dash"
          },
          "type": "line",
          "x0": 0,
          "x1": 1,
          "xref": "x domain",
          "y0": 0,
          "y1": 0,
          "yref": "y"
         },
         {
          "line": {
           "color": "gray",
           "dash": "dash"
          },
          "type": "line",
          "x0": 0,
          "x1": 0,
          "xref": "x",
          "y0": 0,
          "y1": 1,
          "yref": "y domain"
         }
        ],
        "showlegend": true,
        "template": {
         "data": {
          "bar": [
           {
            "error_x": {
             "color": "#2a3f5f"
            },
            "error_y": {
             "color": "#2a3f5f"
            },
            "marker": {
             "line": {
              "color": "#E5ECF6",
              "width": 0.5
             },
             "pattern": {
              "fillmode": "overlay",
              "size": 10,
              "solidity": 0.2
             }
            },
            "type": "bar"
           }
          ],
          "barpolar": [
           {
            "marker": {
             "line": {
              "color": "#E5ECF6",
              "width": 0.5
             },
             "pattern": {
              "fillmode": "overlay",
              "size": 10,
              "solidity": 0.2
             }
            },
            "type": "barpolar"
           }
          ],
          "carpet": [
           {
            "aaxis": {
             "endlinecolor": "#2a3f5f",
             "gridcolor": "white",
             "linecolor": "white",
             "minorgridcolor": "white",
             "startlinecolor": "#2a3f5f"
            },
            "baxis": {
             "endlinecolor": "#2a3f5f",
             "gridcolor": "white",
             "linecolor": "white",
             "minorgridcolor": "white",
             "startlinecolor": "#2a3f5f"
            },
            "type": "carpet"
           }
          ],
          "choropleth": [
           {
            "colorbar": {
             "outlinewidth": 0,
             "ticks": ""
            },
            "type": "choropleth"
           }
          ],
          "contour": [
           {
            "colorbar": {
             "outlinewidth": 0,
             "ticks": ""
            },
            "colorscale": [
             [
              0,
              "#0d0887"
             ],
             [
              0.1111111111111111,
              "#46039f"
             ],
             [
              0.2222222222222222,
              "#7201a8"
             ],
             [
              0.3333333333333333,
              "#9c179e"
             ],
             [
              0.4444444444444444,
              "#bd3786"
             ],
             [
              0.5555555555555556,
              "#d8576b"
             ],
             [
              0.6666666666666666,
              "#ed7953"
             ],
             [
              0.7777777777777778,
              "#fb9f3a"
             ],
             [
              0.8888888888888888,
              "#fdca26"
             ],
             [
              1,
              "#f0f921"
             ]
            ],
            "type": "contour"
           }
          ],
          "contourcarpet": [
           {
            "colorbar": {
             "outlinewidth": 0,
             "ticks": ""
            },
            "type": "contourcarpet"
           }
          ],
          "heatmap": [
           {
            "colorbar": {
             "outlinewidth": 0,
             "ticks": ""
            },
            "colorscale": [
             [
              0,
              "#0d0887"
             ],
             [
              0.1111111111111111,
              "#46039f"
             ],
             [
              0.2222222222222222,
              "#7201a8"
             ],
             [
              0.3333333333333333,
              "#9c179e"
             ],
             [
              0.4444444444444444,
              "#bd3786"
             ],
             [
              0.5555555555555556,
              "#d8576b"
             ],
             [
              0.6666666666666666,
              "#ed7953"
             ],
             [
              0.7777777777777778,
              "#fb9f3a"
             ],
             [
              0.8888888888888888,
              "#fdca26"
             ],
             [
              1,
              "#f0f921"
             ]
            ],
            "type": "heatmap"
           }
          ],
          "histogram": [
           {
            "marker": {
             "pattern": {
              "fillmode": "overlay",
              "size": 10,
              "solidity": 0.2
             }
            },
            "type": "histogram"
           }
          ],
          "histogram2d": [
           {
            "colorbar": {
             "outlinewidth": 0,
             "ticks": ""
            },
            "colorscale": [
             [
              0,
              "#0d0887"
             ],
             [
              0.1111111111111111,
              "#46039f"
             ],
             [
              0.2222222222222222,
              "#7201a8"
             ],
             [
              0.3333333333333333,
              "#9c179e"
             ],
             [
              0.4444444444444444,
              "#bd3786"
             ],
             [
              0.5555555555555556,
              "#d8576b"
             ],
             [
              0.6666666666666666,
              "#ed7953"
             ],
             [
              0.7777777777777778,
              "#fb9f3a"
             ],
             [
              0.8888888888888888,
              "#fdca26"
             ],
             [
              1,
              "#f0f921"
             ]
            ],
            "type": "histogram2d"
           }
          ],
          "histogram2dcontour": [
           {
            "colorbar": {
             "outlinewidth": 0,
             "ticks": ""
            },
            "colorscale": [
             [
              0,
              "#0d0887"
             ],
             [
              0.1111111111111111,
              "#46039f"
             ],
             [
              0.2222222222222222,
              "#7201a8"
             ],
             [
              0.3333333333333333,
              "#9c179e"
             ],
             [
              0.4444444444444444,
              "#bd3786"
             ],
             [
              0.5555555555555556,
              "#d8576b"
             ],
             [
              0.6666666666666666,
              "#ed7953"
             ],
             [
              0.7777777777777778,
              "#fb9f3a"
             ],
             [
              0.8888888888888888,
              "#fdca26"
             ],
             [
              1,
              "#f0f921"
             ]
            ],
            "type": "histogram2dcontour"
           }
          ],
          "mesh3d": [
           {
            "colorbar": {
             "outlinewidth": 0,
             "ticks": ""
            },
            "type": "mesh3d"
           }
          ],
          "parcoords": [
           {
            "line": {
             "colorbar": {
              "outlinewidth": 0,
              "ticks": ""
             }
            },
            "type": "parcoords"
           }
          ],
          "pie": [
           {
            "automargin": true,
            "type": "pie"
           }
          ],
          "scatter": [
           {
            "fillpattern": {
             "fillmode": "overlay",
             "size": 10,
             "solidity": 0.2
            },
            "type": "scatter"
           }
          ],
          "scatter3d": [
           {
            "line": {
             "colorbar": {
              "outlinewidth": 0,
              "ticks": ""
             }
            },
            "marker": {
             "colorbar": {
              "outlinewidth": 0,
              "ticks": ""
             }
            },
            "type": "scatter3d"
           }
          ],
          "scattercarpet": [
           {
            "marker": {
             "colorbar": {
              "outlinewidth": 0,
              "ticks": ""
             }
            },
            "type": "scattercarpet"
           }
          ],
          "scattergeo": [
           {
            "marker": {
             "colorbar": {
              "outlinewidth": 0,
              "ticks": ""
             }
            },
            "type": "scattergeo"
           }
          ],
          "scattergl": [
           {
            "marker": {
             "colorbar": {
              "outlinewidth": 0,
              "ticks": ""
             }
            },
            "type": "scattergl"
           }
          ],
          "scattermap": [
           {
            "marker": {
             "colorbar": {
              "outlinewidth": 0,
              "ticks": ""
             }
            },
            "type": "scattermap"
           }
          ],
          "scattermapbox": [
           {
            "marker": {
             "colorbar": {
              "outlinewidth": 0,
              "ticks": ""
             }
            },
            "type": "scattermapbox"
           }
          ],
          "scatterpolar": [
           {
            "marker": {
             "colorbar": {
              "outlinewidth": 0,
              "ticks": ""
             }
            },
            "type": "scatterpolar"
           }
          ],
          "scatterpolargl": [
           {
            "marker": {
             "colorbar": {
              "outlinewidth": 0,
              "ticks": ""
             }
            },
            "type": "scatterpolargl"
           }
          ],
          "scatterternary": [
           {
            "marker": {
             "colorbar": {
              "outlinewidth": 0,
              "ticks": ""
             }
            },
            "type": "scatterternary"
           }
          ],
          "surface": [
           {
            "colorbar": {
             "outlinewidth": 0,
             "ticks": ""
            },
            "colorscale": [
             [
              0,
              "#0d0887"
             ],
             [
              0.1111111111111111,
              "#46039f"
             ],
             [
              0.2222222222222222,
              "#7201a8"
             ],
             [
              0.3333333333333333,
              "#9c179e"
             ],
             [
              0.4444444444444444,
              "#bd3786"
             ],
             [
              0.5555555555555556,
              "#d8576b"
             ],
             [
              0.6666666666666666,
              "#ed7953"
             ],
             [
              0.7777777777777778,
              "#fb9f3a"
             ],
             [
              0.8888888888888888,
              "#fdca26"
             ],
             [
              1,
              "#f0f921"
             ]
            ],
            "type": "surface"
           }
          ],
          "table": [
           {
            "cells": {
             "fill": {
              "color": "#EBF0F8"
             },
             "line": {
              "color": "white"
             }
            },
            "header": {
             "fill": {
              "color": "#C8D4E3"
             },
             "line": {
              "color": "white"
             }
            },
            "type": "table"
           }
          ]
         },
         "layout": {
          "annotationdefaults": {
           "arrowcolor": "#2a3f5f",
           "arrowhead": 0,
           "arrowwidth": 1
          },
          "autotypenumbers": "strict",
          "coloraxis": {
           "colorbar": {
            "outlinewidth": 0,
            "ticks": ""
           }
          },
          "colorscale": {
           "diverging": [
            [
             0,
             "#8e0152"
            ],
            [
             0.1,
             "#c51b7d"
            ],
            [
             0.2,
             "#de77ae"
            ],
            [
             0.3,
             "#f1b6da"
            ],
            [
             0.4,
             "#fde0ef"
            ],
            [
             0.5,
             "#f7f7f7"
            ],
            [
             0.6,
             "#e6f5d0"
            ],
            [
             0.7,
             "#b8e186"
            ],
            [
             0.8,
             "#7fbc41"
            ],
            [
             0.9,
             "#4d9221"
            ],
            [
             1,
             "#276419"
            ]
           ],
           "sequential": [
            [
             0,
             "#0d0887"
            ],
            [
             0.1111111111111111,
             "#46039f"
            ],
            [
             0.2222222222222222,
             "#7201a8"
            ],
            [
             0.3333333333333333,
             "#9c179e"
            ],
            [
             0.4444444444444444,
             "#bd3786"
            ],
            [
             0.5555555555555556,
             "#d8576b"
            ],
            [
             0.6666666666666666,
             "#ed7953"
            ],
            [
             0.7777777777777778,
             "#fb9f3a"
            ],
            [
             0.8888888888888888,
             "#fdca26"
            ],
            [
             1,
             "#f0f921"
            ]
           ],
           "sequentialminus": [
            [
             0,
             "#0d0887"
            ],
            [
             0.1111111111111111,
             "#46039f"
            ],
            [
             0.2222222222222222,
             "#7201a8"
            ],
            [
             0.3333333333333333,
             "#9c179e"
            ],
            [
             0.4444444444444444,
             "#bd3786"
            ],
            [
             0.5555555555555556,
             "#d8576b"
            ],
            [
             0.6666666666666666,
             "#ed7953"
            ],
            [
             0.7777777777777778,
             "#fb9f3a"
            ],
            [
             0.8888888888888888,
             "#fdca26"
            ],
            [
             1,
             "#f0f921"
            ]
           ]
          },
          "colorway": [
           "#636efa",
           "#EF553B",
           "#00cc96",
           "#ab63fa",
           "#FFA15A",
           "#19d3f3",
           "#FF6692",
           "#B6E880",
           "#FF97FF",
           "#FECB52"
          ],
          "font": {
           "color": "#2a3f5f"
          },
          "geo": {
           "bgcolor": "white",
           "lakecolor": "white",
           "landcolor": "#E5ECF6",
           "showlakes": true,
           "showland": true,
           "subunitcolor": "white"
          },
          "hoverlabel": {
           "align": "left"
          },
          "hovermode": "closest",
          "mapbox": {
           "style": "light"
          },
          "paper_bgcolor": "white",
          "plot_bgcolor": "#E5ECF6",
          "polar": {
           "angularaxis": {
            "gridcolor": "white",
            "linecolor": "white",
            "ticks": ""
           },
           "bgcolor": "#E5ECF6",
           "radialaxis": {
            "gridcolor": "white",
            "linecolor": "white",
            "ticks": ""
           }
          },
          "scene": {
           "xaxis": {
            "backgroundcolor": "#E5ECF6",
            "gridcolor": "white",
            "gridwidth": 2,
            "linecolor": "white",
            "showbackground": true,
            "ticks": "",
            "zerolinecolor": "white"
           },
           "yaxis": {
            "backgroundcolor": "#E5ECF6",
            "gridcolor": "white",
            "gridwidth": 2,
            "linecolor": "white",
            "showbackground": true,
            "ticks": "",
            "zerolinecolor": "white"
           },
           "zaxis": {
            "backgroundcolor": "#E5ECF6",
            "gridcolor": "white",
            "gridwidth": 2,
            "linecolor": "white",
            "showbackground": true,
            "ticks": "",
            "zerolinecolor": "white"
           }
          },
          "shapedefaults": {
           "line": {
            "color": "#2a3f5f"
           }
          },
          "ternary": {
           "aaxis": {
            "gridcolor": "white",
            "linecolor": "white",
            "ticks": ""
           },
           "baxis": {
            "gridcolor": "white",
            "linecolor": "white",
            "ticks": ""
           },
           "bgcolor": "#E5ECF6",
           "caxis": {
            "gridcolor": "white",
            "linecolor": "white",
            "ticks": ""
           }
          },
          "title": {
           "x": 0.05
          },
          "xaxis": {
           "automargin": true,
           "gridcolor": "white",
           "linecolor": "white",
           "ticks": "",
           "title": {
            "standoff": 15
           },
           "zerolinecolor": "white",
           "zerolinewidth": 2
          },
          "yaxis": {
           "automargin": true,
           "gridcolor": "white",
           "linecolor": "white",
           "ticks": "",
           "title": {
            "standoff": 15
           },
           "zerolinecolor": "white",
           "zerolinewidth": 2
          }
         }
        },
        "title": {
         "text": "Relationship Between Reddit Post Score and RoBERTa Sentiment"
        },
        "width": 800,
        "xaxis": {
         "anchor": "y",
         "domain": [
          0,
          1
         ],
         "title": {
          "text": "Reddit Post Score"
         }
        },
        "yaxis": {
         "anchor": "x",
         "domain": [
          0,
          1
         ],
         "title": {
          "text": "RoBERTa Compound Sentiment Score"
         }
        }
       }
      }
     },
     "metadata": {},
     "output_type": "display_data"
    },
    {
     "name": "stdout",
     "output_type": "stream",
     "text": [
      "📊 Correlation Analysis: Reddit Score vs RoBERTa Sentiment\n",
      "Pearson correlation coefficient: -0.0499\n",
      "P-value: 3.50e-02\n",
      "Interpretation: Very weak or no correlation\n"
     ]
    }
   ],
   "source": [
    "import plotly.express as px\n",
    "import plotly.graph_objects as go\n",
    "from scipy.stats import pearsonr\n",
    "import numpy as np\n",
    "\n",
    "# Create scatter plot comparing Reddit post scores vs RoBERTa sentiment\n",
    "fig = px.scatter(\n",
    "    df_reddit_sentiment_full, \n",
    "    x='score', \n",
    "    y='roberta_compound',\n",
    "    title='Relationship Between Reddit Post Score and RoBERTa Sentiment',\n",
    "    labels={\n",
    "        'score': 'Reddit Post Score',\n",
    "        'roberta_compound': 'RoBERTa Compound Sentiment Score'\n",
    "    },\n",
    "    hover_data=['sentences'],  # Show sentences on hover\n",
    "    opacity=0.6\n",
    ")\n",
    "\n",
    "# Add horizontal line at y=0 (neutral sentiment)\n",
    "fig.add_hline(y=0, line_dash=\"dash\", line_color=\"gray\", \n",
    "              annotation_text=\"Neutral Sentiment\", annotation_position=\"top right\")\n",
    "\n",
    "# Add vertical line at x=0 (neutral score)\n",
    "fig.add_vline(x=0, line_dash=\"dash\", line_color=\"gray\",\n",
    "              annotation_text=\"Neutral Score\", annotation_position=\"top right\")\n",
    "\n",
    "# Calculate correlation coefficient\n",
    "correlation, p_value = pearsonr(df_reddit_sentiment_full['score'], df_reddit_sentiment_full['roberta_compound'])\n",
    "\n",
    "# Add correlation info to the plot\n",
    "fig.add_annotation(\n",
    "    x=0.02, y=0.98,\n",
    "    xref='paper', yref='paper',\n",
    "    text=f'Correlation: {correlation:.3f}<br>P-value: {p_value:.3e}',\n",
    "    showarrow=False,\n",
    "    font=dict(size=12),\n",
    "    bgcolor=\"rgba(255,255,255,0.8)\",\n",
    "    bordercolor=\"black\",\n",
    "    borderwidth=1\n",
    ")\n",
    "\n",
    "fig.update_layout(\n",
    "    width=800,\n",
    "    height=600,\n",
    "    showlegend=True\n",
    ")\n",
    "\n",
    "fig.show()\n",
    "\n",
    "print(f\"📊 Correlation Analysis: Reddit Score vs RoBERTa Sentiment\")\n",
    "print(f\"Pearson correlation coefficient: {correlation:.4f}\")\n",
    "print(f\"P-value: {p_value:.2e}\")\n",
    "print(f\"Interpretation: \", end=\"\")\n",
    "if abs(correlation) > 0.7:\n",
    "    print(\"Strong correlation\")\n",
    "elif abs(correlation) > 0.5:\n",
    "    print(\"Moderate correlation\") \n",
    "elif abs(correlation) > 0.3:\n",
    "    print(\"Weak correlation\")\n",
    "else:\n",
    "    print(\"Very weak or no correlation\")\n",
    "\n"
   ]
  },
  {
   "cell_type": "code",
   "execution_count": null,
   "id": "82ca8d80",
   "metadata": {},
   "outputs": [],
   "source": []
  },
  {
   "cell_type": "markdown",
   "id": "b07b967b",
   "metadata": {},
   "source": [
    "### 4.3 Most Positive Sentiment by Location\n",
    "\n",
    "Let's analyze which places are associated with the most positive sentiment scores:"
   ]
  },
  {
   "cell_type": "code",
   "execution_count": 45,
   "id": "a8465b73",
   "metadata": {},
   "outputs": [
    {
     "data": {
      "application/vnd.plotly.v1+json": {
       "config": {
        "plotlyServerURL": "https://plot.ly"
       },
       "data": [
        {
         "customdata": {
          "bdata": "BAMFFQY=",
          "dtype": "i1",
          "shape": "5, 1"
         },
         "hovertemplate": "<b>%{y}</b><br>Average Sentiment: %{x:.3f}<br>Number of Posts: %{customdata[0]}<br><extra></extra>",
         "legendgroup": "Bottom 5",
         "marker": {
          "color": "#CD5C5C",
          "pattern": {
           "shape": ""
          }
         },
         "name": "Bottom 5",
         "orientation": "h",
         "showlegend": true,
         "textposition": "auto",
         "type": "bar",
         "x": {
          "bdata": "uk0Iv8eu3r4/IsW+v9K+vsM0t74=",
          "dtype": "f4"
         },
         "xaxis": "x",
         "y": [
          "Vermont",
          "Austurland",
          "Jennings County",
          "Southview",
          "Ukmergė"
         ],
         "yaxis": "y"
        },
        {
         "customdata": {
          "bdata": "AwMDAwM=",
          "dtype": "i1",
          "shape": "5, 1"
         },
         "hovertemplate": "<b>%{y}</b><br>Average Sentiment: %{x:.3f}<br>Number of Posts: %{customdata[0]}<br><extra></extra>",
         "legendgroup": "Top 5",
         "marker": {
          "color": "#2E8B57",
          "pattern": {
           "shape": ""
          }
         },
         "name": "Top 5",
         "orientation": "h",
         "showlegend": true,
         "textposition": "auto",
         "type": "bar",
         "x": {
          "bdata": "gULGPnzs3j4F0PU+bFYDP6AFOz8=",
          "dtype": "f4"
         },
         "xaxis": "x",
         "y": [
          "Mediterranean",
          "Jackson",
          "Rockingham",
          "Washington",
          "United Kingdom of Great Britain and Northern Ireland"
         ],
         "yaxis": "y"
        }
       ],
       "layout": {
        "annotations": [
         {
          "showarrow": false,
          "text": "Neutral",
          "x": 0,
          "xanchor": "center",
          "xref": "x",
          "y": 1,
          "yanchor": "bottom",
          "yref": "y domain"
         }
        ],
        "barmode": "relative",
        "font": {
         "size": 12
        },
        "height": 600,
        "legend": {
         "orientation": "h",
         "title": {
          "text": "Ranking"
         },
         "tracegroupgap": 0,
         "x": 1,
         "xanchor": "right",
         "y": 1.02,
         "yanchor": "bottom"
        },
        "margin": {
         "b": 50,
         "l": 150,
         "r": 50,
         "t": 80
        },
        "shapes": [
         {
          "line": {
           "color": "gray",
           "dash": "dash"
          },
          "type": "line",
          "x0": 0,
          "x1": 0,
          "xref": "x",
          "y0": 0,
          "y1": 1,
          "yref": "y domain"
         }
        ],
        "template": {
         "data": {
          "bar": [
           {
            "error_x": {
             "color": "#2a3f5f"
            },
            "error_y": {
             "color": "#2a3f5f"
            },
            "marker": {
             "line": {
              "color": "#E5ECF6",
              "width": 0.5
             },
             "pattern": {
              "fillmode": "overlay",
              "size": 10,
              "solidity": 0.2
             }
            },
            "type": "bar"
           }
          ],
          "barpolar": [
           {
            "marker": {
             "line": {
              "color": "#E5ECF6",
              "width": 0.5
             },
             "pattern": {
              "fillmode": "overlay",
              "size": 10,
              "solidity": 0.2
             }
            },
            "type": "barpolar"
           }
          ],
          "carpet": [
           {
            "aaxis": {
             "endlinecolor": "#2a3f5f",
             "gridcolor": "white",
             "linecolor": "white",
             "minorgridcolor": "white",
             "startlinecolor": "#2a3f5f"
            },
            "baxis": {
             "endlinecolor": "#2a3f5f",
             "gridcolor": "white",
             "linecolor": "white",
             "minorgridcolor": "white",
             "startlinecolor": "#2a3f5f"
            },
            "type": "carpet"
           }
          ],
          "choropleth": [
           {
            "colorbar": {
             "outlinewidth": 0,
             "ticks": ""
            },
            "type": "choropleth"
           }
          ],
          "contour": [
           {
            "colorbar": {
             "outlinewidth": 0,
             "ticks": ""
            },
            "colorscale": [
             [
              0,
              "#0d0887"
             ],
             [
              0.1111111111111111,
              "#46039f"
             ],
             [
              0.2222222222222222,
              "#7201a8"
             ],
             [
              0.3333333333333333,
              "#9c179e"
             ],
             [
              0.4444444444444444,
              "#bd3786"
             ],
             [
              0.5555555555555556,
              "#d8576b"
             ],
             [
              0.6666666666666666,
              "#ed7953"
             ],
             [
              0.7777777777777778,
              "#fb9f3a"
             ],
             [
              0.8888888888888888,
              "#fdca26"
             ],
             [
              1,
              "#f0f921"
             ]
            ],
            "type": "contour"
           }
          ],
          "contourcarpet": [
           {
            "colorbar": {
             "outlinewidth": 0,
             "ticks": ""
            },
            "type": "contourcarpet"
           }
          ],
          "heatmap": [
           {
            "colorbar": {
             "outlinewidth": 0,
             "ticks": ""
            },
            "colorscale": [
             [
              0,
              "#0d0887"
             ],
             [
              0.1111111111111111,
              "#46039f"
             ],
             [
              0.2222222222222222,
              "#7201a8"
             ],
             [
              0.3333333333333333,
              "#9c179e"
             ],
             [
              0.4444444444444444,
              "#bd3786"
             ],
             [
              0.5555555555555556,
              "#d8576b"
             ],
             [
              0.6666666666666666,
              "#ed7953"
             ],
             [
              0.7777777777777778,
              "#fb9f3a"
             ],
             [
              0.8888888888888888,
              "#fdca26"
             ],
             [
              1,
              "#f0f921"
             ]
            ],
            "type": "heatmap"
           }
          ],
          "histogram": [
           {
            "marker": {
             "pattern": {
              "fillmode": "overlay",
              "size": 10,
              "solidity": 0.2
             }
            },
            "type": "histogram"
           }
          ],
          "histogram2d": [
           {
            "colorbar": {
             "outlinewidth": 0,
             "ticks": ""
            },
            "colorscale": [
             [
              0,
              "#0d0887"
             ],
             [
              0.1111111111111111,
              "#46039f"
             ],
             [
              0.2222222222222222,
              "#7201a8"
             ],
             [
              0.3333333333333333,
              "#9c179e"
             ],
             [
              0.4444444444444444,
              "#bd3786"
             ],
             [
              0.5555555555555556,
              "#d8576b"
             ],
             [
              0.6666666666666666,
              "#ed7953"
             ],
             [
              0.7777777777777778,
              "#fb9f3a"
             ],
             [
              0.8888888888888888,
              "#fdca26"
             ],
             [
              1,
              "#f0f921"
             ]
            ],
            "type": "histogram2d"
           }
          ],
          "histogram2dcontour": [
           {
            "colorbar": {
             "outlinewidth": 0,
             "ticks": ""
            },
            "colorscale": [
             [
              0,
              "#0d0887"
             ],
             [
              0.1111111111111111,
              "#46039f"
             ],
             [
              0.2222222222222222,
              "#7201a8"
             ],
             [
              0.3333333333333333,
              "#9c179e"
             ],
             [
              0.4444444444444444,
              "#bd3786"
             ],
             [
              0.5555555555555556,
              "#d8576b"
             ],
             [
              0.6666666666666666,
              "#ed7953"
             ],
             [
              0.7777777777777778,
              "#fb9f3a"
             ],
             [
              0.8888888888888888,
              "#fdca26"
             ],
             [
              1,
              "#f0f921"
             ]
            ],
            "type": "histogram2dcontour"
           }
          ],
          "mesh3d": [
           {
            "colorbar": {
             "outlinewidth": 0,
             "ticks": ""
            },
            "type": "mesh3d"
           }
          ],
          "parcoords": [
           {
            "line": {
             "colorbar": {
              "outlinewidth": 0,
              "ticks": ""
             }
            },
            "type": "parcoords"
           }
          ],
          "pie": [
           {
            "automargin": true,
            "type": "pie"
           }
          ],
          "scatter": [
           {
            "fillpattern": {
             "fillmode": "overlay",
             "size": 10,
             "solidity": 0.2
            },
            "type": "scatter"
           }
          ],
          "scatter3d": [
           {
            "line": {
             "colorbar": {
              "outlinewidth": 0,
              "ticks": ""
             }
            },
            "marker": {
             "colorbar": {
              "outlinewidth": 0,
              "ticks": ""
             }
            },
            "type": "scatter3d"
           }
          ],
          "scattercarpet": [
           {
            "marker": {
             "colorbar": {
              "outlinewidth": 0,
              "ticks": ""
             }
            },
            "type": "scattercarpet"
           }
          ],
          "scattergeo": [
           {
            "marker": {
             "colorbar": {
              "outlinewidth": 0,
              "ticks": ""
             }
            },
            "type": "scattergeo"
           }
          ],
          "scattergl": [
           {
            "marker": {
             "colorbar": {
              "outlinewidth": 0,
              "ticks": ""
             }
            },
            "type": "scattergl"
           }
          ],
          "scattermap": [
           {
            "marker": {
             "colorbar": {
              "outlinewidth": 0,
              "ticks": ""
             }
            },
            "type": "scattermap"
           }
          ],
          "scattermapbox": [
           {
            "marker": {
             "colorbar": {
              "outlinewidth": 0,
              "ticks": ""
             }
            },
            "type": "scattermapbox"
           }
          ],
          "scatterpolar": [
           {
            "marker": {
             "colorbar": {
              "outlinewidth": 0,
              "ticks": ""
             }
            },
            "type": "scatterpolar"
           }
          ],
          "scatterpolargl": [
           {
            "marker": {
             "colorbar": {
              "outlinewidth": 0,
              "ticks": ""
             }
            },
            "type": "scatterpolargl"
           }
          ],
          "scatterternary": [
           {
            "marker": {
             "colorbar": {
              "outlinewidth": 0,
              "ticks": ""
             }
            },
            "type": "scatterternary"
           }
          ],
          "surface": [
           {
            "colorbar": {
             "outlinewidth": 0,
             "ticks": ""
            },
            "colorscale": [
             [
              0,
              "#0d0887"
             ],
             [
              0.1111111111111111,
              "#46039f"
             ],
             [
              0.2222222222222222,
              "#7201a8"
             ],
             [
              0.3333333333333333,
              "#9c179e"
             ],
             [
              0.4444444444444444,
              "#bd3786"
             ],
             [
              0.5555555555555556,
              "#d8576b"
             ],
             [
              0.6666666666666666,
              "#ed7953"
             ],
             [
              0.7777777777777778,
              "#fb9f3a"
             ],
             [
              0.8888888888888888,
              "#fdca26"
             ],
             [
              1,
              "#f0f921"
             ]
            ],
            "type": "surface"
           }
          ],
          "table": [
           {
            "cells": {
             "fill": {
              "color": "#EBF0F8"
             },
             "line": {
              "color": "white"
             }
            },
            "header": {
             "fill": {
              "color": "#C8D4E3"
             },
             "line": {
              "color": "white"
             }
            },
            "type": "table"
           }
          ]
         },
         "layout": {
          "annotationdefaults": {
           "arrowcolor": "#2a3f5f",
           "arrowhead": 0,
           "arrowwidth": 1
          },
          "autotypenumbers": "strict",
          "coloraxis": {
           "colorbar": {
            "outlinewidth": 0,
            "ticks": ""
           }
          },
          "colorscale": {
           "diverging": [
            [
             0,
             "#8e0152"
            ],
            [
             0.1,
             "#c51b7d"
            ],
            [
             0.2,
             "#de77ae"
            ],
            [
             0.3,
             "#f1b6da"
            ],
            [
             0.4,
             "#fde0ef"
            ],
            [
             0.5,
             "#f7f7f7"
            ],
            [
             0.6,
             "#e6f5d0"
            ],
            [
             0.7,
             "#b8e186"
            ],
            [
             0.8,
             "#7fbc41"
            ],
            [
             0.9,
             "#4d9221"
            ],
            [
             1,
             "#276419"
            ]
           ],
           "sequential": [
            [
             0,
             "#0d0887"
            ],
            [
             0.1111111111111111,
             "#46039f"
            ],
            [
             0.2222222222222222,
             "#7201a8"
            ],
            [
             0.3333333333333333,
             "#9c179e"
            ],
            [
             0.4444444444444444,
             "#bd3786"
            ],
            [
             0.5555555555555556,
             "#d8576b"
            ],
            [
             0.6666666666666666,
             "#ed7953"
            ],
            [
             0.7777777777777778,
             "#fb9f3a"
            ],
            [
             0.8888888888888888,
             "#fdca26"
            ],
            [
             1,
             "#f0f921"
            ]
           ],
           "sequentialminus": [
            [
             0,
             "#0d0887"
            ],
            [
             0.1111111111111111,
             "#46039f"
            ],
            [
             0.2222222222222222,
             "#7201a8"
            ],
            [
             0.3333333333333333,
             "#9c179e"
            ],
            [
             0.4444444444444444,
             "#bd3786"
            ],
            [
             0.5555555555555556,
             "#d8576b"
            ],
            [
             0.6666666666666666,
             "#ed7953"
            ],
            [
             0.7777777777777778,
             "#fb9f3a"
            ],
            [
             0.8888888888888888,
             "#fdca26"
            ],
            [
             1,
             "#f0f921"
            ]
           ]
          },
          "colorway": [
           "#636efa",
           "#EF553B",
           "#00cc96",
           "#ab63fa",
           "#FFA15A",
           "#19d3f3",
           "#FF6692",
           "#B6E880",
           "#FF97FF",
           "#FECB52"
          ],
          "font": {
           "color": "#2a3f5f"
          },
          "geo": {
           "bgcolor": "white",
           "lakecolor": "white",
           "landcolor": "#E5ECF6",
           "showlakes": true,
           "showland": true,
           "subunitcolor": "white"
          },
          "hoverlabel": {
           "align": "left"
          },
          "hovermode": "closest",
          "mapbox": {
           "style": "light"
          },
          "paper_bgcolor": "white",
          "plot_bgcolor": "#E5ECF6",
          "polar": {
           "angularaxis": {
            "gridcolor": "white",
            "linecolor": "white",
            "ticks": ""
           },
           "bgcolor": "#E5ECF6",
           "radialaxis": {
            "gridcolor": "white",
            "linecolor": "white",
            "ticks": ""
           }
          },
          "scene": {
           "xaxis": {
            "backgroundcolor": "#E5ECF6",
            "gridcolor": "white",
            "gridwidth": 2,
            "linecolor": "white",
            "showbackground": true,
            "ticks": "",
            "zerolinecolor": "white"
           },
           "yaxis": {
            "backgroundcolor": "#E5ECF6",
            "gridcolor": "white",
            "gridwidth": 2,
            "linecolor": "white",
            "showbackground": true,
            "ticks": "",
            "zerolinecolor": "white"
           },
           "zaxis": {
            "backgroundcolor": "#E5ECF6",
            "gridcolor": "white",
            "gridwidth": 2,
            "linecolor": "white",
            "showbackground": true,
            "ticks": "",
            "zerolinecolor": "white"
           }
          },
          "shapedefaults": {
           "line": {
            "color": "#2a3f5f"
           }
          },
          "ternary": {
           "aaxis": {
            "gridcolor": "white",
            "linecolor": "white",
            "ticks": ""
           },
           "baxis": {
            "gridcolor": "white",
            "linecolor": "white",
            "ticks": ""
           },
           "bgcolor": "#E5ECF6",
           "caxis": {
            "gridcolor": "white",
            "linecolor": "white",
            "ticks": ""
           }
          },
          "title": {
           "x": 0.05
          },
          "xaxis": {
           "automargin": true,
           "gridcolor": "white",
           "linecolor": "white",
           "ticks": "",
           "title": {
            "standoff": 15
           },
           "zerolinecolor": "white",
           "zerolinewidth": 2
          },
          "yaxis": {
           "automargin": true,
           "gridcolor": "white",
           "linecolor": "white",
           "ticks": "",
           "title": {
            "standoff": 15
           },
           "zerolinecolor": "white",
           "zerolinewidth": 2
          }
         }
        },
        "title": {
         "text": "🌟 Top 5 vs Bottom 5 Cities by Average Sentiment Score"
        },
        "xaxis": {
         "anchor": "y",
         "domain": [
          0,
          1
         ],
         "title": {
          "text": "Average RoBERTa Sentiment Score"
         }
        },
        "yaxis": {
         "anchor": "x",
         "domain": [
          0,
          1
         ],
         "title": {
          "text": "City"
         }
        }
       }
      }
     },
     "metadata": {},
     "output_type": "display_data"
    }
   ],
   "source": [
    "# Group by place and calculate average sentiment scores\n",
    "city_sentiment_avg = (df_reddit_sentiment_full\n",
    "                      .groupby('place')['roberta_compound']\n",
    "                      .agg(['mean', 'count'])\n",
    "                      .reset_index())\n",
    "\n",
    "city_sentiment_avg.columns = ['place', 'avg_sentiment', 'post_count']\n",
    "\n",
    "# Filter cities with at least 3 posts for more reliable averages\n",
    "city_sentiment_filtered = city_sentiment_avg[city_sentiment_avg['post_count'] >= 3].copy()\n",
    "\n",
    "# Get top 5 and bottom 5 cities\n",
    "top_5_cities = city_sentiment_filtered.nlargest(5, 'avg_sentiment')\n",
    "bottom_5_cities = city_sentiment_filtered.nsmallest(5, 'avg_sentiment')\n",
    "\n",
    "# Combine top and bottom cities\n",
    "top_bottom_cities = pd.concat([top_5_cities, bottom_5_cities])\n",
    "top_bottom_cities['category'] = ['Top 5'] * 5 + ['Bottom 5'] * 5\n",
    "\n",
    "# Create interactive plotly chart\n",
    "import plotly.express as px\n",
    "import plotly.graph_objects as go\n",
    "\n",
    "# Create a horizontal bar chart showing top and bottom cities\n",
    "fig = px.bar(\n",
    "    top_bottom_cities.sort_values('avg_sentiment'),\n",
    "    x='avg_sentiment',\n",
    "    y='place',\n",
    "    orientation='h',\n",
    "    color='category',\n",
    "    title='🌟 Top 5 vs Bottom 5 Cities by Average Sentiment Score',\n",
    "    labels={\n",
    "        'avg_sentiment': 'Average RoBERTa Sentiment Score',\n",
    "        'place': 'City',\n",
    "        'category': 'Ranking'\n",
    "    },\n",
    "    hover_data={\n",
    "        'post_count': True,\n",
    "        'avg_sentiment': ':.3f'\n",
    "    },\n",
    "    color_discrete_map={\n",
    "        'Top 5': '#2E8B57',      # Sea Green\n",
    "        'Bottom 5': '#CD5C5C'    # Indian Red\n",
    "    },\n",
    "    height=600\n",
    ")\n",
    "\n",
    "# Customize the layout\n",
    "fig.update_layout(\n",
    "    xaxis_title=\"Average RoBERTa Sentiment Score\",\n",
    "    yaxis_title=\"City\",\n",
    "    font=dict(size=12),\n",
    "    margin=dict(l=150, r=50, t=80, b=50),\n",
    "    legend=dict(\n",
    "        orientation=\"h\",\n",
    "        yanchor=\"bottom\",\n",
    "        y=1.02,\n",
    "        xanchor=\"right\",\n",
    "        x=1\n",
    "    )\n",
    ")\n",
    "\n",
    "# Add a vertical line at neutral sentiment (0)\n",
    "fig.add_vline(x=0, line_dash=\"dash\", line_color=\"gray\", \n",
    "              annotation_text=\"Neutral\", annotation_position=\"top\")\n",
    "\n",
    "# Customize hover template\n",
    "fig.update_traces(\n",
    "    hovertemplate=\"<b>%{y}</b><br>\" +\n",
    "                  \"Average Sentiment: %{x:.3f}<br>\" +\n",
    "                  \"Number of Posts: %{customdata[0]}<br>\" +\n",
    "                  \"<extra></extra>\"\n",
    ")\n",
    "\n",
    "fig.show()\n",
    "\n"
   ]
  },
  {
   "cell_type": "code",
   "execution_count": 54,
   "id": "df8befbb-90ae-462f-8682-d19f665352c2",
   "metadata": {},
   "outputs": [
    {
     "data": {
      "application/vnd.microsoft.datawrangler.viewer.v0+json": {
       "columns": [
        {
         "name": "index",
         "rawType": "int64",
         "type": "integer"
        },
        {
         "name": "place",
         "rawType": "object",
         "type": "string"
        },
        {
         "name": "location_count",
         "rawType": "int64",
         "type": "integer"
        },
        {
         "name": "latitude",
         "rawType": "object",
         "type": "unknown"
        },
        {
         "name": "longitude",
         "rawType": "object",
         "type": "unknown"
        },
        {
         "name": "sentences",
         "rawType": "object",
         "type": "unknown"
        },
        {
         "name": "avg_roberta_compound",
         "rawType": "float32",
         "type": "float"
        }
       ],
       "ref": "9bd0b8d7-174e-49d4-909a-7d981972e001",
       "rows": [
        [
         "434",
         "Stine",
         "1",
         "37.49524",
         "-114.58889",
         "['Not an alumni but I found it neat that the Stine on a lit if the old buildings on campus came from a quarry where Forbes is now I also find it funny that SSC used to be a hospital back in the day (fun fact: the consueling center was relatively where tge place babies used to born at)']",
         "0.68746775"
        ],
        [
         "440",
         "Subway",
         "1",
         "26.07205",
         "-80.23203",
         "[\"Meal plan changes invoke rage I thought the meal plan changes just were limiting daily punches on Duke deals like those at chickfila or subway, but turns out you actually can't punch out anywhere.\"]",
         "-0.2624188"
        ],
        [
         "6",
         "Airport",
         "2",
         "22.31602",
         "113.93663",
         "['\"Airport\" was my shit.', \"Airport, that's what I meant haha.\"]",
         "-0.33662948"
        ],
        [
         "184",
         "Hall Mountain",
         "2",
         "40.99729",
         "-77.27803",
         "['Maury is now Mountain Hall and Ashby is now Valley Hall.', 'Maury is now Mountain Hall and Ashby is now Valley Hall.']",
         "0.0005498124"
        ],
        [
         "78",
         "Chicago",
         "3",
         "41.85003",
         "-87.65005",
         "['Twice as many black people died from black on black violence in Chicago in ONE DAY than died from police brutality in an entire year (Washington Post Police Violence Database).', 'Hey guys, I’m going into my senior year of high school in Chicago, Illinois, and my college search is pretty much coming to a close, one school that stood out was JMU.', 'Chicago is so flat, those VA mountains are beautiful.']",
         "0.04848508"
        ],
        [
         "299",
         "Mill",
         "2",
         "30.47318",
         "-83.40015",
         "['Not saying you get tons of extra amenities, but the houses are WAY nicer than the crappy apartments in the Mill and management isn’t horrible', 'Only really close to Pheasant and the Mill so you don’t see many students there.']",
         "0.23043609"
        ],
        [
         "521",
         "Ṭikar",
         "5",
         "27.4813",
         "83.52467",
         "['P.S.', 'P.S.', 'P.S.', 'P.S.', 'P.S.']",
         "0.021211836"
        ],
        [
         "484",
         "Vizslás",
         "1",
         "48.05171",
         "19.8199",
         "[\"Are we sure it's the guy with vizslas?\"]",
         "-0.0059619523"
        ],
        [
         "117",
         "Duryea",
         "1",
         "41.34397",
         "-75.73853",
         "['Babylon, Taste of India (the one near East Campus), Magnolias, Little Italy (some of the best pizza and calzones), Billy Jacks is good but I think Sticky Nuggs are insanely overrated, Beyond has good cocktails and asian cuisine, Grilled Cheese Mania (slightly overpriced), Little Grill Collective, Rubys, Urgies,']",
         "0.6072498"
        ],
        [
         "137",
         "Engeo",
         "2",
         "53.47231",
         "9.13028",
         "['The top floors of EnGeo and King hall are always good spots to try, it’s not usually busy up there.', 'Walking through engeo would kill you']",
         "0.06371054"
        ]
       ],
       "shape": {
        "columns": 6,
        "rows": 10
       }
      },
      "text/html": [
       "<div>\n",
       "<style scoped>\n",
       "    .dataframe tbody tr th:only-of-type {\n",
       "        vertical-align: middle;\n",
       "    }\n",
       "\n",
       "    .dataframe tbody tr th {\n",
       "        vertical-align: top;\n",
       "    }\n",
       "\n",
       "    .dataframe thead th {\n",
       "        text-align: right;\n",
       "    }\n",
       "</style>\n",
       "<table border=\"1\" class=\"dataframe\">\n",
       "  <thead>\n",
       "    <tr style=\"text-align: right;\">\n",
       "      <th></th>\n",
       "      <th>place</th>\n",
       "      <th>location_count</th>\n",
       "      <th>latitude</th>\n",
       "      <th>longitude</th>\n",
       "      <th>sentences</th>\n",
       "      <th>avg_roberta_compound</th>\n",
       "    </tr>\n",
       "  </thead>\n",
       "  <tbody>\n",
       "    <tr>\n",
       "      <th>434</th>\n",
       "      <td>Stine</td>\n",
       "      <td>1</td>\n",
       "      <td>37.49524</td>\n",
       "      <td>-114.58889</td>\n",
       "      <td>[Not an alumni but I found it neat that the St...</td>\n",
       "      <td>0.687468</td>\n",
       "    </tr>\n",
       "    <tr>\n",
       "      <th>440</th>\n",
       "      <td>Subway</td>\n",
       "      <td>1</td>\n",
       "      <td>26.07205</td>\n",
       "      <td>-80.23203</td>\n",
       "      <td>[Meal plan changes invoke rage I thought the m...</td>\n",
       "      <td>-0.262419</td>\n",
       "    </tr>\n",
       "    <tr>\n",
       "      <th>6</th>\n",
       "      <td>Airport</td>\n",
       "      <td>2</td>\n",
       "      <td>22.31602</td>\n",
       "      <td>113.93663</td>\n",
       "      <td>[\"Airport\" was my shit., Airport, that's what ...</td>\n",
       "      <td>-0.336629</td>\n",
       "    </tr>\n",
       "    <tr>\n",
       "      <th>184</th>\n",
       "      <td>Hall Mountain</td>\n",
       "      <td>2</td>\n",
       "      <td>40.99729</td>\n",
       "      <td>-77.27803</td>\n",
       "      <td>[Maury is now Mountain Hall and Ashby is now V...</td>\n",
       "      <td>0.000550</td>\n",
       "    </tr>\n",
       "    <tr>\n",
       "      <th>78</th>\n",
       "      <td>Chicago</td>\n",
       "      <td>3</td>\n",
       "      <td>41.85003</td>\n",
       "      <td>-87.65005</td>\n",
       "      <td>[Twice as many black people died from black on...</td>\n",
       "      <td>0.048485</td>\n",
       "    </tr>\n",
       "    <tr>\n",
       "      <th>299</th>\n",
       "      <td>Mill</td>\n",
       "      <td>2</td>\n",
       "      <td>30.47318</td>\n",
       "      <td>-83.40015</td>\n",
       "      <td>[Not saying you get tons of extra amenities, b...</td>\n",
       "      <td>0.230436</td>\n",
       "    </tr>\n",
       "    <tr>\n",
       "      <th>521</th>\n",
       "      <td>Ṭikar</td>\n",
       "      <td>5</td>\n",
       "      <td>27.4813</td>\n",
       "      <td>83.52467</td>\n",
       "      <td>[P.S., P.S., P.S., P.S., P.S.]</td>\n",
       "      <td>0.021212</td>\n",
       "    </tr>\n",
       "    <tr>\n",
       "      <th>484</th>\n",
       "      <td>Vizslás</td>\n",
       "      <td>1</td>\n",
       "      <td>48.05171</td>\n",
       "      <td>19.8199</td>\n",
       "      <td>[Are we sure it's the guy with vizslas?]</td>\n",
       "      <td>-0.005962</td>\n",
       "    </tr>\n",
       "    <tr>\n",
       "      <th>117</th>\n",
       "      <td>Duryea</td>\n",
       "      <td>1</td>\n",
       "      <td>41.34397</td>\n",
       "      <td>-75.73853</td>\n",
       "      <td>[Babylon, Taste of India (the one near East Ca...</td>\n",
       "      <td>0.607250</td>\n",
       "    </tr>\n",
       "    <tr>\n",
       "      <th>137</th>\n",
       "      <td>Engeo</td>\n",
       "      <td>2</td>\n",
       "      <td>53.47231</td>\n",
       "      <td>9.13028</td>\n",
       "      <td>[The top floors of EnGeo and King hall are alw...</td>\n",
       "      <td>0.063711</td>\n",
       "    </tr>\n",
       "  </tbody>\n",
       "</table>\n",
       "</div>"
      ],
      "text/plain": [
       "             place  location_count  latitude  longitude  \\\n",
       "434          Stine               1  37.49524 -114.58889   \n",
       "440         Subway               1  26.07205  -80.23203   \n",
       "6          Airport               2  22.31602  113.93663   \n",
       "184  Hall Mountain               2  40.99729  -77.27803   \n",
       "78         Chicago               3  41.85003  -87.65005   \n",
       "299           Mill               2  30.47318  -83.40015   \n",
       "521          Ṭikar               5   27.4813   83.52467   \n",
       "484        Vizslás               1  48.05171    19.8199   \n",
       "117         Duryea               1  41.34397  -75.73853   \n",
       "137          Engeo               2  53.47231    9.13028   \n",
       "\n",
       "                                             sentences  avg_roberta_compound  \n",
       "434  [Not an alumni but I found it neat that the St...              0.687468  \n",
       "440  [Meal plan changes invoke rage I thought the m...             -0.262419  \n",
       "6    [\"Airport\" was my shit., Airport, that's what ...             -0.336629  \n",
       "184  [Maury is now Mountain Hall and Ashby is now V...              0.000550  \n",
       "78   [Twice as many black people died from black on...              0.048485  \n",
       "299  [Not saying you get tons of extra amenities, b...              0.230436  \n",
       "521                     [P.S., P.S., P.S., P.S., P.S.]              0.021212  \n",
       "484           [Are we sure it's the guy with vizslas?]             -0.005962  \n",
       "117  [Babylon, Taste of India (the one near East Ca...              0.607250  \n",
       "137  [The top floors of EnGeo and King hall are alw...              0.063711  "
      ]
     },
     "execution_count": 54,
     "metadata": {},
     "output_type": "execute_result"
    }
   ],
   "source": [
    "df_reddit_place_sentiments = df_reddit_sentiment_full.groupby('place').agg(\n",
    "    location_count=('place', 'size'),  # Count occurrences of each location\n",
    "    latitude=('latitude', 'first'),    # Take the first latitude \n",
    "    longitude=('longitude', 'first'),  # Take the first longitude\n",
    "    sentences=('sentences', lambda x: list(x)),  # Collect all sentences into an array\n",
    "    avg_roberta_compound=('roberta_compound', 'mean'),  # Average of roberta_compound\n",
    "    \n",
    "    \n",
    ").reset_index()\n",
    "\n",
    "df_reddit_place_sentiments.sample(10, random_state=42)\n"
   ]
  },
  {
   "cell_type": "code",
   "execution_count": 62,
   "id": "63cc8098",
   "metadata": {},
   "outputs": [
    {
     "data": {
      "application/vnd.plotly.v1+json": {
       "config": {
        "plotlyServerURL": "https://plot.ly"
       },
       "data": [
        {
         "hovertemplate": "location_count=%{marker.size}<br>latitude=%{lat}<br>longitude=%{lon}<br>RoBERTa Compound Sentiment Score=%{marker.color}<extra></extra>",
         "lat": [
          49.89476,
          53.55325,
          51.8999,
          42.09176,
          52.37,
          52.03691,
          22.31602,
          35.72455,
          32.75041,
          35.93281,
          36.73225,
          34.66843,
          54.3996,
          -3.75,
          29.65957,
          42.27756,
          51.22047,
          40.00037,
          40.78118,
          34.5003,
          33.41728,
          32.73569,
          49.97704,
          46.09302,
          38.43846,
          52.30829,
          29.84064,
          40.79892,
          41.07078,
          41.4036,
          33.47097,
          38.16452,
          65,
          49.21667,
          40.19949,
          39.29038,
          39.36887,
          43.55957,
          11.33,
          39.00952,
          17.95,
          45.83222,
          30.28774,
          36.75428,
          35.30283,
          39.95443,
          38.26492,
          40.15424,
          43.98913,
          43.60294,
          42.35843,
          40.01499,
          35.97859,
          13.07233,
          33.77513,
          34.94731,
          38.43528,
          41.53509,
          42.88645,
          53.15039,
          29.81703,
          30.90684,
          38.43944,
          33.94316,
          40.70228,
          34.392,
          20.38583,
          19.63333,
          38.43861,
          51.51596,
          41.93502,
          -21.68333,
          40.80944,
          38.34982,
          38.02931,
          36.81904,
          36.86094,
          36.24564,
          41.85003,
          41.97959,
          38.44957,
          37.41375,
          38.14931,
          38.06847,
          41.4995,
          40.06951,
          19.71667,
          39.00027,
          53.54239,
          14.6969,
          38.91036,
          36.01361,
          41.66704,
          42.37259,
          34.7887,
          42.02561,
          40.60297,
          40.113,
          -23.39013,
          45.56659,
          42.8995,
          32.78306,
          39.75895,
          45.05741,
          36.68995,
          40.14312,
          39.00039,
          5.5,
          42.06622,
          42.33143,
          50.7512,
          38.91706,
          39.06393,
          40.35063,
          46.34772,
          41.38877,
          56.46667,
          41.34397,
          40.82657,
          38.42929,
          0,
          43.68556,
          39.13839,
          38.90611,
          35.60044,
          40.75266,
          40.60897,
          51.13067,
          55.95206,
          47.5746,
          19.43187,
          54.78604,
          42.79748,
          39.26733,
          -35.30653,
          32.07668,
          -41.07363,
          53.47231,
          50.49812,
          38.94541,
          -34.79668,
          20.33333,
          19.36667,
          48.69096,
          38.84622,
          51.5,
          -10,
          38.74422,
          47.08922,
          60.35746,
          38.09902,
          43.77925,
          28.75054,
          38.9015,
          -33.38436,
          40.12365,
          28.0492,
          35.44535,
          39.91481,
          49.01688,
          41.51926,
          50.99474,
          33.15067,
          38.9175,
          40.51587,
          38.43667,
          26.59493,
          31.50161,
          42.95279,
          32.75042,
          53.83345,
          38.93206,
          55.9033,
          38.4379,
          42.25953,
          42.51269,
          36.8543,
          38.44167,
          38.43417,
          26.54233,
          -0.36667,
          40.43368,
          44.9688,
          44.9687,
          40.99729,
          39.46054,
          36.32571,
          36.97515,
          40.2737,
          45.60009,
          32.54813,
          38.82944,
          36.19623,
          40.63814,
          38.44957,
          41.76371,
          38.91567,
          38.44096,
          41.64577,
          40.69601,
          41.40222,
          39.25072,
          33.75057,
          19.12301,
          36.40217,
          31,
          30.02716,
          53.07468,
          58.39964,
          41.27517,
          -19.15,
          40.6462,
          34.7865,
          38.43667,
          40.00032,
          40.00032,
          39.76838,
          41.36843,
          32.88224,
          33,
          42.83333,
          55.75088,
          35.61452,
          38.82861,
          39.95951,
          32.75,
          24.97199,
          39.10414,
          45.52151,
          38.99693,
          31.76904,
          46.79711,
          46.8434,
          38.04583,
          39.75843,
          43.03835,
          31.58333,
          29.97044,
          60.25174,
          38.43861,
          49.21667,
          29.7744,
          40.73722,
          40.82139,
          67.78147,
          32.83743,
          35.96064,
          60.18572,
          35.25,
          21.23831,
          35.16675,
          36.03286,
          45.64856,
          41.58204,
          9.51604,
          36.17497,
          34.0314,
          53.17194,
          36.70545,
          38.43333,
          39.11566,
          37.98869,
          14.62631,
          40.38845,
          42.36514,
          51.50853,
          34.43027,
          39.11927,
          34.05223,
          31.00047,
          38.52345,
          38.66909,
          35.28314,
          37.45669,
          43.07305,
          40.25285,
          41.53588,
          41.99305,
          46.54354,
          -19.51667,
          39.00039,
          39.02205,
          39.02175,
          43.95625,
          14.60967,
          39.72148,
          42.36565,
          38.40957,
          35.61694,
          38.4379,
          35.33549,
          2.25,
          29.77303,
          39.97928,
          35.14953,
          25.77427,
          44.25029,
          35.8,
          42.65982,
          30.47318,
          42.40926,
          38.25031,
          43.18496,
          39.13638,
          45.50884,
          38.18675,
          29.67912,
          37.97622,
          45.72484,
          8.63944,
          8.95506,
          37.98591,
          44.00833,
          38.87255,
          41.50028,
          33.44039,
          43.66702,
          40.16706,
          34.50034,
          35.68237,
          43.00035,
          40.71427,
          -42,
          32.00344,
          45.96442,
          33.73559,
          35.50069,
          39.96305,
          38.91261,
          59.9166,
          38.73074,
          65.65053,
          37.80437,
          37.48771,
          -18.31281,
          35.49209,
          41.24005,
          6.15521,
          -27.68543,
          44.00013,
          36.91672,
          31.92157,
          8.9936,
          43.69972,
          30.36687,
          40.8,
          35,
          27,
          28.80165,
          40.31011,
          21.40537,
          39.95238,
          39.95233,
          44.95495,
          52.5433,
          32.77263,
          39.61678,
          47.11447,
          39.52067,
          -32.74561,
          50.15122,
          48.90279,
          45.52345,
          40.15285,
          39.25603,
          40.57361,
          52,
          -33.9624,
          40.77078,
          32.93844,
          35.1792,
          52.44889,
          59,
          46,
          22,
          33,
          35.91667,
          37.55376,
          39.46287,
          -5.75,
          37.27097,
          37.20907,
          31.54798,
          42.98454,
          38.42611,
          41.89193,
          39.55955,
          38.4375,
          40.47017,
          31.63571,
          41.15194,
          48.27399,
          52.48292,
          40.96882,
          37.27452,
          32.25,
          38.98345,
          36.78775,
          37.77493,
          33.72281,
          35.68698,
          43.45444,
          38.85839,
          38.48346,
          38.43361,
          55.01565,
          45.87866,
          45.36327,
          -3.39521,
          37.06291,
          51.47459,
          33.45876,
          43.07367,
          41.50398,
          34.00043,
          39.6263,
          29.67286,
          42.64609,
          42.51121,
          53.65223,
          38.88067,
          40.63439,
          43.08304,
          38.88122,
          19.70273,
          45.90011,
          38.70265,
          34.93706,
          14.61703,
          41.62758,
          43.58336,
          40.5751,
          31.5,
          38.14991,
          37.49524,
          38.35263,
          44.62675,
          46.26052,
          59.96667,
          43.08126,
          26.07205,
          33.92044,
          31.11233,
          26.0908,
          60.27996,
          64,
          59.43696,
          17.25044,
          39.98784,
          35.27766,
          -29.03333,
          31.25044,
          42.14482,
          51.52757,
          18.44322,
          41.29093,
          38.85927,
          42.40926,
          40.73889,
          37.39737,
          51.5474,
          43.70643,
          36.15398,
          33.20984,
          55.25,
          40.6976,
          54.75844,
          39.76,
          38.88983,
          30.28496,
          27.39044,
          42.5126,
          30.69588,
          56.99081,
          40.66732,
          44.33295,
          26.13082,
          38.43722,
          44.00034,
          40.7826,
          51.42727,
          37.54812,
          37.24522,
          -18,
          48.05171,
          32.82116,
          38.0693,
          48.05562,
          32.77735,
          35.67868,
          43.35167,
          52.22977,
          47.50012,
          39.18677,
          48.01682,
          43.45694,
          -33.40057,
          52.36889,
          43.97367,
          42.77268,
          34.67943,
          43.89913,
          41.99926,
          42.56676,
          38.50038,
          46.8687,
          38.48207,
          32.78791,
          38.28846,
          36.74053,
          37.2707,
          42.27807,
          41.81204,
          36.15486,
          42.13093,
          42.77342,
          44.50024,
          43.00024,
          40.22096,
          10.24212,
          16.81372,
          27.4813
         ],
         "legendgroup": "",
         "lon": [
          -97.13848,
          9.96323,
          4.9831,
          -72.5787,
          4.89,
          5.73392,
          113.93663,
          35.9226,
          -86.75026,
          -103.87136,
          3.08746,
          -88.4431,
          24.1252,
          -64.5,
          -82.41514,
          -83.74088,
          4.40026,
          -78,
          -78.85253,
          -111.50098,
          -111.9355,
          -97.10807,
          9.15214,
          -95.81755,
          -78.8753,
          -1.16219,
          89.29688,
          -73.96856,
          -111.94577,
          -95.01388,
          -81.97484,
          -79.13383,
          -15,
          -2.11667,
          -85.41247,
          -76.61219,
          -107.03282,
          -86.26093,
          36.42,
          -83.12379,
          -76.61667,
          -106.60669,
          -81.73538,
          -81.8204,
          -102.15131,
          -105.97863,
          -78.55509,
          -79.21142,
          -115.73024,
          -116.19845,
          -71.05977,
          -105.27055,
          -114.83249,
          80.18814,
          -82.8107,
          -87.15585,
          -78.87278,
          -73.36623,
          -78.87837,
          8.71398,
          -95.39016,
          -100.40259,
          -78.87222,
          -84.57827,
          -80.66646,
          -103.32071,
          -72.33398,
          -71.9,
          -78.87167,
          -0.30474,
          -91.00182,
          16.16667,
          -73.96278,
          -81.63262,
          -78.47668,
          -76.27494,
          -82.39126,
          -83.90214,
          -87.65005,
          -87.90446,
          -78.86892,
          -79.14225,
          -79.05963,
          -78.88947,
          -81.69541,
          -82.52321,
          -72.15,
          -105.50083,
          -6.80159,
          121.08006,
          -78.47784,
          14.32056,
          -72.66648,
          -72.5187,
          -83.92408,
          -123.14391,
          -117.04649,
          -75.1295,
          16.16011,
          -113.12199,
          -78.68447,
          -96.80667,
          -84.19161,
          -123.34914,
          -119.04872,
          -83.1213,
          -75.49992,
          6,
          48.28759,
          -83.04575,
          -3.81027,
          -77.00025,
          -87.89086,
          -79.88616,
          -87.15792,
          -70.69877,
          -2.91667,
          -75.73853,
          -77.98841,
          -75.96327,
          0,
          -85.47556,
          -84.50494,
          -77.06972,
          -77.36441,
          -74.23611,
          -77.23804,
          -2.99651,
          -3.19648,
          8.5301,
          -99.03882,
          24.66113,
          -95.36834,
          -76.79831,
          149.11623,
          34.76675,
          145.92585,
          9.13028,
          -99.91223,
          66.58819,
          -58.35914,
          -103.66667,
          -99.66667,
          9.14062,
          -77.30637,
          10.5,
          -55,
          -90.30539,
          7.13563,
          149.08089,
          -78.96919,
          11.24626,
          -82.5001,
          -77.0622,
          148.0076,
          -85.69664,
          -82.4568,
          -84.6191,
          -77.90472,
          -80.74975,
          -72.05702,
          -0.57398,
          -96.82361,
          -77.08972,
          -88.38172,
          -78.86778,
          83.66786,
          34.46672,
          -88.35898,
          -83.50018,
          -113.33531,
          -76.99942,
          -2.74592,
          -78.87586,
          -73.22094,
          -114.57476,
          -82.7584,
          -78.87528,
          -78.87611,
          -81.78705,
          -78.43333,
          -79.80199,
          -93.2741,
          -93.2746,
          -77.27803,
          -105.73584,
          -76.95274,
          -76.34967,
          -76.88442,
          -80.4164,
          -94.37149,
          -77.3025,
          -82.10401,
          -79.7165,
          -78.86892,
          -72.68509,
          -77.07887,
          -78.89919,
          -111.90967,
          -74.22866,
          -92.9202,
          -76.93119,
          -117.86839,
          98.16055,
          -119.80903,
          112.25,
          -95.08576,
          6.62937,
          -124.81976,
          -120.83052,
          29.8,
          -76.42468,
          -86.94199,
          -78.86694,
          -89.25037,
          -86.25027,
          -86.15804,
          -72.11563,
          70.91677,
          66,
          12.83333,
          37.61824,
          -88.81395,
          -77.30139,
          -82.41293,
          74.83333,
          86.25534,
          -84.51177,
          -122.67398,
          -85.62806,
          35.21633,
          130.31118,
          130.465,
          -78.50722,
          -77.75499,
          -87.92703,
          35,
          -90.12436,
          24.88111,
          -78.87278,
          -122.93333,
          -95.1447,
          -73.81528,
          -73.59389,
          25.07689,
          -97.29183,
          -83.92074,
          25.00516,
          135.43333,
          -86.86751,
          -86.6,
          -114.72602,
          -95.39511,
          -71.91424,
          -72.66671,
          -115.13722,
          -117.98951,
          -7.38056,
          -83.12853,
          -78.85972,
          -77.5636,
          -84.47772,
          121.1333,
          -83.76587,
          -71.01777,
          -0.12574,
          -119.29317,
          -77.87611,
          -118.24368,
          -92.0004,
          -75.40631,
          -78.50195,
          -86.37416,
          -98.83037,
          -89.40123,
          -79.67976,
          -86.09834,
          -70.72949,
          -87.39542,
          30,
          -76.74997,
          -77.12748,
          -82.02903,
          -86.42258,
          121.12267,
          -77.75416,
          -71.10832,
          -78.7378,
          -87.07701,
          -78.87364,
          25.13111,
          102.25,
          -95.58442,
          -75.20962,
          -90.04898,
          -80.19366,
          -85.50033,
          -86.5,
          -93.93863,
          -83.40015,
          -71.12116,
          -92.50046,
          -108.26621,
          -77.20424,
          -73.58781,
          -83.43324,
          -94.98354,
          -81.28177,
          -122.43371,
          46.61194,
          5.23775,
          -1.13947,
          -78.965,
          -77.00773,
          -99.75067,
          -84.11183,
          -71.4998,
          -74.49987,
          -106.00085,
          -105.93959,
          -75.4999,
          -74.00597,
          174,
          -106.32304,
          -90.15745,
          -113.53132,
          -80.00032,
          -101.43016,
          -76.97581,
          30.25,
          -77.71193,
          12.65206,
          -122.2708,
          -117.91565,
          138.51562,
          -97.50328,
          -83.14992,
          6.81071,
          28.65653,
          -120.50139,
          -92.01682,
          35.20329,
          -79.51973,
          -88.08954,
          -95.03215,
          -77.7,
          105,
          51,
          -96.21802,
          -75.106,
          74.63682,
          -75.16362,
          -75.16351,
          -93.25706,
          13.4278,
          -98.16199,
          -75.22907,
          7.26018,
          -74.48571,
          137.74864,
          1.74853,
          6.16131,
          -122.67621,
          -80.52924,
          -76.70665,
          -96.70308,
          5.83333,
          151.2262,
          -111.75827,
          35.3675,
          -80.8843,
          9.74,
          26,
          2,
          79,
          44,
          14.43333,
          -77.46026,
          -78.31251,
          -36.5,
          -79.94143,
          -80.05085,
          -82.41652,
          -71.08897,
          -78.87667,
          12.51133,
          -77.13359,
          -78.87472,
          -120.81135,
          -86.74331,
          -73.74806,
          -121.85264,
          -2.04376,
          -5.66388,
          -80.01989,
          35.16667,
          -76.48663,
          40.55504,
          -122.41942,
          -117.90019,
          -105.9378,
          -76.53611,
          -78.5706,
          -78.84975,
          -78.87278,
          82.96276,
          -82.89124,
          -75.72732,
          143.27804,
          -79.76603,
          -0.15479,
          -90.15081,
          -78.33558,
          -73.97708,
          -81.00009,
          -79.9589,
          -95.41806,
          -92.46296,
          -70.89255,
          -114.66024,
          -76.98998,
          -111.8716,
          -96.16252,
          -77.01637,
          -79.81588,
          -76.91614,
          -79.58826,
          -82.22511,
          121.12842,
          -75.83519,
          1.43406,
          -74.83767,
          34.75,
          -79.0732,
          -114.58889,
          -79.14892,
          -79.42263,
          -94.77974,
          15.85,
          25.6447,
          -80.23203,
          -80.34147,
          -83.68656,
          -97.1652,
          25.01759,
          -19,
          24.75353,
          77.58504,
          -82.84295,
          -102.35403,
          167.95,
          -99.25061,
          -72.6112,
          -0.12059,
          -64.53476,
          -72.52898,
          -77.26921,
          -71.12172,
          -74.00889,
          25.26775,
          -3.5952,
          -79.39864,
          -95.99277,
          -87.56917,
          24.75,
          -74.2632,
          -2.69531,
          -98.5,
          -77.00887,
          -81.60259,
          -82.46883,
          -92.45964,
          -88.17691,
          52.18517,
          -75.03212,
          -115.77734,
          -98.24734,
          -78.87444,
          -72.74983,
          -74.0107,
          -0.23147,
          -77.44675,
          -79.97176,
          178,
          19.8199,
          -116.93114,
          -78.47307,
          -122.11265,
          -97.73559,
          -85.7785,
          -73.65528,
          21.01178,
          -120.50147,
          -77.60999,
          -83.81652,
          -88.82816,
          18.42029,
          -2.8496,
          -75.90437,
          -116.9579,
          -82.8396,
          -91.08125,
          -72.74509,
          -71.112,
          -80.50009,
          -123.94767,
          -78.02055,
          -96.63722,
          -78.91308,
          3.00957,
          -76.70746,
          -89.94985,
          -72.65731,
          -86.29763,
          -72.79315,
          -72.38314,
          -90.00041,
          -107.5009,
          44.55532,
          105.155,
          53.50495,
          83.52467
         ],
         "marker": {
          "color": {
           "bdata": "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",
           "dtype": "f4"
          },
          "coloraxis": "coloraxis",
          "size": {
           "bdata": "AQABAAEAAQADAAEAAgABAAEAAQADAAEAAgABAAEAAQABAAEAAQABAAUAAwABAAMAAwADAAMABAADAAEAAgADAAMAFQACAAMAEwABAAEAAgABAAIAAQABAAEAAQABAAUAAQABAAEAAgABAAEAAwABAAYACQABAAIAAQABAAEABAABAAEAAQACAAYAAgABAAoABgADAAoAAgABAAcAAwABAL4AAQABAAMAAQABAAEAAgABAAIAAwABAAIAAQACAAMAAwADAAEAAQAQAAIABQACAAEAAQABAAEAAQABAAcAEgABAAEAAQACAAEAAQABAAkAAQABAAEAEgACAAEAAQABAAEAAwABAAEAAQABAAIAAQABAAIAAQABAAEAAQABAAIAAgABAAEAAQABAAEAAQACABsAAgABAAEAAQABAAEAAQABAAQAAQACAAIAAgABAAEAAQABAAEAAwADAAEAAQAJAAUABAACAAEAAQAPAAkAAQACAAIAAgABAAEAAgAIAAUAAQAFAGAAAQABAAEAAQAKAAEAAQABAAEAAgABAAEAAQABAAIAAQAHAAEAAgAEAAIAAQABAAEAAQADAAEAAwAEAAIAAgABAAEAAQAFAAEAKAADAAEAAQABAAEAAQADAAQAAQACAAEAAQACAAEAAQABAAEAAQABAAEAAwACAAEAAQABAAEAAQACAAIABQABAAEAAQABAAIAAQABAAEAAQABAAYAAQAHAAQABAABAAEAAQAEAAIAAgABAAEAAQABAAIAAQACAAMAAQAFAAEAAQABAAEAAgABAAIABAABAAMAAQABAAEAAQABAAEAAQABAAEAAQABAAIAAQACABcAAwABAAsABwAGAAIACwABAAcABAABAAEAAQAOAAEAAQABAAIAAQABAAEAAQABAAEAAQABAAEABwACAAEABgACAAIAAwABAAEAAQABAAYAAgADAAEAAQABAAIABAAGAAEAAQABAA4AAgACAAEAAQABAAEAAQACABAAAQACAAMAAgADAA0AAQABAAEAAgABAAMAAQABAAEAAQABAAEAAgABAAIAAgABAAEAAwABAAgAAQABAAoAAQABAAEAAQABAAEAAgABAAMAAQABAAIAAQAVAAEAAQABAAMAAQAEAAEAAQABAAIAAwABAAEAAQABAAEAAwABAAEABAABAAEAAQABAAEAAgABAAYAAQAEAAEAAQABAAEAAQABAAIAAQACAAIAAQACAAYAAQADAEkAAQABAAEAAQADAAEAAgABAAUAAQAEAAEADQCZAAEAAQABAAIAAQADAAIAAQABAAEAAwABAAUAAQABAAEAAQABAAIAAQABAAIABwABAAEAAQACAAEAAQABAAEAAgAKAAEAAwABAAEAAQABAAUA",
           "dtype": "i2"
          },
          "sizemode": "area",
          "sizeref": 0.475
         },
         "mode": "markers",
         "name": "",
         "showlegend": false,
         "subplot": "map",
         "type": "scattermap"
        }
       ],
       "layout": {
        "coloraxis": {
         "colorbar": {
          "title": {
           "text": "RoBERTa Compound Sentiment Score"
          }
         },
         "colorscale": [
          [
           0,
           "#000000"
          ],
          [
           0.0625,
           "#001f4d"
          ],
          [
           0.125,
           "#003786"
          ],
          [
           0.1875,
           "#0e58a8"
          ],
          [
           0.25,
           "#217eb8"
          ],
          [
           0.3125,
           "#30a4ca"
          ],
          [
           0.375,
           "#54c8df"
          ],
          [
           0.4375,
           "#9be4ef"
          ],
          [
           0.5,
           "#e1e9d1"
          ],
          [
           0.5625,
           "#f3d573"
          ],
          [
           0.625,
           "#e7b000"
          ],
          [
           0.6875,
           "#da8200"
          ],
          [
           0.75,
           "#c65400"
          ],
          [
           0.8125,
           "#ac2301"
          ],
          [
           0.875,
           "#820000"
          ],
          [
           0.9375,
           "#4c0000"
          ],
          [
           1,
           "#000000"
          ]
         ]
        },
        "legend": {
         "itemsizing": "constant",
         "tracegroupgap": 0
        },
        "map": {
         "center": {
          "lat": 37.5246322,
          "lon": -77.5758331
         },
         "domain": {
          "x": [
           0,
           1
          ],
          "y": [
           0,
           1
          ]
         },
         "zoom": 4
        },
        "mapbox": {
         "center": {
          "lat": 37.5246322,
          "lon": -77.5758331
         },
         "style": "open-streetmap",
         "zoom": 4
        },
        "margin": {
         "b": 0,
         "l": 0,
         "r": 0,
         "t": 0
        },
        "template": {
         "data": {
          "bar": [
           {
            "error_x": {
             "color": "#2a3f5f"
            },
            "error_y": {
             "color": "#2a3f5f"
            },
            "marker": {
             "line": {
              "color": "#E5ECF6",
              "width": 0.5
             },
             "pattern": {
              "fillmode": "overlay",
              "size": 10,
              "solidity": 0.2
             }
            },
            "type": "bar"
           }
          ],
          "barpolar": [
           {
            "marker": {
             "line": {
              "color": "#E5ECF6",
              "width": 0.5
             },
             "pattern": {
              "fillmode": "overlay",
              "size": 10,
              "solidity": 0.2
             }
            },
            "type": "barpolar"
           }
          ],
          "carpet": [
           {
            "aaxis": {
             "endlinecolor": "#2a3f5f",
             "gridcolor": "white",
             "linecolor": "white",
             "minorgridcolor": "white",
             "startlinecolor": "#2a3f5f"
            },
            "baxis": {
             "endlinecolor": "#2a3f5f",
             "gridcolor": "white",
             "linecolor": "white",
             "minorgridcolor": "white",
             "startlinecolor": "#2a3f5f"
            },
            "type": "carpet"
           }
          ],
          "choropleth": [
           {
            "colorbar": {
             "outlinewidth": 0,
             "ticks": ""
            },
            "type": "choropleth"
           }
          ],
          "contour": [
           {
            "colorbar": {
             "outlinewidth": 0,
             "ticks": ""
            },
            "colorscale": [
             [
              0,
              "#0d0887"
             ],
             [
              0.1111111111111111,
              "#46039f"
             ],
             [
              0.2222222222222222,
              "#7201a8"
             ],
             [
              0.3333333333333333,
              "#9c179e"
             ],
             [
              0.4444444444444444,
              "#bd3786"
             ],
             [
              0.5555555555555556,
              "#d8576b"
             ],
             [
              0.6666666666666666,
              "#ed7953"
             ],
             [
              0.7777777777777778,
              "#fb9f3a"
             ],
             [
              0.8888888888888888,
              "#fdca26"
             ],
             [
              1,
              "#f0f921"
             ]
            ],
            "type": "contour"
           }
          ],
          "contourcarpet": [
           {
            "colorbar": {
             "outlinewidth": 0,
             "ticks": ""
            },
            "type": "contourcarpet"
           }
          ],
          "heatmap": [
           {
            "colorbar": {
             "outlinewidth": 0,
             "ticks": ""
            },
            "colorscale": [
             [
              0,
              "#0d0887"
             ],
             [
              0.1111111111111111,
              "#46039f"
             ],
             [
              0.2222222222222222,
              "#7201a8"
             ],
             [
              0.3333333333333333,
              "#9c179e"
             ],
             [
              0.4444444444444444,
              "#bd3786"
             ],
             [
              0.5555555555555556,
              "#d8576b"
             ],
             [
              0.6666666666666666,
              "#ed7953"
             ],
             [
              0.7777777777777778,
              "#fb9f3a"
             ],
             [
              0.8888888888888888,
              "#fdca26"
             ],
             [
              1,
              "#f0f921"
             ]
            ],
            "type": "heatmap"
           }
          ],
          "histogram": [
           {
            "marker": {
             "pattern": {
              "fillmode": "overlay",
              "size": 10,
              "solidity": 0.2
             }
            },
            "type": "histogram"
           }
          ],
          "histogram2d": [
           {
            "colorbar": {
             "outlinewidth": 0,
             "ticks": ""
            },
            "colorscale": [
             [
              0,
              "#0d0887"
             ],
             [
              0.1111111111111111,
              "#46039f"
             ],
             [
              0.2222222222222222,
              "#7201a8"
             ],
             [
              0.3333333333333333,
              "#9c179e"
             ],
             [
              0.4444444444444444,
              "#bd3786"
             ],
             [
              0.5555555555555556,
              "#d8576b"
             ],
             [
              0.6666666666666666,
              "#ed7953"
             ],
             [
              0.7777777777777778,
              "#fb9f3a"
             ],
             [
              0.8888888888888888,
              "#fdca26"
             ],
             [
              1,
              "#f0f921"
             ]
            ],
            "type": "histogram2d"
           }
          ],
          "histogram2dcontour": [
           {
            "colorbar": {
             "outlinewidth": 0,
             "ticks": ""
            },
            "colorscale": [
             [
              0,
              "#0d0887"
             ],
             [
              0.1111111111111111,
              "#46039f"
             ],
             [
              0.2222222222222222,
              "#7201a8"
             ],
             [
              0.3333333333333333,
              "#9c179e"
             ],
             [
              0.4444444444444444,
              "#bd3786"
             ],
             [
              0.5555555555555556,
              "#d8576b"
             ],
             [
              0.6666666666666666,
              "#ed7953"
             ],
             [
              0.7777777777777778,
              "#fb9f3a"
             ],
             [
              0.8888888888888888,
              "#fdca26"
             ],
             [
              1,
              "#f0f921"
             ]
            ],
            "type": "histogram2dcontour"
           }
          ],
          "mesh3d": [
           {
            "colorbar": {
             "outlinewidth": 0,
             "ticks": ""
            },
            "type": "mesh3d"
           }
          ],
          "parcoords": [
           {
            "line": {
             "colorbar": {
              "outlinewidth": 0,
              "ticks": ""
             }
            },
            "type": "parcoords"
           }
          ],
          "pie": [
           {
            "automargin": true,
            "type": "pie"
           }
          ],
          "scatter": [
           {
            "fillpattern": {
             "fillmode": "overlay",
             "size": 10,
             "solidity": 0.2
            },
            "type": "scatter"
           }
          ],
          "scatter3d": [
           {
            "line": {
             "colorbar": {
              "outlinewidth": 0,
              "ticks": ""
             }
            },
            "marker": {
             "colorbar": {
              "outlinewidth": 0,
              "ticks": ""
             }
            },
            "type": "scatter3d"
           }
          ],
          "scattercarpet": [
           {
            "marker": {
             "colorbar": {
              "outlinewidth": 0,
              "ticks": ""
             }
            },
            "type": "scattercarpet"
           }
          ],
          "scattergeo": [
           {
            "marker": {
             "colorbar": {
              "outlinewidth": 0,
              "ticks": ""
             }
            },
            "type": "scattergeo"
           }
          ],
          "scattergl": [
           {
            "marker": {
             "colorbar": {
              "outlinewidth": 0,
              "ticks": ""
             }
            },
            "type": "scattergl"
           }
          ],
          "scattermap": [
           {
            "marker": {
             "colorbar": {
              "outlinewidth": 0,
              "ticks": ""
             }
            },
            "type": "scattermap"
           }
          ],
          "scattermapbox": [
           {
            "marker": {
             "colorbar": {
              "outlinewidth": 0,
              "ticks": ""
             }
            },
            "type": "scattermapbox"
           }
          ],
          "scatterpolar": [
           {
            "marker": {
             "colorbar": {
              "outlinewidth": 0,
              "ticks": ""
             }
            },
            "type": "scatterpolar"
           }
          ],
          "scatterpolargl": [
           {
            "marker": {
             "colorbar": {
              "outlinewidth": 0,
              "ticks": ""
             }
            },
            "type": "scatterpolargl"
           }
          ],
          "scatterternary": [
           {
            "marker": {
             "colorbar": {
              "outlinewidth": 0,
              "ticks": ""
             }
            },
            "type": "scatterternary"
           }
          ],
          "surface": [
           {
            "colorbar": {
             "outlinewidth": 0,
             "ticks": ""
            },
            "colorscale": [
             [
              0,
              "#0d0887"
             ],
             [
              0.1111111111111111,
              "#46039f"
             ],
             [
              0.2222222222222222,
              "#7201a8"
             ],
             [
              0.3333333333333333,
              "#9c179e"
             ],
             [
              0.4444444444444444,
              "#bd3786"
             ],
             [
              0.5555555555555556,
              "#d8576b"
             ],
             [
              0.6666666666666666,
              "#ed7953"
             ],
             [
              0.7777777777777778,
              "#fb9f3a"
             ],
             [
              0.8888888888888888,
              "#fdca26"
             ],
             [
              1,
              "#f0f921"
             ]
            ],
            "type": "surface"
           }
          ],
          "table": [
           {
            "cells": {
             "fill": {
              "color": "#EBF0F8"
             },
             "line": {
              "color": "white"
             }
            },
            "header": {
             "fill": {
              "color": "#C8D4E3"
             },
             "line": {
              "color": "white"
             }
            },
            "type": "table"
           }
          ]
         },
         "layout": {
          "annotationdefaults": {
           "arrowcolor": "#2a3f5f",
           "arrowhead": 0,
           "arrowwidth": 1
          },
          "autotypenumbers": "strict",
          "coloraxis": {
           "colorbar": {
            "outlinewidth": 0,
            "ticks": ""
           }
          },
          "colorscale": {
           "diverging": [
            [
             0,
             "#8e0152"
            ],
            [
             0.1,
             "#c51b7d"
            ],
            [
             0.2,
             "#de77ae"
            ],
            [
             0.3,
             "#f1b6da"
            ],
            [
             0.4,
             "#fde0ef"
            ],
            [
             0.5,
             "#f7f7f7"
            ],
            [
             0.6,
             "#e6f5d0"
            ],
            [
             0.7,
             "#b8e186"
            ],
            [
             0.8,
             "#7fbc41"
            ],
            [
             0.9,
             "#4d9221"
            ],
            [
             1,
             "#276419"
            ]
           ],
           "sequential": [
            [
             0,
             "#0d0887"
            ],
            [
             0.1111111111111111,
             "#46039f"
            ],
            [
             0.2222222222222222,
             "#7201a8"
            ],
            [
             0.3333333333333333,
             "#9c179e"
            ],
            [
             0.4444444444444444,
             "#bd3786"
            ],
            [
             0.5555555555555556,
             "#d8576b"
            ],
            [
             0.6666666666666666,
             "#ed7953"
            ],
            [
             0.7777777777777778,
             "#fb9f3a"
            ],
            [
             0.8888888888888888,
             "#fdca26"
            ],
            [
             1,
             "#f0f921"
            ]
           ],
           "sequentialminus": [
            [
             0,
             "#0d0887"
            ],
            [
             0.1111111111111111,
             "#46039f"
            ],
            [
             0.2222222222222222,
             "#7201a8"
            ],
            [
             0.3333333333333333,
             "#9c179e"
            ],
            [
             0.4444444444444444,
             "#bd3786"
            ],
            [
             0.5555555555555556,
             "#d8576b"
            ],
            [
             0.6666666666666666,
             "#ed7953"
            ],
            [
             0.7777777777777778,
             "#fb9f3a"
            ],
            [
             0.8888888888888888,
             "#fdca26"
            ],
            [
             1,
             "#f0f921"
            ]
           ]
          },
          "colorway": [
           "#636efa",
           "#EF553B",
           "#00cc96",
           "#ab63fa",
           "#FFA15A",
           "#19d3f3",
           "#FF6692",
           "#B6E880",
           "#FF97FF",
           "#FECB52"
          ],
          "font": {
           "color": "#2a3f5f"
          },
          "geo": {
           "bgcolor": "white",
           "lakecolor": "white",
           "landcolor": "#E5ECF6",
           "showlakes": true,
           "showland": true,
           "subunitcolor": "white"
          },
          "hoverlabel": {
           "align": "left"
          },
          "hovermode": "closest",
          "mapbox": {
           "style": "light"
          },
          "paper_bgcolor": "white",
          "plot_bgcolor": "#E5ECF6",
          "polar": {
           "angularaxis": {
            "gridcolor": "white",
            "linecolor": "white",
            "ticks": ""
           },
           "bgcolor": "#E5ECF6",
           "radialaxis": {
            "gridcolor": "white",
            "linecolor": "white",
            "ticks": ""
           }
          },
          "scene": {
           "xaxis": {
            "backgroundcolor": "#E5ECF6",
            "gridcolor": "white",
            "gridwidth": 2,
            "linecolor": "white",
            "showbackground": true,
            "ticks": "",
            "zerolinecolor": "white"
           },
           "yaxis": {
            "backgroundcolor": "#E5ECF6",
            "gridcolor": "white",
            "gridwidth": 2,
            "linecolor": "white",
            "showbackground": true,
            "ticks": "",
            "zerolinecolor": "white"
           },
           "zaxis": {
            "backgroundcolor": "#E5ECF6",
            "gridcolor": "white",
            "gridwidth": 2,
            "linecolor": "white",
            "showbackground": true,
            "ticks": "",
            "zerolinecolor": "white"
           }
          },
          "shapedefaults": {
           "line": {
            "color": "#2a3f5f"
           }
          },
          "ternary": {
           "aaxis": {
            "gridcolor": "white",
            "linecolor": "white",
            "ticks": ""
           },
           "baxis": {
            "gridcolor": "white",
            "linecolor": "white",
            "ticks": ""
           },
           "bgcolor": "#E5ECF6",
           "caxis": {
            "gridcolor": "white",
            "linecolor": "white",
            "ticks": ""
           }
          },
          "title": {
           "x": 0.05
          },
          "xaxis": {
           "automargin": true,
           "gridcolor": "white",
           "linecolor": "white",
           "ticks": "",
           "title": {
            "standoff": 15
           },
           "zerolinecolor": "white",
           "zerolinewidth": 2
          },
          "yaxis": {
           "automargin": true,
           "gridcolor": "white",
           "linecolor": "white",
           "ticks": "",
           "title": {
            "standoff": 15
           },
           "zerolinecolor": "white",
           "zerolinewidth": 2
          }
         }
        }
       }
      }
     },
     "metadata": {},
     "output_type": "display_data"
    }
   ],
   "source": [
    "# Create the map using plotly.express \n",
    "fig = px.scatter_map(\n",
    "    df_reddit_place_sentiments,  #put your dataframe here\n",
    "    lat=\"latitude\",               # Latitude column\n",
    "    lon=\"longitude\",              # Longitude column\n",
    "    size=\"location_count\",        # Bubble size based on location count\n",
    "    color=\"avg_roberta_compound\",      # Color based on sentiment score\n",
    "    color_continuous_scale=px.colors.cyclical.IceFire,  # Use IceFire scale (blue to red)\n",
    "    size_max=20,                  # Maximum size of the bubbles\n",
    "    labels={\n",
    "        'place': 'place',\n",
    "        'avg_roberta_compound': 'RoBERTa Compound Sentiment Score'\n",
    "    },\n",
    "    # Show sentences on hover\n",
    "    \n",
    "    \n",
    "    center={\"lat\": 37.5246322, \"lon\": -77.5758331},\n",
    "    zoom=4                        # Adjust zoom level for better visibility\n",
    ")\n",
    "\n",
    "# Update the layout to use the default map style (which doesn't need a token)\n",
    "fig.update_layout(\n",
    "    mapbox_style=\"open-streetmap\",  # No token needed for this style\n",
    "    margin={\"r\":0,\"t\":0,\"l\":0,\"b\":0}  # Remove margins for a cleaner view\n",
    ")\n",
    "\n",
    "\n",
    "\n",
    "fig.show()"
   ]
  },
  {
   "cell_type": "code",
   "execution_count": 63,
   "id": "28751957-e41f-4128-9d00-a1f28c23fbff",
   "metadata": {},
   "outputs": [
    {
     "name": "stderr",
     "output_type": "stream",
     "text": [
      "C:\\Users\\joost\\AppData\\Local\\Temp\\ipykernel_17540\\2251842596.py:2: DeprecationWarning:\n",
      "\n",
      "*scatter_mapbox* is deprecated! Use *scatter_map* instead. Learn more at: https://plotly.com/python/mapbox-to-maplibre/\n",
      "\n"
     ]
    },
    {
     "data": {
      "application/vnd.plotly.v1+json": {
       "config": {
        "plotlyServerURL": "https://plot.ly"
       },
       "data": [
        {
         "customdata": [
          [
           1,
           -0.18014267086982727,
           49.89476,
           -97.13848
          ],
          [
           1,
           0.008132955059409142,
           53.55325,
           9.96323
          ],
          [
           1,
           0.1453707367181778,
           51.8999,
           4.9831
          ],
          [
           1,
           -0.7656641602516174,
           42.09176,
           -72.5787
          ],
          [
           3,
           0.3354632556438446,
           52.37,
           4.89
          ],
          [
           1,
           0.015123305842280388,
           52.03691,
           5.73392
          ],
          [
           2,
           -0.3366294801235199,
           22.31602,
           113.93663
          ],
          [
           1,
           -0.012028190307319164,
           35.72455,
           35.9226
          ],
          [
           1,
           -0.288227379322052,
           32.75041,
           -86.75026
          ],
          [
           1,
           0.01838868297636509,
           35.93281,
           -103.87136
          ],
          [
           3,
           -0.14113326370716095,
           36.73225,
           3.08746
          ],
          [
           1,
           0.6882897019386292,
           34.66843,
           -88.4431
          ],
          [
           2,
           0.4310617446899414,
           54.3996,
           24.1252
          ],
          [
           1,
           -0.112502321600914,
           -3.75,
           -64.5
          ],
          [
           1,
           0.8639549016952515,
           29.65957,
           -82.41514
          ],
          [
           1,
           0.05714702233672142,
           42.27756,
           -83.74088
          ],
          [
           1,
           0.0007513525779359043,
           51.22047,
           4.40026
          ],
          [
           1,
           0.006974698044359684,
           40.00037,
           -78
          ],
          [
           1,
           0.9160588383674622,
           40.78118,
           -78.85253
          ],
          [
           1,
           -0.7143797278404236,
           34.5003,
           -111.50098
          ],
          [
           5,
           0.053109802305698395,
           33.41728,
           -111.9355
          ],
          [
           3,
           0.07908313721418381,
           32.73569,
           -97.10807
          ],
          [
           1,
           0.9761663675308228,
           49.97704,
           9.15214
          ],
          [
           3,
           0.1267450600862503,
           46.09302,
           -95.81755
          ],
          [
           3,
           0.020098408684134483,
           38.43846,
           -78.8753
          ],
          [
           3,
           -0.30692437291145325,
           52.30829,
           -1.16219
          ],
          [
           3,
           -0.24772334098815918,
           29.84064,
           89.29688
          ],
          [
           4,
           0.19060209393501282,
           40.79892,
           -73.96856
          ],
          [
           3,
           -0.20729880034923553,
           41.07078,
           -111.94577
          ],
          [
           1,
           -0.06547202169895172,
           41.4036,
           -95.01388
          ],
          [
           2,
           0.3358666002750397,
           33.47097,
           -81.97484
          ],
          [
           3,
           -0.3301607668399811,
           38.16452,
           -79.13383
          ],
          [
           3,
           -0.43492719531059265,
           65,
           -15
          ],
          [
           21,
           -0.22373272478580475,
           49.21667,
           -2.11667
          ],
          [
           2,
           0.12309259921312332,
           40.19949,
           -85.41247
          ],
          [
           3,
           -0.2787925601005554,
           39.29038,
           -76.61219
          ],
          [
           19,
           0.0340629518032074,
           39.36887,
           -107.03282
          ],
          [
           1,
           0.006481065880507231,
           43.55957,
           -86.26093
          ],
          [
           1,
           -0.03777759149670601,
           11.33,
           36.42
          ],
          [
           2,
           -0.3561655879020691,
           39.00952,
           -83.12379
          ],
          [
           1,
           -0.17435358464717865,
           17.95,
           -76.61667
          ],
          [
           2,
           -0.13103830814361572,
           45.83222,
           -106.60669
          ],
          [
           1,
           -0.0010455535957589746,
           30.28774,
           -81.73538
          ],
          [
           1,
           -0.5918896198272705,
           36.75428,
           -81.8204
          ],
          [
           1,
           0.03179983049631119,
           35.30283,
           -102.15131
          ],
          [
           1,
           0.007329539395868778,
           39.95443,
           -105.97863
          ],
          [
           1,
           0.0009843428852036595,
           38.26492,
           -78.55509
          ],
          [
           5,
           -0.17886683344841003,
           40.15424,
           -79.21142
          ],
          [
           1,
           0.2434048056602478,
           43.98913,
           -115.73024
          ],
          [
           1,
           -0.49155664443969727,
           43.60294,
           -116.19845
          ],
          [
           1,
           0.016013577580451965,
           42.35843,
           -71.05977
          ],
          [
           2,
           0.20841899514198303,
           40.01499,
           -105.27055
          ],
          [
           1,
           -0.022309638559818268,
           35.97859,
           -114.83249
          ],
          [
           1,
           -0.13711127638816833,
           13.07233,
           80.18814
          ],
          [
           3,
           -0.0762437954545021,
           33.77513,
           -82.8107
          ],
          [
           1,
           -0.038255080580711365,
           34.94731,
           -87.15585
          ],
          [
           6,
           -0.12303455919027328,
           38.43528,
           -78.87278
          ],
          [
           9,
           0.033873796463012695,
           41.53509,
           -73.36623
          ],
          [
           1,
           -0.1005861759185791,
           42.88645,
           -78.87837
          ],
          [
           2,
           0.03871896490454674,
           53.15039,
           8.71398
          ],
          [
           1,
           0.0053589534945786,
           29.81703,
           -95.39016
          ],
          [
           1,
           0.0016060846392065287,
           30.90684,
           -100.40259
          ],
          [
           1,
           -0.07830575853586197,
           38.43944,
           -78.87222
          ],
          [
           4,
           -0.2392238974571228,
           33.94316,
           -84.57827
          ],
          [
           1,
           0.6469813585281372,
           40.70228,
           -80.66646
          ],
          [
           1,
           0.16136914491653442,
           34.392,
           -103.32071
          ],
          [
           1,
           0.005147309973835945,
           20.38583,
           -72.33398
          ],
          [
           2,
           -0.508258044719696,
           19.63333,
           -71.9
          ],
          [
           6,
           0.1294679343700409,
           38.43861,
           -78.87167
          ],
          [
           2,
           0.12025044113397598,
           51.51596,
           -0.30474
          ],
          [
           1,
           0.008666541427373886,
           41.93502,
           -91.00182
          ],
          [
           10,
           -0.023151051253080368,
           -21.68333,
           16.16667
          ],
          [
           6,
           -0.013452835381031036,
           40.80944,
           -73.96278
          ],
          [
           3,
           0.07263181358575821,
           38.34982,
           -81.63262
          ],
          [
           10,
           -0.09544259309768677,
           38.02931,
           -78.47668
          ],
          [
           2,
           -0.011479550041258335,
           36.81904,
           -76.27494
          ],
          [
           1,
           -0.2902112603187561,
           36.86094,
           -82.39126
          ],
          [
           7,
           -0.12370017915964127,
           36.24564,
           -83.90214
          ],
          [
           3,
           0.048485081642866135,
           41.85003,
           -87.65005
          ],
          [
           1,
           0.00031385934562422335,
           41.97959,
           -87.90446
          ],
          [
           190,
           0.02012093923985958,
           38.44957,
           -78.86892
          ],
          [
           1,
           -0.02934027835726738,
           37.41375,
           -79.14225
          ],
          [
           1,
           -0.06815558671951294,
           38.14931,
           -79.05963
          ],
          [
           3,
           0.031142041087150574,
           38.06847,
           -78.88947
          ],
          [
           1,
           0.0018716946942731738,
           41.4995,
           -81.69541
          ],
          [
           1,
           0.30620861053466797,
           40.06951,
           -82.52321
          ],
          [
           1,
           0.04592828452587128,
           19.71667,
           -72.15
          ],
          [
           2,
           -0.14167776703834534,
           39.00027,
           -105.50083
          ],
          [
           1,
           -0.5247246623039246,
           53.54239,
           -6.80159
          ],
          [
           2,
           0.17465448379516602,
           14.6969,
           121.08006
          ],
          [
           3,
           0.008887446485459805,
           38.91036,
           -78.47784
          ],
          [
           1,
           0.04295278340578079,
           36.01361,
           14.32056
          ],
          [
           2,
           0.4813336133956909,
           41.66704,
           -72.66648
          ],
          [
           1,
           -0.032721247524023056,
           42.37259,
           -72.5187
          ],
          [
           2,
           -0.2446821630001068,
           34.7887,
           -83.92408
          ],
          [
           3,
           -0.1682664304971695,
           42.02561,
           -123.14391
          ],
          [
           3,
           -0.21974168717861176,
           40.60297,
           -117.04649
          ],
          [
           3,
           -0.07927685230970383,
           40.113,
           -75.1295
          ],
          [
           1,
           -0.7469439506530762,
           -23.39013,
           16.16011
          ],
          [
           1,
           0.3061791956424713,
           45.56659,
           -113.12199
          ],
          [
           16,
           -0.05021371319890022,
           42.8995,
           -78.68447
          ],
          [
           2,
           0.4861871898174286,
           32.78306,
           -96.80667
          ],
          [
           5,
           0.12424735724925995,
           39.75895,
           -84.19161
          ],
          [
           2,
           0.40619686245918274,
           45.05741,
           -123.34914
          ],
          [
           1,
           -0.00030104757752269506,
           36.68995,
           -119.04872
          ],
          [
           1,
           0.7847837209701538,
           40.14312,
           -83.1213
          ],
          [
           1,
           0.05612789839506149,
           39.00039,
           -75.49992
          ],
          [
           1,
           0.0006183195509947836,
           5.5,
           6
          ],
          [
           1,
           0.08995278179645538,
           42.06622,
           48.28759
          ],
          [
           1,
           -0.1561458259820938,
           42.33143,
           -83.04575
          ],
          [
           7,
           -0.27088770270347595,
           50.7512,
           -3.81027
          ],
          [
           18,
           0.05593601241707802,
           38.91706,
           -77.00025
          ],
          [
           1,
           -0.0015675327740609646,
           39.06393,
           -87.89086
          ],
          [
           1,
           -0.35418054461479187,
           40.35063,
           -79.88616
          ],
          [
           1,
           -0.8193165063858032,
           46.34772,
           -87.15792
          ],
          [
           2,
           0.3572303056716919,
           41.38877,
           -70.69877
          ],
          [
           1,
           0.6926736831665039,
           56.46667,
           -2.91667
          ],
          [
           1,
           0.6072497963905334,
           41.34397,
           -75.73853
          ],
          [
           1,
           0.003573999973013997,
           40.82657,
           -77.98841
          ],
          [
           9,
           -0.010621355846524239,
           38.42929,
           -75.96327
          ],
          [
           1,
           0.5610093474388123,
           0,
           0
          ],
          [
           1,
           -0.2138018161058426,
           43.68556,
           -85.47556
          ],
          [
           1,
           -0.025846444070339203,
           39.13839,
           -84.50494
          ],
          [
           18,
           -0.001975234365090728,
           38.90611,
           -77.06972
          ],
          [
           2,
           0.002549476223066449,
           35.60044,
           -77.36441
          ],
          [
           1,
           -0.0013803044566884637,
           40.75266,
           -74.23611
          ],
          [
           1,
           -0.009620390832424164,
           40.60897,
           -77.23804
          ],
          [
           1,
           -0.007854669354856014,
           51.13067,
           -2.99651
          ],
          [
           1,
           0.0007513525779359043,
           55.95206,
           -3.19648
          ],
          [
           3,
           0.1691982001066208,
           47.5746,
           8.5301
          ],
          [
           1,
           0.14048923552036285,
           19.43187,
           -99.03882
          ],
          [
           1,
           -0.05281100422143936,
           54.78604,
           24.66113
          ],
          [
           1,
           0.9513668417930603,
           42.79748,
           -95.36834
          ],
          [
           1,
           0.36073553562164307,
           39.26733,
           -76.79831
          ],
          [
           2,
           -0.7651057243347168,
           -35.30653,
           149.11623
          ],
          [
           1,
           0.5469949245452881,
           32.07668,
           34.76675
          ],
          [
           1,
           0.8851073980331421,
           -41.07363,
           145.92585
          ],
          [
           2,
           0.0637105405330658,
           53.47231,
           9.13028
          ],
          [
           1,
           -0.00412012729793787,
           50.49812,
           -99.91223
          ],
          [
           1,
           -0.654341459274292,
           38.94541,
           66.58819
          ],
          [
           1,
           -0.012958133593201637,
           -34.79668,
           -58.35914
          ],
          [
           1,
           0.9250674843788147,
           20.33333,
           -103.66667
          ],
          [
           1,
           0.053874578326940536,
           19.36667,
           -99.66667
          ],
          [
           2,
           0.05878995358943939,
           48.69096,
           9.14062
          ],
          [
           2,
           -0.4070552587509155,
           38.84622,
           -77.30637
          ],
          [
           1,
           -0.7731506824493408,
           51.5,
           10.5
          ],
          [
           1,
           -0.112502321600914,
           -10,
           -55
          ],
          [
           1,
           -0.7944573163986206,
           38.74422,
           -90.30539
          ],
          [
           1,
           0.002252083970233798,
           47.08922,
           7.13563
          ],
          [
           1,
           0.030209433287382126,
           60.35746,
           149.08089
          ],
          [
           1,
           0.1992148607969284,
           38.09902,
           -78.96919
          ],
          [
           2,
           -0.0016378132859244943,
           43.77925,
           11.24626
          ],
          [
           27,
           -0.27093592286109924,
           28.75054,
           -82.5001
          ],
          [
           2,
           -0.0055928220972418785,
           38.9015,
           -77.0622
          ],
          [
           1,
           -0.0760716125369072,
           -33.38436,
           148.0076
          ],
          [
           1,
           0.006732412148267031,
           40.12365,
           -85.69664
          ],
          [
           1,
           -0.03579821065068245,
           28.0492,
           -82.4568
          ],
          [
           1,
           -0.8293538093566895,
           35.44535,
           -84.6191
          ],
          [
           1,
           -0.02331235073506832,
           39.91481,
           -77.90472
          ],
          [
           1,
           -0.03579821065068245,
           49.01688,
           -80.74975
          ],
          [
           1,
           0.0004401999176479876,
           41.51926,
           -72.05702
          ],
          [
           4,
           0.11478827148675919,
           50.99474,
           -0.57398
          ],
          [
           1,
           0.002086447784677148,
           33.15067,
           -96.82361
          ],
          [
           2,
           -0.02000138908624649,
           38.9175,
           -77.08972
          ],
          [
           2,
           -0.0005336801405064762,
           40.51587,
           -88.38172
          ],
          [
           2,
           -0.14385905861854553,
           38.43667,
           -78.86778
          ],
          [
           1,
           0.006691175978630781,
           26.59493,
           83.66786
          ],
          [
           1,
           -0.14631864428520203,
           31.50161,
           34.46672
          ],
          [
           1,
           -0.0036392712499946356,
           42.95279,
           -88.35898
          ],
          [
           1,
           0.0026078354567289352,
           32.75042,
           -83.50018
          ],
          [
           1,
           -0.05643722042441368,
           53.83345,
           -113.33531
          ],
          [
           3,
           -0.02937300316989422,
           38.93206,
           -76.99942
          ],
          [
           3,
           -0.005982087925076485,
           55.9033,
           -2.74592
          ],
          [
           1,
           -0.1171272024512291,
           38.4379,
           -78.87586
          ],
          [
           1,
           -0.5813222527503967,
           42.25953,
           -73.22094
          ],
          [
           9,
           -0.06924250721931458,
           42.51269,
           -114.57476
          ],
          [
           5,
           -0.28039687871932983,
           36.8543,
           -82.7584
          ],
          [
           4,
           -0.34134238958358765,
           38.44167,
           -78.87528
          ],
          [
           2,
           -0.012491900473833084,
           38.43417,
           -78.87611
          ],
          [
           1,
           0.007903804071247578,
           26.54233,
           -81.78705
          ],
          [
           1,
           0.8828736543655396,
           -0.36667,
           -78.43333
          ],
          [
           15,
           0.038938697427511215,
           40.43368,
           -79.80199
          ],
          [
           9,
           0.05683968961238861,
           44.9688,
           -93.2741
          ],
          [
           1,
           -0.7234288454055786,
           44.9687,
           -93.2746
          ],
          [
           2,
           0.0005498123937286437,
           40.99729,
           -77.27803
          ],
          [
           2,
           0.0005498123937286437,
           39.46054,
           -105.73584
          ],
          [
           2,
           -0.006744105834513903,
           36.32571,
           -76.95274
          ],
          [
           1,
           -0.8391076326370239,
           36.97515,
           -76.34967
          ],
          [
           1,
           0.27223721146583557,
           40.2737,
           -76.88442
          ],
          [
           2,
           -0.42386606335639954,
           45.60009,
           -80.4164
          ],
          [
           8,
           -0.02368251606822014,
           32.54813,
           -94.37149
          ],
          [
           5,
           -0.0574297197163105,
           38.82944,
           -77.3025
          ],
          [
           1,
           0.053382065147161484,
           36.19623,
           -82.10401
          ],
          [
           5,
           0.20256765186786652,
           40.63814,
           -79.7165
          ],
          [
           96,
           -0.1562427133321762,
           38.44957,
           -78.86892
          ],
          [
           1,
           0.004808099940419197,
           41.76371,
           -72.68509
          ],
          [
           1,
           0.014230117201805115,
           38.91567,
           -77.07887
          ],
          [
           1,
           0.004369323141872883,
           38.44096,
           -78.89919
          ],
          [
           1,
           -0.1710720807313919,
           41.64577,
           -111.90967
          ],
          [
           10,
           -0.1263066530227661,
           40.69601,
           -74.22866
          ],
          [
           1,
           0.6125932931900024,
           41.40222,
           -92.9202
          ],
          [
           1,
           0.7015618681907654,
           39.25072,
           -76.93119
          ],
          [
           1,
           0.9513668417930603,
           33.75057,
           -117.86839
          ],
          [
           1,
           0.9778446555137634,
           19.12301,
           98.16055
          ],
          [
           2,
           -0.036117710173130035,
           36.40217,
           -119.80903
          ],
          [
           1,
           0.8878975510597229,
           31,
           112.25
          ],
          [
           1,
           0.014582856558263302,
           30.02716,
           -95.08576
          ],
          [
           1,
           0.0018716946942731738,
           53.07468,
           6.62937
          ],
          [
           1,
           -0.5247246623039246,
           58.39964,
           -124.81976
          ],
          [
           2,
           -0.4354212284088135,
           41.27517,
           -120.83052
          ],
          [
           1,
           -0.02758372761309147,
           -19.15,
           29.8
          ],
          [
           7,
           -0.23189236223697662,
           40.6462,
           -76.42468
          ],
          [
           1,
           0.14720678329467773,
           34.7865,
           -86.94199
          ],
          [
           2,
           0.6365971565246582,
           38.43667,
           -78.86694
          ],
          [
           4,
           0.26697492599487305,
           40.00032,
           -89.25037
          ],
          [
           2,
           0.008316775783896446,
           40.00032,
           -86.25027
          ],
          [
           1,
           -0.03599640354514122,
           39.76838,
           -86.15804
          ],
          [
           1,
           -0.20342177152633667,
           41.36843,
           -72.11563
          ],
          [
           1,
           0.9158540368080139,
           32.88224,
           70.91677
          ],
          [
           1,
           -0.011528701521456242,
           33,
           66
          ],
          [
           3,
           -0.23504571616649628,
           42.83333,
           12.83333
          ],
          [
           1,
           0.008810488507151604,
           55.75088,
           37.61824
          ],
          [
           3,
           0.4353979825973511,
           35.61452,
           -88.81395
          ],
          [
           4,
           0.05704434961080551,
           38.82861,
           -77.30139
          ],
          [
           2,
           -0.23014295101165771,
           39.95951,
           -82.41293
          ],
          [
           2,
           0.0360538624227047,
           32.75,
           74.83333
          ],
          [
           1,
           0.9753686189651489,
           24.97199,
           86.25534
          ],
          [
           1,
           0.5146259665489197,
           39.10414,
           -84.51177
          ],
          [
           1,
           0.012308635748922825,
           45.52151,
           -122.67398
          ],
          [
           5,
           -0.3850269019603729,
           38.99693,
           -85.62806
          ],
          [
           1,
           -0.26816320419311523,
           31.76904,
           35.21633
          ],
          [
           40,
           -0.041011277586221695,
           46.79711,
           130.31118
          ],
          [
           3,
           0.03665469214320183,
           46.8434,
           130.465
          ],
          [
           1,
           0.12562890350818634,
           38.04583,
           -78.50722
          ],
          [
           1,
           0.0018716946942731738,
           39.75843,
           -77.75499
          ],
          [
           1,
           -0.6327069401741028,
           43.03835,
           -87.92703
          ],
          [
           1,
           -0.14631864428520203,
           31.58333,
           35
          ],
          [
           1,
           0.02440987341105938,
           29.97044,
           -90.12436
          ],
          [
           3,
           -0.1292133778333664,
           60.25174,
           24.88111
          ],
          [
           4,
           -0.00589924119412899,
           38.43861,
           -78.87278
          ],
          [
           1,
           0.016948984935879707,
           49.21667,
           -122.93333
          ],
          [
           2,
           0.39868438243865967,
           29.7744,
           -95.1447
          ],
          [
           1,
           0.842811644077301,
           40.73722,
           -73.81528
          ],
          [
           1,
           -0.047076381742954254,
           40.82139,
           -73.59389
          ],
          [
           2,
           0.07927753031253815,
           67.78147,
           25.07689
          ],
          [
           1,
           -0.483829528093338,
           32.83743,
           -97.29183
          ],
          [
           1,
           0.002410085638985038,
           35.96064,
           -83.92074
          ],
          [
           1,
           0.9655451774597168,
           60.18572,
           25.00516
          ],
          [
           1,
           0.9608051776885986,
           35.25,
           135.43333
          ],
          [
           1,
           0.020351631566882133,
           21.23831,
           -86.86751
          ],
          [
           1,
           0.09446021914482117,
           35.16675,
           -86.6
          ],
          [
           1,
           -0.06547202169895172,
           36.03286,
           -114.72602
          ],
          [
           3,
           0.06902050226926804,
           45.64856,
           -95.39511
          ],
          [
           2,
           -0.12483354657888412,
           41.58204,
           -71.91424
          ],
          [
           1,
           0.020351631566882133,
           9.51604,
           -72.66671
          ],
          [
           1,
           0.016013577580451965,
           36.17497,
           -115.13722
          ],
          [
           1,
           0.005147309973835945,
           34.0314,
           -117.98951
          ],
          [
           1,
           0.0004402358899824321,
           53.17194,
           -7.38056
          ],
          [
           1,
           0.7172712087631226,
           36.70545,
           -83.12853
          ],
          [
           2,
           0.00004883867222815752,
           38.43333,
           -78.85972
          ],
          [
           2,
           0.009935869835317135,
           39.11566,
           -77.5636
          ],
          [
           5,
           0.05795656889677048,
           37.98869,
           -84.47772
          ],
          [
           1,
           -0.0076723345555365086,
           14.62631,
           121.1333
          ],
          [
           1,
           0.5453186631202698,
           40.38845,
           -83.76587
          ],
          [
           1,
           -0.019188210368156433,
           42.36514,
           -71.01777
          ],
          [
           1,
           0.0007513525779359043,
           51.50853,
           -0.12574
          ],
          [
           2,
           -0.08654583990573883,
           34.43027,
           -119.29317
          ],
          [
           1,
           -0.00545820826664567,
           39.11927,
           -77.87611
          ],
          [
           1,
           0.011005008593201637,
           34.05223,
           -118.24368
          ],
          [
           1,
           -0.581081211566925,
           31.00047,
           -92.0004
          ],
          [
           1,
           0.9711300730705261,
           38.52345,
           -75.40631
          ],
          [
           1,
           0.0019091521389782429,
           38.66909,
           -78.50195
          ],
          [
           6,
           0.007328686770051718,
           35.28314,
           -86.37416
          ],
          [
           1,
           -0.03863837569952011,
           37.45669,
           -98.83037
          ],
          [
           7,
           -0.08707071840763092,
           43.07305,
           -89.40123
          ],
          [
           4,
           0.1529874950647354,
           40.25285,
           -79.67976
          ],
          [
           4,
           0.03181879222393036,
           41.53588,
           -86.09834
          ],
          [
           1,
           0.0035776847507804632,
           41.99305,
           -70.72949
          ],
          [
           1,
           0.08615521341562271,
           46.54354,
           -87.39542
          ],
          [
           1,
           0.007393349893391132,
           -19.51667,
           30
          ],
          [
           4,
           0.17408595979213715,
           39.00039,
           -76.74997
          ],
          [
           2,
           -0.01580982282757759,
           39.02205,
           -77.12748
          ],
          [
           2,
           -0.0449446439743042,
           39.02175,
           -82.02903
          ],
          [
           1,
           0.12634646892547607,
           43.95625,
           -86.42258
          ],
          [
           1,
           -0.010799254290759563,
           14.60967,
           121.12267
          ],
          [
           1,
           -0.5266270041465759,
           39.72148,
           -77.75416
          ],
          [
           1,
           -0.023581748828291893,
           42.36565,
           -71.10832
          ],
          [
           2,
           0.7082946300506592,
           38.40957,
           -78.7378
          ],
          [
           1,
           0.7582235932350159,
           35.61694,
           -87.07701
          ],
          [
           2,
           -0.224471777677536,
           38.4379,
           -78.87364
          ],
          [
           3,
           0.3872261345386505,
           35.33549,
           25.13111
          ],
          [
           1,
           0.04908348247408867,
           2.25,
           102.25
          ],
          [
           5,
           0.25457772612571716,
           29.77303,
           -95.58442
          ],
          [
           1,
           -0.002582414774224162,
           39.97928,
           -75.20962
          ],
          [
           1,
           0.0010071651777252555,
           35.14953,
           -90.04898
          ],
          [
           1,
           0.3184787929058075,
           25.77427,
           -80.19366
          ],
          [
           1,
           0.7704724669456482,
           44.25029,
           -85.50033
          ],
          [
           2,
           0.1551685333251953,
           35.8,
           -86.5
          ],
          [
           1,
           -0.04429177567362785,
           42.65982,
           -93.93863
          ],
          [
           2,
           0.23043608665466309,
           30.47318,
           -83.40015
          ],
          [
           4,
           -0.022487567737698555,
           42.40926,
           -71.12116
          ],
          [
           1,
           -0.7944573163986206,
           38.25031,
           -92.50046
          ],
          [
           3,
           -0.08861903101205826,
           43.18496,
           -108.26621
          ],
          [
           1,
           -0.009029152803122997,
           39.13638,
           -77.20424
          ],
          [
           1,
           -0.2734387516975403,
           45.50884,
           -73.58781
          ],
          [
           1,
           0.01217671949416399,
           38.18675,
           -83.43324
          ],
          [
           1,
           0.009683560580015182,
           29.67912,
           -94.98354
          ],
          [
           1,
           0.3061791956424713,
           37.97622,
           -81.28177
          ],
          [
           1,
           0.1317855715751648,
           45.72484,
           -122.43371
          ],
          [
           1,
           0.00115585804451257,
           8.63944,
           46.61194
          ],
          [
           1,
           0.8002221584320068,
           8.95506,
           5.23775
          ],
          [
           1,
           0.9433533549308777,
           37.98591,
           -1.13947
          ],
          [
           1,
           0.5749707221984863,
           44.00833,
           -78.965
          ],
          [
           1,
           0.1949443221092224,
           38.87255,
           -77.00773
          ],
          [
           2,
           0.03428860753774643,
           41.50028,
           -99.75067
          ],
          [
           1,
           0.09446021914482117,
           33.44039,
           -84.11183
          ],
          [
           2,
           -0.02909008413553238,
           43.66702,
           -71.4998
          ],
          [
           23,
           -0.1041574701666832,
           40.16706,
           -74.49987
          ],
          [
           3,
           0.00405060313642025,
           34.50034,
           -106.00085
          ],
          [
           1,
           0.002538768108934164,
           35.68237,
           -105.93959
          ],
          [
           11,
           -0.1266447901725769,
           43.00035,
           -75.4999
          ],
          [
           7,
           0.2473328858613968,
           40.71427,
           -74.00597
          ],
          [
           6,
           -0.04991573467850685,
           -42,
           174
          ],
          [
           2,
           -0.044711895287036896,
           32.00344,
           -106.32304
          ],
          [
           11,
           0.2311926782131195,
           45.96442,
           -90.15745
          ],
          [
           1,
           -0.104342520236969,
           33.73559,
           -113.53132
          ],
          [
           7,
           -0.0038440313655883074,
           35.50069,
           -80.00032
          ],
          [
           4,
           0.025525901466608047,
           39.96305,
           -101.43016
          ],
          [
           1,
           -0.018348965793848038,
           38.91261,
           -76.97581
          ],
          [
           1,
           0.015657348558306694,
           59.9166,
           30.25
          ],
          [
           1,
           -0.5167356729507446,
           38.73074,
           -77.71193
          ],
          [
           14,
           -0.031026538461446762,
           65.65053,
           12.65206
          ],
          [
           1,
           -0.0003248843422625214,
           37.80437,
           -122.2708
          ],
          [
           1,
           0.3338805139064789,
           37.48771,
           -117.91565
          ],
          [
           1,
           -0.46284130215644836,
           -18.31281,
           138.51562
          ],
          [
           2,
           -0.04212161526083946,
           35.49209,
           -97.50328
          ],
          [
           1,
           0.010044097900390625,
           41.24005,
           -83.14992
          ],
          [
           1,
           0.00022482000349555165,
           6.15521,
           6.81071
          ],
          [
           1,
           0.0006183195509947836,
           -27.68543,
           28.65653
          ],
          [
           1,
           0.012308635748922825,
           44.00013,
           -120.50139
          ],
          [
           1,
           -0.2613608241081238,
           36.91672,
           -92.01682
          ],
          [
           1,
           -0.06790010631084442,
           31.92157,
           35.20329
          ],
          [
           1,
           -0.7822529673576355,
           8.9936,
           -79.51973
          ],
          [
           1,
           0.014383958652615547,
           43.69972,
           -88.08954
          ],
          [
           1,
           -0.007471655961126089,
           30.36687,
           -95.03215
          ],
          [
           7,
           -0.23937605321407318,
           40.8,
           -77.7
          ],
          [
           2,
           0.12817759811878204,
           35,
           105
          ],
          [
           1,
           0.5936700105667114,
           27,
           51
          ],
          [
           6,
           -0.11142455786466599,
           28.80165,
           -96.21802
          ],
          [
           2,
           0.002197926864027977,
           40.31011,
           -75.106
          ],
          [
           2,
           0.2554658353328705,
           21.40537,
           74.63682
          ],
          [
           3,
           0.09200170636177063,
           39.95238,
           -75.16362
          ],
          [
           1,
           0.013188899494707584,
           39.95233,
           -75.16351
          ],
          [
           1,
           -0.00863927137106657,
           44.95495,
           -93.25706
          ],
          [
           1,
           0.9830978512763977,
           52.5433,
           13.4278
          ],
          [
           1,
           -0.640643835067749,
           32.77263,
           -98.16199
          ],
          [
           6,
           -0.12073904275894165,
           39.61678,
           -75.22907
          ],
          [
           2,
           -0.02472747303545475,
           47.11447,
           7.26018
          ],
          [
           3,
           -0.1604309380054474,
           39.52067,
           -74.48571
          ],
          [
           1,
           -0.023276807740330696,
           -32.74561,
           137.74864
          ],
          [
           1,
           0.1176447868347168,
           50.15122,
           1.74853
          ],
          [
           1,
           0.8124074935913086,
           48.90279,
           6.16131
          ],
          [
           2,
           0.02020837925374508,
           45.52345,
           -122.67621
          ],
          [
           4,
           -0.1427588164806366,
           40.15285,
           -80.52924
          ],
          [
           6,
           0.14746175706386566,
           39.25603,
           -76.70665
          ],
          [
           1,
           -0.08531441539525986,
           40.57361,
           -96.70308
          ],
          [
           1,
           -0.2682606279850006,
           52,
           5.83333
          ],
          [
           1,
           0.009280339814722538,
           -33.9624,
           151.2262
          ],
          [
           14,
           0.2781623601913452,
           40.77078,
           -111.75827
          ],
          [
           2,
           -0.5405875444412231,
           32.93844,
           35.3675
          ],
          [
           2,
           -0.21320797502994537,
           35.1792,
           -80.8843
          ],
          [
           1,
           0.06968963146209717,
           52.44889,
           9.74
          ],
          [
           1,
           0.030828719958662987,
           59,
           26
          ],
          [
           1,
           -0.004604716319590807,
           46,
           2
          ],
          [
           1,
           -0.04426046833395958,
           22,
           79
          ],
          [
           1,
           0.85584557056427,
           33,
           44
          ],
          [
           2,
           0.5104064345359802,
           35.91667,
           14.43333
          ],
          [
           16,
           0.11790332198143005,
           37.55376,
           -77.46026
          ],
          [
           1,
           0.00413089944049716,
           39.46287,
           -78.31251
          ],
          [
           2,
           -0.5400497317314148,
           -5.75,
           -36.5
          ],
          [
           3,
           0.3161146938800812,
           37.27097,
           -79.94143
          ],
          [
           2,
           0.3372802436351776,
           37.20907,
           -80.05085
          ],
          [
           3,
           0.48010268807411194,
           31.54798,
           -82.41652
          ],
          [
           13,
           -0.00015225776587612927,
           42.98454,
           -71.08897
          ],
          [
           1,
           0.0015918905846774578,
           38.42611,
           -78.87667
          ],
          [
           1,
           -0.050029508769512177,
           41.89193,
           12.51133
          ],
          [
           1,
           0.010771441273391247,
           39.55955,
           -77.13359
          ],
          [
           2,
           0.21980932354927063,
           38.4375,
           -78.87472
          ],
          [
           1,
           0.2121424376964569,
           40.47017,
           -120.81135
          ],
          [
           3,
           0.044970277696847916,
           31.63571,
           -86.74331
          ],
          [
           1,
           -0.7945203185081482,
           41.15194,
           -73.74806
          ],
          [
           1,
           0.9446872472763062,
           48.27399,
           -121.85264
          ],
          [
           1,
           0.0006433266098611057,
           52.48292,
           -2.04376
          ],
          [
           1,
           0.0007513525779359043,
           40.96882,
           -5.66388
          ],
          [
           1,
           0.012289240956306458,
           37.27452,
           -80.01989
          ],
          [
           1,
           -0.14631864428520203,
           32.25,
           35.16667
          ],
          [
           2,
           -0.18589773774147034,
           38.98345,
           -76.48663
          ],
          [
           1,
           0.0026220872532576323,
           36.78775,
           40.55504
          ],
          [
           2,
           0.17444579303264618,
           37.77493,
           -122.41942
          ],
          [
           2,
           0.11072572320699692,
           33.72281,
           -117.90019
          ],
          [
           1,
           0.0015627163229510188,
           35.68698,
           -105.9378
          ],
          [
           1,
           0.30620861053466797,
           43.45444,
           -76.53611
          ],
          [
           3,
           0.0017780718626454473,
           38.85839,
           -78.5706
          ],
          [
           1,
           -0.012752368114888668,
           38.48346,
           -78.84975
          ],
          [
           8,
           -0.05362797528505325,
           38.43361,
           -78.87278
          ],
          [
           1,
           -0.607761800289154,
           55.01565,
           82.96276
          ],
          [
           1,
           0.0486910454928875,
           45.87866,
           -82.89124
          ],
          [
           10,
           0.18314747512340546,
           45.36327,
           -75.72732
          ],
          [
           1,
           0.6418113112449646,
           -3.39521,
           143.27804
          ],
          [
           1,
           -0.7848926782608032,
           37.06291,
           -79.76603
          ],
          [
           1,
           0.029467124491930008,
           51.47459,
           -0.15479
          ],
          [
           1,
           -0.1639028787612915,
           33.45876,
           -90.15081
          ],
          [
           1,
           -0.3374898135662079,
           43.07367,
           -78.33558
          ],
          [
           1,
           0.053837042301893234,
           41.50398,
           -73.97708
          ],
          [
           2,
           0.2596566677093506,
           34.00043,
           -81.00009
          ],
          [
           1,
           0.053837042301893234,
           39.6263,
           -79.9589
          ],
          [
           3,
           0.043416064232587814,
           29.67286,
           -95.41806
          ],
          [
           1,
           0.029366418719291687,
           42.64609,
           -92.46296
          ],
          [
           1,
           0.10748929530382156,
           42.51121,
           -70.89255
          ],
          [
           2,
           -0.06267719715833664,
           53.65223,
           -114.66024
          ],
          [
           1,
           -0.04429177567362785,
           38.88067,
           -76.98998
          ],
          [
           21,
           -0.37270161509513855,
           40.63439,
           -111.8716
          ],
          [
           1,
           -0.068707674741745,
           43.08304,
           -96.16252
          ],
          [
           1,
           -0.04429177567362785,
           38.88122,
           -77.01637
          ],
          [
           1,
           -0.024965211749076843,
           19.70273,
           -79.81588
          ],
          [
           3,
           -0.09995013475418091,
           45.90011,
           -76.91614
          ],
          [
           1,
           0.014383958652615547,
           38.70265,
           -79.58826
          ],
          [
           4,
           -0.08541189134120941,
           34.93706,
           -82.22511
          ],
          [
           1,
           -0.07836860418319702,
           14.61703,
           121.12842
          ],
          [
           1,
           0.03632431477308273,
           41.62758,
           -75.83519
          ],
          [
           1,
           -0.00013901932106819004,
           43.58336,
           1.43406
          ],
          [
           2,
           0.14278429746627808,
           40.5751,
           -74.83767
          ],
          [
           3,
           -0.21811659634113312,
           31.5,
           34.75
          ],
          [
           1,
           0.002410085638985038,
           38.14991,
           -79.0732
          ],
          [
           1,
           0.6874677538871765,
           37.49524,
           -114.58889
          ],
          [
           1,
           0.9769202470779419,
           38.35263,
           -79.14892
          ],
          [
           1,
           -0.5746561884880066,
           44.62675,
           -79.42263
          ],
          [
           1,
           -0.040610380470752716,
           46.26052,
           -94.77974
          ],
          [
           3,
           -0.013322039507329464,
           59.96667,
           15.85
          ],
          [
           1,
           0.3338805139064789,
           43.08126,
           25.6447
          ],
          [
           1,
           -0.26241880655288696,
           26.07205,
           -80.23203
          ],
          [
           4,
           0.24199047684669495,
           33.92044,
           -80.34147
          ],
          [
           1,
           0.7540906071662903,
           31.11233,
           -83.68656
          ],
          [
           1,
           -0.09833546727895737,
           26.0908,
           -97.1652
          ],
          [
           1,
           0.002410085638985038,
           60.27996,
           25.01759
          ],
          [
           1,
           -0.34228426218032837,
           64,
           -19
          ],
          [
           1,
           0.030828719958662987,
           59.43696,
           24.75353
          ],
          [
           2,
           0.23287427425384521,
           17.25044,
           77.58504
          ],
          [
           1,
           -0.454432874917984,
           39.98784,
           -82.84295
          ],
          [
           6,
           -0.1736244559288025,
           35.27766,
           -102.35403
          ],
          [
           1,
           0.03069252520799637,
           -29.03333,
           167.95
          ],
          [
           4,
           -0.1726805865764618,
           31.25044,
           -99.25061
          ],
          [
           1,
           0.08441392332315445,
           42.14482,
           -72.6112
          ],
          [
           1,
           0.02287987992167473,
           51.52757,
           -0.12059
          ],
          [
           1,
           -0.7269915342330933,
           18.44322,
           -64.53476
          ],
          [
           1,
           -0.12779515981674194,
           41.29093,
           -72.52898
          ],
          [
           1,
           -0.08360321074724197,
           38.85927,
           -77.26921
          ],
          [
           1,
           0.0012385013978928328,
           42.40926,
           -71.12172
          ],
          [
           2,
           -0.632419764995575,
           40.73889,
           -74.00889
          ],
          [
           1,
           -0.0011925791623070836,
           37.39737,
           25.26775
          ],
          [
           2,
           -0.5765678882598877,
           51.5474,
           -3.5952
          ],
          [
           2,
           0.027463415637612343,
           43.70643,
           -79.39864
          ],
          [
           1,
           -0.6960024833679199,
           36.15398,
           -95.99277
          ],
          [
           2,
           -0.6302402019500732,
           33.20984,
           -87.56917
          ],
          [
           6,
           -0.3578244149684906,
           55.25,
           24.75
          ],
          [
           1,
           0.033628467470407486,
           40.6976,
           -74.2632
          ],
          [
           3,
           0.7305545806884766,
           54.75844,
           -2.69531
          ],
          [
           73,
           -0.22509831190109253,
           39.76,
           -98.5
          ],
          [
           1,
           -0.06189197674393654,
           38.88983,
           -77.00887
          ],
          [
           1,
           -0.012659120373427868,
           30.28496,
           -81.60259
          ],
          [
           1,
           -0.6840381026268005,
           27.39044,
           -82.46883
          ],
          [
           1,
           0.08287783712148666,
           42.5126,
           -92.45964
          ],
          [
           3,
           0.11270847171545029,
           30.69588,
           -88.17691
          ],
          [
           1,
           -0.2086385190486908,
           56.99081,
           52.18517
          ],
          [
           2,
           0.03386814519762993,
           40.66732,
           -75.03212
          ],
          [
           1,
           0.00413089944049716,
           44.33295,
           -115.77734
          ],
          [
           5,
           -0.017619024962186813,
           26.13082,
           -98.24734
          ],
          [
           1,
           -0.5063939094543457,
           38.43722,
           -78.87444
          ],
          [
           4,
           -0.5324360132217407,
           44.00034,
           -72.74983
          ],
          [
           1,
           -0.6840381026268005,
           40.7826,
           -74.0107
          ],
          [
           13,
           0.09997879713773727,
           51.42727,
           -0.23147
          ],
          [
           153,
           -0.057791873812675476,
           37.54812,
           -77.44675
          ],
          [
           1,
           -0.0035607307218015194,
           37.24522,
           -79.97176
          ],
          [
           1,
           0.006691175978630781,
           -18,
           178
          ],
          [
           1,
           -0.005961952265352011,
           48.05171,
           19.8199
          ],
          [
           2,
           0.40740707516670227,
           32.82116,
           -116.93114
          ],
          [
           1,
           0.0019582381937652826,
           38.0693,
           -78.47307
          ],
          [
           3,
           -0.2506718933582306,
           48.05562,
           -122.11265
          ],
          [
           2,
           -0.4354414641857147,
           32.77735,
           -97.73559
          ],
          [
           1,
           -0.00047628642641939223,
           35.67868,
           -85.7785
          ],
          [
           1,
           0.000681829231325537,
           43.35167,
           -73.65528
          ],
          [
           1,
           0.24555064737796783,
           52.22977,
           21.01178
          ],
          [
           3,
           0.5130374431610107,
           47.50012,
           -120.50147
          ],
          [
           1,
           -0.02331235073506832,
           39.18677,
           -77.60999
          ],
          [
           5,
           0.05430414527654648,
           48.01682,
           -83.81652
          ],
          [
           1,
           0.900522768497467,
           43.45694,
           -88.82816
          ],
          [
           1,
           0.9465509653091431,
           -33.40057,
           18.42029
          ],
          [
           1,
           -0.22460947930812836,
           52.36889,
           -2.8496
          ],
          [
           1,
           0.0042637428268790245,
           43.97367,
           -75.90437
          ],
          [
           1,
           -0.42162033915519714,
           42.77268,
           -116.9579
          ],
          [
           2,
           0.0022664284333586693,
           34.67943,
           -82.8396
          ],
          [
           1,
           0.000028373169698170386,
           43.89913,
           -91.08125
          ],
          [
           1,
           0.3983326852321625,
           41.99926,
           -72.74509
          ],
          [
           2,
           0.09120671451091766,
           42.56676,
           -71.112
          ],
          [
           7,
           0.044131577014923096,
           38.50038,
           -80.50009
          ],
          [
           1,
           0.037467651069164276,
           46.8687,
           -123.94767
          ],
          [
           1,
           -0.01603294536471367,
           38.48207,
           -78.02055
          ],
          [
           1,
           0.007282300386577845,
           32.78791,
           -96.63722
          ],
          [
           2,
           0.4447519779205322,
           38.28846,
           -78.91308
          ],
          [
           1,
           0.7388092875480652,
           36.74053,
           3.00957
          ],
          [
           1,
           -0.02210153080523014,
           37.2707,
           -76.70746
          ],
          [
           1,
           -0.0003248843422625214,
           42.27807,
           -89.94985
          ],
          [
           1,
           -0.09525996446609497,
           41.81204,
           -72.65731
          ],
          [
           2,
           -0.04453638941049576,
           36.15486,
           -86.29763
          ],
          [
           10,
           0.09161995351314545,
           42.13093,
           -72.79315
          ],
          [
           1,
           0.009377716109156609,
           42.77342,
           -72.38314
          ],
          [
           3,
           0.21339522302150726,
           44.50024,
           -90.00041
          ],
          [
           1,
           -0.0036392712499946356,
           43.00024,
           -107.5009
          ],
          [
           1,
           -0.16683639585971832,
           40.22096,
           44.55532
          ],
          [
           1,
           -0.002207773504778743,
           10.24212,
           105.155
          ],
          [
           1,
           0.00031385934562422335,
           16.81372,
           53.50495
          ],
          [
           5,
           0.021211836487054825,
           27.4813,
           83.52467
          ]
         ],
         "hovertemplate": "<b>%{hovertext}</b><br>Posts: %{customdata[0]}<br>Avg Sentiment: %{customdata[1]}<br><extra></extra>",
         "hovertext": [
          "360 Main St.",
          "66",
          "Ac",
          "Acushnet Avenue School",
          "Agora",
          "Airborne monument",
          "Airport",
          "Al Ḩabs",
          "Alabama",
          "Albert",
          "Algiers",
          "Altitude",
          "Alytaus rajonas",
          "Amazonas",
          "America'S Best Value Inn I-75 Gainesville North",
          "Ann Arbor",
          "Antwerpen",
          "Appalachian Mountains",
          "Arcadia",
          "Arizona",
          "Arizona State University",
          "Arlington",
          "Aschaffenburg",
          "Ashby",
          "Ashby Hall",
          "Ashby St Ledgers",
          "Asia",
          "Aspen",
          "Aspen Heights",
          "Atlantic",
          "Augusta",
          "Augusta County",
          "Austurland",
          "Bailiwick of Jersey",
          "Ball State University",
          "Baltimore",
          "Basalt",
          "Bear Lake",
          "Beles",
          "Bethel",
          "Bethezra",
          "Big Sky",
          "Biltmore",
          "Blacksburg",
          "Blue Hole",
          "Blue Ridge",
          "Blue Ridge School",
          "Bluestone",
          "Boise County",
          "Boise State University",
          "Boston",
          "Boulder",
          "Boulder City",
          "Breeze",
          "Brickhouse",
          "Bridgeforth Branch",
          "Bridgeforth Stadium",
          "Bridgewater",
          "Buffalo",
          "Burg-Grambke",
          "Burrus Elementary School",
          "Burrus Ranch",
          "Burruss Hall",
          "Burruss School",
          "Campus",
          "Cannon Air Force Base",
          "Caribbean",
          "Carrier",
          "Carrier Library",
          "Caspian",
          "Cedar",
          "Chandler",
          "Chandler Hall",
          "Charleston",
          "Charlottesville",
          "Chesapeake",
          "Chesnut Ridge",
          "Chestnut Ridge",
          "Chicago",
          "Chicago O'Hare International Airport",
          "City of Harrisonburg",
          "City of Lynchburg",
          "City of Staunton",
          "City of Waynesboro",
          "Cleveland",
          "Cleveland Hall",
          "Clémentine",
          "Colorado",
          "Commons",
          "Commonwealth",
          "Community Christian School of the Shenandoah Valley",
          "Comonotto",
          "Connecticut",
          "Converse Hall",
          "Coosa Backcountry Trail",
          "Copper",
          "Copper Basin",
          "Copper Beech Elementary School",
          "Corona",
          "Crozier Creek",
          "D and L Plaza Shopping Center",
          "Dallas",
          "Dayton",
          "DeJong Reservoir",
          "Deer Crossing",
          "Deer Run",
          "Delaware",
          "Delta State",
          "Derbent",
          "Detroit",
          "Devon",
          "District of Columbia",
          "Dogwood",
          "Dravosburg",
          "Dukes",
          "Dukes County",
          "Dundee City",
          "Duryea",
          "Eagle Field",
          "Eagle Hall",
          "Earth",
          "East Campus Apartments",
          "East Campus Power Plant",
          "East Campus Quadrangle",
          "East Carolina University",
          "East Orange Campus of the VA New Jersey Health Care System",
          "East Salem",
          "Eastover",
          "Edinburgh",
          "Eglisau / Burg",
          "El Sol",
          "Elektrėnai",
          "Elkton",
          "Ellicott City",
          "Embassy of the United States",
          "Embassy of the United States of America",
          "Emu River",
          "Engeo",
          "Erickson",
          "Esat",
          "Estación Va. Calzada",
          "Estado de Jalisco",
          "Estado de México",
          "Europe",
          "Fairfax",
          "Federal Republic of Germany",
          "Federative Republic of Brazil",
          "Ferguson",
          "Festi",
          "Festival’",
          "Fishersville",
          "Florence",
          "Florida",
          "Foggy Bottom",
          "Forbes",
          "Forest Hills",
          "Forest Manor",
          "Forrest Hills",
          "Fort Loudon",
          "Fox",
          "Fox Hill",
          "Foxhill",
          "Frisco",
          "G-Dub Java",
          "Garber",
          "Garber Hall",
          "Gauri Bāzār Railroad Station",
          "Gaza",
          "Genesee",
          "Georgia",
          "Gibbons",
          "Gibbons Hall",
          "Gifford",
          "Gifford Hall",
          "Gingerbread House",
          "Godwin",
          "Godwin Hall",
          "Grace Street House",
          "Greek Row",
          "H2O 911 Restoration",
          "Hacienda Salgado",
          "Hall",
          "Hall D",
          "Hall E",
          "Hall Mountain",
          "Hall Valley",
          "Halls",
          "Hampton Roads",
          "Harrisburg",
          "Harrison",
          "Harrison County",
          "Harrison Hall",
          "Harrison Street Hollow",
          "Harrison Township",
          "Harrisonburg",
          "Hartford",
          "Hillandale",
          "Hillandale Park",
          "Hills",
          "Hillside",
          "Hoffman Hall",
          "Howard County",
          "Howe-Waffle House",
          "Huai Mu",
          "Hub",
          "Hubei",
          "Huffman",
          "Hunebed D6",
          "Hunter Ridge",
          "Hunters Ridge",
          "Hunters Road",
          "I-81 Scenic View",
          "Ihop",
          "Ikenberry Hall",
          "Illinois",
          "Indiana",
          "Indianapolis",
          "Interchange 83",
          "Isa Khel",
          "Islamic Republic of Afghanistan",
          "Italian Republic",
          "Ivan the Great Bell Tower",
          "Jackson",
          "Jackson Hall",
          "Jacksontown",
          "Jammu",
          "Jamui Railway Station",
          "Jeff Ruby's",
          "Jefferson Street (historical)",
          "Jennings County",
          "Jerusalem",
          "Jiamusi",
          "Jiamusi Airport",
          "John Paul Jones Arena",
          "Johnston",
          "Johnston Hall",
          "Judaea",
          "KIPP Believe College Preparatory School",
          "Kaarela",
          "Keezell Hall",
          "Kelvin",
          "Kindred Hospital East Houston",
          "King Hall",
          "Kings Residence Hall",
          "Kittilä",
          "Knights Inn Ft. Worth",
          "Knoxville",
          "Kulosaari",
          "Kyoto Prefecture",
          "La Morena",
          "Lady Jane Airport",
          "Lake Mead",
          "Lakeside",
          "Lakeside Airport",
          "Las Lolas",
          "Las Vegas",
          "Latin America Bible Institute",
          "Laught",
          "Lee County",
          "Leeolou Alumni Center",
          "Leesburg",
          "Lexington",
          "Liberty Street",
          "Logan County",
          "Logan International Airport",
          "London",
          "Long Valley",
          "Longwood",
          "Los Angeles",
          "Louisiana",
          "Lowes Crossroads",
          "Luray Caverns",
          "Lynchburg",
          "MacAdoo Dam",
          "Madison",
          "Madison Union Cemetery",
          "Madison Union Church",
          "Main Street",
          "Marquette",
          "Mars",
          "Maryland",
          "Marymount",
          "Mason",
          "Mason County",
          "Mason Street",
          "Mason and Dixon",
          "Massachusetts",
          "Massanutten",
          "Maury County",
          "Maury Hall",
          "Mediterranean",
          "Melaka",
          "Memorial",
          "Memorial Hall",
          "Memphis",
          "Miami",
          "Michigan",
          "Middle Tennessee",
          "Midwest",
          "Mill",
          "Miller Hall",
          "Missouri",
          "Missouri Valley",
          "Montgomery County",
          "Montréal",
          "Morehead State University",
          "Morgans Point",
          "Mossy",
          "Mountain View",
          "Mountains",
          "Muchita",
          "Murcia Bus Station",
          "Myrtle",
          "Nationals Park",
          "Nebraska",
          "New Creation Center",
          "New Hampshire",
          "New Jersey",
          "New Mexico",
          "New Mexico State Capitol",
          "New York",
          "New York City",
          "New Zealand",
          "Newman",
          "Newman Lake",
          "Nords Ranch",
          "North Carolina",
          "North School Number 38 (historical)",
          "Northeast Quadrant",
          "Northern Lights Hotel",
          "Northern Virginia",
          "Nova",
          "Oakland",
          "Oasis",
          "Oceania",
          "Oklahoma",
          "Old Fort",
          "Omagba Phase II",
          "Omicron",
          "Oregon",
          "Ozarks",
          "Palestine",
          "Panamá",
          "Parnell Observation Tower",
          "Pelican",
          "Pennsylvania",
          "People’s Republic of China",
          "Persian Gulf",
          "Pheasant",
          "Pheasant Run",
          "Phes",
          "Philadelphia",
          "Philadelphia City Hall",
          "Phillips",
          "Planetarium",
          "Pleasant Valley",
          "Pole Tavern",
          "Port",
          "Port Republic",
          "Port Road Dam",
          "Port-le-Grand",
          "Port-sur-Seille",
          "Portland",
          "Potomac",
          "Potomac Hall",
          "Princeton",
          "Provincie Gelderland",
          "Purcell Park",
          "Quad",
          "Rama",
          "Ramada Airport Woodlawn/I-77",
          "Region Hannover",
          "Republic of Estonia",
          "Republic of France",
          "Republic of India",
          "Republic of Iraq",
          "Republic of Malta",
          "Richmond",
          "Ridge",
          "Rio Grande do Norte",
          "Roanoke",
          "Roanoke County",
          "Rockingham",
          "Rockingham County",
          "Rockingham Hall",
          "Rome",
          "Roop Branch",
          "Roop Hall",
          "Roop Mountain",
          "Rose Library",
          "Rosewood",
          "Rowan",
          "Rowley Regis",
          "Salamanca",
          "Salem VA Medical Center",
          "Samaria",
          "Sampson Hall",
          "Sam’ad",
          "San Francisco",
          "Santa Ana Valley High School",
          "Santa Fe",
          "Sheldon Hall",
          "Shenandoah County",
          "Shenandoah Valley",
          "Showker Hall",
          "Siberia",
          "Silver Lake",
          "Skyline",
          "Smain",
          "Smith Mountain Lake",
          "So Park Apartments",
          "South",
          "South Alabama",
          "South Avenue School",
          "South Carolina",
          "South High Street Bridge",
          "South Main",
          "South Main Street Park",
          "South Salem",
          "South View",
          "Southeast",
          "Southview",
          "Southview Apartments",
          "Southwest",
          "Spots",
          "Spotswood",
          "Spruce Knob Lake",
          "Square One Farmers Market",
          "Squire",
          "Squire Hill",
          "Stadium",
          "Stanton",
          "State of Israel",
          "Staunton",
          "Stine",
          "Stokesville",
          "Stone Gate Inn",
          "Stony Brook",
          "Stora Aspen",
          "Studio",
          "Subway",
          "Sumter",
          "Sunbelt Strip",
          "Sunchase Iv Resort",
          "Suutarila",
          "Suðurland",
          "Tallinn",
          "Tandur",
          "Taylor Station",
          "Territories of the United States",
          "Territory of Norfolk Island",
          "Texas",
          "The Commons",
          "The Harrison",
          "The Mill",
          "The Morgan High School",
          "The New School of Northern Virginia",
          "The Quad",
          "The West Coast",
          "Theater district - block II",
          "Tondu Railway Station",
          "Toronto",
          "Tulsa",
          "Tuscaloosa",
          "Ukmergė",
          "Union",
          "United Kingdom of Great Britain and Northern Ireland",
          "United States",
          "United States Capitol",
          "University Boulevard Chapel",
          "University Park",
          "University of Northern Iowa",
          "University of South Alabama",
          "Uva",
          "Valley",
          "Valley Creek",
          "Valley View Early College Campus",
          "Varner House",
          "Vermont",
          "Veteran's Memorial Park",
          "Village",
          "Virginia",
          "Virginia Western Community College",
          "Viti",
          "Vizslás",
          "W D Hall Elementary School",
          "Wakefield",
          "Walmart",
          "Wampler",
          "Warren County",
          "Warren Hall",
          "Warsaw",
          "Washington",
          "Waterford",
          "Wayland",
          "Wayland Hall",
          "Waylands",
          "Weaver",
          "Wendys",
          "West",
          "West Campus",
          "West Salem",
          "West Side of the Mountain Cemetery",
          "West Village",
          "West Virginia",
          "Western",
          "Westover",
          "Westover Park",
          "Weyers Cave",
          "Wilaya d’ Alger",
          "Williamsburg",
          "Willow",
          "Wilson",
          "Wilson County",
          "Wilson Hall",
          "Winchester",
          "Wisconsin",
          "Wyoming",
          "Yerevan Football Academy Stadium",
          "Óc Eo",
          "Şahad",
          "Ṭikar"
         ],
         "lat": [
          49.89476,
          53.55325,
          51.8999,
          42.09176,
          52.37,
          52.03691,
          22.31602,
          35.72455,
          32.75041,
          35.93281,
          36.73225,
          34.66843,
          54.3996,
          -3.75,
          29.65957,
          42.27756,
          51.22047,
          40.00037,
          40.78118,
          34.5003,
          33.41728,
          32.73569,
          49.97704,
          46.09302,
          38.43846,
          52.30829,
          29.84064,
          40.79892,
          41.07078,
          41.4036,
          33.47097,
          38.16452,
          65,
          49.21667,
          40.19949,
          39.29038,
          39.36887,
          43.55957,
          11.33,
          39.00952,
          17.95,
          45.83222,
          30.28774,
          36.75428,
          35.30283,
          39.95443,
          38.26492,
          40.15424,
          43.98913,
          43.60294,
          42.35843,
          40.01499,
          35.97859,
          13.07233,
          33.77513,
          34.94731,
          38.43528,
          41.53509,
          42.88645,
          53.15039,
          29.81703,
          30.90684,
          38.43944,
          33.94316,
          40.70228,
          34.392,
          20.38583,
          19.63333,
          38.43861,
          51.51596,
          41.93502,
          -21.68333,
          40.80944,
          38.34982,
          38.02931,
          36.81904,
          36.86094,
          36.24564,
          41.85003,
          41.97959,
          38.44957,
          37.41375,
          38.14931,
          38.06847,
          41.4995,
          40.06951,
          19.71667,
          39.00027,
          53.54239,
          14.6969,
          38.91036,
          36.01361,
          41.66704,
          42.37259,
          34.7887,
          42.02561,
          40.60297,
          40.113,
          -23.39013,
          45.56659,
          42.8995,
          32.78306,
          39.75895,
          45.05741,
          36.68995,
          40.14312,
          39.00039,
          5.5,
          42.06622,
          42.33143,
          50.7512,
          38.91706,
          39.06393,
          40.35063,
          46.34772,
          41.38877,
          56.46667,
          41.34397,
          40.82657,
          38.42929,
          0,
          43.68556,
          39.13839,
          38.90611,
          35.60044,
          40.75266,
          40.60897,
          51.13067,
          55.95206,
          47.5746,
          19.43187,
          54.78604,
          42.79748,
          39.26733,
          -35.30653,
          32.07668,
          -41.07363,
          53.47231,
          50.49812,
          38.94541,
          -34.79668,
          20.33333,
          19.36667,
          48.69096,
          38.84622,
          51.5,
          -10,
          38.74422,
          47.08922,
          60.35746,
          38.09902,
          43.77925,
          28.75054,
          38.9015,
          -33.38436,
          40.12365,
          28.0492,
          35.44535,
          39.91481,
          49.01688,
          41.51926,
          50.99474,
          33.15067,
          38.9175,
          40.51587,
          38.43667,
          26.59493,
          31.50161,
          42.95279,
          32.75042,
          53.83345,
          38.93206,
          55.9033,
          38.4379,
          42.25953,
          42.51269,
          36.8543,
          38.44167,
          38.43417,
          26.54233,
          -0.36667,
          40.43368,
          44.9688,
          44.9687,
          40.99729,
          39.46054,
          36.32571,
          36.97515,
          40.2737,
          45.60009,
          32.54813,
          38.82944,
          36.19623,
          40.63814,
          38.44957,
          41.76371,
          38.91567,
          38.44096,
          41.64577,
          40.69601,
          41.40222,
          39.25072,
          33.75057,
          19.12301,
          36.40217,
          31,
          30.02716,
          53.07468,
          58.39964,
          41.27517,
          -19.15,
          40.6462,
          34.7865,
          38.43667,
          40.00032,
          40.00032,
          39.76838,
          41.36843,
          32.88224,
          33,
          42.83333,
          55.75088,
          35.61452,
          38.82861,
          39.95951,
          32.75,
          24.97199,
          39.10414,
          45.52151,
          38.99693,
          31.76904,
          46.79711,
          46.8434,
          38.04583,
          39.75843,
          43.03835,
          31.58333,
          29.97044,
          60.25174,
          38.43861,
          49.21667,
          29.7744,
          40.73722,
          40.82139,
          67.78147,
          32.83743,
          35.96064,
          60.18572,
          35.25,
          21.23831,
          35.16675,
          36.03286,
          45.64856,
          41.58204,
          9.51604,
          36.17497,
          34.0314,
          53.17194,
          36.70545,
          38.43333,
          39.11566,
          37.98869,
          14.62631,
          40.38845,
          42.36514,
          51.50853,
          34.43027,
          39.11927,
          34.05223,
          31.00047,
          38.52345,
          38.66909,
          35.28314,
          37.45669,
          43.07305,
          40.25285,
          41.53588,
          41.99305,
          46.54354,
          -19.51667,
          39.00039,
          39.02205,
          39.02175,
          43.95625,
          14.60967,
          39.72148,
          42.36565,
          38.40957,
          35.61694,
          38.4379,
          35.33549,
          2.25,
          29.77303,
          39.97928,
          35.14953,
          25.77427,
          44.25029,
          35.8,
          42.65982,
          30.47318,
          42.40926,
          38.25031,
          43.18496,
          39.13638,
          45.50884,
          38.18675,
          29.67912,
          37.97622,
          45.72484,
          8.63944,
          8.95506,
          37.98591,
          44.00833,
          38.87255,
          41.50028,
          33.44039,
          43.66702,
          40.16706,
          34.50034,
          35.68237,
          43.00035,
          40.71427,
          -42,
          32.00344,
          45.96442,
          33.73559,
          35.50069,
          39.96305,
          38.91261,
          59.9166,
          38.73074,
          65.65053,
          37.80437,
          37.48771,
          -18.31281,
          35.49209,
          41.24005,
          6.15521,
          -27.68543,
          44.00013,
          36.91672,
          31.92157,
          8.9936,
          43.69972,
          30.36687,
          40.8,
          35,
          27,
          28.80165,
          40.31011,
          21.40537,
          39.95238,
          39.95233,
          44.95495,
          52.5433,
          32.77263,
          39.61678,
          47.11447,
          39.52067,
          -32.74561,
          50.15122,
          48.90279,
          45.52345,
          40.15285,
          39.25603,
          40.57361,
          52,
          -33.9624,
          40.77078,
          32.93844,
          35.1792,
          52.44889,
          59,
          46,
          22,
          33,
          35.91667,
          37.55376,
          39.46287,
          -5.75,
          37.27097,
          37.20907,
          31.54798,
          42.98454,
          38.42611,
          41.89193,
          39.55955,
          38.4375,
          40.47017,
          31.63571,
          41.15194,
          48.27399,
          52.48292,
          40.96882,
          37.27452,
          32.25,
          38.98345,
          36.78775,
          37.77493,
          33.72281,
          35.68698,
          43.45444,
          38.85839,
          38.48346,
          38.43361,
          55.01565,
          45.87866,
          45.36327,
          -3.39521,
          37.06291,
          51.47459,
          33.45876,
          43.07367,
          41.50398,
          34.00043,
          39.6263,
          29.67286,
          42.64609,
          42.51121,
          53.65223,
          38.88067,
          40.63439,
          43.08304,
          38.88122,
          19.70273,
          45.90011,
          38.70265,
          34.93706,
          14.61703,
          41.62758,
          43.58336,
          40.5751,
          31.5,
          38.14991,
          37.49524,
          38.35263,
          44.62675,
          46.26052,
          59.96667,
          43.08126,
          26.07205,
          33.92044,
          31.11233,
          26.0908,
          60.27996,
          64,
          59.43696,
          17.25044,
          39.98784,
          35.27766,
          -29.03333,
          31.25044,
          42.14482,
          51.52757,
          18.44322,
          41.29093,
          38.85927,
          42.40926,
          40.73889,
          37.39737,
          51.5474,
          43.70643,
          36.15398,
          33.20984,
          55.25,
          40.6976,
          54.75844,
          39.76,
          38.88983,
          30.28496,
          27.39044,
          42.5126,
          30.69588,
          56.99081,
          40.66732,
          44.33295,
          26.13082,
          38.43722,
          44.00034,
          40.7826,
          51.42727,
          37.54812,
          37.24522,
          -18,
          48.05171,
          32.82116,
          38.0693,
          48.05562,
          32.77735,
          35.67868,
          43.35167,
          52.22977,
          47.50012,
          39.18677,
          48.01682,
          43.45694,
          -33.40057,
          52.36889,
          43.97367,
          42.77268,
          34.67943,
          43.89913,
          41.99926,
          42.56676,
          38.50038,
          46.8687,
          38.48207,
          32.78791,
          38.28846,
          36.74053,
          37.2707,
          42.27807,
          41.81204,
          36.15486,
          42.13093,
          42.77342,
          44.50024,
          43.00024,
          40.22096,
          10.24212,
          16.81372,
          27.4813
         ],
         "legendgroup": "",
         "lon": [
          -97.13848,
          9.96323,
          4.9831,
          -72.5787,
          4.89,
          5.73392,
          113.93663,
          35.9226,
          -86.75026,
          -103.87136,
          3.08746,
          -88.4431,
          24.1252,
          -64.5,
          -82.41514,
          -83.74088,
          4.40026,
          -78,
          -78.85253,
          -111.50098,
          -111.9355,
          -97.10807,
          9.15214,
          -95.81755,
          -78.8753,
          -1.16219,
          89.29688,
          -73.96856,
          -111.94577,
          -95.01388,
          -81.97484,
          -79.13383,
          -15,
          -2.11667,
          -85.41247,
          -76.61219,
          -107.03282,
          -86.26093,
          36.42,
          -83.12379,
          -76.61667,
          -106.60669,
          -81.73538,
          -81.8204,
          -102.15131,
          -105.97863,
          -78.55509,
          -79.21142,
          -115.73024,
          -116.19845,
          -71.05977,
          -105.27055,
          -114.83249,
          80.18814,
          -82.8107,
          -87.15585,
          -78.87278,
          -73.36623,
          -78.87837,
          8.71398,
          -95.39016,
          -100.40259,
          -78.87222,
          -84.57827,
          -80.66646,
          -103.32071,
          -72.33398,
          -71.9,
          -78.87167,
          -0.30474,
          -91.00182,
          16.16667,
          -73.96278,
          -81.63262,
          -78.47668,
          -76.27494,
          -82.39126,
          -83.90214,
          -87.65005,
          -87.90446,
          -78.86892,
          -79.14225,
          -79.05963,
          -78.88947,
          -81.69541,
          -82.52321,
          -72.15,
          -105.50083,
          -6.80159,
          121.08006,
          -78.47784,
          14.32056,
          -72.66648,
          -72.5187,
          -83.92408,
          -123.14391,
          -117.04649,
          -75.1295,
          16.16011,
          -113.12199,
          -78.68447,
          -96.80667,
          -84.19161,
          -123.34914,
          -119.04872,
          -83.1213,
          -75.49992,
          6,
          48.28759,
          -83.04575,
          -3.81027,
          -77.00025,
          -87.89086,
          -79.88616,
          -87.15792,
          -70.69877,
          -2.91667,
          -75.73853,
          -77.98841,
          -75.96327,
          0,
          -85.47556,
          -84.50494,
          -77.06972,
          -77.36441,
          -74.23611,
          -77.23804,
          -2.99651,
          -3.19648,
          8.5301,
          -99.03882,
          24.66113,
          -95.36834,
          -76.79831,
          149.11623,
          34.76675,
          145.92585,
          9.13028,
          -99.91223,
          66.58819,
          -58.35914,
          -103.66667,
          -99.66667,
          9.14062,
          -77.30637,
          10.5,
          -55,
          -90.30539,
          7.13563,
          149.08089,
          -78.96919,
          11.24626,
          -82.5001,
          -77.0622,
          148.0076,
          -85.69664,
          -82.4568,
          -84.6191,
          -77.90472,
          -80.74975,
          -72.05702,
          -0.57398,
          -96.82361,
          -77.08972,
          -88.38172,
          -78.86778,
          83.66786,
          34.46672,
          -88.35898,
          -83.50018,
          -113.33531,
          -76.99942,
          -2.74592,
          -78.87586,
          -73.22094,
          -114.57476,
          -82.7584,
          -78.87528,
          -78.87611,
          -81.78705,
          -78.43333,
          -79.80199,
          -93.2741,
          -93.2746,
          -77.27803,
          -105.73584,
          -76.95274,
          -76.34967,
          -76.88442,
          -80.4164,
          -94.37149,
          -77.3025,
          -82.10401,
          -79.7165,
          -78.86892,
          -72.68509,
          -77.07887,
          -78.89919,
          -111.90967,
          -74.22866,
          -92.9202,
          -76.93119,
          -117.86839,
          98.16055,
          -119.80903,
          112.25,
          -95.08576,
          6.62937,
          -124.81976,
          -120.83052,
          29.8,
          -76.42468,
          -86.94199,
          -78.86694,
          -89.25037,
          -86.25027,
          -86.15804,
          -72.11563,
          70.91677,
          66,
          12.83333,
          37.61824,
          -88.81395,
          -77.30139,
          -82.41293,
          74.83333,
          86.25534,
          -84.51177,
          -122.67398,
          -85.62806,
          35.21633,
          130.31118,
          130.465,
          -78.50722,
          -77.75499,
          -87.92703,
          35,
          -90.12436,
          24.88111,
          -78.87278,
          -122.93333,
          -95.1447,
          -73.81528,
          -73.59389,
          25.07689,
          -97.29183,
          -83.92074,
          25.00516,
          135.43333,
          -86.86751,
          -86.6,
          -114.72602,
          -95.39511,
          -71.91424,
          -72.66671,
          -115.13722,
          -117.98951,
          -7.38056,
          -83.12853,
          -78.85972,
          -77.5636,
          -84.47772,
          121.1333,
          -83.76587,
          -71.01777,
          -0.12574,
          -119.29317,
          -77.87611,
          -118.24368,
          -92.0004,
          -75.40631,
          -78.50195,
          -86.37416,
          -98.83037,
          -89.40123,
          -79.67976,
          -86.09834,
          -70.72949,
          -87.39542,
          30,
          -76.74997,
          -77.12748,
          -82.02903,
          -86.42258,
          121.12267,
          -77.75416,
          -71.10832,
          -78.7378,
          -87.07701,
          -78.87364,
          25.13111,
          102.25,
          -95.58442,
          -75.20962,
          -90.04898,
          -80.19366,
          -85.50033,
          -86.5,
          -93.93863,
          -83.40015,
          -71.12116,
          -92.50046,
          -108.26621,
          -77.20424,
          -73.58781,
          -83.43324,
          -94.98354,
          -81.28177,
          -122.43371,
          46.61194,
          5.23775,
          -1.13947,
          -78.965,
          -77.00773,
          -99.75067,
          -84.11183,
          -71.4998,
          -74.49987,
          -106.00085,
          -105.93959,
          -75.4999,
          -74.00597,
          174,
          -106.32304,
          -90.15745,
          -113.53132,
          -80.00032,
          -101.43016,
          -76.97581,
          30.25,
          -77.71193,
          12.65206,
          -122.2708,
          -117.91565,
          138.51562,
          -97.50328,
          -83.14992,
          6.81071,
          28.65653,
          -120.50139,
          -92.01682,
          35.20329,
          -79.51973,
          -88.08954,
          -95.03215,
          -77.7,
          105,
          51,
          -96.21802,
          -75.106,
          74.63682,
          -75.16362,
          -75.16351,
          -93.25706,
          13.4278,
          -98.16199,
          -75.22907,
          7.26018,
          -74.48571,
          137.74864,
          1.74853,
          6.16131,
          -122.67621,
          -80.52924,
          -76.70665,
          -96.70308,
          5.83333,
          151.2262,
          -111.75827,
          35.3675,
          -80.8843,
          9.74,
          26,
          2,
          79,
          44,
          14.43333,
          -77.46026,
          -78.31251,
          -36.5,
          -79.94143,
          -80.05085,
          -82.41652,
          -71.08897,
          -78.87667,
          12.51133,
          -77.13359,
          -78.87472,
          -120.81135,
          -86.74331,
          -73.74806,
          -121.85264,
          -2.04376,
          -5.66388,
          -80.01989,
          35.16667,
          -76.48663,
          40.55504,
          -122.41942,
          -117.90019,
          -105.9378,
          -76.53611,
          -78.5706,
          -78.84975,
          -78.87278,
          82.96276,
          -82.89124,
          -75.72732,
          143.27804,
          -79.76603,
          -0.15479,
          -90.15081,
          -78.33558,
          -73.97708,
          -81.00009,
          -79.9589,
          -95.41806,
          -92.46296,
          -70.89255,
          -114.66024,
          -76.98998,
          -111.8716,
          -96.16252,
          -77.01637,
          -79.81588,
          -76.91614,
          -79.58826,
          -82.22511,
          121.12842,
          -75.83519,
          1.43406,
          -74.83767,
          34.75,
          -79.0732,
          -114.58889,
          -79.14892,
          -79.42263,
          -94.77974,
          15.85,
          25.6447,
          -80.23203,
          -80.34147,
          -83.68656,
          -97.1652,
          25.01759,
          -19,
          24.75353,
          77.58504,
          -82.84295,
          -102.35403,
          167.95,
          -99.25061,
          -72.6112,
          -0.12059,
          -64.53476,
          -72.52898,
          -77.26921,
          -71.12172,
          -74.00889,
          25.26775,
          -3.5952,
          -79.39864,
          -95.99277,
          -87.56917,
          24.75,
          -74.2632,
          -2.69531,
          -98.5,
          -77.00887,
          -81.60259,
          -82.46883,
          -92.45964,
          -88.17691,
          52.18517,
          -75.03212,
          -115.77734,
          -98.24734,
          -78.87444,
          -72.74983,
          -74.0107,
          -0.23147,
          -77.44675,
          -79.97176,
          178,
          19.8199,
          -116.93114,
          -78.47307,
          -122.11265,
          -97.73559,
          -85.7785,
          -73.65528,
          21.01178,
          -120.50147,
          -77.60999,
          -83.81652,
          -88.82816,
          18.42029,
          -2.8496,
          -75.90437,
          -116.9579,
          -82.8396,
          -91.08125,
          -72.74509,
          -71.112,
          -80.50009,
          -123.94767,
          -78.02055,
          -96.63722,
          -78.91308,
          3.00957,
          -76.70746,
          -89.94985,
          -72.65731,
          -86.29763,
          -72.79315,
          -72.38314,
          -90.00041,
          -107.5009,
          44.55532,
          105.155,
          53.50495,
          83.52467
         ],
         "marker": {
          "color": {
           "bdata": "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",
           "dtype": "f4"
          },
          "coloraxis": "coloraxis",
          "size": {
           "bdata": "AQABAAEAAQADAAEAAgABAAEAAQADAAEAAgABAAEAAQABAAEAAQABAAUAAwABAAMAAwADAAMABAADAAEAAgADAAMAFQACAAMAEwABAAEAAgABAAIAAQABAAEAAQABAAUAAQABAAEAAgABAAEAAwABAAYACQABAAIAAQABAAEABAABAAEAAQACAAYAAgABAAoABgADAAoAAgABAAcAAwABAL4AAQABAAMAAQABAAEAAgABAAIAAwABAAIAAQACAAMAAwADAAEAAQAQAAIABQACAAEAAQABAAEAAQABAAcAEgABAAEAAQACAAEAAQABAAkAAQABAAEAEgACAAEAAQABAAEAAwABAAEAAQABAAIAAQABAAIAAQABAAEAAQABAAIAAgABAAEAAQABAAEAAQACABsAAgABAAEAAQABAAEAAQABAAQAAQACAAIAAgABAAEAAQABAAEAAwADAAEAAQAJAAUABAACAAEAAQAPAAkAAQACAAIAAgABAAEAAgAIAAUAAQAFAGAAAQABAAEAAQAKAAEAAQABAAEAAgABAAEAAQABAAIAAQAHAAEAAgAEAAIAAQABAAEAAQADAAEAAwAEAAIAAgABAAEAAQAFAAEAKAADAAEAAQABAAEAAQADAAQAAQACAAEAAQACAAEAAQABAAEAAQABAAEAAwACAAEAAQABAAEAAQACAAIABQABAAEAAQABAAIAAQABAAEAAQABAAYAAQAHAAQABAABAAEAAQAEAAIAAgABAAEAAQABAAIAAQACAAMAAQAFAAEAAQABAAEAAgABAAIABAABAAMAAQABAAEAAQABAAEAAQABAAEAAQABAAIAAQACABcAAwABAAsABwAGAAIACwABAAcABAABAAEAAQAOAAEAAQABAAIAAQABAAEAAQABAAEAAQABAAEABwACAAEABgACAAIAAwABAAEAAQABAAYAAgADAAEAAQABAAIABAAGAAEAAQABAA4AAgACAAEAAQABAAEAAQACABAAAQACAAMAAgADAA0AAQABAAEAAgABAAMAAQABAAEAAQABAAEAAgABAAIAAgABAAEAAwABAAgAAQABAAoAAQABAAEAAQABAAEAAgABAAMAAQABAAIAAQAVAAEAAQABAAMAAQAEAAEAAQABAAIAAwABAAEAAQABAAEAAwABAAEABAABAAEAAQABAAEAAgABAAYAAQAEAAEAAQABAAEAAQABAAIAAQACAAIAAQACAAYAAQADAEkAAQABAAEAAQADAAEAAgABAAUAAQAEAAEADQCZAAEAAQABAAIAAQADAAIAAQABAAEAAwABAAUAAQABAAEAAQABAAIAAQABAAIABwABAAEAAQACAAEAAQABAAEAAgAKAAEAAwABAAEAAQABAAUA",
           "dtype": "i2"
          },
          "sizemode": "area",
          "sizeref": 0.076
         },
         "mode": "markers",
         "name": "",
         "showlegend": false,
         "subplot": "mapbox",
         "type": "scattermapbox"
        }
       ],
       "layout": {
        "coloraxis": {
         "cmid": 0,
         "colorbar": {
          "ticktext": [
           "Very Negative",
           "Negative",
           "Neutral",
           "Positive",
           "Very Positive"
          ],
          "tickvals": [
           -0.5,
           -0.25,
           0,
           0.25,
           0.5
          ],
          "title": {
           "text": "Average Sentiment"
          }
         },
         "colorscale": [
          [
           0,
           "rgb(165,0,38)"
          ],
          [
           0.1,
           "rgb(215,48,39)"
          ],
          [
           0.2,
           "rgb(244,109,67)"
          ],
          [
           0.3,
           "rgb(253,174,97)"
          ],
          [
           0.4,
           "rgb(254,224,139)"
          ],
          [
           0.5,
           "rgb(255,255,191)"
          ],
          [
           0.6,
           "rgb(217,239,139)"
          ],
          [
           0.7,
           "rgb(166,217,106)"
          ],
          [
           0.8,
           "rgb(102,189,99)"
          ],
          [
           0.9,
           "rgb(26,152,80)"
          ],
          [
           1,
           "rgb(0,104,55)"
          ]
         ]
        },
        "height": 700,
        "legend": {
         "itemsizing": "constant",
         "tracegroupgap": 0
        },
        "mapbox": {
         "center": {
          "lat": 37.5246322,
          "lon": -77.5758331
         },
         "domain": {
          "x": [
           0,
           1
          ],
          "y": [
           0,
           1
          ]
         },
         "style": "open-street-map",
         "zoom": 6
        },
        "margin": {
         "b": 0,
         "l": 0,
         "r": 0,
         "t": 70
        },
        "template": {
         "data": {
          "bar": [
           {
            "error_x": {
             "color": "#2a3f5f"
            },
            "error_y": {
             "color": "#2a3f5f"
            },
            "marker": {
             "line": {
              "color": "#E5ECF6",
              "width": 0.5
             },
             "pattern": {
              "fillmode": "overlay",
              "size": 10,
              "solidity": 0.2
             }
            },
            "type": "bar"
           }
          ],
          "barpolar": [
           {
            "marker": {
             "line": {
              "color": "#E5ECF6",
              "width": 0.5
             },
             "pattern": {
              "fillmode": "overlay",
              "size": 10,
              "solidity": 0.2
             }
            },
            "type": "barpolar"
           }
          ],
          "carpet": [
           {
            "aaxis": {
             "endlinecolor": "#2a3f5f",
             "gridcolor": "white",
             "linecolor": "white",
             "minorgridcolor": "white",
             "startlinecolor": "#2a3f5f"
            },
            "baxis": {
             "endlinecolor": "#2a3f5f",
             "gridcolor": "white",
             "linecolor": "white",
             "minorgridcolor": "white",
             "startlinecolor": "#2a3f5f"
            },
            "type": "carpet"
           }
          ],
          "choropleth": [
           {
            "colorbar": {
             "outlinewidth": 0,
             "ticks": ""
            },
            "type": "choropleth"
           }
          ],
          "contour": [
           {
            "colorbar": {
             "outlinewidth": 0,
             "ticks": ""
            },
            "colorscale": [
             [
              0,
              "#0d0887"
             ],
             [
              0.1111111111111111,
              "#46039f"
             ],
             [
              0.2222222222222222,
              "#7201a8"
             ],
             [
              0.3333333333333333,
              "#9c179e"
             ],
             [
              0.4444444444444444,
              "#bd3786"
             ],
             [
              0.5555555555555556,
              "#d8576b"
             ],
             [
              0.6666666666666666,
              "#ed7953"
             ],
             [
              0.7777777777777778,
              "#fb9f3a"
             ],
             [
              0.8888888888888888,
              "#fdca26"
             ],
             [
              1,
              "#f0f921"
             ]
            ],
            "type": "contour"
           }
          ],
          "contourcarpet": [
           {
            "colorbar": {
             "outlinewidth": 0,
             "ticks": ""
            },
            "type": "contourcarpet"
           }
          ],
          "heatmap": [
           {
            "colorbar": {
             "outlinewidth": 0,
             "ticks": ""
            },
            "colorscale": [
             [
              0,
              "#0d0887"
             ],
             [
              0.1111111111111111,
              "#46039f"
             ],
             [
              0.2222222222222222,
              "#7201a8"
             ],
             [
              0.3333333333333333,
              "#9c179e"
             ],
             [
              0.4444444444444444,
              "#bd3786"
             ],
             [
              0.5555555555555556,
              "#d8576b"
             ],
             [
              0.6666666666666666,
              "#ed7953"
             ],
             [
              0.7777777777777778,
              "#fb9f3a"
             ],
             [
              0.8888888888888888,
              "#fdca26"
             ],
             [
              1,
              "#f0f921"
             ]
            ],
            "type": "heatmap"
           }
          ],
          "histogram": [
           {
            "marker": {
             "pattern": {
              "fillmode": "overlay",
              "size": 10,
              "solidity": 0.2
             }
            },
            "type": "histogram"
           }
          ],
          "histogram2d": [
           {
            "colorbar": {
             "outlinewidth": 0,
             "ticks": ""
            },
            "colorscale": [
             [
              0,
              "#0d0887"
             ],
             [
              0.1111111111111111,
              "#46039f"
             ],
             [
              0.2222222222222222,
              "#7201a8"
             ],
             [
              0.3333333333333333,
              "#9c179e"
             ],
             [
              0.4444444444444444,
              "#bd3786"
             ],
             [
              0.5555555555555556,
              "#d8576b"
             ],
             [
              0.6666666666666666,
              "#ed7953"
             ],
             [
              0.7777777777777778,
              "#fb9f3a"
             ],
             [
              0.8888888888888888,
              "#fdca26"
             ],
             [
              1,
              "#f0f921"
             ]
            ],
            "type": "histogram2d"
           }
          ],
          "histogram2dcontour": [
           {
            "colorbar": {
             "outlinewidth": 0,
             "ticks": ""
            },
            "colorscale": [
             [
              0,
              "#0d0887"
             ],
             [
              0.1111111111111111,
              "#46039f"
             ],
             [
              0.2222222222222222,
              "#7201a8"
             ],
             [
              0.3333333333333333,
              "#9c179e"
             ],
             [
              0.4444444444444444,
              "#bd3786"
             ],
             [
              0.5555555555555556,
              "#d8576b"
             ],
             [
              0.6666666666666666,
              "#ed7953"
             ],
             [
              0.7777777777777778,
              "#fb9f3a"
             ],
             [
              0.8888888888888888,
              "#fdca26"
             ],
             [
              1,
              "#f0f921"
             ]
            ],
            "type": "histogram2dcontour"
           }
          ],
          "mesh3d": [
           {
            "colorbar": {
             "outlinewidth": 0,
             "ticks": ""
            },
            "type": "mesh3d"
           }
          ],
          "parcoords": [
           {
            "line": {
             "colorbar": {
              "outlinewidth": 0,
              "ticks": ""
             }
            },
            "type": "parcoords"
           }
          ],
          "pie": [
           {
            "automargin": true,
            "type": "pie"
           }
          ],
          "scatter": [
           {
            "fillpattern": {
             "fillmode": "overlay",
             "size": 10,
             "solidity": 0.2
            },
            "type": "scatter"
           }
          ],
          "scatter3d": [
           {
            "line": {
             "colorbar": {
              "outlinewidth": 0,
              "ticks": ""
             }
            },
            "marker": {
             "colorbar": {
              "outlinewidth": 0,
              "ticks": ""
             }
            },
            "type": "scatter3d"
           }
          ],
          "scattercarpet": [
           {
            "marker": {
             "colorbar": {
              "outlinewidth": 0,
              "ticks": ""
             }
            },
            "type": "scattercarpet"
           }
          ],
          "scattergeo": [
           {
            "marker": {
             "colorbar": {
              "outlinewidth": 0,
              "ticks": ""
             }
            },
            "type": "scattergeo"
           }
          ],
          "scattergl": [
           {
            "marker": {
             "colorbar": {
              "outlinewidth": 0,
              "ticks": ""
             }
            },
            "type": "scattergl"
           }
          ],
          "scattermap": [
           {
            "marker": {
             "colorbar": {
              "outlinewidth": 0,
              "ticks": ""
             }
            },
            "type": "scattermap"
           }
          ],
          "scattermapbox": [
           {
            "marker": {
             "colorbar": {
              "outlinewidth": 0,
              "ticks": ""
             }
            },
            "type": "scattermapbox"
           }
          ],
          "scatterpolar": [
           {
            "marker": {
             "colorbar": {
              "outlinewidth": 0,
              "ticks": ""
             }
            },
            "type": "scatterpolar"
           }
          ],
          "scatterpolargl": [
           {
            "marker": {
             "colorbar": {
              "outlinewidth": 0,
              "ticks": ""
             }
            },
            "type": "scatterpolargl"
           }
          ],
          "scatterternary": [
           {
            "marker": {
             "colorbar": {
              "outlinewidth": 0,
              "ticks": ""
             }
            },
            "type": "scatterternary"
           }
          ],
          "surface": [
           {
            "colorbar": {
             "outlinewidth": 0,
             "ticks": ""
            },
            "colorscale": [
             [
              0,
              "#0d0887"
             ],
             [
              0.1111111111111111,
              "#46039f"
             ],
             [
              0.2222222222222222,
              "#7201a8"
             ],
             [
              0.3333333333333333,
              "#9c179e"
             ],
             [
              0.4444444444444444,
              "#bd3786"
             ],
             [
              0.5555555555555556,
              "#d8576b"
             ],
             [
              0.6666666666666666,
              "#ed7953"
             ],
             [
              0.7777777777777778,
              "#fb9f3a"
             ],
             [
              0.8888888888888888,
              "#fdca26"
             ],
             [
              1,
              "#f0f921"
             ]
            ],
            "type": "surface"
           }
          ],
          "table": [
           {
            "cells": {
             "fill": {
              "color": "#EBF0F8"
             },
             "line": {
              "color": "white"
             }
            },
            "header": {
             "fill": {
              "color": "#C8D4E3"
             },
             "line": {
              "color": "white"
             }
            },
            "type": "table"
           }
          ]
         },
         "layout": {
          "annotationdefaults": {
           "arrowcolor": "#2a3f5f",
           "arrowhead": 0,
           "arrowwidth": 1
          },
          "autotypenumbers": "strict",
          "coloraxis": {
           "colorbar": {
            "outlinewidth": 0,
            "ticks": ""
           }
          },
          "colorscale": {
           "diverging": [
            [
             0,
             "#8e0152"
            ],
            [
             0.1,
             "#c51b7d"
            ],
            [
             0.2,
             "#de77ae"
            ],
            [
             0.3,
             "#f1b6da"
            ],
            [
             0.4,
             "#fde0ef"
            ],
            [
             0.5,
             "#f7f7f7"
            ],
            [
             0.6,
             "#e6f5d0"
            ],
            [
             0.7,
             "#b8e186"
            ],
            [
             0.8,
             "#7fbc41"
            ],
            [
             0.9,
             "#4d9221"
            ],
            [
             1,
             "#276419"
            ]
           ],
           "sequential": [
            [
             0,
             "#0d0887"
            ],
            [
             0.1111111111111111,
             "#46039f"
            ],
            [
             0.2222222222222222,
             "#7201a8"
            ],
            [
             0.3333333333333333,
             "#9c179e"
            ],
            [
             0.4444444444444444,
             "#bd3786"
            ],
            [
             0.5555555555555556,
             "#d8576b"
            ],
            [
             0.6666666666666666,
             "#ed7953"
            ],
            [
             0.7777777777777778,
             "#fb9f3a"
            ],
            [
             0.8888888888888888,
             "#fdca26"
            ],
            [
             1,
             "#f0f921"
            ]
           ],
           "sequentialminus": [
            [
             0,
             "#0d0887"
            ],
            [
             0.1111111111111111,
             "#46039f"
            ],
            [
             0.2222222222222222,
             "#7201a8"
            ],
            [
             0.3333333333333333,
             "#9c179e"
            ],
            [
             0.4444444444444444,
             "#bd3786"
            ],
            [
             0.5555555555555556,
             "#d8576b"
            ],
            [
             0.6666666666666666,
             "#ed7953"
            ],
            [
             0.7777777777777778,
             "#fb9f3a"
            ],
            [
             0.8888888888888888,
             "#fdca26"
            ],
            [
             1,
             "#f0f921"
            ]
           ]
          },
          "colorway": [
           "#636efa",
           "#EF553B",
           "#00cc96",
           "#ab63fa",
           "#FFA15A",
           "#19d3f3",
           "#FF6692",
           "#B6E880",
           "#FF97FF",
           "#FECB52"
          ],
          "font": {
           "color": "#2a3f5f"
          },
          "geo": {
           "bgcolor": "white",
           "lakecolor": "white",
           "landcolor": "#E5ECF6",
           "showlakes": true,
           "showland": true,
           "subunitcolor": "white"
          },
          "hoverlabel": {
           "align": "left"
          },
          "hovermode": "closest",
          "mapbox": {
           "style": "light"
          },
          "paper_bgcolor": "white",
          "plot_bgcolor": "#E5ECF6",
          "polar": {
           "angularaxis": {
            "gridcolor": "white",
            "linecolor": "white",
            "ticks": ""
           },
           "bgcolor": "#E5ECF6",
           "radialaxis": {
            "gridcolor": "white",
            "linecolor": "white",
            "ticks": ""
           }
          },
          "scene": {
           "xaxis": {
            "backgroundcolor": "#E5ECF6",
            "gridcolor": "white",
            "gridwidth": 2,
            "linecolor": "white",
            "showbackground": true,
            "ticks": "",
            "zerolinecolor": "white"
           },
           "yaxis": {
            "backgroundcolor": "#E5ECF6",
            "gridcolor": "white",
            "gridwidth": 2,
            "linecolor": "white",
            "showbackground": true,
            "ticks": "",
            "zerolinecolor": "white"
           },
           "zaxis": {
            "backgroundcolor": "#E5ECF6",
            "gridcolor": "white",
            "gridwidth": 2,
            "linecolor": "white",
            "showbackground": true,
            "ticks": "",
            "zerolinecolor": "white"
           }
          },
          "shapedefaults": {
           "line": {
            "color": "#2a3f5f"
           }
          },
          "ternary": {
           "aaxis": {
            "gridcolor": "white",
            "linecolor": "white",
            "ticks": ""
           },
           "baxis": {
            "gridcolor": "white",
            "linecolor": "white",
            "ticks": ""
           },
           "bgcolor": "#E5ECF6",
           "caxis": {
            "gridcolor": "white",
            "linecolor": "white",
            "ticks": ""
           }
          },
          "title": {
           "x": 0.05
          },
          "xaxis": {
           "automargin": true,
           "gridcolor": "white",
           "linecolor": "white",
           "ticks": "",
           "title": {
            "standoff": 15
           },
           "zerolinecolor": "white",
           "zerolinewidth": 2
          },
          "yaxis": {
           "automargin": true,
           "gridcolor": "white",
           "linecolor": "white",
           "ticks": "",
           "title": {
            "standoff": 15
           },
           "zerolinecolor": "white",
           "zerolinewidth": 2
          }
         }
        },
        "title": {
         "text": "🗺️ Interactive Sentiment Map<br><sub>Bubble size = post count, Color = sentiment (red=negative, green=positive)</sub>"
        }
       }
      }
     },
     "metadata": {},
     "output_type": "display_data"
    },
    {
     "name": "stdout",
     "output_type": "stream",
     "text": [
      "📍 Total locations mapped: 522\n",
      "📊 Total posts represented: 1785\n",
      "🔥 Most discussed: City of Harrisonburg (190 posts)\n",
      "😊 Most positive: Planetarium (sentiment: 0.983)\n",
      "😞 Most negative: Hampton Roads (sentiment: -0.839)\n"
     ]
    }
   ],
   "source": [
    "# Create the map using plotly.express \n",
    "fig = px.scatter_mapbox(\n",
    "    df_reddit_place_sentiments,  # put your dataframe here\n",
    "    lat=\"latitude\",               # Latitude column\n",
    "    lon=\"longitude\",              # Longitude column\n",
    "    size=\"location_count\",        # Bubble size based on location count\n",
    "    color=\"avg_roberta_compound\", # Color based on sentiment score\n",
    "    hover_name=\"place\",           # Show place name as the main hover title\n",
    "    hover_data={\n",
    "        'location_count': True,   # Show count of posts\n",
    "        'avg_roberta_compound': ':.3f',  # Show sentiment with 3 decimal places\n",
    "        'latitude': False,        # Hide latitude in hover\n",
    "        'longitude': False        # Hide longitude in hover\n",
    "    },\n",
    "    color_continuous_scale='RdYlGn',  # Red to Green scale (red=negative, green=positive)\n",
    "    color_continuous_midpoint=0,      # Center the color scale at neutral (0)\n",
    "    size_max=50,                      # Maximum size of the bubbles\n",
    "    title='🗺️ Interactive Sentiment Map<br><sub>Bubble size = post count, Color = sentiment (red=negative, green=positive)</sub>',\n",
    "    mapbox_style=\"open-street-map\",   # No token needed for this style\n",
    "    center={\"lat\": 37.5246322, \"lon\": -77.5758331},\n",
    "    zoom=6,                           # Adjust zoom level for better visibility\n",
    "    height=700\n",
    ")\n",
    "\n",
    "# Customize the hover template for better readability\n",
    "fig.update_traces(\n",
    "    hovertemplate=\"<b>%{hovertext}</b><br>\" +\n",
    "                  \"Posts: %{customdata[0]}<br>\" +\n",
    "                  \"Avg Sentiment: %{customdata[1]}<br>\" +\n",
    "                  \"<extra></extra>\"  # Removes the trace box\n",
    ")\n",
    "\n",
    "# Update the layout\n",
    "fig.update_layout(\n",
    "    margin={\"r\":0,\"t\":70,\"l\":0,\"b\":0},  # Add top margin for title\n",
    "    coloraxis_colorbar=dict(\n",
    "        title=\"Average Sentiment\",\n",
    "        tickvals=[-0.5, -0.25, 0, 0.25, 0.5],\n",
    "        ticktext=[\"Very Negative\", \"Negative\", \"Neutral\", \"Positive\", \"Very Positive\"]\n",
    "    )\n",
    ")\n",
    "\n",
    "fig.show()\n",
    "\n",
    "# Print some summary info about the locations\n",
    "print(f\"📍 Total locations mapped: {len(df_reddit_place_sentiments)}\")\n",
    "print(f\"📊 Total posts represented: {df_reddit_place_sentiments['location_count'].sum()}\")\n",
    "if len(df_reddit_place_sentiments) > 0:\n",
    "    most_discussed = df_reddit_place_sentiments.loc[df_reddit_place_sentiments['location_count'].idxmax()]\n",
    "    most_positive = df_reddit_place_sentiments.loc[df_reddit_place_sentiments['avg_roberta_compound'].idxmax()]\n",
    "    most_negative = df_reddit_place_sentiments.loc[df_reddit_place_sentiments['avg_roberta_compound'].idxmin()]\n",
    "    \n",
    "    print(f\"🔥 Most discussed: {most_discussed['place']} ({most_discussed['location_count']} posts)\")\n",
    "    print(f\"😊 Most positive: {most_positive['place']} (sentiment: {most_positive['avg_roberta_compound']:.3f})\")\n",
    "    print(f\"😞 Most negative: {most_negative['place']} (sentiment: {most_negative['avg_roberta_compound']:.3f})\")"
   ]
  },
  {
   "cell_type": "code",
   "execution_count": null,
   "id": "72565818-da13-4535-8758-7d45d42c4c49",
   "metadata": {},
   "outputs": [],
   "source": []
  }
 ],
 "metadata": {
  "kernelspec": {
   "display_name": "Python 3",
   "language": "python",
   "name": "python3"
  },
  "language_info": {
   "codemirror_mode": {
    "name": "ipython",
    "version": 3
   },
   "file_extension": ".py",
   "mimetype": "text/x-python",
   "name": "python",
   "nbconvert_exporter": "python",
   "pygments_lexer": "ipython3",
   "version": "3.12.9"
  }
 },
 "nbformat": 4,
 "nbformat_minor": 5
}
