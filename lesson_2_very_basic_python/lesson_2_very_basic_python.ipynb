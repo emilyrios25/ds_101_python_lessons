{
 "cells": [
  {
   "cell_type": "markdown",
   "id": "23978e2b-1887-4050-8c2d-0a1d4f3fd2b5",
   "metadata": {},
   "source": [
    "# Lesson 2 - Understanding Variables\n",
    "In this lesson you will learn the basic types of variables in Python and most other programming languages. You will also learn how to convert between variables types to deal with one of the most common errors for beginning programmers.\n"
   ]
  },
  {
   "cell_type": "markdown",
   "id": "01e5f20f-1a8b-4e18-8876-0d1b4fd5b463",
   "metadata": {},
   "source": [
    "## Computation and variables\n",
    "\n",
    "The most basic function of any programming language or, indeed, computational device is to perform some mathmatical operation on two different values."
   ]
  },
  {
   "cell_type": "code",
   "execution_count": 1,
   "id": "6d8dd8ff-436b-4783-8ff4-f2808740b25e",
   "metadata": {},
   "outputs": [
    {
     "data": {
      "text/plain": [
       "3"
      ]
     },
     "execution_count": 1,
     "metadata": {},
     "output_type": "execute_result"
    }
   ],
   "source": [
    "2+1"
   ]
  },
  {
   "cell_type": "markdown",
   "id": "0ad340fe-3de2-44cf-adb6-4d65a7951c88",
   "metadata": {},
   "source": [
    "Of course, telling a computer to add two specific numbers is not very powerful. The real power in computing relies on being able to perform operations on variables."
   ]
  },
  {
   "cell_type": "code",
   "execution_count": 2,
   "id": "6a7be594-ac0a-4194-a999-9bcec41e87de",
   "metadata": {},
   "outputs": [
    {
     "data": {
      "text/plain": [
       "3"
      ]
     },
     "execution_count": 2,
     "metadata": {},
     "output_type": "execute_result"
    }
   ],
   "source": [
    "x = 2\n",
    "x+1"
   ]
  },
  {
   "cell_type": "markdown",
   "id": "a165f4cc-6cfc-45ea-9cd4-a3fccc40222e",
   "metadata": {},
   "source": [
    "The `=` sign operator stores the right side into the variable on the left side. This can be a little counterintuitive for humanists who are used to reading left to right! "
   ]
  },
  {
   "cell_type": "markdown",
   "id": "e420129e-6bac-4d9a-a62f-480ddc224c0e",
   "metadata": {},
   "source": [
    "### Types of Variables\n",
    "\n",
    "In Python you can store a lot of different types of data into a variable, ranging from numbers to entire spreadsheets called dataframes. It is not very interesting to go into all the types but there are four important **primitive** data types to know. They are called **primitives** because they constitute the basic building blocks of more complex types.\n",
    "\n",
    "1. Integer - Any non-decimal number\n",
    "2. Float - A floating decimal number (i.e. 3.14159)\n",
    "3. String - A single character or an array of characters (i.e. \"Hello World\")\n",
    "4. Bool - True or False\n",
    "\n"
   ]
  },
  {
   "cell_type": "markdown",
   "id": "81672e22-0eab-4080-b597-3924ba3809cc",
   "metadata": {},
   "source": [
    "In other programming languages you have to define the variable type and the value in the first instance. Python usually infers the type based on input. This is a good and a bad thing."
   ]
  },
  {
   "cell_type": "code",
   "execution_count": 3,
   "id": "15bebe1e-e07b-4de3-a84b-4fef57020979",
   "metadata": {},
   "outputs": [],
   "source": [
    "# Integer no decimal\n",
    "a = 1\n",
    "\n",
    "#float decimal\n",
    "b = 2.0\n",
    "\n",
    "#String quote marks\n",
    "c = \"Three\"\n",
    "\n",
    "#Bool reserved word True or False\n",
    "d = True"
   ]
  },
  {
   "cell_type": "markdown",
   "id": "df6814d0-624f-45c4-81a3-a11de727b273",
   "metadata": {},
   "source": [
    "If we ever want to figure out the particular data type a variable is we can use the `type()` function "
   ]
  },
  {
   "cell_type": "code",
   "execution_count": 4,
   "id": "41fcfe48-c48e-46f6-9133-d2e07611f09e",
   "metadata": {},
   "outputs": [
    {
     "data": {
      "text/plain": [
       "int"
      ]
     },
     "execution_count": 4,
     "metadata": {},
     "output_type": "execute_result"
    }
   ],
   "source": [
    "type(a)"
   ]
  },
  {
   "cell_type": "code",
   "execution_count": 5,
   "id": "388fcc86-0e0b-4ca2-aac4-175eeec3286e",
   "metadata": {},
   "outputs": [
    {
     "data": {
      "text/plain": [
       "float"
      ]
     },
     "execution_count": 5,
     "metadata": {},
     "output_type": "execute_result"
    }
   ],
   "source": [
    "type(b)"
   ]
  },
  {
   "cell_type": "code",
   "execution_count": 6,
   "id": "4626fbbe-3c31-40ea-876c-9781c8f9aaee",
   "metadata": {},
   "outputs": [
    {
     "data": {
      "text/plain": [
       "str"
      ]
     },
     "execution_count": 6,
     "metadata": {},
     "output_type": "execute_result"
    }
   ],
   "source": [
    "type(c)"
   ]
  },
  {
   "cell_type": "code",
   "execution_count": 7,
   "id": "99f622d5-0dbd-4fcb-9856-2d006b327762",
   "metadata": {},
   "outputs": [
    {
     "data": {
      "text/plain": [
       "bool"
      ]
     },
     "execution_count": 7,
     "metadata": {},
     "output_type": "execute_result"
    }
   ],
   "source": [
    "type(d)"
   ]
  },
  {
   "cell_type": "markdown",
   "id": "878c3978-53ba-441b-97f8-f431b2bff8e8",
   "metadata": {},
   "source": [
    "## Variable Type Errors\n",
    "The most common error for people beginning in coding is a `TypeError`. This means that you are trying to do a computation between two pieces of data that are incompatible."
   ]
  },
  {
   "cell_type": "markdown",
   "id": "97395792-7690-4bb0-87bf-d6a54520a19c",
   "metadata": {},
   "source": [
    "For example, I can add `a` and `b` because they are both numbers"
   ]
  },
  {
   "cell_type": "code",
   "execution_count": 8,
   "id": "07cecf10-b6f0-4ff0-8217-2b031fc327b1",
   "metadata": {},
   "outputs": [
    {
     "data": {
      "text/plain": [
       "3.0"
      ]
     },
     "execution_count": 8,
     "metadata": {},
     "output_type": "execute_result"
    }
   ],
   "source": [
    "a + b"
   ]
  },
  {
   "cell_type": "markdown",
   "id": "c1ec51cd-30c2-41b5-a245-7bd61cdeee5b",
   "metadata": {},
   "source": [
    "If I try to add, `a` + `c` it won't work because they are different types. In human language 1 + Three is four, but for computers it is the same as saying \"What is 1 + Blue?\""
   ]
  },
  {
   "cell_type": "markdown",
   "id": "bd1c3537-a177-4342-a847-9707b35d347a",
   "metadata": {},
   "source": [
    "### Task 1:\n",
    "Create a new cell and add `a` + `c` and see what happens."
   ]
  },
  {
   "cell_type": "code",
   "execution_count": 9,
   "id": "7c2be4a3-7b41-4ea2-a8c7-604fda34abe2",
   "metadata": {},
   "outputs": [
    {
     "ename": "TypeError",
     "evalue": "unsupported operand type(s) for +: 'int' and 'str'",
     "output_type": "error",
     "traceback": [
      "\u001b[31m---------------------------------------------------------------------------\u001b[39m",
      "\u001b[31mTypeError\u001b[39m                                 Traceback (most recent call last)",
      "\u001b[36mCell\u001b[39m\u001b[36m \u001b[39m\u001b[32mIn[9]\u001b[39m\u001b[32m, line 2\u001b[39m\n\u001b[32m      1\u001b[39m \u001b[38;5;66;03m#Create Code Here\u001b[39;00m\n\u001b[32m----> \u001b[39m\u001b[32m2\u001b[39m \u001b[43ma\u001b[49m\u001b[43m \u001b[49m\u001b[43m+\u001b[49m\u001b[43m \u001b[49m\u001b[43mc\u001b[49m\n",
      "\u001b[31mTypeError\u001b[39m: unsupported operand type(s) for +: 'int' and 'str'"
     ]
    }
   ],
   "source": [
    "#Create Code Here\n",
    "a + c"
   ]
  },
  {
   "cell_type": "markdown",
   "id": "9831c015-25ae-48f2-b362-445b41f0c482",
   "metadata": {},
   "source": [
    "This seems like a really stupid mistake, but it is not. When you are working with tabular data it is not always clear what the data type of each column is. Thus, even though something might look like a number it could actually be a string and a complex task will come to a grinding halt."
   ]
  },
  {
   "cell_type": "markdown",
   "id": "ea332ecd-4b02-4a72-b2e8-e577963a1db5",
   "metadata": {},
   "source": [
    "**For example**"
   ]
  },
  {
   "cell_type": "code",
   "execution_count": 10,
   "id": "74b571d0-f7af-4ea8-8cf3-5ec3faa908aa",
   "metadata": {},
   "outputs": [
    {
     "data": {
      "text/plain": [
       "'Maroon5'"
      ]
     },
     "execution_count": 10,
     "metadata": {},
     "output_type": "execute_result"
    }
   ],
   "source": [
    "text1 = \"Maroon\"\n",
    "text2 = \"5\"\n",
    "text1 + text2"
   ]
  },
  {
   "cell_type": "markdown",
   "id": "25a927bb-e8ed-4792-96ee-afb0efdbe0a3",
   "metadata": {},
   "source": [
    "This works because `+` is also the operator for string contcatenation (adding one string to another string to make a longer string). What do you think will happen if we try to use the `-` operator to *delete* text2 from text1?"
   ]
  },
  {
   "cell_type": "code",
   "execution_count": 11,
   "id": "9c1aa474-b152-4400-9cb8-3c06f11b4303",
   "metadata": {},
   "outputs": [
    {
     "ename": "TypeError",
     "evalue": "unsupported operand type(s) for -: 'str' and 'str'",
     "output_type": "error",
     "traceback": [
      "\u001b[31m---------------------------------------------------------------------------\u001b[39m",
      "\u001b[31mTypeError\u001b[39m                                 Traceback (most recent call last)",
      "\u001b[36mCell\u001b[39m\u001b[36m \u001b[39m\u001b[32mIn[11]\u001b[39m\u001b[32m, line 1\u001b[39m\n\u001b[32m----> \u001b[39m\u001b[32m1\u001b[39m \u001b[43mtext1\u001b[49m\u001b[43m \u001b[49m\u001b[43m-\u001b[49m\u001b[43m \u001b[49m\u001b[43mtext2\u001b[49m\n",
      "\u001b[31mTypeError\u001b[39m: unsupported operand type(s) for -: 'str' and 'str'"
     ]
    }
   ],
   "source": [
    "text1 - text2"
   ]
  },
  {
   "cell_type": "markdown",
   "id": "35a718e9-07d9-4f1d-bdff-d869a5399962",
   "metadata": {},
   "source": [
    "We get the following error: `TypeError: unsupported operand type(s) for -: 'str' and 'str'`. What could this error mean in English? How could we get help fix this?"
   ]
  },
  {
   "cell_type": "markdown",
   "id": "7d2393b4-deb6-4281-b010-556918ea4863",
   "metadata": {},
   "source": [
    "It is obvious that the lines above would cause trouble, but why might there be an issue with the lines below?"
   ]
  },
  {
   "cell_type": "code",
   "execution_count": 12,
   "id": "c61d23ee-3a30-4e11-9176-f0c4463c3568",
   "metadata": {},
   "outputs": [
    {
     "ename": "TypeError",
     "evalue": "unsupported operand type(s) for +: 'int' and 'str'",
     "output_type": "error",
     "traceback": [
      "\u001b[31m---------------------------------------------------------------------------\u001b[39m",
      "\u001b[31mTypeError\u001b[39m                                 Traceback (most recent call last)",
      "\u001b[36mCell\u001b[39m\u001b[36m \u001b[39m\u001b[32mIn[12]\u001b[39m\u001b[32m, line 3\u001b[39m\n\u001b[32m      1\u001b[39m number1 = \u001b[32m567\u001b[39m\n\u001b[32m      2\u001b[39m number2 = \u001b[33m\"\u001b[39m\u001b[33m5309\u001b[39m\u001b[33m\"\u001b[39m\n\u001b[32m----> \u001b[39m\u001b[32m3\u001b[39m \u001b[43mnumber1\u001b[49m\u001b[43m \u001b[49m\u001b[43m+\u001b[49m\u001b[43m \u001b[49m\u001b[43mnumber2\u001b[49m\n",
      "\u001b[31mTypeError\u001b[39m: unsupported operand type(s) for +: 'int' and 'str'"
     ]
    }
   ],
   "source": [
    "number1 = 567\n",
    "number2 = \"5309\"\n",
    "number1 + number2"
   ]
  },
  {
   "cell_type": "markdown",
   "id": "eb160d62-10f1-499a-a6a4-2d0b24eafc2f",
   "metadata": {},
   "source": [
    "**Does not compute!**  "
   ]
  },
  {
   "cell_type": "markdown",
   "id": "121866da-b6cc-44ab-8ab8-e233ae0859ca",
   "metadata": {},
   "source": [
    "We can actually make the above lines of code work if we convert the data type using some built in functions.\n",
    "\n",
    "1. int() - Converts to integer\n",
    "2. float() - Converts to float\n",
    "3. str() - Converts to string\n",
    "4. bool() - Converts to boolean\n",
    "\n",
    "Using these functions is very simple. Simply insert the variable you want to convert into the parentheses `int(\"5309\")`"
   ]
  },
  {
   "cell_type": "markdown",
   "id": "2238202c-bcea-482c-8929-f34ecf497033",
   "metadata": {},
   "source": [
    "We can now make our math work:    "
   ]
  },
  {
   "cell_type": "code",
   "execution_count": 13,
   "id": "d978ae86-0144-489f-837e-77cbef702902",
   "metadata": {},
   "outputs": [
    {
     "data": {
      "text/plain": [
       "5876"
      ]
     },
     "execution_count": 13,
     "metadata": {},
     "output_type": "execute_result"
    }
   ],
   "source": [
    "number1 + int(number2)"
   ]
  },
  {
   "cell_type": "markdown",
   "id": "27d68479-ef73-4450-b000-f01d2ddf6bdf",
   "metadata": {},
   "source": [
    "### Task 2: \n",
    "How else can we combine number1 and number2 using type conversion?"
   ]
  },
  {
   "cell_type": "code",
   "execution_count": null,
   "id": "23c9d411-8780-428c-9eed-0a678f4cd487",
   "metadata": {},
   "outputs": [],
   "source": [
    "#Enter Code Here\n"
   ]
  },
  {
   "cell_type": "markdown",
   "id": "3a29e327-5551-4874-b383-8ceccaabd1e6",
   "metadata": {
    "tags": []
   },
   "source": [
    "## Arrays and Lists\n",
    "\n",
    "One of the most important complex data types in data science is an array, which in Python is usually referred to as a **List**. In Python, there are actually things called **arrays** but these are used specifically when the data is all of the same type. To avoid confusion, this is the last time we'll use the word array and simply refer to lists.\n",
    "\n",
    "A list is a collection of data that has been placed in a particular order through an index. For example, a list of names:\n",
    "\n",
    "```Python\n",
    "list1 = [\"JMU\", \"UVA\", \"Virginia Tech\", \"William and Mary\"]\n",
    "```\n",
    "\n",
    "\n",
    "\n"
   ]
  },
  {
   "cell_type": "markdown",
   "id": "ca005289-c674-4085-96f6-4b6b191c1b7b",
   "metadata": {},
   "source": [
    "### Accessing List Elements"
   ]
  },
  {
   "cell_type": "markdown",
   "id": "69f5ed04-772d-4fc6-a05f-daf752cab7b2",
   "metadata": {},
   "source": [
    "You can access individual values in a list by using it's index. The index always starts at `0`, so the last index value for this list is `3` even though there are four items. We access this value by giving the name of the list and the index in brackets."
   ]
  },
  {
   "cell_type": "code",
   "execution_count": 15,
   "id": "4a0a4014-a826-4feb-9562-c5d2aa5c56b2",
   "metadata": {},
   "outputs": [],
   "source": [
    "list1 = [\"JMU\", \"UVA\", \"Virginia Tech\", \"William and Mary\"]"
   ]
  },
  {
   "cell_type": "markdown",
   "id": "b47546f0-a422-46e3-81cf-fc5e3774c7df",
   "metadata": {},
   "source": [
    "What value will appear if I type `list1[2]`?"
   ]
  },
  {
   "cell_type": "code",
   "execution_count": 16,
   "id": "5ea71cb9-4ea1-4d0b-8746-e75dae45413d",
   "metadata": {},
   "outputs": [
    {
     "data": {
      "text/plain": [
       "'Virginia Tech'"
      ]
     },
     "execution_count": 16,
     "metadata": {},
     "output_type": "execute_result"
    }
   ],
   "source": [
    "list1[2]"
   ]
  },
  {
   "cell_type": "markdown",
   "id": "96d1ad0e-1f22-4e15-bd7a-0eacaff161e0",
   "metadata": {},
   "source": [
    "You can also traverse lists from right to left by putting a `-` in front of the index. This means that `-1` is the last term in the list."
   ]
  },
  {
   "cell_type": "markdown",
   "id": "c0fba696-9c47-4502-b23a-b3776a7970ea",
   "metadata": {},
   "source": [
    "What will the following code produce?"
   ]
  },
  {
   "cell_type": "code",
   "execution_count": 17,
   "id": "297b5805-5914-4e19-8c67-40805e22c408",
   "metadata": {},
   "outputs": [
    {
     "data": {
      "text/plain": [
       "'UVA'"
      ]
     },
     "execution_count": 17,
     "metadata": {},
     "output_type": "execute_result"
    }
   ],
   "source": [
    "list1[-3]"
   ]
  },
  {
   "cell_type": "markdown",
   "id": "82d1f4d2-c233-4101-aec5-1b5b6207a3f4",
   "metadata": {},
   "source": [
    "### Slicing Lists"
   ]
  },
  {
   "cell_type": "markdown",
   "id": "7498e52a-684e-471b-ae67-864178333cc2",
   "metadata": {},
   "source": [
    "Sometimes you may want to get several values from a list. This is called \"slicing\". The syntax for this is as follows: `list[initial_value : end_value]`, where `initial_value` is the part of the list where you want to start, and `end_value` is where you want to end but not include.\n",
    "For example, `list1[0:2]` will give the first two items because it goes from list index 0 (JMU) to list index 1 (UVA) and then stops at list index 2."
   ]
  },
  {
   "cell_type": "code",
   "execution_count": 18,
   "id": "944050c3-0518-4d41-9f34-62efbc696e02",
   "metadata": {},
   "outputs": [
    {
     "data": {
      "text/plain": [
       "['JMU', 'UVA']"
      ]
     },
     "execution_count": 18,
     "metadata": {},
     "output_type": "execute_result"
    }
   ],
   "source": [
    "list1[0:2]"
   ]
  },
  {
   "cell_type": "code",
   "execution_count": 19,
   "id": "45821b8c-598f-4e7d-be64-5f5b2deff9a8",
   "metadata": {},
   "outputs": [
    {
     "data": {
      "text/plain": [
       "['UVA', 'Virginia Tech', 'William and Mary']"
      ]
     },
     "execution_count": 19,
     "metadata": {},
     "output_type": "execute_result"
    }
   ],
   "source": [
    "#We can get the last three values by slicing from position 1 to position 4.\n",
    "list1[1:4]\n"
   ]
  },
  {
   "cell_type": "markdown",
   "id": "dbd995d4-0dcb-4532-8336-855e9279d4aa",
   "metadata": {},
   "source": [
    "If you leave the initial value empty it will automatically start from 0. If you leave the end value empty, it will automatically go to the very end. We can get the first three and the last three values in this way."
   ]
  },
  {
   "cell_type": "code",
   "execution_count": 20,
   "id": "b4502a02-e6bd-43df-a4c4-13df1a05dee1",
   "metadata": {},
   "outputs": [
    {
     "data": {
      "text/plain": [
       "['JMU', 'UVA', 'Virginia Tech']"
      ]
     },
     "execution_count": 20,
     "metadata": {},
     "output_type": "execute_result"
    }
   ],
   "source": [
    "list1[:3]"
   ]
  },
  {
   "cell_type": "code",
   "execution_count": 21,
   "id": "71d5fca9-bc8d-4e28-aa93-6f2aaf2695d3",
   "metadata": {},
   "outputs": [
    {
     "data": {
      "text/plain": [
       "['UVA', 'Virginia Tech', 'William and Mary']"
      ]
     },
     "execution_count": 21,
     "metadata": {},
     "output_type": "execute_result"
    }
   ],
   "source": [
    "list1[1:]"
   ]
  },
  {
   "cell_type": "markdown",
   "id": "4cb033c0-f2e1-4ce6-904c-18484eb60b62",
   "metadata": {},
   "source": [
    "### List Len()"
   ]
  },
  {
   "cell_type": "markdown",
   "id": "9a1bf782-2467-473f-a5c1-6d6ca21fc134",
   "metadata": {},
   "source": [
    "One common operation is to find the length of a list. If you're new to programming this does not seem very useful because you can just look at the list and count, but this has all sorts of use cases. You can use the `len()` function to find the length of the list. "
   ]
  },
  {
   "cell_type": "markdown",
   "id": "0a7ace6a-9110-4492-8de7-099cd5877a18",
   "metadata": {},
   "source": [
    "What is the answer to the code below?"
   ]
  },
  {
   "cell_type": "code",
   "execution_count": 22,
   "id": "02f85497-af7e-4722-85f1-a213ce5aef9e",
   "metadata": {},
   "outputs": [
    {
     "data": {
      "text/plain": [
       "4"
      ]
     },
     "execution_count": 22,
     "metadata": {},
     "output_type": "execute_result"
    }
   ],
   "source": [
    "len(list1)"
   ]
  },
  {
   "cell_type": "markdown",
   "id": "1f698bfb-52ca-44c3-bd34-447d3def5f7f",
   "metadata": {},
   "source": [
    "#### Task 3:"
   ]
  },
  {
   "cell_type": "markdown",
   "id": "f6926d41-5e59-4efb-9d07-dddba14cf190",
   "metadata": {},
   "source": [
    "Now imagine we have another list of universities."
   ]
  },
  {
   "cell_type": "code",
   "execution_count": 23,
   "id": "5885dc60-447d-43f1-b7a2-a80edd2c4131",
   "metadata": {},
   "outputs": [],
   "source": [
    "list2 = [\"Harvard\", \"Yale\", \"Boston College\",\"Princeton\", \"Duke\"]"
   ]
  },
  {
   "cell_type": "markdown",
   "id": "c4dd5827-13df-4e54-9aed-932ae9e66942",
   "metadata": {},
   "source": [
    "If we wanted to find the total length of list1 and list2 combined how would we go about it?"
   ]
  },
  {
   "cell_type": "code",
   "execution_count": 24,
   "id": "9a54dd23-c502-4a83-b544-b1545cf80210",
   "metadata": {},
   "outputs": [],
   "source": [
    "#write your answer below and run it."
   ]
  },
  {
   "cell_type": "code",
   "execution_count": null,
   "id": "032ca633-cf75-4c8d-beb5-1fec3b027818",
   "metadata": {},
   "outputs": [],
   "source": []
  },
  {
   "cell_type": "markdown",
   "id": "e72c5323-4511-4655-b5db-c975cc61a865",
   "metadata": {},
   "source": [
    "### Nested Lists"
   ]
  },
  {
   "cell_type": "markdown",
   "id": "26a8eb59-586c-47e5-9bab-5d4920384d29",
   "metadata": {},
   "source": [
    "You can also put lists inside lists to create new variables."
   ]
  },
  {
   "cell_type": "code",
   "execution_count": 25,
   "id": "697ea043-342f-4c8a-a4af-8122adf62358",
   "metadata": {},
   "outputs": [
    {
     "name": "stdout",
     "output_type": "stream",
     "text": [
      "['JMU', 'UVA', 'Virginia Tech', 'William and Mary']\n",
      "['Harvard', 'Yale', 'Boston College', 'Princeton', 'Duke']\n"
     ]
    }
   ],
   "source": [
    "list3 = [list1,[\"Harvard\", \"Yale\", \"Boston College\",\"Princeton\", \"Duke\"]]\n",
    "\n",
    "print(*list3, sep='\\n')"
   ]
  },
  {
   "cell_type": "markdown",
   "id": "32459203-a500-429e-8ad9-b70891cc37cc",
   "metadata": {},
   "source": [
    "*Note*: There are two lists combined in one list."
   ]
  },
  {
   "cell_type": "markdown",
   "id": "13b6bf43-b497-4c10-b76a-822d68c2de96",
   "metadata": {},
   "source": [
    "We can access a nested list value by nesting the brackets. For example, if I want to access the third value on the second list this would be:"
   ]
  },
  {
   "cell_type": "code",
   "execution_count": 26,
   "id": "0c6152c9-6ce6-4843-9b17-90df23060fd4",
   "metadata": {},
   "outputs": [
    {
     "data": {
      "text/plain": [
       "'Boston College'"
      ]
     },
     "execution_count": 26,
     "metadata": {},
     "output_type": "execute_result"
    }
   ],
   "source": [
    "list3[1][2]"
   ]
  },
  {
   "cell_type": "markdown",
   "id": "e6e653ef-4a81-431c-9313-fac08ff6105a",
   "metadata": {},
   "source": [
    "#### Task 4:"
   ]
  },
  {
   "cell_type": "markdown",
   "id": "43f98021-bbcd-4dd6-a956-96a946ab9e48",
   "metadata": {},
   "source": [
    "What would be the code for picking \"Virginia Tech\"?"
   ]
  },
  {
   "cell_type": "code",
   "execution_count": null,
   "id": "bac56494-9cf0-4448-b861-ba4069b0a9b8",
   "metadata": {},
   "outputs": [],
   "source": []
  },
  {
   "cell_type": "markdown",
   "id": "e0fbb0a4-21fc-4aef-8c8d-ecccd9f1923a",
   "metadata": {},
   "source": [
    "The use case for creating, adding, and deleting lists seems rather limited now, but once you start working within data tables it will become obvious why you would want to do this."
   ]
  },
  {
   "cell_type": "markdown",
   "id": "070cd304-7b1b-42b9-bf22-baba927f9ddb",
   "metadata": {},
   "source": [
    "## Iteration"
   ]
  },
  {
   "cell_type": "markdown",
   "id": "6b0fd1bc-e36c-4c29-91bc-72d084702bed",
   "metadata": {},
   "source": [
    "One of the most common features of any programming language is the ability to iterate over data. That is, repeat the same thing over and over again. The most common loop is the trusty `for` loop. This consists of a header that sets the number of iterations and a body statement that does something during an iteration. In Python `for` loops are pretty easy, the only annoying feature is that it must be tabbed properly in order to work."
   ]
  },
  {
   "cell_type": "code",
   "execution_count": null,
   "id": "a8da94f3-23cd-4413-a2ce-37819e8e4009",
   "metadata": {
    "scrolled": true
   },
   "outputs": [],
   "source": [
    "#the following loop goes through all the times in the list and converts them to upper case.\n",
    "for x in list1:\n",
    "    print(x.upper())   \n"
   ]
  },
  {
   "cell_type": "markdown",
   "id": "6f4847f0-5c74-4b07-b29e-24c647ceffee",
   "metadata": {},
   "source": [
    "#### Task 5:"
   ]
  },
  {
   "cell_type": "markdown",
   "id": "f755b308-e393-4f9c-a6f6-38a6b7954f86",
   "metadata": {},
   "source": [
    "The method for converting a string to lower case is `lower()`. How would I write a `for` loop to convert all list values in list2 to lower case?"
   ]
  },
  {
   "cell_type": "code",
   "execution_count": null,
   "id": "3edbc4ef-8e21-48fe-80d1-9f2b9a91fd7b",
   "metadata": {},
   "outputs": [],
   "source": [
    "# Test your answer here"
   ]
  },
  {
   "cell_type": "markdown",
   "id": "47dae55b-1446-482a-9986-96e52a533faa",
   "metadata": {},
   "source": [
    "### Iteration over range"
   ]
  },
  {
   "cell_type": "markdown",
   "id": "c71e764f-c343-4b6b-82aa-51d258b30252",
   "metadata": {},
   "source": [
    "In some cases you may not want to iterate over a list, but instead a range of values. In Python this is extremely simple. Instead of providing a list to iterate over we simply provide a `range()`. We have to remember that ranges in Python start at 0. Thus, `range(5)` is the number 0 through 4."
   ]
  },
  {
   "cell_type": "code",
   "execution_count": null,
   "id": "f323cc76-980f-4438-aa13-ad66d0537f32",
   "metadata": {},
   "outputs": [],
   "source": [
    "for x in range(5):\n",
    "    print(x)"
   ]
  },
  {
   "cell_type": "markdown",
   "id": "f165c659-e9a4-4080-ace5-2f07c3c8a73f",
   "metadata": {},
   "source": [
    "Ranges can also have a custom bottom limit and increment or step. These can be added by passing more variables into the function. If only two variables are passed into the function, Python assumes that these are the minimum and maximum values (i.e. range(-5,10) is the range from -5 to 10. With three variables, the third becomes the increment. Therefore range(-5,10, 5) means step from -5 to 10 in steps of five."
   ]
  },
  {
   "cell_type": "code",
   "execution_count": null,
   "id": "c0dacb3f-0e29-4e5e-9594-45d6708a28d0",
   "metadata": {},
   "outputs": [],
   "source": [
    "for x in range(-5,10):\n",
    "    print(x)"
   ]
  },
  {
   "cell_type": "code",
   "execution_count": null,
   "id": "176a9a96-6da1-4ef6-b097-cd0316e0ce5e",
   "metadata": {},
   "outputs": [],
   "source": [
    "for x in range (-5,10, 5):\n",
    "    print(x)"
   ]
  },
  {
   "cell_type": "markdown",
   "id": "eb061470-a2b4-4668-9ef3-da36e20500b6",
   "metadata": {},
   "source": [
    "#### Task 6:"
   ]
  },
  {
   "cell_type": "markdown",
   "id": "3756c8da-8cbe-4c4f-91a1-4e07ac18d4aa",
   "metadata": {},
   "source": [
    "The range function is incredibly powerful if want to quickly perform a series of specific numbers without creating a list first. For example, imagine you are making a chart that converts from Celcius to Farenheit, but you don't want every value between 1 and 100, just the values from 0 to 100 in steps of 10. If the formula for conversion is `(x*9/5)+32`, how would we write a `for...range()` loop that prints this?"
   ]
  },
  {
   "cell_type": "code",
   "execution_count": null,
   "id": "2bba7af1-5f14-41ac-bfa6-a766f4319aaa",
   "metadata": {
    "scrolled": true
   },
   "outputs": [],
   "source": []
  },
  {
   "cell_type": "markdown",
   "id": "534cb6be-98ad-40d7-825c-2fda1b0752e5",
   "metadata": {},
   "source": [
    "What is the highest value?"
   ]
  },
  {
   "cell_type": "markdown",
   "id": "27333374-5eb4-4373-b7ff-8d5d8850522a",
   "metadata": {
    "tags": []
   },
   "source": [
    "## Functions\n",
    "\n",
    "Functions are a way to store a procedure for later use. If variables store values, functions store things you do to variables. When doing corpus linguistics you'll mostly be using functions other people have already created, but it is useful to know how functions work to understand what you are actually doing with your data. \n",
    "Functions consist of two parts: \n",
    "1. definition - indicates what the function does\n",
    "2. execution - when the function is actually used "
   ]
  },
  {
   "cell_type": "markdown",
   "id": "88f212f4-9e93-41f0-8e79-5af31aad15f9",
   "metadata": {},
   "source": [
    "### Definition"
   ]
  },
  {
   "cell_type": "markdown",
   "id": "4459b5f6-631e-4f88-8349-5fab3ae7c12f",
   "metadata": {},
   "source": [
    "A function is defined through the `def` statement, function name, any parameters, and a function body.\n",
    "\n",
    "```python\n",
    "def HelloWorld():\n",
    "    print(\"Hello World\")\n",
    "```\n",
    "\n",
    "The above function just prints the texts \"Hello World\". We can call it by using the function name: `HelloWorld()`"
   ]
  },
  {
   "cell_type": "code",
   "execution_count": 28,
   "id": "19740f56-d146-4e0e-baab-fc027cf92baa",
   "metadata": {},
   "outputs": [],
   "source": [
    "def HelloWorld():\n",
    "    print(\"Hello World\")"
   ]
  },
  {
   "cell_type": "code",
   "execution_count": 29,
   "id": "b1137db9-e264-4997-9b8c-21c46a1151c8",
   "metadata": {},
   "outputs": [
    {
     "name": "stdout",
     "output_type": "stream",
     "text": [
      "Hello World\n"
     ]
    }
   ],
   "source": [
    "HelloWorld()"
   ]
  },
  {
   "cell_type": "markdown",
   "id": "43052144-8bd9-464b-9a77-c3b1f3f45d28",
   "metadata": {},
   "source": [
    "This is not a very useful function. We can also give it parameters and have it do something with the parameters.\n",
    "\n",
    "```python\n",
    "def HelloName(name):\n",
    "    print(\"Hello \" + name)\n",
    "```\n",
    "\n",
    "We have created the parameter `name`. Now when we execute the function we can pass in a name as the **argument** and it will print out \"Hello + name\". I.e. `HelloName(\"Kelly\")` results in `Hello Kelly`."
   ]
  },
  {
   "cell_type": "markdown",
   "id": "09c15ffc-276c-4e95-8c5b-52132bc0d463",
   "metadata": {},
   "source": [
    "We can also `return` a value.\n",
    "\n",
    "```python\n",
    "def AddHello(name):\n",
    "    newname = \"Hello \" + name\n",
    "    return newname\n",
    "```\n",
    "\n",
    "This returns the string newname which adds \"Hello \" in front of every string passed into the function.\n",
    "\n",
    "So far not very useful."
   ]
  },
  {
   "cell_type": "code",
   "execution_count": 30,
   "id": "e9d18bcd-a1a6-48e9-a05f-5af7ac214a97",
   "metadata": {},
   "outputs": [],
   "source": [
    "def AddHello(name):\n",
    "    newname = \"Hello \" + name\n",
    "    return newname"
   ]
  },
  {
   "cell_type": "code",
   "execution_count": 32,
   "id": "85b87db2-8836-4c89-ab5b-7aea5c674635",
   "metadata": {},
   "outputs": [
    {
     "name": "stdout",
     "output_type": "stream",
     "text": [
      "Hello George\n"
     ]
    }
   ],
   "source": [
    "HelloGeorge = AddHello(\"George\")\n",
    "print(HelloGeorge)"
   ]
  },
  {
   "cell_type": "markdown",
   "id": "4e7c67a0-539f-4262-af4f-b83eb14c9132",
   "metadata": {},
   "source": [
    "### Execution\n",
    "\n",
    "Functions become useful when they take on tasks that would require a lot of repeated code.<br> For example, if you have been given a list of names, but not everyone entered their name consistently you can write a function to clean up the list. This could involve capitalizing every name, removing any special character, and sorting the list alphabetically."
   ]
  },
  {
   "cell_type": "code",
   "execution_count": 33,
   "id": "9fe47d4f-9d1b-49af-9a72-82fccce3a0af",
   "metadata": {},
   "outputs": [],
   "source": [
    "def cleanList(listnames):\n",
    "    #create a new empty list that will store the revised values\n",
    "    newlist = []\n",
    "    #loop through every name in the provided list\n",
    "    for name in listnames:\n",
    "        #create a temporary variable for name\n",
    "        tempname = name\n",
    "        #change name to title case\n",
    "        tempname = tempname.title()\n",
    "        #edit out any special characters in tempname\n",
    "        tempname = ''.join(char for char in tempname if char.isalnum() or char.isspace())\n",
    "        #add modified name to newlist\n",
    "        newlist.append(tempname)\n",
    "        #return the list sorted\n",
    "    return sorted(newlist)\n",
    "    "
   ]
  },
  {
   "cell_type": "code",
   "execution_count": 34,
   "id": "1f6cb414-bcb9-4ef7-a8a7-9054da7b1cfa",
   "metadata": {},
   "outputs": [],
   "source": [
    "list3 = [\"Ziggy%\",\"Bob\", \"Rich$\", \"sam\", \"HANK!!!\", \"T-Dubbs\"]"
   ]
  },
  {
   "cell_type": "code",
   "execution_count": 35,
   "id": "b4a4eccc-929b-4729-9b7b-9288157a3106",
   "metadata": {},
   "outputs": [],
   "source": [
    "list4 = cleanList(list3)"
   ]
  },
  {
   "cell_type": "code",
   "execution_count": 36,
   "id": "0fa8746f-14c1-46e8-901d-a34f2a3ae1e6",
   "metadata": {},
   "outputs": [
    {
     "data": {
      "text/plain": [
       "['Bob', 'Hank', 'Rich', 'Sam', 'TDubbs', 'Ziggy']"
      ]
     },
     "execution_count": 36,
     "metadata": {},
     "output_type": "execute_result"
    }
   ],
   "source": [
    "list4"
   ]
  },
  {
   "cell_type": "markdown",
   "id": "88b3b36a-3896-4a51-95b1-7bbc57c354e9",
   "metadata": {},
   "source": [
    "#### Task 7"
   ]
  },
  {
   "cell_type": "markdown",
   "id": "3bebd3cd-6945-4c06-882c-e22a33ccb0cb",
   "metadata": {},
   "source": [
    "#### Task 7\n",
    "\n",
    "Imagine that you have a program that uses a list of phone numbers provided by users. Unfortunately, not every user was equally diligent in how they entered their phone number. The code required to convert a 10 digit string to a phone number format is as follows:<br>\n",
    "\n",
    "```python\n",
    "phonenumber = ''.join(number for number in phonenumber if number.isdigit())\n",
    "phonenumber = \"({}) {}-{}\".format(phonenumber[:3], phonenumber[3:6], phonenumber[6:])\n",
    "```\n",
    "\n",
    "**Note** The above code incorporates things we have already learned. A `for` loop and list slicing.\n",
    "\n",
    "Create a function called `cleanPhonenumber` that takes a list of unformatted phone numbers and goes through each phone number to standardize the format using the functions above and then return the new list of phone numbers."
   ]
  },
  {
   "cell_type": "code",
   "execution_count": 41,
   "id": "d7034fbc-8fed-414d-b915-ebaf2918ee50",
   "metadata": {},
   "outputs": [],
   "source": [
    "dirty_phonenumbers = [\"5678761990\",\"(413)467-8900\",\"212 340 5678\", \"817-999-7788\"]"
   ]
  },
  {
   "cell_type": "code",
   "execution_count": 42,
   "id": "f15f16fd-88b5-49ef-aabc-b02349365b86",
   "metadata": {},
   "outputs": [],
   "source": [
    "#write your function here\n",
    "def cleanPhonenumber(listnumbers):\n",
    "    newlist = []\n",
    "    for phonenumber in listnumbers:\n",
    "        phonenumber = ''.join(number for number in phonenumber if number.isdigit())\n",
    "        phonenumber = \"({}) {}-{}\".format(phonenumber[:3], phonenumber[3:6], phonenumber[6:])\n",
    "        newlist.append(phonenumber)\n",
    "    return newlist"
   ]
  },
  {
   "cell_type": "code",
   "execution_count": 43,
   "id": "3fc3e069-2a4c-4dcb-a768-506ccd479686",
   "metadata": {},
   "outputs": [
    {
     "data": {
      "text/plain": [
       "['(567) 876-1990', '(413) 467-8900', '(212) 340-5678', '(817) 999-7788']"
      ]
     },
     "execution_count": 43,
     "metadata": {},
     "output_type": "execute_result"
    }
   ],
   "source": [
    "#call your function here\n",
    "cleaned_phonenumbers = cleanPhonenumber(dirty_phonenumbers)\n",
    "cleaned_phonenumbers"
   ]
  },
  {
   "cell_type": "markdown",
   "id": "f1916c23",
   "metadata": {},
   "source": [
    "## Dictionaries - Key-Value Pairs\n",
    "\n",
    "One more important data type to know is the **dictionary**. Dictionaries store data in key-value pairs, making them perfect for organizing related information.\n",
    "\n",
    "### Creating Dictionaries"
   ]
  },
  {
   "cell_type": "code",
   "execution_count": 44,
   "id": "12f1bc85",
   "metadata": {},
   "outputs": [
    {
     "name": "stdout",
     "output_type": "stream",
     "text": [
      "{'name': 'Alice', 'age': 20, 'major': 'Digital Studies', 'gpa': 3.8}\n"
     ]
    }
   ],
   "source": [
    "# Create a dictionary with curly braces\n",
    "student_info = {\n",
    "    \"name\": \"Alice\",\n",
    "    \"age\": 20,\n",
    "    \"major\": \"Digital Studies\",\n",
    "    \"gpa\": 3.8\n",
    "}\n",
    "\n",
    "print(student_info)"
   ]
  },
  {
   "cell_type": "markdown",
   "id": "88e7c21a",
   "metadata": {},
   "source": [
    "### Accessing Dictionary Values\n",
    "\n",
    "You can access values using their keys:"
   ]
  },
  {
   "cell_type": "code",
   "execution_count": 45,
   "id": "550c7e15",
   "metadata": {},
   "outputs": [
    {
     "name": "stdout",
     "output_type": "stream",
     "text": [
      "Student name: Alice\n",
      "Student GPA: 3.8\n",
      "Updated info: {'name': 'Alice', 'age': 20, 'major': 'Digital Studies', 'gpa': 3.8, 'graduation_year': 2026}\n"
     ]
    }
   ],
   "source": [
    "# Access individual values\n",
    "print(\"Student name:\", student_info[\"name\"])\n",
    "print(\"Student GPA:\", student_info[\"gpa\"])\n",
    "\n",
    "# You can also add new key-value pairs\n",
    "student_info[\"graduation_year\"] = 2026\n",
    "print(\"Updated info:\", student_info)"
   ]
  },
  {
   "cell_type": "markdown",
   "id": "4f21d95c",
   "metadata": {},
   "source": [
    "## Conditional Statements (if/else)\n",
    "\n",
    "Programming becomes powerful when you can make decisions based on data. Python uses `if`, `elif`, and `else` statements for this.\n",
    "\n",
    "### Basic If Statements"
   ]
  },
  {
   "cell_type": "code",
   "execution_count": 46,
   "id": "5f502bee",
   "metadata": {},
   "outputs": [
    {
     "name": "stdout",
     "output_type": "stream",
     "text": [
      "You are an adult\n",
      "Grade: B\n"
     ]
    }
   ],
   "source": [
    "# Simple if statement\n",
    "age = 21\n",
    "\n",
    "if age >= 18:\n",
    "    print(\"You are an adult\")\n",
    "else:\n",
    "    print(\"You are a minor\")\n",
    "\n",
    "# Multiple conditions with elif\n",
    "grade = 85\n",
    "\n",
    "if grade >= 90:\n",
    "    print(\"Grade: A\")\n",
    "elif grade >= 80:\n",
    "    print(\"Grade: B\")\n",
    "elif grade >= 70:\n",
    "    print(\"Grade: C\")\n",
    "else:\n",
    "    print(\"Grade: F\")"
   ]
  },
  {
   "cell_type": "markdown",
   "id": "1a165f28",
   "metadata": {},
   "source": [
    "#### Task 8:\n",
    "Write a conditional statement that checks if a student's GPA is above 3.5. If it is, print \"Dean's List\", if it's above 3.0 print \"Good Standing\", otherwise print \"Academic Probation\"."
   ]
  },
  {
   "cell_type": "code",
   "execution_count": null,
   "id": "bcfd4797",
   "metadata": {},
   "outputs": [],
   "source": [
    "# Write your conditional statement here\n",
    "gpa = 3.7  # Test with different values\n"
   ]
  },
  {
   "cell_type": "markdown",
   "id": "d075e16f",
   "metadata": {},
   "source": [
    "## 🎯 Lesson Summary\n",
    "\n",
    "Congratulations! You've learned the fundamental building blocks of Python programming:\n",
    "\n",
    "### **Data Types:**\n",
    "- **Integers** - Whole numbers\n",
    "- **Floats** - Decimal numbers  \n",
    "- **Strings** - Text data\n",
    "- **Booleans** - True/False values\n",
    "- **Lists** - Ordered collections of data\n",
    "- **Dictionaries** - Key-value pairs\n",
    "\n",
    "### **Operations:**\n",
    "- **Type conversion** - Converting between data types\n",
    "- **List indexing and slicing** - Accessing parts of lists\n",
    "- **Iteration** - Using `for` loops to repeat operations\n",
    "- **Functions** - Creating reusable code blocks\n",
    "- **Conditionals** - Making decisions in code\n",
    "\n",
    "### **Key Skills:**\n",
    "- Debugging **TypeError** messages\n",
    "- Creating and manipulating lists\n",
    "- Writing functions with parameters and return values\n",
    "- Using loops to process data efficiently\n",
    "- Making logical decisions with if/else statements\n",
    "\n",
    "## 🚀 Next Steps\n",
    "\n",
    "These fundamentals prepare you for:\n",
    "- **Data analysis** with pandas\n",
    "- **Text processing** for digital humanities\n",
    "- **Data visualization**\n",
    "- **Machine learning basics**\n",
    "\n",
    "### **Practice Ideas:**\n",
    "1. Create a function that analyzes a list of grades\n",
    "2. Build a simple text processor for poems or stories\n",
    "3. Make a basic data validator for user input\n",
    "4. Combine everything to process survey responses\n",
    "\n",
    "Keep practicing these concepts - they're the foundation for everything else in Python!"
   ]
  }
 ],
 "metadata": {
  "kernelspec": {
   "display_name": "Python 3",
   "language": "python",
   "name": "python3"
  },
  "language_info": {
   "codemirror_mode": {
    "name": "ipython",
    "version": 3
   },
   "file_extension": ".py",
   "mimetype": "text/x-python",
   "name": "python",
   "nbconvert_exporter": "python",
   "pygments_lexer": "ipython3",
   "version": "3.12.9"
  },
  "toc-autonumbering": true,
  "toc-showmarkdowntxt": false
 },
 "nbformat": 4,
 "nbformat_minor": 5
}
