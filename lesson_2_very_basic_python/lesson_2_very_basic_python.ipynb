{
 "cells": [
  {
   "cell_type": "markdown",
   "id": "23978e2b-1887-4050-8c2d-0a1d4f3fd2b5",
   "metadata": {},
   "source": [
    "# Lesson 2 - Understanding Variables\n",
    "\n",
    "**Overview**\n",
    "\n",
    "In this lesson you will learn the basic types of variables in Python and most other programming languages. You will also learn how to convert between variable types in order to deal with one of the most common errors for beginning programmers.\n"
   ]
  },
  {
   "cell_type": "markdown",
   "id": "01e5f20f-1a8b-4e18-8876-0d1b4fd5b463",
   "metadata": {},
   "source": [
    "## Computation and Variables\n",
    "\n",
    "Let's start with something simple: making the computer do math for us!\n",
    "\n",
    "**Think of Python like a very smart calculator** - you can tell it to add numbers, and it will give you the answer.\n",
    "\n",
    "**Tip**: Remember you can run the cell below in two ways:\n",
    "\n",
    "✅ **Option 1:** Click the ▶️ play button at the top left of the cell  \n",
    "✅ **Option 2:** Press `Ctrl+Enter` (PC) or `Shift+Enter` (Mac)\n",
    "  \n",
    "The answer will appear below the cell."
   ]
  },
  {
   "cell_type": "code",
   "execution_count": 15,
   "id": "6d8dd8ff-436b-4783-8ff4-f2808740b25e",
   "metadata": {},
   "outputs": [
    {
     "data": {
      "text/plain": [
       "3"
      ]
     },
     "execution_count": 15,
     "metadata": {},
     "output_type": "execute_result"
    }
   ],
   "source": [
    "2+1"
   ]
  },
  {
   "cell_type": "markdown",
   "id": "0ad340fe-3de2-44cf-adb6-4d65a7951c88",
   "metadata": {},
   "source": [
    "## What Are Variables?\n",
    "\n",
    "Adding specific numbers like `2 + 1` is fine, but the real magic happens when we use **variables**.\n",
    "\n",
    "**Think of a variable like a labeled box** where you can store information. \n",
    "\n",
    "In the example below:\n",
    "- We put the number `2` in a box labeled `x`  \n",
    "- Then we can use `x` instead of writing `2` again\n",
    "- `x + 1` gives us the same result as `2 + 1`\n",
    "\n",
    "**Why is this useful?** You'll see in a moment! 🎯"
   ]
  },
  {
   "cell_type": "code",
   "execution_count": 5,
   "id": "6a7be594-ac0a-4194-a999-9bcec41e87de",
   "metadata": {},
   "outputs": [
    {
     "data": {
      "text/plain": [
       "3"
      ]
     },
     "execution_count": 5,
     "metadata": {},
     "output_type": "execute_result"
    }
   ],
   "source": [
    "x = 2\n",
    "x + 1"
   ]
  },
  {
   "cell_type": "markdown",
   "id": "a165f4cc-6cfc-45ea-9cd4-a3fccc40222e",
   "metadata": {},
   "source": [
    "## How Variables Work\n",
    "\n",
    "The `=` sign in Python means **\"store this value\"** - it's like putting something in a labeled box.\n",
    "\n",
    "```python\n",
    "x = 2\n",
    "```\n",
    "\n",
    "**Read this as:** \"Store the number 2 in a box labeled x\"\n",
    "\n",
    "⚠️ **Important:** In Python, `=` does NOT mean \"equals\" like in math class. It means \"store\" or \"assign.\""
   ]
  },
  {
   "cell_type": "markdown",
   "id": "a56023a5",
   "metadata": {},
   "source": [
    "### Why Variables\n",
    "\n",
    "It may not be entirely obvious why you would want to store things in a variable. If you want to add `2` + `1`, storing `2` in the variable `x` seems like an extra step. The reason for doing so is that you do not always know what the information is going to be. \n",
    "\n",
    "**Example: Calculating Area of a Rectangle**\n",
    "\n",
    "Imagine you need to calculate the area of different rectangles. Without variables, you'd have to write:\n",
    "- Room 1: `12 * 8 = 96`  \n",
    "- Room 2: `15 * 10 = 150`\n",
    "- Room 3: `9 * 12 = 108`\n",
    "\n",
    "But with variables, you can write the formula once and reuse it:\n",
    "\n",
    "```python\n",
    "length = 12\n",
    "width = 8\n",
    "area = length * width\n",
    "```\n",
    "\n",
    "Now you can easily change the `length` and `width` values to calculate any rectangle's area. This becomes incredibly powerful when you're processing hundreds of rooms in a building or thousands of data points!"
   ]
  },
  {
   "cell_type": "markdown",
   "id": "e420129e-6bac-4d9a-a62f-480ddc224c0e",
   "metadata": {},
   "source": [
    "### Types of Variables\n",
    "\n",
    "Python can store different **types** of information in variables. Here are the four most important types you need to know:\n",
    "\n",
    "1. **Integer** - Whole numbers (like 1, 42, -5)\n",
    "2. **Float** - Numbers with decimals (like 3.14, 2.0, -1.5)  \n",
    "3. **String** - Text (like \"Hello\", \"James Madison University\")\n",
    "4. **Boolean** - True or False"
   ]
  },
  {
   "cell_type": "markdown",
   "id": "81672e22-0eab-4080-b597-3924ba3809cc",
   "metadata": {},
   "source": [
    "Python automatically figures out what type of data you're storing. This makes Python easier to use than many other programming languages!"
   ]
  },
  {
   "cell_type": "code",
   "execution_count": 6,
   "id": "15bebe1e-e07b-4de3-a84b-4fef57020979",
   "metadata": {},
   "outputs": [],
   "source": [
    "# Integer no decimal\n",
    "a = 1\n",
    "\n",
    "#float decimal\n",
    "b = 2.0\n",
    "\n",
    "#String quote marks\n",
    "c = \"Three\"\n",
    "\n",
    "#Bool reserved word True or False\n",
    "d = True"
   ]
  },
  {
   "cell_type": "markdown",
   "id": "df6814d0-624f-45c4-81a3-a11de727b273",
   "metadata": {},
   "source": [
    "**Want to check what type a variable is?** Use the `type()` function:"
   ]
  },
  {
   "cell_type": "code",
   "execution_count": 7,
   "id": "41fcfe48-c48e-46f6-9133-d2e07611f09e",
   "metadata": {},
   "outputs": [
    {
     "data": {
      "text/plain": [
       "int"
      ]
     },
     "execution_count": 7,
     "metadata": {},
     "output_type": "execute_result"
    }
   ],
   "source": [
    "type(a)"
   ]
  },
  {
   "cell_type": "code",
   "execution_count": 8,
   "id": "388fcc86-0e0b-4ca2-aac4-175eeec3286e",
   "metadata": {},
   "outputs": [
    {
     "data": {
      "text/plain": [
       "float"
      ]
     },
     "execution_count": 8,
     "metadata": {},
     "output_type": "execute_result"
    }
   ],
   "source": [
    "type(b)"
   ]
  },
  {
   "cell_type": "code",
   "execution_count": 9,
   "id": "4626fbbe-3c31-40ea-876c-9781c8f9aaee",
   "metadata": {},
   "outputs": [
    {
     "data": {
      "text/plain": [
       "str"
      ]
     },
     "execution_count": 9,
     "metadata": {},
     "output_type": "execute_result"
    }
   ],
   "source": [
    "type(c)"
   ]
  },
  {
   "cell_type": "code",
   "execution_count": 10,
   "id": "99f622d5-0dbd-4fcb-9856-2d006b327762",
   "metadata": {},
   "outputs": [
    {
     "data": {
      "text/plain": [
       "bool"
      ]
     },
     "execution_count": 10,
     "metadata": {},
     "output_type": "execute_result"
    }
   ],
   "source": [
    "type(d)"
   ]
  },
  {
   "cell_type": "markdown",
   "id": "878c3978-53ba-441b-97f8-f431b2bff8e8",
   "metadata": {},
   "source": [
    "## Common Errors 🚨\n",
    "The most common mistake beginners make is a `TypeError`. This happens when you try to mix incompatible data types."
   ]
  },
  {
   "cell_type": "markdown",
   "id": "97395792-7690-4bb0-87bf-d6a54520a19c",
   "metadata": {},
   "source": [
    "✅ **This works:** I can add `a` and `b` because they are both numbers."
   ]
  },
  {
   "cell_type": "code",
   "execution_count": null,
   "id": "07cecf10-b6f0-4ff0-8217-2b031fc327b1",
   "metadata": {},
   "outputs": [
    {
     "data": {
      "text/plain": [
       "3.0"
      ]
     },
     "execution_count": 11,
     "metadata": {},
     "output_type": "execute_result"
    }
   ],
   "source": [
    "a + b"
   ]
  },
  {
   "cell_type": "markdown",
   "id": "4920f0bc",
   "metadata": {},
   "source": [
    "**Tip:** If you get the error below it is because a variable is not found. This is probably because you did not run the lines of code above. You can fix this by going back to the individual cells and executing them or clicking the `Execute Above Cells`. \n",
    "\n",
    "![Execute Above Cells](images/execute_above_cells.png)\n",
    "\n",
    "This will run all the code upstream.\n",
    "\n",
    "**1. NameError - Variable not defined:**\n",
    "```python\n",
    "---------------------------------------------------------------------------\n",
    "NameError                                 Traceback (most recent call last)\n",
    "Cell In[1], line 1\n",
    "----> 1 a + b\n",
    "\n",
    "NameError: name 'a' is not defined\n",
    "```"
   ]
  },
  {
   "cell_type": "markdown",
   "id": "c1ec51cd-30c2-41b5-a245-7bd61cdeee5b",
   "metadata": {},
   "source": [
    "### TypeError\n",
    "\n",
    "❌ **This won't work:** If I try to add `a` + `c` it will fail because they are different types. \n",
    "\n",
    "**Think of it like this:** 1 + \"Three\" doesn't make sense to a computer. It's like asking \"What is 1 + Blue?\""
   ]
  },
  {
   "cell_type": "markdown",
   "id": "bd1c3537-a177-4342-a847-9707b35d347a",
   "metadata": {},
   "source": [
    "### Task 1:\n",
    "Create a new cell and add `a` + `c` and see what happens.\n",
    "\n",
    "**Creating a new cell**\n",
    "\n",
    "Click on the **+Code** button at the top of the toolbar.\n",
    "![add code block](images/add_code_block.png)\n",
    "\n"
   ]
  },
  {
   "cell_type": "code",
   "execution_count": null,
   "id": "7c2be4a3-7b41-4ea2-a8c7-604fda34abe2",
   "metadata": {},
   "outputs": [
    {
     "ename": "TypeError",
     "evalue": "unsupported operand type(s) for +: 'int' and 'str'",
     "output_type": "error",
     "traceback": [
      "\u001b[31m---------------------------------------------------------------------------\u001b[39m",
      "\u001b[31mTypeError\u001b[39m                                 Traceback (most recent call last)",
      "\u001b[36mCell\u001b[39m\u001b[36m \u001b[39m\u001b[32mIn[12]\u001b[39m\u001b[32m, line 2\u001b[39m\n\u001b[32m      1\u001b[39m \u001b[38;5;66;03m#Create Code Here\u001b[39;00m\n\u001b[32m----> \u001b[39m\u001b[32m2\u001b[39m \u001b[43ma\u001b[49m\u001b[43m \u001b[49m\u001b[43m+\u001b[49m\u001b[43m \u001b[49m\u001b[43mc\u001b[49m\n",
      "\u001b[31mTypeError\u001b[39m: unsupported operand type(s) for +: 'int' and 'str'"
     ]
    }
   ],
   "source": [
    "#Create Code Here\n"
   ]
  },
  {
   "cell_type": "markdown",
   "id": "9831c015-25ae-48f2-b362-445b41f0c482",
   "metadata": {},
   "source": [
    "You should see an error that looks like this:\n",
    "\n",
    "```python\n",
    "TypeError: unsupported operand type(s) for +: 'int' and 'str'\n",
    "```\n",
    "\n",
    "**What does this mean?** \n",
    "- Python is saying: \"I can't add an integer (whole number) and a string (text)\"\n",
    "- This isn't a silly mistake! When working with real data, numbers sometimes get saved as text by accident\n",
    "- Always check your data types when you get strange errors\n",
    "\n",
    "**Why this matters:** Imagine you have a spreadsheet where some numbers are saved as text. Your calculations won't work until you fix the data types!"
   ]
  },
  {
   "cell_type": "markdown",
   "id": "ea332ecd-4b02-4a72-b2e8-e577963a1db5",
   "metadata": {},
   "source": [
    "**Here's a tricky example:**\n",
    "\n",
    "Run the cell below and see what happens:"
   ]
  },
  {
   "cell_type": "code",
   "execution_count": null,
   "id": "74b571d0-f7af-4ea8-8cf3-5ec3faa908aa",
   "metadata": {},
   "outputs": [
    {
     "data": {
      "text/plain": [
       "'Maroon5'"
      ]
     },
     "execution_count": 13,
     "metadata": {},
     "output_type": "execute_result"
    }
   ],
   "source": [
    "text1 = \"Maroon\"\n",
    "text2 = \"5\"\n",
    "text1 + text2"
   ]
  },
  {
   "cell_type": "markdown",
   "id": "25a927bb-e8ed-4792-96ee-afb0efdbe0a3",
   "metadata": {},
   "source": [
    "**Surprise!** This actually works! ✅ \n",
    "\n",
    "When you \"add\" two strings together, you get **string concatenation** (fancy word for \"joining text together\"). This does not work the other way though. Run the line below:"
   ]
  },
  {
   "cell_type": "code",
   "execution_count": null,
   "id": "9c1aa474-b152-4400-9cb8-3c06f11b4303",
   "metadata": {},
   "outputs": [
    {
     "ename": "TypeError",
     "evalue": "unsupported operand type(s) for -: 'str' and 'str'",
     "output_type": "error",
     "traceback": [
      "\u001b[31m---------------------------------------------------------------------------\u001b[39m",
      "\u001b[31mTypeError\u001b[39m                                 Traceback (most recent call last)",
      "\u001b[36mCell\u001b[39m\u001b[36m \u001b[39m\u001b[32mIn[14]\u001b[39m\u001b[32m, line 1\u001b[39m\n\u001b[32m----> \u001b[39m\u001b[32m1\u001b[39m \u001b[43mtext1\u001b[49m\u001b[43m \u001b[49m\u001b[43m-\u001b[49m\u001b[43m \u001b[49m\u001b[43mtext2\u001b[49m\n",
      "\u001b[31mTypeError\u001b[39m: unsupported operand type(s) for -: 'str' and 'str'"
     ]
    }
   ],
   "source": [
    "text1 - text2"
   ]
  },
  {
   "cell_type": "markdown",
   "id": "35a718e9-07d9-4f1d-bdff-d869a5399962",
   "metadata": {},
   "source": [
    "We get the following error: \n",
    "\n",
    "```python\n",
    "---------------------------------------------------------------------------\n",
    "TypeError                                 Traceback (most recent call last)\n",
    "Cell In[3], line 1\n",
    "----> 1 text1 - text2\n",
    "\n",
    "TypeError: unsupported operand type(s) for -: 'str' and 'str'\n",
    "```\n",
    "\n",
    "**What does this error mean in English?**\n",
    "- Python is telling us that the `-` (subtraction) operator doesn't work between two strings (`'str'` and `'str'`)\n",
    "- Unlike `+` which concatenates strings, there's no built-in way to \"subtract\" text\n",
    "\n",
    "**How to get help:**\n",
    "- Read the error message carefully - it tells you exactly what went wrong\n",
    "- The error type (`TypeError`) indicates a data type problem\n",
    "- Look at what types are involved (`'str' and 'str'`) and what operation failed (`-`)"
   ]
  },
  {
   "cell_type": "markdown",
   "id": "7d2393b4-deb6-4281-b010-556918ea4863",
   "metadata": {},
   "source": [
    "### Numbers vs \"Numbers\"\n",
    "Sometimes numbers look like numbers, but they're actually text! Can you spot the problem below?"
   ]
  },
  {
   "cell_type": "code",
   "execution_count": null,
   "id": "c61d23ee-3a30-4e11-9176-f0c4463c3568",
   "metadata": {},
   "outputs": [
    {
     "ename": "TypeError",
     "evalue": "unsupported operand type(s) for +: 'int' and 'str'",
     "output_type": "error",
     "traceback": [
      "\u001b[31m---------------------------------------------------------------------------\u001b[39m",
      "\u001b[31mTypeError\u001b[39m                                 Traceback (most recent call last)",
      "\u001b[36mCell\u001b[39m\u001b[36m \u001b[39m\u001b[32mIn[15]\u001b[39m\u001b[32m, line 3\u001b[39m\n\u001b[32m      1\u001b[39m number1 = \u001b[32m567\u001b[39m\n\u001b[32m      2\u001b[39m number2 = \u001b[33m\"\u001b[39m\u001b[33m5309\u001b[39m\u001b[33m\"\u001b[39m\n\u001b[32m----> \u001b[39m\u001b[32m3\u001b[39m \u001b[43mnumber1\u001b[49m\u001b[43m \u001b[49m\u001b[43m+\u001b[49m\u001b[43m \u001b[49m\u001b[43mnumber2\u001b[49m\n",
      "\u001b[31mTypeError\u001b[39m: unsupported operand type(s) for +: 'int' and 'str'"
     ]
    }
   ],
   "source": [
    "number1 = 567\n",
    "number2 = \"5309\"\n",
    "number1 + number2"
   ]
  },
  {
   "cell_type": "markdown",
   "id": "eb160d62-10f1-499a-a6a4-2d0b24eafc2f",
   "metadata": {},
   "source": [
    "**Problem Alert!** ❌\n",
    "\n",
    "This gives us a TypeError because:\n",
    "- `567` is a number (integer)  \n",
    "- `\"5309\"` is text (string) - notice the quotes!\n",
    "\n",
    "Even though \"5309\" looks like a number, the quotes make Python treat it as text. You can't do math with text!"
   ]
  },
  {
   "cell_type": "markdown",
   "id": "121866da-b6cc-44ab-8ab8-e233ae0859ca",
   "metadata": {},
   "source": [
    "### Type Conversion 🔄\n",
    "\n",
    "**Good news!** You can convert between data types using special functions:\n",
    "\n",
    "- `int()` → Convert to whole number\n",
    "- `float()` → Convert to decimal number  \n",
    "- `str()` → Convert to text\n",
    "- `bool()` → Convert to True/False\n",
    "\n",
    "**How to use:** Put your variable inside the parentheses: `int(\"5309\")`"
   ]
  },
  {
   "cell_type": "markdown",
   "id": "2238202c-bcea-482c-8929-f34ecf497033",
   "metadata": {},
   "source": [
    "**Now our math works!** ✅ By converting the string to an integer:"
   ]
  },
  {
   "cell_type": "code",
   "execution_count": 10,
   "id": "d978ae86-0144-489f-837e-77cbef702902",
   "metadata": {},
   "outputs": [
    {
     "ename": "ValueError",
     "evalue": "could not convert string to float: '8788,87'",
     "output_type": "error",
     "traceback": [
      "\u001b[31m---------------------------------------------------------------------------\u001b[39m",
      "\u001b[31mValueError\u001b[39m                                Traceback (most recent call last)",
      "\u001b[36mCell\u001b[39m\u001b[36m \u001b[39m\u001b[32mIn[10]\u001b[39m\u001b[32m, line 4\u001b[39m\n\u001b[32m      2\u001b[39m number2 = \u001b[33m\"\u001b[39m\u001b[33mFive Three Zero Nine\u001b[39m\u001b[33m\"\u001b[39m\n\u001b[32m      3\u001b[39m number3 = \u001b[33m\"\u001b[39m\u001b[33m8788,87\u001b[39m\u001b[33m\"\u001b[39m\n\u001b[32m----> \u001b[39m\u001b[32m4\u001b[39m \u001b[38;5;28;43mfloat\u001b[39;49m\u001b[43m(\u001b[49m\u001b[43mnumber3\u001b[49m\u001b[43m)\u001b[49m\n\u001b[32m      5\u001b[39m \u001b[38;5;66;03m#int(number2)\u001b[39;00m\n",
      "\u001b[31mValueError\u001b[39m: could not convert string to float: '8788,87'"
     ]
    }
   ],
   "source": [
    "number1 = 567\n",
    "number2 = \"Five Three Zero Nine\"\n",
    "number3 = \"8788,87\"\n",
    "float(number3)\n",
    "#int(number2)\n"
   ]
  },
  {
   "cell_type": "markdown",
   "id": "27d68479-ef73-4450-b000-f01d2ddf6bdf",
   "metadata": {},
   "source": [
    "### 🧩 Practice Time! \n",
    "**Challenge:** Can you find another way to combine `number1` and `number2` using type conversion? \n",
    "\n",
    "*Hint: What if you convert `number1` to a string instead?*"
   ]
  },
  {
   "cell_type": "code",
   "execution_count": 4,
   "id": "23c9d411-8780-428c-9eed-0a678f4cd487",
   "metadata": {},
   "outputs": [
    {
     "data": {
      "text/plain": [
       "'5675309'"
      ]
     },
     "execution_count": 4,
     "metadata": {},
     "output_type": "execute_result"
    }
   ],
   "source": [
    "#Enter Code Here\n",
    "number1 = 567\n",
    "number2 = \"5309\"\n",
    "str(number1) + number2"
   ]
  },
  {
   "cell_type": "markdown",
   "id": "3a29e327-5551-4874-b383-8ceccaabd1e6",
   "metadata": {
    "tags": []
   },
   "source": [
    "## Arrays and Lists\n",
    "\n",
    "One of the most important complex data types in data science is an array, which in Python is usually referred to as a **List**. In Python, there are actually things called **arrays** but these are used specifically when the data is all of the same type. To avoid confusion, this is the last time we'll use the word array and simply refer to lists.\n",
    "\n",
    "A list is a collection of data that has been placed in a particular order through an index. For example, a list of names:\n",
    "\n",
    "```Python\n",
    "list1 = [\"JMU\", \"UVA\", \"Virginia Tech\", \"William and Mary\"]\n",
    "```\n",
    "\n",
    "\n",
    "\n"
   ]
  },
  {
   "cell_type": "markdown",
   "id": "ca005289-c674-4085-96f6-4b6b191c1b7b",
   "metadata": {},
   "source": [
    "### Accessing List Elements"
   ]
  },
  {
   "cell_type": "markdown",
   "id": "69f5ed04-772d-4fc6-a05f-daf752cab7b2",
   "metadata": {},
   "source": [
    "You can access individual values in a list by using it's index. The index always starts at `0`, so the last index value for this list is `3` even though there are four items. We access this value by giving the name of the list and the index in brackets."
   ]
  },
  {
   "cell_type": "code",
   "execution_count": null,
   "id": "4a0a4014-a826-4feb-9562-c5d2aa5c56b2",
   "metadata": {},
   "outputs": [],
   "source": [
    "list1 = [\"JMU\", \"UVA\", \"Virginia Tech\", \"William and Mary\"]"
   ]
  },
  {
   "cell_type": "markdown",
   "id": "b47546f0-a422-46e3-81cf-fc5e3774c7df",
   "metadata": {},
   "source": [
    "What value will appear if I type `list1[2]`?"
   ]
  },
  {
   "cell_type": "code",
   "execution_count": null,
   "id": "5ea71cb9-4ea1-4d0b-8746-e75dae45413d",
   "metadata": {},
   "outputs": [
    {
     "data": {
      "text/plain": [
       "'Virginia Tech'"
      ]
     },
     "execution_count": 19,
     "metadata": {},
     "output_type": "execute_result"
    }
   ],
   "source": [
    "list1[2]"
   ]
  },
  {
   "cell_type": "markdown",
   "id": "96d1ad0e-1f22-4e15-bd7a-0eacaff161e0",
   "metadata": {},
   "source": [
    "You can also traverse lists from right to left by putting a `-` in front of the index. This means that `-1` is the last term in the list."
   ]
  },
  {
   "cell_type": "markdown",
   "id": "c0fba696-9c47-4502-b23a-b3776a7970ea",
   "metadata": {},
   "source": [
    "What will the following code produce?"
   ]
  },
  {
   "cell_type": "code",
   "execution_count": null,
   "id": "297b5805-5914-4e19-8c67-40805e22c408",
   "metadata": {},
   "outputs": [],
   "source": [
    "list2 = [\"JMU\", \"UVA\", \"Virginia Tech\", \"William and Mary\"]\n",
    "list3 = [19934, 24000, 31000, 8500]\n",
    "list4 = [18904, 22000, 30000, 8000, 8095]\n",
    "list3 = list3[len(list3)-1]\n"
   ]
  },
  {
   "cell_type": "markdown",
   "id": "82d1f4d2-c233-4101-aec5-1b5b6207a3f4",
   "metadata": {},
   "source": [
    "### Slicing Lists"
   ]
  },
  {
   "cell_type": "markdown",
   "id": "7498e52a-684e-471b-ae67-864178333cc2",
   "metadata": {},
   "source": [
    "Sometimes you may want to get several values from a list. This is called \"slicing\". The syntax for this is as follows: `list[initial_value : end_value]`, where `initial_value` is the part of the list where you want to start, and `end_value` is where you want to end but not include.\n",
    "For example, `list1[0:2]` will give the first two items because it goes from list index 0 (JMU) to list index 1 (UVA) and then stops at list index 2."
   ]
  },
  {
   "cell_type": "code",
   "execution_count": null,
   "id": "944050c3-0518-4d41-9f34-62efbc696e02",
   "metadata": {},
   "outputs": [
    {
     "data": {
      "text/plain": [
       "['JMU', 'UVA']"
      ]
     },
     "execution_count": 21,
     "metadata": {},
     "output_type": "execute_result"
    }
   ],
   "source": [
    "list1[0:2]"
   ]
  },
  {
   "cell_type": "code",
   "execution_count": null,
   "id": "45821b8c-598f-4e7d-be64-5f5b2deff9a8",
   "metadata": {},
   "outputs": [
    {
     "data": {
      "text/plain": [
       "['UVA', 'Virginia Tech', 'William and Mary']"
      ]
     },
     "execution_count": 22,
     "metadata": {},
     "output_type": "execute_result"
    }
   ],
   "source": [
    "#We can get the last three values by slicing from position 1 to position 4.\n",
    "list1[1:4]\n"
   ]
  },
  {
   "cell_type": "markdown",
   "id": "dbd995d4-0dcb-4532-8336-855e9279d4aa",
   "metadata": {},
   "source": [
    "If you leave the initial value empty it will automatically start from 0. If you leave the end value empty, it will automatically go to the very end. We can get the first three and the last three values in this way."
   ]
  },
  {
   "cell_type": "code",
   "execution_count": null,
   "id": "b4502a02-e6bd-43df-a4c4-13df1a05dee1",
   "metadata": {},
   "outputs": [
    {
     "data": {
      "text/plain": [
       "['JMU', 'UVA', 'Virginia Tech']"
      ]
     },
     "execution_count": 23,
     "metadata": {},
     "output_type": "execute_result"
    }
   ],
   "source": [
    "list1[:3]"
   ]
  },
  {
   "cell_type": "code",
   "execution_count": null,
   "id": "71d5fca9-bc8d-4e28-aa93-6f2aaf2695d3",
   "metadata": {},
   "outputs": [
    {
     "data": {
      "text/plain": [
       "['UVA', 'Virginia Tech', 'William and Mary']"
      ]
     },
     "execution_count": 24,
     "metadata": {},
     "output_type": "execute_result"
    }
   ],
   "source": [
    "list1[1:]"
   ]
  },
  {
   "cell_type": "markdown",
   "id": "4cb033c0-f2e1-4ce6-904c-18484eb60b62",
   "metadata": {},
   "source": [
    "### List Len()"
   ]
  },
  {
   "cell_type": "markdown",
   "id": "9a1bf782-2467-473f-a5c1-6d6ca21fc134",
   "metadata": {},
   "source": [
    "One common operation is to find the length of a list. If you're new to programming this does not seem very useful because you can just look at the list and count, but this has all sorts of use cases. You can use the `len()` function to find the length of the list. "
   ]
  },
  {
   "cell_type": "markdown",
   "id": "0a7ace6a-9110-4492-8de7-099cd5877a18",
   "metadata": {},
   "source": [
    "What is the answer to the code below?"
   ]
  },
  {
   "cell_type": "code",
   "execution_count": null,
   "id": "02f85497-af7e-4722-85f1-a213ce5aef9e",
   "metadata": {},
   "outputs": [
    {
     "data": {
      "text/plain": [
       "4"
      ]
     },
     "execution_count": 25,
     "metadata": {},
     "output_type": "execute_result"
    }
   ],
   "source": [
    "len(list1)"
   ]
  },
  {
   "cell_type": "markdown",
   "id": "1f698bfb-52ca-44c3-bd34-447d3def5f7f",
   "metadata": {},
   "source": [
    "#### Task 3: Adding List Lengths"
   ]
  },
  {
   "cell_type": "markdown",
   "id": "f6926d41-5e59-4efb-9d07-dddba14cf190",
   "metadata": {},
   "source": [
    "Now imagine we have another list of universities."
   ]
  },
  {
   "cell_type": "markdown",
   "id": "c4dd5827-13df-4e54-9aed-932ae9e66942",
   "metadata": {},
   "source": [
    "If we wanted to find the total length of list1 and list2 combined how would we go about it?"
   ]
  },
  {
   "cell_type": "code",
   "execution_count": null,
   "id": "9a54dd23-c502-4a83-b544-b1545cf80210",
   "metadata": {},
   "outputs": [],
   "source": [
    "#write your answer below and run it.\n",
    "list1 = [\"JMU\", \"UVA\", \"Virginia Tech\", \"William and Mary\"]\n",
    "list2 = [\"Harvard\", \"Yale\", \"Boston College\",\"Princeton\", \"Duke\"]"
   ]
  },
  {
   "cell_type": "markdown",
   "id": "e72c5323-4511-4655-b5db-c975cc61a865",
   "metadata": {},
   "source": [
    "### Nested Lists"
   ]
  },
  {
   "cell_type": "markdown",
   "id": "26a8eb59-586c-47e5-9bab-5d4920384d29",
   "metadata": {},
   "source": [
    "You can also put lists inside lists to create new variables."
   ]
  },
  {
   "cell_type": "code",
   "execution_count": null,
   "id": "697ea043-342f-4c8a-a4af-8122adf62358",
   "metadata": {},
   "outputs": [
    {
     "name": "stdout",
     "output_type": "stream",
     "text": [
      "['JMU', 'UVA', 'Virginia Tech', 'William and Mary']\n",
      "['Harvard', 'Yale', 'Boston College', 'Princeton', 'Duke']\n"
     ]
    }
   ],
   "source": [
    "list3 = [list1,[\"Harvard\", \"Yale\", \"Boston College\",\"Princeton\", \"Duke\"]]\n",
    "\n",
    "print(*list3, sep='\\n')"
   ]
  },
  {
   "cell_type": "markdown",
   "id": "32459203-a500-429e-8ad9-b70891cc37cc",
   "metadata": {},
   "source": [
    "*Note*: There are two lists combined in one list."
   ]
  },
  {
   "cell_type": "markdown",
   "id": "13b6bf43-b497-4c10-b76a-822d68c2de96",
   "metadata": {},
   "source": [
    "We can access a nested list value by nesting the brackets. For example, if I want to access the **first** value on the **first** list this would be:"
   ]
  },
  {
   "cell_type": "code",
   "execution_count": null,
   "id": "0c6152c9-6ce6-4843-9b17-90df23060fd4",
   "metadata": {},
   "outputs": [
    {
     "data": {
      "text/plain": [
       "'JMU'"
      ]
     },
     "execution_count": 28,
     "metadata": {},
     "output_type": "execute_result"
    }
   ],
   "source": [
    "list3[0][0]"
   ]
  },
  {
   "cell_type": "markdown",
   "id": "4cabcbef",
   "metadata": {},
   "source": [
    "If we want to access the **second** value on the **second** list we could do the following:"
   ]
  },
  {
   "cell_type": "code",
   "execution_count": null,
   "id": "bebb5dab",
   "metadata": {},
   "outputs": [
    {
     "data": {
      "text/plain": [
       "'Yale'"
      ]
     },
     "execution_count": 29,
     "metadata": {},
     "output_type": "execute_result"
    }
   ],
   "source": [
    "list3[1][1]"
   ]
  },
  {
   "cell_type": "markdown",
   "id": "e6e653ef-4a81-431c-9313-fac08ff6105a",
   "metadata": {},
   "source": [
    "#### Task 4: Access a nested value"
   ]
  },
  {
   "cell_type": "markdown",
   "id": "43f98021-bbcd-4dd6-a956-96a946ab9e48",
   "metadata": {},
   "source": [
    "What would be the code for picking \"Virginia Tech\"?"
   ]
  },
  {
   "cell_type": "code",
   "execution_count": null,
   "id": "bac56494-9cf0-4448-b861-ba4069b0a9b8",
   "metadata": {},
   "outputs": [],
   "source": []
  },
  {
   "cell_type": "markdown",
   "id": "e0fbb0a4-21fc-4aef-8c8d-ecccd9f1923a",
   "metadata": {},
   "source": [
    "The use case for creating, adding, and deleting lists seems rather limited now, but once you start working within data tables it will become obvious why you would want to do this."
   ]
  },
  {
   "cell_type": "markdown",
   "id": "070cd304-7b1b-42b9-bf22-baba927f9ddb",
   "metadata": {},
   "source": [
    "## Iteration"
   ]
  },
  {
   "cell_type": "markdown",
   "id": "6b0fd1bc-e36c-4c29-91bc-72d084702bed",
   "metadata": {},
   "source": [
    "One of the most common features of any programming language is the ability to iterate over data. That is, repeat the same thing over and over again. The most common loop is the trusty `for` loop. \n",
    "This consists of a header that sets the number of iterations and a body statement that does something during an iteration. \n",
    "In Python `for` loops are pretty easy, the only annoying feature is that it must be tabbed properly in order to work."
   ]
  },
  {
   "cell_type": "code",
   "execution_count": null,
   "id": "a8da94f3-23cd-4413-a2ce-37819e8e4009",
   "metadata": {
    "scrolled": true
   },
   "outputs": [
    {
     "name": "stdout",
     "output_type": "stream",
     "text": [
      "JMU\n",
      "UVA\n",
      "VIRGINIA TECH\n",
      "WILLIAM AND MARY\n"
     ]
    }
   ],
   "source": [
    "#the following loop goes through all the times in the list and converts them to upper case.\n",
    "list4= [\"jmu\", \"uva\", \"virginia tech\", \"william and mary\"]\n",
    "\n",
    "\n",
    "for x in list4:\n",
    "    print(x.upper())   \n",
    "\n",
    "list5 = [\"jmu\",\"JMU\",\"uva\",\"UVA\",\"virginia tech\",\"Virginia Tech\",\"william and mary\",\"William and Mary\"]"
   ]
  },
  {
   "cell_type": "markdown",
   "id": "6f4847f0-5c74-4b07-b29e-24c647ceffee",
   "metadata": {},
   "source": [
    "#### Task 5: Convert to Lower Case"
   ]
  },
  {
   "cell_type": "markdown",
   "id": "f755b308-e393-4f9c-a6f6-38a6b7954f86",
   "metadata": {},
   "source": [
    "The method for converting a string to lower case is `.lower()`. How would I write a `for` loop to convert all list values in **list5** to lower case?"
   ]
  },
  {
   "cell_type": "code",
   "execution_count": null,
   "id": "3edbc4ef-8e21-48fe-80d1-9f2b9a91fd7b",
   "metadata": {},
   "outputs": [],
   "source": [
    "# Test your answer here\n",
    "list5 = [\"JMU\", \"UVA\", \"VIRGINIA TECH\", \"WILLIAM AND MARY\"]"
   ]
  },
  {
   "cell_type": "markdown",
   "id": "27333374-5eb4-4373-b7ff-8d5d8850522a",
   "metadata": {
    "tags": []
   },
   "source": [
    "## Functions\n",
    "\n",
    "Functions are a way to store a procedure for later use. If variables store values, functions store things you do to variables. When doing corpus linguistics you'll mostly be using functions other people have already created, but it is useful to know how functions work to understand what you are actually doing with your data. \n",
    "Functions consist of two parts: \n",
    "1. **Definition** - Indicates what the function does\n",
    "2. **Execution** - When the function is actually used "
   ]
  },
  {
   "cell_type": "markdown",
   "id": "88f212f4-9e93-41f0-8e79-5af31aad15f9",
   "metadata": {},
   "source": [
    "### Definition"
   ]
  },
  {
   "cell_type": "markdown",
   "id": "4459b5f6-631e-4f88-8349-5fab3ae7c12f",
   "metadata": {},
   "source": [
    "A function is defined through the `def` statement, function name, any parameters, and a function body.\n",
    "\n",
    "```python\n",
    "def HelloWorld():\n",
    "    print(\"Hello World\")\n",
    "```\n",
    "\n",
    "The above function just prints the texts \"Hello World\". We can call it by using the function name: `HelloWorld()`"
   ]
  },
  {
   "cell_type": "code",
   "execution_count": null,
   "id": "19740f56-d146-4e0e-baab-fc027cf92baa",
   "metadata": {},
   "outputs": [],
   "source": [
    "def HelloWorld():\n",
    "    print(\"Hello World\")"
   ]
  },
  {
   "cell_type": "code",
   "execution_count": null,
   "id": "b1137db9-e264-4997-9b8c-21c46a1151c8",
   "metadata": {},
   "outputs": [
    {
     "name": "stdout",
     "output_type": "stream",
     "text": [
      "Hello World\n"
     ]
    }
   ],
   "source": [
    "HelloWorld()"
   ]
  },
  {
   "cell_type": "markdown",
   "id": "43052144-8bd9-464b-9a77-c3b1f3f45d28",
   "metadata": {},
   "source": [
    "This is not a very useful function. We can also give it parameters and have it do something with the parameters.\n",
    "\n",
    "```python\n",
    "def HelloName(name):\n",
    "    print(\"Hello \" + name)\n",
    "```\n",
    "\n",
    "We have created the parameter `name`. Now when we execute the function we can pass in a name as the **argument** and it will print out \"Hello + name\". I.e. `HelloName(\"Kelly\")` results in `Hello Kelly`."
   ]
  },
  {
   "cell_type": "markdown",
   "id": "09c15ffc-276c-4e95-8c5b-52132bc0d463",
   "metadata": {},
   "source": [
    "We can also `return` a value.\n",
    "\n",
    "```python\n",
    "def AddHello(name):\n",
    "    newname = \"Hello \" + name\n",
    "    return newname\n",
    "```\n",
    "\n",
    "This returns the string newname which adds \"Hello \" in front of every string passed into the function.\n",
    "\n",
    "So far not very useful."
   ]
  },
  {
   "cell_type": "code",
   "execution_count": null,
   "id": "e9d18bcd-a1a6-48e9-a05f-5af7ac214a97",
   "metadata": {},
   "outputs": [],
   "source": [
    "def AddHello(name):\n",
    "    newname = \"Hello \" + name\n",
    "    return newname"
   ]
  },
  {
   "cell_type": "code",
   "execution_count": null,
   "id": "85b87db2-8836-4c89-ab5b-7aea5c674635",
   "metadata": {},
   "outputs": [
    {
     "name": "stdout",
     "output_type": "stream",
     "text": [
      "Hello George\n"
     ]
    }
   ],
   "source": [
    "HelloGeorge = AddHello(\"George\")\n",
    "print(HelloGeorge)"
   ]
  },
  {
   "cell_type": "markdown",
   "id": "4e7c67a0-539f-4262-af4f-b83eb14c9132",
   "metadata": {},
   "source": [
    "### Execution\n",
    "\n",
    "Functions become useful when they take on tasks that would require a lot of repeated code.<br> For example, if you have been given a list of names, but not everyone entered their name consistently you can write a function to clean up the list. This could involve capitalizing every name, removing any special character, and sorting the list alphabetically."
   ]
  },
  {
   "cell_type": "code",
   "execution_count": null,
   "id": "9fe47d4f-9d1b-49af-9a72-82fccce3a0af",
   "metadata": {},
   "outputs": [],
   "source": [
    "def cleanList(listnames):\n",
    "    #create a new empty list that will store the revised values\n",
    "    newlist = []\n",
    "    #loop through every name in the provided list\n",
    "    for name in listnames:\n",
    "        #create a temporary variable for name\n",
    "        tempname = name\n",
    "        #change name to title case\n",
    "        tempname = tempname.title()\n",
    "        #edit out any special characters in tempname\n",
    "        tempname = ''.join(char for char in tempname if char.isalnum() or char.isspace())\n",
    "        #add modified name to newlist\n",
    "        newlist.append(tempname)\n",
    "        #return the list sorted\n",
    "    return sorted(newlist)\n",
    "    "
   ]
  },
  {
   "cell_type": "code",
   "execution_count": null,
   "id": "1f6cb414-bcb9-4ef7-a8a7-9054da7b1cfa",
   "metadata": {},
   "outputs": [],
   "source": [
    "list6 = [\"Ziggy%\",\"Bob\", \"Rich$\", \"sam\", \"HANK!!!\", \"T-Dubbs\"]"
   ]
  },
  {
   "cell_type": "code",
   "execution_count": null,
   "id": "b4a4eccc-929b-4729-9b7b-9288157a3106",
   "metadata": {},
   "outputs": [],
   "source": [
    "list7 = cleanList(list6)"
   ]
  },
  {
   "cell_type": "code",
   "execution_count": null,
   "id": "0fa8746f-14c1-46e8-901d-a34f2a3ae1e6",
   "metadata": {},
   "outputs": [
    {
     "data": {
      "text/plain": [
       "['Bob', 'Hank', 'Rich', 'Sam', 'TDubbs', 'Ziggy']"
      ]
     },
     "execution_count": 39,
     "metadata": {},
     "output_type": "execute_result"
    }
   ],
   "source": [
    "list7"
   ]
  },
  {
   "cell_type": "markdown",
   "id": "3bebd3cd-6945-4c06-882c-e22a33ccb0cb",
   "metadata": {},
   "source": [
    "#### Task 7\n",
    "\n",
    "Imagine that you have a program that uses a list of phone numbers provided by users. Unfortunately, not every user was equally diligent in how they entered their phone number. The code required to convert a 10 digit string to a phone number format is as follows:<br>\n",
    "\n",
    "```python\n",
    "phonenumber = ''.join(number for number in phonenumber if number.isdigit())\n",
    "phonenumber = \"({}) {}-{}\".format(phonenumber[:3], phonenumber[3:6], phonenumber[6:])\n",
    "```\n",
    "\n",
    "**Note** The above code incorporates things we have already learned. A `for` loop and list slicing.\n",
    "\n",
    "Create a function called `cleanPhonenumber` that takes a list of unformatted phone numbers and goes through each phone number to standardize the format using the functions above and then return the new list of phone numbers."
   ]
  },
  {
   "cell_type": "code",
   "execution_count": 19,
   "id": "d7034fbc-8fed-414d-b915-ebaf2918ee50",
   "metadata": {},
   "outputs": [],
   "source": [
    "dirty_phonenumbers = [\"5678761990\",\"(413)467-8900\",\"212 340 5678\", \"817-999-7788\"]"
   ]
  },
  {
   "cell_type": "code",
   "execution_count": 20,
   "id": "f15f16fd-88b5-49ef-aabc-b02349365b86",
   "metadata": {},
   "outputs": [],
   "source": [
    "#Modify the function below to return a list of cleaned phone numbers in the format. Several key elements are missing.\n",
    "def cleanPhonenumber(phonenumbers):\n",
    "    newlist = []\n",
    "    for phonenumber in phonenumbers:\n",
    "        phonenumber = ''.join(number for number in phonenumber if number.isdigit())\n",
    "        phonenumber = \"({}) {}-{}\".format(phonenumber[:3], phonenumber[3:6], phonenumber[6:])\n",
    "        newlist.append(phonenumber)\n",
    "    return newlist"
   ]
  },
  {
   "cell_type": "code",
   "execution_count": 21,
   "id": "3fc3e069-2a4c-4dcb-a768-506ccd479686",
   "metadata": {},
   "outputs": [
    {
     "data": {
      "text/plain": [
       "['(567) 876-1990', '(413) 467-8900', '(212) 340-5678', '(817) 999-7788']"
      ]
     },
     "execution_count": 21,
     "metadata": {},
     "output_type": "execute_result"
    }
   ],
   "source": [
    "#call your function here\n",
    "cleaned_phonenumbers = cleanPhonenumber(dirty_phonenumbers)\n",
    "cleaned_phonenumbers"
   ]
  },
  {
   "cell_type": "markdown",
   "id": "527ee368",
   "metadata": {},
   "source": [
    "### Methods\n",
    "\n",
    "A **method** is a special type of function that \"belongs to\" a specific data type. Think of methods as built-in tools that come attached to different types of data.\n",
    "\n",
    "**The key difference:**\n",
    "- **Functions** stand alone: `len(my_list)` or `type(my_variable)`  \n",
    "- **Methods** are attached to data: `my_string.lower()` or `my_list.append()`\n",
    "\n",
    "**Why the dot notation?**\n",
    "Methods use a dot (`.`) because they're asking the data itself to do something. When you write `name.lower()`, you're essentially saying \"Hey name, please convert yourself to lowercase.\"\n",
    "\n",
    "**We've already used methods!**\n",
    "Remember when we used `.upper()` and `.lower()` on strings? Those were methods! \n",
    "\n",
    "```python\n",
    "university = \"james madison university\"\n",
    "university.upper()  # Method: asks the string to become uppercase\n",
    "```\n",
    "\n",
    "**Example:** If `.lower()` makes everything lowercase, what do you think `.title()` will do?"
   ]
  },
  {
   "cell_type": "markdown",
   "id": "31c3794d",
   "metadata": {},
   "source": [
    "### Task 8: Use `.title()` method\n",
    "\n",
    "Run the `.title()` method below."
   ]
  },
  {
   "cell_type": "code",
   "execution_count": null,
   "id": "3f3a30fd",
   "metadata": {},
   "outputs": [
    {
     "data": {
      "text/plain": [
       "'James Madison University'"
      ]
     },
     "execution_count": 3,
     "metadata": {},
     "output_type": "execute_result"
    }
   ],
   "source": [
    "name = \"JAMES MADISON UNIVERSITY\"\n",
    "\n"
   ]
  },
  {
   "cell_type": "markdown",
   "id": "92ee9565",
   "metadata": {},
   "source": [
    "We will be using methods throughout this project, so it is important to understand that we are running a function when you see the notation `.methodname()`\n",
    "\n",
    "**Common String Methods You'll Use:**\n",
    "- `.lower()` - converts to lowercase\n",
    "- `.upper()` - converts to UPPERCASE  \n",
    "- `.title()` - Converts To Title Case\n",
    "- `.strip()` - removes extra spaces from beginning and end\n",
    "- `.replace(\"old\", \"new\")` - replaces text\n",
    "\n",
    "**Why methods matter in digital studies:**\n",
    "When you're processing large amounts of text (like historical documents, social media posts, or survey responses), methods let you quickly clean and standardize your data. Instead of writing complex code, you can simply ask the text to clean itself!\n",
    "\n",
    "```python\n",
    "messy_text = \"  COLONIAL WILLIAMSBURG  \"\n",
    "clean_text = messy_text.strip().title()  # Chain methods together!\n",
    "# Result: \"Colonial Williamsburg\"\n",
    "```"
   ]
  },
  {
   "cell_type": "markdown",
   "id": "d075e16f",
   "metadata": {},
   "source": [
    "## 🎯 Lesson Summary\n",
    "\n",
    "Congratulations! You've learned the fundamental building blocks of Python programming:\n",
    "\n",
    "### **Data Types:**\n",
    "- **Integers** - Whole numbers\n",
    "- **Floats** - Decimal numbers  \n",
    "- **Strings** - Text data\n",
    "- **Booleans** - True/False values\n",
    "- **Lists** - Ordered collections of data\n",
    "  \n",
    "### **Operations:**\n",
    "- **Type conversion** - Converting between data types\n",
    "- **List indexing and slicing** - Accessing parts of lists\n",
    "- **Iteration** - Using `for` loops to repeat operations\n",
    "- **Functions** - Creating reusable code blocks\n",
    "- **Methods** - Using implied functions on data\n",
    "\n",
    "### **Key Skills:**\n",
    "- Debugging **TypeError** messages\n",
    "- Creating and manipulating lists\n",
    "- Writing functions with parameters and return values\n",
    "- Using loops to process data efficiently\n",
    "\n",
    "\n",
    "## 🚀 Next Steps\n",
    "\n",
    "These fundamentals prepare you for:\n",
    "- **Data analysis** with pandas\n",
    "- **Text processing** for digital humanities\n",
    "- **Data visualization**\n",
    "- **Machine learning basics**\n",
    "\n",
    "Keep practicing these concepts - they're the foundation for everything else in Python!"
   ]
  }
 ],
 "metadata": {
  "kernelspec": {
   "display_name": "Python 3",
   "language": "python",
   "name": "python3"
  },
  "language_info": {
   "codemirror_mode": {
    "name": "ipython",
    "version": 3
   },
   "file_extension": ".py",
   "mimetype": "text/x-python",
   "name": "python",
   "nbconvert_exporter": "python",
   "pygments_lexer": "ipython3",
   "version": "3.13.7"
  },
  "toc-autonumbering": true,
  "toc-showmarkdowntxt": false
 },
 "nbformat": 4,
 "nbformat_minor": 5
}
