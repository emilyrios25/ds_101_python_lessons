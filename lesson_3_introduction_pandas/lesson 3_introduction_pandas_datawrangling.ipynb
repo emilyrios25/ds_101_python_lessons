{
 "cells": [
  {
   "cell_type": "markdown",
   "id": "02b307b7-89a4-47c5-b019-f4fd73170b96",
   "metadata": {},
   "source": [
    "# Lesson 3: Data Ingest and Wrangling"
   ]
  },
  {
   "cell_type": "markdown",
   "id": "39dd34e4-227a-44e7-9061-4c7eff82dd99",
   "metadata": {},
   "source": [
    "## Introduction"
   ]
  },
  {
   "cell_type": "markdown",
   "id": "c4bc3d53-21de-434d-ba92-e47a0805281d",
   "metadata": {},
   "source": [
    "In this lesson we will learn to load a data file, clean it, and create visualizations with it.\n",
    "\n",
    "In this lesson you will learn:\n",
    "- Load a data file from a local source\n",
    "- Clean and prepare data for analysis\n",
    "- Standard data cleaning practices\n",
    "- Create basic visualizations with Plotly\n",
    "  "
   ]
  },
  {
   "cell_type": "code",
   "execution_count": 1,
   "id": "32a63395-97f5-4cf4-af2b-97e0c8e569bc",
   "metadata": {},
   "outputs": [],
   "source": [
    "# Import the required libraries for data analysis and visualization\n",
    "import pandas as pd          # For working with data tables (DataFrames)\n",
    "import plotly.express as px   # For creating interactive charts\n",
    "import re                     # For working with text patterns (regular expressions)   "
   ]
  },
  {
   "cell_type": "markdown",
   "id": "a5d0b795-63bd-459b-bbfe-7afe18beb0ae",
   "metadata": {},
   "source": [
    "## 1 Getting Data"
   ]
  },
  {
   "cell_type": "markdown",
   "id": "887a72c4-99ab-49a2-8e95-962e98bfaa49",
   "metadata": {},
   "source": [
    "The most basic step in any data science project is actually getting the data. The pandas library makes this very easy if you are working with tabular data (data organized in rows and columns, like a spreadsheet). \n",
    "\n",
    "We will be working with a CSV (Comma-Separated Values) file containing Reddit posts from the r/JMU subreddit. CSV files are one of the most common formats for storing data because they can be opened by almost any program.\n",
    "\n",
    "We can load the Reddit CSV file using pandas' `.read_csv()` function.\n",
    "\n",
    "\n"
   ]
  },
  {
   "cell_type": "markdown",
   "id": "b1d6504e-dfb2-44c6-8a54-ba643f07b27c",
   "metadata": {},
   "source": [
    "### 1.1 Loading a local file"
   ]
  },
  {
   "cell_type": "markdown",
   "id": "95a3b684-c46b-48b4-aca5-2d922729c902",
   "metadata": {},
   "source": [
    "To load the CSV file locally, we use the command `pd.read_csv(\"filename.csv\")`. The `pd` is our shorthand for pandas, and `read_csv()` is the function that reads CSV files."
   ]
  },
  {
   "cell_type": "code",
   "execution_count": 2,
   "id": "c9a82d45-c742-4c83-8c99-45c0f8e5a868",
   "metadata": {},
   "outputs": [
    {
     "ename": "FileNotFoundError",
     "evalue": "[Errno 2] No such file or directory: 'data/reddit_text_analysis_JMU_top_posts_default.csv'",
     "output_type": "error",
     "traceback": [
      "\u001b[31m---------------------------------------------------------------------------\u001b[39m",
      "\u001b[31mFileNotFoundError\u001b[39m                         Traceback (most recent call last)",
      "\u001b[36mCell\u001b[39m\u001b[36m \u001b[39m\u001b[32mIn[2]\u001b[39m\u001b[32m, line 2\u001b[39m\n\u001b[32m      1\u001b[39m \u001b[38;5;66;03m# Load the CSV file and display it (but don't save it to a variable yet)\u001b[39;00m\n\u001b[32m----> \u001b[39m\u001b[32m2\u001b[39m \u001b[43mpd\u001b[49m\u001b[43m.\u001b[49m\u001b[43mread_csv\u001b[49m\u001b[43m(\u001b[49m\u001b[33;43m\"\u001b[39;49m\u001b[33;43mdata/reddit_text_analysis_JMU_top_posts_default.csv\u001b[39;49m\u001b[33;43m\"\u001b[39;49m\u001b[43m)\u001b[49m\n",
      "\u001b[36mFile \u001b[39m\u001b[32m~/Documents/repos/ds_101_python_lessons/ds101_manual/lib/python3.12/site-packages/pandas/io/parsers/readers.py:1026\u001b[39m, in \u001b[36mread_csv\u001b[39m\u001b[34m(filepath_or_buffer, sep, delimiter, header, names, index_col, usecols, dtype, engine, converters, true_values, false_values, skipinitialspace, skiprows, skipfooter, nrows, na_values, keep_default_na, na_filter, verbose, skip_blank_lines, parse_dates, infer_datetime_format, keep_date_col, date_parser, date_format, dayfirst, cache_dates, iterator, chunksize, compression, thousands, decimal, lineterminator, quotechar, quoting, doublequote, escapechar, comment, encoding, encoding_errors, dialect, on_bad_lines, delim_whitespace, low_memory, memory_map, float_precision, storage_options, dtype_backend)\u001b[39m\n\u001b[32m   1013\u001b[39m kwds_defaults = _refine_defaults_read(\n\u001b[32m   1014\u001b[39m     dialect,\n\u001b[32m   1015\u001b[39m     delimiter,\n\u001b[32m   (...)\u001b[39m\u001b[32m   1022\u001b[39m     dtype_backend=dtype_backend,\n\u001b[32m   1023\u001b[39m )\n\u001b[32m   1024\u001b[39m kwds.update(kwds_defaults)\n\u001b[32m-> \u001b[39m\u001b[32m1026\u001b[39m \u001b[38;5;28;01mreturn\u001b[39;00m \u001b[43m_read\u001b[49m\u001b[43m(\u001b[49m\u001b[43mfilepath_or_buffer\u001b[49m\u001b[43m,\u001b[49m\u001b[43m \u001b[49m\u001b[43mkwds\u001b[49m\u001b[43m)\u001b[49m\n",
      "\u001b[36mFile \u001b[39m\u001b[32m~/Documents/repos/ds_101_python_lessons/ds101_manual/lib/python3.12/site-packages/pandas/io/parsers/readers.py:620\u001b[39m, in \u001b[36m_read\u001b[39m\u001b[34m(filepath_or_buffer, kwds)\u001b[39m\n\u001b[32m    617\u001b[39m _validate_names(kwds.get(\u001b[33m\"\u001b[39m\u001b[33mnames\u001b[39m\u001b[33m\"\u001b[39m, \u001b[38;5;28;01mNone\u001b[39;00m))\n\u001b[32m    619\u001b[39m \u001b[38;5;66;03m# Create the parser.\u001b[39;00m\n\u001b[32m--> \u001b[39m\u001b[32m620\u001b[39m parser = \u001b[43mTextFileReader\u001b[49m\u001b[43m(\u001b[49m\u001b[43mfilepath_or_buffer\u001b[49m\u001b[43m,\u001b[49m\u001b[43m \u001b[49m\u001b[43m*\u001b[49m\u001b[43m*\u001b[49m\u001b[43mkwds\u001b[49m\u001b[43m)\u001b[49m\n\u001b[32m    622\u001b[39m \u001b[38;5;28;01mif\u001b[39;00m chunksize \u001b[38;5;129;01mor\u001b[39;00m iterator:\n\u001b[32m    623\u001b[39m     \u001b[38;5;28;01mreturn\u001b[39;00m parser\n",
      "\u001b[36mFile \u001b[39m\u001b[32m~/Documents/repos/ds_101_python_lessons/ds101_manual/lib/python3.12/site-packages/pandas/io/parsers/readers.py:1620\u001b[39m, in \u001b[36mTextFileReader.__init__\u001b[39m\u001b[34m(self, f, engine, **kwds)\u001b[39m\n\u001b[32m   1617\u001b[39m     \u001b[38;5;28mself\u001b[39m.options[\u001b[33m\"\u001b[39m\u001b[33mhas_index_names\u001b[39m\u001b[33m\"\u001b[39m] = kwds[\u001b[33m\"\u001b[39m\u001b[33mhas_index_names\u001b[39m\u001b[33m\"\u001b[39m]\n\u001b[32m   1619\u001b[39m \u001b[38;5;28mself\u001b[39m.handles: IOHandles | \u001b[38;5;28;01mNone\u001b[39;00m = \u001b[38;5;28;01mNone\u001b[39;00m\n\u001b[32m-> \u001b[39m\u001b[32m1620\u001b[39m \u001b[38;5;28mself\u001b[39m._engine = \u001b[38;5;28;43mself\u001b[39;49m\u001b[43m.\u001b[49m\u001b[43m_make_engine\u001b[49m\u001b[43m(\u001b[49m\u001b[43mf\u001b[49m\u001b[43m,\u001b[49m\u001b[43m \u001b[49m\u001b[38;5;28;43mself\u001b[39;49m\u001b[43m.\u001b[49m\u001b[43mengine\u001b[49m\u001b[43m)\u001b[49m\n",
      "\u001b[36mFile \u001b[39m\u001b[32m~/Documents/repos/ds_101_python_lessons/ds101_manual/lib/python3.12/site-packages/pandas/io/parsers/readers.py:1880\u001b[39m, in \u001b[36mTextFileReader._make_engine\u001b[39m\u001b[34m(self, f, engine)\u001b[39m\n\u001b[32m   1878\u001b[39m     \u001b[38;5;28;01mif\u001b[39;00m \u001b[33m\"\u001b[39m\u001b[33mb\u001b[39m\u001b[33m\"\u001b[39m \u001b[38;5;129;01mnot\u001b[39;00m \u001b[38;5;129;01min\u001b[39;00m mode:\n\u001b[32m   1879\u001b[39m         mode += \u001b[33m\"\u001b[39m\u001b[33mb\u001b[39m\u001b[33m\"\u001b[39m\n\u001b[32m-> \u001b[39m\u001b[32m1880\u001b[39m \u001b[38;5;28mself\u001b[39m.handles = \u001b[43mget_handle\u001b[49m\u001b[43m(\u001b[49m\n\u001b[32m   1881\u001b[39m \u001b[43m    \u001b[49m\u001b[43mf\u001b[49m\u001b[43m,\u001b[49m\n\u001b[32m   1882\u001b[39m \u001b[43m    \u001b[49m\u001b[43mmode\u001b[49m\u001b[43m,\u001b[49m\n\u001b[32m   1883\u001b[39m \u001b[43m    \u001b[49m\u001b[43mencoding\u001b[49m\u001b[43m=\u001b[49m\u001b[38;5;28;43mself\u001b[39;49m\u001b[43m.\u001b[49m\u001b[43moptions\u001b[49m\u001b[43m.\u001b[49m\u001b[43mget\u001b[49m\u001b[43m(\u001b[49m\u001b[33;43m\"\u001b[39;49m\u001b[33;43mencoding\u001b[39;49m\u001b[33;43m\"\u001b[39;49m\u001b[43m,\u001b[49m\u001b[43m \u001b[49m\u001b[38;5;28;43;01mNone\u001b[39;49;00m\u001b[43m)\u001b[49m\u001b[43m,\u001b[49m\n\u001b[32m   1884\u001b[39m \u001b[43m    \u001b[49m\u001b[43mcompression\u001b[49m\u001b[43m=\u001b[49m\u001b[38;5;28;43mself\u001b[39;49m\u001b[43m.\u001b[49m\u001b[43moptions\u001b[49m\u001b[43m.\u001b[49m\u001b[43mget\u001b[49m\u001b[43m(\u001b[49m\u001b[33;43m\"\u001b[39;49m\u001b[33;43mcompression\u001b[39;49m\u001b[33;43m\"\u001b[39;49m\u001b[43m,\u001b[49m\u001b[43m \u001b[49m\u001b[38;5;28;43;01mNone\u001b[39;49;00m\u001b[43m)\u001b[49m\u001b[43m,\u001b[49m\n\u001b[32m   1885\u001b[39m \u001b[43m    \u001b[49m\u001b[43mmemory_map\u001b[49m\u001b[43m=\u001b[49m\u001b[38;5;28;43mself\u001b[39;49m\u001b[43m.\u001b[49m\u001b[43moptions\u001b[49m\u001b[43m.\u001b[49m\u001b[43mget\u001b[49m\u001b[43m(\u001b[49m\u001b[33;43m\"\u001b[39;49m\u001b[33;43mmemory_map\u001b[39;49m\u001b[33;43m\"\u001b[39;49m\u001b[43m,\u001b[49m\u001b[43m \u001b[49m\u001b[38;5;28;43;01mFalse\u001b[39;49;00m\u001b[43m)\u001b[49m\u001b[43m,\u001b[49m\n\u001b[32m   1886\u001b[39m \u001b[43m    \u001b[49m\u001b[43mis_text\u001b[49m\u001b[43m=\u001b[49m\u001b[43mis_text\u001b[49m\u001b[43m,\u001b[49m\n\u001b[32m   1887\u001b[39m \u001b[43m    \u001b[49m\u001b[43merrors\u001b[49m\u001b[43m=\u001b[49m\u001b[38;5;28;43mself\u001b[39;49m\u001b[43m.\u001b[49m\u001b[43moptions\u001b[49m\u001b[43m.\u001b[49m\u001b[43mget\u001b[49m\u001b[43m(\u001b[49m\u001b[33;43m\"\u001b[39;49m\u001b[33;43mencoding_errors\u001b[39;49m\u001b[33;43m\"\u001b[39;49m\u001b[43m,\u001b[49m\u001b[43m \u001b[49m\u001b[33;43m\"\u001b[39;49m\u001b[33;43mstrict\u001b[39;49m\u001b[33;43m\"\u001b[39;49m\u001b[43m)\u001b[49m\u001b[43m,\u001b[49m\n\u001b[32m   1888\u001b[39m \u001b[43m    \u001b[49m\u001b[43mstorage_options\u001b[49m\u001b[43m=\u001b[49m\u001b[38;5;28;43mself\u001b[39;49m\u001b[43m.\u001b[49m\u001b[43moptions\u001b[49m\u001b[43m.\u001b[49m\u001b[43mget\u001b[49m\u001b[43m(\u001b[49m\u001b[33;43m\"\u001b[39;49m\u001b[33;43mstorage_options\u001b[39;49m\u001b[33;43m\"\u001b[39;49m\u001b[43m,\u001b[49m\u001b[43m \u001b[49m\u001b[38;5;28;43;01mNone\u001b[39;49;00m\u001b[43m)\u001b[49m\u001b[43m,\u001b[49m\n\u001b[32m   1889\u001b[39m \u001b[43m\u001b[49m\u001b[43m)\u001b[49m\n\u001b[32m   1890\u001b[39m \u001b[38;5;28;01massert\u001b[39;00m \u001b[38;5;28mself\u001b[39m.handles \u001b[38;5;129;01mis\u001b[39;00m \u001b[38;5;129;01mnot\u001b[39;00m \u001b[38;5;28;01mNone\u001b[39;00m\n\u001b[32m   1891\u001b[39m f = \u001b[38;5;28mself\u001b[39m.handles.handle\n",
      "\u001b[36mFile \u001b[39m\u001b[32m~/Documents/repos/ds_101_python_lessons/ds101_manual/lib/python3.12/site-packages/pandas/io/common.py:873\u001b[39m, in \u001b[36mget_handle\u001b[39m\u001b[34m(path_or_buf, mode, encoding, compression, memory_map, is_text, errors, storage_options)\u001b[39m\n\u001b[32m    868\u001b[39m \u001b[38;5;28;01melif\u001b[39;00m \u001b[38;5;28misinstance\u001b[39m(handle, \u001b[38;5;28mstr\u001b[39m):\n\u001b[32m    869\u001b[39m     \u001b[38;5;66;03m# Check whether the filename is to be opened in binary mode.\u001b[39;00m\n\u001b[32m    870\u001b[39m     \u001b[38;5;66;03m# Binary mode does not support 'encoding' and 'newline'.\u001b[39;00m\n\u001b[32m    871\u001b[39m     \u001b[38;5;28;01mif\u001b[39;00m ioargs.encoding \u001b[38;5;129;01mand\u001b[39;00m \u001b[33m\"\u001b[39m\u001b[33mb\u001b[39m\u001b[33m\"\u001b[39m \u001b[38;5;129;01mnot\u001b[39;00m \u001b[38;5;129;01min\u001b[39;00m ioargs.mode:\n\u001b[32m    872\u001b[39m         \u001b[38;5;66;03m# Encoding\u001b[39;00m\n\u001b[32m--> \u001b[39m\u001b[32m873\u001b[39m         handle = \u001b[38;5;28;43mopen\u001b[39;49m\u001b[43m(\u001b[49m\n\u001b[32m    874\u001b[39m \u001b[43m            \u001b[49m\u001b[43mhandle\u001b[49m\u001b[43m,\u001b[49m\n\u001b[32m    875\u001b[39m \u001b[43m            \u001b[49m\u001b[43mioargs\u001b[49m\u001b[43m.\u001b[49m\u001b[43mmode\u001b[49m\u001b[43m,\u001b[49m\n\u001b[32m    876\u001b[39m \u001b[43m            \u001b[49m\u001b[43mencoding\u001b[49m\u001b[43m=\u001b[49m\u001b[43mioargs\u001b[49m\u001b[43m.\u001b[49m\u001b[43mencoding\u001b[49m\u001b[43m,\u001b[49m\n\u001b[32m    877\u001b[39m \u001b[43m            \u001b[49m\u001b[43merrors\u001b[49m\u001b[43m=\u001b[49m\u001b[43merrors\u001b[49m\u001b[43m,\u001b[49m\n\u001b[32m    878\u001b[39m \u001b[43m            \u001b[49m\u001b[43mnewline\u001b[49m\u001b[43m=\u001b[49m\u001b[33;43m\"\u001b[39;49m\u001b[33;43m\"\u001b[39;49m\u001b[43m,\u001b[49m\n\u001b[32m    879\u001b[39m \u001b[43m        \u001b[49m\u001b[43m)\u001b[49m\n\u001b[32m    880\u001b[39m     \u001b[38;5;28;01melse\u001b[39;00m:\n\u001b[32m    881\u001b[39m         \u001b[38;5;66;03m# Binary mode\u001b[39;00m\n\u001b[32m    882\u001b[39m         handle = \u001b[38;5;28mopen\u001b[39m(handle, ioargs.mode)\n",
      "\u001b[31mFileNotFoundError\u001b[39m: [Errno 2] No such file or directory: 'data/reddit_text_analysis_JMU_top_posts_default.csv'"
     ]
    }
   ],
   "source": [
    "# Load the CSV file and display it (but don't save it to a variable yet)\n",
    "pd.read_csv(\"data/reddit_text_analysis_JMU_top_posts_default.csv\")"
   ]
  },
  {
   "cell_type": "markdown",
   "id": "c9a63cb8-a261-4fd9-a427-6cd7ffc4d5af",
   "metadata": {},
   "source": [
    "**Note** all we did here is load the file into the output screen of Jupyter Notebook, we have not actually stored it as a variable we can work with.\n",
    "\n",
    "We can store it by having the result of the function equal a variable."
   ]
  },
  {
   "cell_type": "code",
   "execution_count": 3,
   "id": "ba32ac01-a783-4fce-a49b-35b4793514e0",
   "metadata": {},
   "outputs": [
    {
     "data": {
      "application/vnd.microsoft.datawrangler.viewer.v0+json": {
       "columns": [
        {
         "name": "index",
         "rawType": "int64",
         "type": "integer"
        },
        {
         "name": "type",
         "rawType": "object",
         "type": "string"
        },
        {
         "name": "title",
         "rawType": "object",
         "type": "string"
        },
        {
         "name": "text",
         "rawType": "object",
         "type": "string"
        },
        {
         "name": "date",
         "rawType": "object",
         "type": "string"
        },
        {
         "name": "score",
         "rawType": "int64",
         "type": "integer"
        }
       ],
       "ref": "af36fddb-8f2e-4830-853f-402d4bae62fb",
       "rows": [
        [
         "0",
         "post",
         "President Alger leaving to take same job at American University at the end of this academic year",
         "President Alger leaving to take same job at American University at the end of this academic year",
         "2024-03-18 12:47:10",
         "358"
        ],
        [
         "1",
         "comment",
         "President Alger leaving to take same job at American University at the end of this academic year",
         "Like him or not, he did help transform this school. Applications to JMU have drastically increased under this leadership.",
         "2024-03-18 12:49:04",
         "82"
        ],
        [
         "2",
         "comment",
         "President Alger leaving to take same job at American University at the end of this academic year",
         "Massive changes happening at JMU this year. Alger stepping down, AD Bourne retiring, Cignetti left for IU job, and rumor is Basketball Coach Byington is going to accept the WVU job",
         "2024-03-18 12:50:05",
         "34"
        ],
        [
         "3",
         "comment",
         "President Alger leaving to take same job at American University at the end of this academic year",
         "Rather short tenure as JMU presidents go. He falls under second-shortest tenure, having stayed for longer than Burruss, but shorter than Rose. I remember when JMU used to have a reputation for presidents with very long tenures, as Duke, Miller, and Carrier all stayed for 20+ years. Rose and Alger both had much shorter tenures than I had expected.",
         "2024-03-18 13:13:29",
         "37"
        ],
        [
         "4",
         "comment",
         "President Alger leaving to take same job at American University at the end of this academic year",
         "He was very nice and friendly when I spoke to him- enjoyed being a student under his presidency, even if he did look a lil robotic ;)",
         "2024-03-18 12:57:33",
         "30"
        ]
       ],
       "shape": {
        "columns": 5,
        "rows": 5
       }
      },
      "text/html": [
       "<div>\n",
       "<style scoped>\n",
       "    .dataframe tbody tr th:only-of-type {\n",
       "        vertical-align: middle;\n",
       "    }\n",
       "\n",
       "    .dataframe tbody tr th {\n",
       "        vertical-align: top;\n",
       "    }\n",
       "\n",
       "    .dataframe thead th {\n",
       "        text-align: right;\n",
       "    }\n",
       "</style>\n",
       "<table border=\"1\" class=\"dataframe\">\n",
       "  <thead>\n",
       "    <tr style=\"text-align: right;\">\n",
       "      <th></th>\n",
       "      <th>type</th>\n",
       "      <th>title</th>\n",
       "      <th>text</th>\n",
       "      <th>date</th>\n",
       "      <th>score</th>\n",
       "    </tr>\n",
       "  </thead>\n",
       "  <tbody>\n",
       "    <tr>\n",
       "      <th>0</th>\n",
       "      <td>post</td>\n",
       "      <td>President Alger leaving to take same job at Am...</td>\n",
       "      <td>President Alger leaving to take same job at Am...</td>\n",
       "      <td>2024-03-18 12:47:10</td>\n",
       "      <td>358</td>\n",
       "    </tr>\n",
       "    <tr>\n",
       "      <th>1</th>\n",
       "      <td>comment</td>\n",
       "      <td>President Alger leaving to take same job at Am...</td>\n",
       "      <td>Like him or not, he did help transform this sc...</td>\n",
       "      <td>2024-03-18 12:49:04</td>\n",
       "      <td>82</td>\n",
       "    </tr>\n",
       "    <tr>\n",
       "      <th>2</th>\n",
       "      <td>comment</td>\n",
       "      <td>President Alger leaving to take same job at Am...</td>\n",
       "      <td>Massive changes happening at JMU this year. Al...</td>\n",
       "      <td>2024-03-18 12:50:05</td>\n",
       "      <td>34</td>\n",
       "    </tr>\n",
       "    <tr>\n",
       "      <th>3</th>\n",
       "      <td>comment</td>\n",
       "      <td>President Alger leaving to take same job at Am...</td>\n",
       "      <td>Rather short tenure as JMU presidents go. He f...</td>\n",
       "      <td>2024-03-18 13:13:29</td>\n",
       "      <td>37</td>\n",
       "    </tr>\n",
       "    <tr>\n",
       "      <th>4</th>\n",
       "      <td>comment</td>\n",
       "      <td>President Alger leaving to take same job at Am...</td>\n",
       "      <td>He was very nice and friendly when I spoke to ...</td>\n",
       "      <td>2024-03-18 12:57:33</td>\n",
       "      <td>30</td>\n",
       "    </tr>\n",
       "  </tbody>\n",
       "</table>\n",
       "</div>"
      ],
      "text/plain": [
       "      type                                              title  \\\n",
       "0     post  President Alger leaving to take same job at Am...   \n",
       "1  comment  President Alger leaving to take same job at Am...   \n",
       "2  comment  President Alger leaving to take same job at Am...   \n",
       "3  comment  President Alger leaving to take same job at Am...   \n",
       "4  comment  President Alger leaving to take same job at Am...   \n",
       "\n",
       "                                                text                 date  \\\n",
       "0  President Alger leaving to take same job at Am...  2024-03-18 12:47:10   \n",
       "1  Like him or not, he did help transform this sc...  2024-03-18 12:49:04   \n",
       "2  Massive changes happening at JMU this year. Al...  2024-03-18 12:50:05   \n",
       "3  Rather short tenure as JMU presidents go. He f...  2024-03-18 13:13:29   \n",
       "4  He was very nice and friendly when I spoke to ...  2024-03-18 12:57:33   \n",
       "\n",
       "   score  \n",
       "0    358  \n",
       "1     82  \n",
       "2     34  \n",
       "3     37  \n",
       "4     30  "
      ]
     },
     "execution_count": 3,
     "metadata": {},
     "output_type": "execute_result"
    }
   ],
   "source": [
    "# Store the CSV file as a variable called 'df' (short for DataFrame)\n",
    "df = pd.read_csv(\"data/reddit_text_analysis_JMU_top_posts_default.csv\")\n",
    "# Display the first 5 rows to see what our data looks like\n",
    "df.head()"
   ]
  },
  {
   "cell_type": "markdown",
   "id": "56fc8e9f-a5a7-42b3-a54f-cb25dbfe19ef",
   "metadata": {},
   "source": [
    "The csv file has now been stored as a `DataFrame`. A dataframe is a lot like a spreadsheet with columns and rows, but it has some features to optimize it for data science analysis."
   ]
  },
  {
   "cell_type": "markdown",
   "id": "748d9a8f-0744-476c-a9dd-a50129eee24d",
   "metadata": {},
   "source": [
    "We can show the content of the data frame by typing `df`. The `.head()` method shows us the first 5 rows, which is useful for getting a quick look at our data.\n",
    "\n",
    "**Note:** You do not have to use the name `df` - this is just a common convention that stands for \"DataFrame\"."
   ]
  },
  {
   "cell_type": "markdown",
   "id": "fe893555-0524-4286-b33e-8d7e43727889",
   "metadata": {},
   "source": [
    "## 2 Cleaning the DataFrame"
   ]
  },
  {
   "cell_type": "markdown",
   "id": "926f99e3-e89e-4df3-83cb-b6c31959c7fd",
   "metadata": {},
   "source": [
    "Before you start doing anything with your data, you want to make sure you get the DataFrame cleaned up. This will make working with the data easier. \n"
   ]
  },
  {
   "cell_type": "markdown",
   "id": "fe4a147f-c8e3-4bc5-8ff0-bff011a51809",
   "metadata": {},
   "source": [
    "### 2.1 DataTypes"
   ]
  },
  {
   "cell_type": "markdown",
   "id": "9389e90f-1563-48a6-ad0b-d1edd06ef52b",
   "metadata": {},
   "source": [
    "Part of the power of Pandas is that it assumes each column contains the same type of data (all numbers, all text, all dates, etc.). This allows it to make calculations much faster. \n",
    "\n",
    "However, when you import from a CSV file, Pandas is not always able to automatically determine what type of data is in each column. We can check what Pandas decided by using the `.dtypes` property (note: no parentheses needed)."
   ]
  },
  {
   "cell_type": "code",
   "execution_count": 4,
   "id": "be304356-2289-4784-b1be-46f8f02bb9f1",
   "metadata": {},
   "outputs": [
    {
     "data": {
      "application/vnd.microsoft.datawrangler.viewer.v0+json": {
       "columns": [
        {
         "name": "index",
         "rawType": "object",
         "type": "string"
        },
        {
         "name": "0",
         "rawType": "object",
         "type": "unknown"
        }
       ],
       "ref": "55654b45-58ba-41d4-bb7e-5e32f7609f9a",
       "rows": [
        [
         "type",
         "object"
        ],
        [
         "title",
         "object"
        ],
        [
         "text",
         "object"
        ],
        [
         "date",
         "object"
        ],
        [
         "score",
         "int64"
        ]
       ],
       "shape": {
        "columns": 1,
        "rows": 5
       }
      },
      "text/plain": [
       "type     object\n",
       "title    object\n",
       "text     object\n",
       "date     object\n",
       "score     int64\n",
       "dtype: object"
      ]
     },
     "execution_count": 4,
     "metadata": {},
     "output_type": "execute_result"
    }
   ],
   "source": [
    "# Check what data types Pandas assigned to each column\n",
    "df.dtypes"
   ]
  },
  {
   "cell_type": "markdown",
   "id": "c52eda00-caae-45d4-99c5-cfd75ae10d05",
   "metadata": {},
   "source": [
    "Pandas was able to figure out that the **score** column contains integers, but it had trouble with the other columns. It saved these as generic `objects`, which means they could be strings, numbers, or other types of data formats. \n",
    "\n",
    "This can lead to problems later, so Pandas recommends converting text columns to their special string format called `StringDtype`. This makes for better storage and processing. The code below converts each column to its proper data type:\n",
    "\n",
    "**Syntax Explanation:** To change a column's data type, we use this pattern:\n",
    "- `df['column_name']` - selects the column\n",
    "- `.astype('new_type')` - converts it to the new data type\n",
    "- `df['column_name'] = ...` - saves the converted column back to the DataFrame"
   ]
  },
  {
   "cell_type": "code",
   "execution_count": 5,
   "id": "cff14b70-d6be-489d-87fc-b3d0328aed4e",
   "metadata": {},
   "outputs": [
    {
     "data": {
      "application/vnd.microsoft.datawrangler.viewer.v0+json": {
       "columns": [
        {
         "name": "index",
         "rawType": "object",
         "type": "string"
        },
        {
         "name": "0",
         "rawType": "object",
         "type": "unknown"
        }
       ],
       "ref": "5083c146-e885-4c4c-8884-6e0d2e2f894c",
       "rows": [
        [
         "type",
         "category"
        ],
        [
         "title",
         "string"
        ],
        [
         "text",
         "string"
        ],
        [
         "date",
         "datetime64[ns]"
        ],
        [
         "score",
         "int64"
        ]
       ],
       "shape": {
        "columns": 1,
        "rows": 5
       }
      },
      "text/plain": [
       "type           category\n",
       "title    string[python]\n",
       "text     string[python]\n",
       "date     datetime64[ns]\n",
       "score             int64\n",
       "dtype: object"
      ]
     },
     "execution_count": 5,
     "metadata": {},
     "output_type": "execute_result"
    }
   ],
   "source": [
    "# Convert each column to its proper data type\n",
    "df['type'] = df['type'].astype('category')        # Post type (post/comment) as category\n",
    "df['title'] = df['title'].astype(pd.StringDtype())  # Title text as string\n",
    "df['text'] = df['text'].astype(pd.StringDtype())    # Post content as string  \n",
    "df['score'] = pd.to_numeric(df['score'])             # Score as number\n",
    "df['date'] = pd.to_datetime(df['date'])              # Date as datetime\n",
    "# Check our new data types\n",
    "df.dtypes"
   ]
  },
  {
   "cell_type": "markdown",
   "id": "17f88ff3",
   "metadata": {},
   "source": [
    "Great! Now our columns have proper data types. This is basic housekeeping you should do whenever working with CSV files. While it might seem tedious, it prevents many problems later in your analysis."
   ]
  },
  {
   "cell_type": "markdown",
   "id": "0067c344-126d-4da6-8dd0-a7688733bae2",
   "metadata": {},
   "source": [
    "## 3 Cleaning the Data"
   ]
  },
  {
   "cell_type": "markdown",
   "id": "825d0d29-b419-4f19-bc8b-dda8cd9c01cd",
   "metadata": {},
   "source": [
    "Once the dataframe is in order you will want to clean up some of the data. This is usually a recursive process. That is, you usually only figure out that there is an issue with the data when you start working on it. As you keep finding issues, you want to clean these issues earlier in your code, rather than when you run into them."
   ]
  },
  {
   "cell_type": "markdown",
   "id": "cb52ec38-473a-41f2-8c20-d113c95aec51",
   "metadata": {},
   "source": [
    "### 3.1 Removing special characters"
   ]
  },
  {
   "cell_type": "markdown",
   "id": "109b5aa6-b4c7-4133-89cc-778fa0461648",
   "metadata": {},
   "source": [
    "When working with text data, a common problem is that special characters like emojis can interfere with analysis. These need to be removed because they might cause issues when using tools for **sentiment analysis** or **text processing**. You'll get better results if your data is more standardized."
   ]
  },
  {
   "cell_type": "code",
   "execution_count": 6,
   "id": "3c7a3af1-9553-4b8d-bad5-b4b238bb7585",
   "metadata": {},
   "outputs": [
    {
     "data": {
      "application/vnd.microsoft.datawrangler.viewer.v0+json": {
       "columns": [
        {
         "name": "index",
         "rawType": "int64",
         "type": "integer"
        },
        {
         "name": "text",
         "rawType": "string",
         "type": "string"
        }
       ],
       "ref": "971c2171-aeef-4468-9970-f2f7ed522ba9",
       "rows": [
        [
         "6",
         "Does this mean SpringFest can come back!? 🚁 🔥 🛋️"
        ],
        [
         "47",
         "Lmao, I saw this meme just now right after THE email got sent. Ironically it’s still accurate 😂"
        ],
        [
         "138",
         "Landing on the field would be easy, taking off again not so much😂😂"
        ],
        [
         "139",
         "Not technically illegal as long as you don’t fly directly over the stadium at low altitude. Definitely not a scheduled part of the game lol. When we were getting ready to take off we usually talk about where we’re gonna fly and one of the guys that lives next to the airstrip said I think JMU is playing tonight so we got amped up about flying over the game😂😂"
        ],
        [
         "208",
         "Keep your eyes out for it👀"
        ],
        [
         "272",
         "LMAO this is perfect 😂"
        ],
        [
         "353",
         "North 38 is an apartment complex, I was quoting this scene outloud to my girlfriend when someone was leaving their apartment, I thought that person may have been you 😂😂😂"
        ],
        [
         "357",
         "Landed on the quad a bit ago... crash landed😂"
        ],
        [
         "424",
         "Would be nice if my professors had their canvas pages up or emailed😂"
        ],
        [
         "426",
         "According to canvas I’m only in two classes 😳"
        ],
        [
         "463",
         "Two of those are older than I am, bruh 😧"
        ],
        [
         "508",
         "Damn I’m really sorry to hear that. I can see how that would change your opinion of the whole thing. I’m really sorry for your losses 🙏"
        ],
        [
         "512",
         "If you didn’t read JMU’s email… here’s a shortened version “Hey… we realize COVID cases are wildin rn 😝 because of this… we are gonna have higher cases and that’s ok! y’all are gonna get COVID… but it’s ok 💖 we must learn to live with us all getting COVID… 😘 so in an effort to all give you COVID, boosters aren’t required if you’re eligible and for on campus students if you have COVID, just stay in your room! Because that will stop you guys from going about, right? 😊 well happy hunger games guys and may the odds ever be in your favor, send us pics of your positive test when you get one!”"
        ],
        [
         "550",
         "😢 Had him way back when for my intro to justice studies course. Rest is peace Terry."
        ],
        [
         "565",
         "Yay tell her I said congrats!! Go Dukes!! 😊😊"
        ],
        [
         "589",
         "are they still doing the forced triples next year? if they are, should defo include that in skyline cons 😭😭 ive never heard good things from forced triples"
        ],
        [
         "601",
         "Understood, thank you. Staying away from Eagle 👍"
        ],
        [
         "612",
         "I mean, I could give my opinion on that, but it’s not entirely relevant to the individual person. Definitely depends on major and whatnot. I did all of this “research” based on what I could see online, as I am an incoming freshman. So I left the rest up to anyone who uses the chart 🙃"
        ],
        [
         "613",
         "I guess the virtual dorm tours can be deceiving when it comes to size 😪"
        ],
        [
         "619",
         "🤦🏻‍♀️🤦🏻‍♀️🤦🏻‍♀️🤦🏻‍♀️"
        ],
        [
         "643",
         "I know this is super serious but this had me laughing with how hard he went 😂😂😂"
        ],
        [
         "659",
         "That guy is still there?! Lol are lesbians and gay men still walking in front of him and making out? I hope so 🤣🤣🤣👌"
        ],
        [
         "691",
         "Roll Dukes ✊😔"
        ],
        [
         "777",
         "Number 1 school for cases in VA. Roll dukes 😝"
        ],
        [
         "853",
         "Bro I’m a conservative Christian and this is absolutely too wild 💀 gamers are murderers? Tomboys? Women belong in the kitchen? Ma’am why you here then and not in the kitchen"
        ],
        [
         "862",
         "“Gamers are murderers” Ok 👍🏼"
        ],
        [
         "882",
         "💀💀 and don’t forget women belong in the kitchen coming from a woman who has been in the kitchen her whole life 😩😂😂"
        ],
        [
         "886",
         "I’m a Christian as well and it makes no sense. Like hating people for who they are goes against what Jesus wants us to do 😭"
        ],
        [
         "925",
         "Me too, I’m a senior and have never bought one. The buses run just fine 🤷🏻‍♀️"
        ],
        [
         "958",
         "I was at the one in 2004 as well and liked it so much I snuck back in the following year! 😂"
        ],
        [
         "984",
         "Rest in Power young king. 😕😞"
        ],
        [
         "1003",
         "You guys are calling it a lynching with literally zero evidence whatsoever. I’m just cautioning slightly and I get called racist. Lmao 🙄"
        ],
        [
         "1011",
         "Lol thank you for a realistic take 😂. I guess everyone just wants a free pass for the semester without having to do anything."
        ],
        [
         "1026",
         "Spotted Lanternfly. To quote How To Train Your Dragon, “Kill on sight.” I’m not joking that I’m brining a flyswatter on my next hike. They’re everywhere😭"
        ],
        [
         "1075",
         "Joe Spear’s class! Yes! Need to get started on my essay 😭😭😭"
        ],
        [
         "1100",
         "I’d be living my best young, dumb, and broke life this Halloweekend if it weren’t for COVID-19. Fuck this hOaX vIrUs. “Alexa, play Laugh Now Cry Later” 😿 (p.s. obviously that’s sarcasm on the “hoax virus” part, I’m a microbiology student lmao)"
        ],
        [
         "1102",
         "It be like that 😔"
        ],
        [
         "1176",
         "I agree but not when it’s cold 😬"
        ],
        [
         "1177",
         "aww i had no idea they renamed it for him!! i remember being an RA and he dropped in during move-in day and complimented me on my spirited purple and gold nail polish 😂 what a kind dude"
        ],
        [
         "1265",
         "Harrisonburg Community Health Center has great counselors. My daughter goes there and she loves talking to her counselor and she doesn't like talking to people. My heart ❤️ goes out to all students on JMU campus. Please talk to someone anybody. 🙏🙏"
        ],
        [
         "1361",
         "He’s been on campus for YEARS and I just now find out he’s a sex offender? 😟"
        ],
        [
         "1376",
         "He was watching a bunch of my hall mates move in 😬"
        ],
        [
         "1432",
         "I met a really cool guy and even attended their local church. He seemed like the only chill one fr. I will say that after attending someone that used to know the people there said it was a cult 🥴… It didn’t give that vibe, it really felt like good people coming together but maybe I’m naive 😅"
        ],
        [
         "1438",
         "Its less than worthless! 😉"
        ],
        [
         "1470",
         "That's all they ever do 🙄"
        ],
        [
         "1471",
         "mind your own business😉"
        ],
        [
         "1485",
         "Get vaccinated 😉"
        ],
        [
         "1498",
         "I pray for you 😔 🙏🏻"
        ],
        [
         "1672",
         "I just failed my final and this pops up 😂😂😂"
        ],
        [
         "1697",
         "I would love to get an actually good notebook for $1.30 😭"
        ]
       ],
       "shape": {
        "columns": 1,
        "rows": 289
       }
      },
      "text/html": [
       "<div>\n",
       "<style scoped>\n",
       "    .dataframe tbody tr th:only-of-type {\n",
       "        vertical-align: middle;\n",
       "    }\n",
       "\n",
       "    .dataframe tbody tr th {\n",
       "        vertical-align: top;\n",
       "    }\n",
       "\n",
       "    .dataframe thead th {\n",
       "        text-align: right;\n",
       "    }\n",
       "</style>\n",
       "<table border=\"1\" class=\"dataframe\">\n",
       "  <thead>\n",
       "    <tr style=\"text-align: right;\">\n",
       "      <th></th>\n",
       "      <th>text</th>\n",
       "    </tr>\n",
       "  </thead>\n",
       "  <tbody>\n",
       "    <tr>\n",
       "      <th>6</th>\n",
       "      <td>Does this mean SpringFest can come back!? 🚁 🔥 🛋️</td>\n",
       "    </tr>\n",
       "    <tr>\n",
       "      <th>47</th>\n",
       "      <td>Lmao, I saw this meme just now right after THE...</td>\n",
       "    </tr>\n",
       "    <tr>\n",
       "      <th>138</th>\n",
       "      <td>Landing on the field would be easy, taking off...</td>\n",
       "    </tr>\n",
       "    <tr>\n",
       "      <th>139</th>\n",
       "      <td>Not technically illegal as long as you don’t f...</td>\n",
       "    </tr>\n",
       "    <tr>\n",
       "      <th>208</th>\n",
       "      <td>Keep your eyes out for it👀</td>\n",
       "    </tr>\n",
       "    <tr>\n",
       "      <th>...</th>\n",
       "      <td>...</td>\n",
       "    </tr>\n",
       "    <tr>\n",
       "      <th>11171</th>\n",
       "      <td>My bad I've never actually been 😭 that's just ...</td>\n",
       "    </tr>\n",
       "    <tr>\n",
       "      <th>11173</th>\n",
       "      <td>It didn't stop me from going here 😭 I'm a big ...</td>\n",
       "    </tr>\n",
       "    <tr>\n",
       "      <th>11274</th>\n",
       "      <td>freshman anxiety :~) any other freshmen super ...</td>\n",
       "    </tr>\n",
       "    <tr>\n",
       "      <th>11279</th>\n",
       "      <td>yes I get a lot of social anxiety so I’m just ...</td>\n",
       "    </tr>\n",
       "    <tr>\n",
       "      <th>11290</th>\n",
       "      <td>I personally think they shouldn’t have sent ou...</td>\n",
       "    </tr>\n",
       "  </tbody>\n",
       "</table>\n",
       "<p>289 rows × 1 columns</p>\n",
       "</div>"
      ],
      "text/plain": [
       "                                                    text\n",
       "6       Does this mean SpringFest can come back!? 🚁 🔥 🛋️\n",
       "47     Lmao, I saw this meme just now right after THE...\n",
       "138    Landing on the field would be easy, taking off...\n",
       "139    Not technically illegal as long as you don’t f...\n",
       "208                           Keep your eyes out for it👀\n",
       "...                                                  ...\n",
       "11171  My bad I've never actually been 😭 that's just ...\n",
       "11173  It didn't stop me from going here 😭 I'm a big ...\n",
       "11274  freshman anxiety :~) any other freshmen super ...\n",
       "11279  yes I get a lot of social anxiety so I’m just ...\n",
       "11290  I personally think they shouldn’t have sent ou...\n",
       "\n",
       "[289 rows x 1 columns]"
      ]
     },
     "execution_count": 6,
     "metadata": {},
     "output_type": "execute_result"
    }
   ],
   "source": [
    "# Define a regex (regular expression) pattern that matches common emoji characters\n",
    "# This pattern covers most emoji Unicode ranges\n",
    "emoji_pattern = r'[\\U0001F600-\\U0001F64F\\U0001F300-\\U0001F5FF\\U0001F680-\\U0001F6FF\\U0001F1E0-\\U0001F1FF]'\n",
    "\n",
    "# Find all rows where the 'text' column contains emojis\n",
    "rows_with_emojis = df[df['text'].str.contains(emoji_pattern, regex=True, na=False)]\n",
    "\n",
    "# Show just the text column of these rows to see the emojis\n",
    "rows_with_emojis[['text']]"
   ]
  },
  {
   "cell_type": "markdown",
   "id": "a28512e2-78e7-40ac-a909-ad5fa8d92dc1",
   "metadata": {},
   "source": [
    "**Note:** In the result above, you can see there are many rows with emojis. We could manually remove these by editing each individual cell, but that would be extremely time-consuming. Instead, we'll use pandas to automatically find and remove all emojis by replacing them with empty text.\n",
    "\n",
    "The code to do this is:\n",
    "```python\n",
    "df['text'] = df['text'].str.replace(emoji_pattern, '', regex=True)\n",
    "```\n",
    "This means: take the 'text' column, find all emojis (using our pattern), and replace them with nothing (empty string)."
   ]
  },
  {
   "cell_type": "code",
   "execution_count": 7,
   "id": "c7e4fe8b-7c3e-4baa-b5a4-20e748912361",
   "metadata": {},
   "outputs": [],
   "source": [
    "# Remove all emojis from the text column by replacing them with empty strings\n",
    "df['text'] = df['text'].str.replace(emoji_pattern, '', regex=True)"
   ]
  },
  {
   "cell_type": "code",
   "execution_count": 8,
   "id": "13d62eeb-df8e-4ebb-8b2b-450e5734fbbf",
   "metadata": {},
   "outputs": [
    {
     "data": {
      "application/vnd.microsoft.datawrangler.viewer.v0+json": {
       "columns": [
        {
         "name": "index",
         "rawType": "int64",
         "type": "integer"
        },
        {
         "name": "text",
         "rawType": "string",
         "type": "string"
        }
       ],
       "ref": "08d0baf1-d6d3-4209-876a-c03e0a91ffab",
       "rows": [],
       "shape": {
        "columns": 1,
        "rows": 0
       }
      },
      "text/html": [
       "<div>\n",
       "<style scoped>\n",
       "    .dataframe tbody tr th:only-of-type {\n",
       "        vertical-align: middle;\n",
       "    }\n",
       "\n",
       "    .dataframe tbody tr th {\n",
       "        vertical-align: top;\n",
       "    }\n",
       "\n",
       "    .dataframe thead th {\n",
       "        text-align: right;\n",
       "    }\n",
       "</style>\n",
       "<table border=\"1\" class=\"dataframe\">\n",
       "  <thead>\n",
       "    <tr style=\"text-align: right;\">\n",
       "      <th></th>\n",
       "      <th>text</th>\n",
       "    </tr>\n",
       "  </thead>\n",
       "  <tbody>\n",
       "  </tbody>\n",
       "</table>\n",
       "</div>"
      ],
      "text/plain": [
       "Empty DataFrame\n",
       "Columns: [text]\n",
       "Index: []"
      ]
     },
     "execution_count": 8,
     "metadata": {},
     "output_type": "execute_result"
    }
   ],
   "source": [
    "# Check if our emoji removal worked by searching for emojis again\n",
    "rows_with_emojis_cleaned = df[df['text'].str.contains(emoji_pattern, regex=True, na=False)]\n",
    "\n",
    "# Display the results (should be empty or much fewer rows)\n",
    "rows_with_emojis_cleaned[['text']]"
   ]
  },
  {
   "cell_type": "markdown",
   "id": "aabe603f-2e6c-4de6-9cec-6d1de705b736",
   "metadata": {},
   "source": [
    "As you work with a DataFrame there are always other formatting quirks in the data you will want to take care of. It makes little sense to try to clean everything in advance and hope for the best. Likely, you'll find problems as you go and then make the fixes part of the cleaning process."
   ]
  },
  {
   "cell_type": "markdown",
   "id": "66476a61",
   "metadata": {},
   "source": [
    "# 4 Data Visualization\n",
    "\n",
    "Now that we have clean data with proper data types, we can create visualizations that help us understand patterns in the r/JMU subreddit. Let's start by looking at how posting activity has changed over time."
   ]
  },
  {
   "cell_type": "code",
   "execution_count": 9,
   "id": "111dded4",
   "metadata": {},
   "outputs": [
    {
     "data": {
      "application/vnd.plotly.v1+json": {
       "config": {
        "plotlyServerURL": "https://plot.ly"
       },
       "data": [
        {
         "hovertemplate": "type=comment<br>Year-Month=%{x}<br>Number of Posts/Comments=%{y}<extra></extra>",
         "legendgroup": "comment",
         "line": {
          "color": "#636efa",
          "dash": "solid"
         },
         "marker": {
          "symbol": "circle"
         },
         "mode": "lines+markers",
         "name": "comment",
         "orientation": "v",
         "showlegend": true,
         "type": "scatter",
         "x": [
          "2011-09-01T00:00:00.000000000",
          "2011-10-01T00:00:00.000000000",
          "2011-11-01T00:00:00.000000000",
          "2011-12-01T00:00:00.000000000",
          "2012-01-01T00:00:00.000000000",
          "2012-02-01T00:00:00.000000000",
          "2012-03-01T00:00:00.000000000",
          "2012-04-01T00:00:00.000000000",
          "2012-05-01T00:00:00.000000000",
          "2012-06-01T00:00:00.000000000",
          "2012-07-01T00:00:00.000000000",
          "2012-08-01T00:00:00.000000000",
          "2012-09-01T00:00:00.000000000",
          "2012-10-01T00:00:00.000000000",
          "2012-11-01T00:00:00.000000000",
          "2012-12-01T00:00:00.000000000",
          "2013-02-01T00:00:00.000000000",
          "2013-03-01T00:00:00.000000000",
          "2013-04-01T00:00:00.000000000",
          "2013-05-01T00:00:00.000000000",
          "2013-07-01T00:00:00.000000000",
          "2013-08-01T00:00:00.000000000",
          "2013-09-01T00:00:00.000000000",
          "2013-10-01T00:00:00.000000000",
          "2013-11-01T00:00:00.000000000",
          "2013-12-01T00:00:00.000000000",
          "2014-01-01T00:00:00.000000000",
          "2014-02-01T00:00:00.000000000",
          "2014-03-01T00:00:00.000000000",
          "2014-04-01T00:00:00.000000000",
          "2014-05-01T00:00:00.000000000",
          "2014-06-01T00:00:00.000000000",
          "2014-07-01T00:00:00.000000000",
          "2014-08-01T00:00:00.000000000",
          "2014-09-01T00:00:00.000000000",
          "2014-11-01T00:00:00.000000000",
          "2015-03-01T00:00:00.000000000",
          "2015-05-01T00:00:00.000000000",
          "2015-07-01T00:00:00.000000000",
          "2015-08-01T00:00:00.000000000",
          "2015-09-01T00:00:00.000000000",
          "2015-10-01T00:00:00.000000000",
          "2015-11-01T00:00:00.000000000",
          "2016-01-01T00:00:00.000000000",
          "2016-02-01T00:00:00.000000000",
          "2016-03-01T00:00:00.000000000",
          "2016-04-01T00:00:00.000000000",
          "2016-05-01T00:00:00.000000000",
          "2016-06-01T00:00:00.000000000",
          "2016-07-01T00:00:00.000000000",
          "2016-08-01T00:00:00.000000000",
          "2016-12-01T00:00:00.000000000",
          "2017-01-01T00:00:00.000000000",
          "2017-02-01T00:00:00.000000000",
          "2017-03-01T00:00:00.000000000",
          "2017-04-01T00:00:00.000000000",
          "2017-05-01T00:00:00.000000000",
          "2017-06-01T00:00:00.000000000",
          "2017-09-01T00:00:00.000000000",
          "2017-10-01T00:00:00.000000000",
          "2017-11-01T00:00:00.000000000",
          "2017-12-01T00:00:00.000000000",
          "2018-01-01T00:00:00.000000000",
          "2018-02-01T00:00:00.000000000",
          "2018-03-01T00:00:00.000000000",
          "2018-04-01T00:00:00.000000000",
          "2018-05-01T00:00:00.000000000",
          "2018-08-01T00:00:00.000000000",
          "2018-09-01T00:00:00.000000000",
          "2018-10-01T00:00:00.000000000",
          "2018-11-01T00:00:00.000000000",
          "2018-12-01T00:00:00.000000000",
          "2019-01-01T00:00:00.000000000",
          "2019-02-01T00:00:00.000000000",
          "2019-03-01T00:00:00.000000000",
          "2019-04-01T00:00:00.000000000",
          "2019-06-01T00:00:00.000000000",
          "2019-07-01T00:00:00.000000000",
          "2019-08-01T00:00:00.000000000",
          "2019-09-01T00:00:00.000000000",
          "2019-10-01T00:00:00.000000000",
          "2019-11-01T00:00:00.000000000",
          "2019-12-01T00:00:00.000000000",
          "2020-01-01T00:00:00.000000000",
          "2020-02-01T00:00:00.000000000",
          "2020-03-01T00:00:00.000000000",
          "2020-04-01T00:00:00.000000000",
          "2020-05-01T00:00:00.000000000",
          "2020-06-01T00:00:00.000000000",
          "2020-07-01T00:00:00.000000000",
          "2020-08-01T00:00:00.000000000",
          "2020-09-01T00:00:00.000000000",
          "2020-10-01T00:00:00.000000000",
          "2020-11-01T00:00:00.000000000",
          "2020-12-01T00:00:00.000000000",
          "2021-01-01T00:00:00.000000000",
          "2021-02-01T00:00:00.000000000",
          "2021-03-01T00:00:00.000000000",
          "2021-04-01T00:00:00.000000000",
          "2021-05-01T00:00:00.000000000",
          "2021-06-01T00:00:00.000000000",
          "2021-07-01T00:00:00.000000000",
          "2021-08-01T00:00:00.000000000",
          "2021-09-01T00:00:00.000000000",
          "2021-10-01T00:00:00.000000000",
          "2021-11-01T00:00:00.000000000",
          "2021-12-01T00:00:00.000000000",
          "2022-01-01T00:00:00.000000000",
          "2022-02-01T00:00:00.000000000",
          "2022-03-01T00:00:00.000000000",
          "2022-04-01T00:00:00.000000000",
          "2022-05-01T00:00:00.000000000",
          "2022-06-01T00:00:00.000000000",
          "2022-07-01T00:00:00.000000000",
          "2022-08-01T00:00:00.000000000",
          "2022-09-01T00:00:00.000000000",
          "2022-10-01T00:00:00.000000000",
          "2022-11-01T00:00:00.000000000",
          "2022-12-01T00:00:00.000000000",
          "2023-01-01T00:00:00.000000000",
          "2023-03-01T00:00:00.000000000",
          "2023-04-01T00:00:00.000000000",
          "2023-05-01T00:00:00.000000000",
          "2023-06-01T00:00:00.000000000",
          "2023-07-01T00:00:00.000000000",
          "2023-08-01T00:00:00.000000000",
          "2023-09-01T00:00:00.000000000",
          "2023-10-01T00:00:00.000000000",
          "2023-11-01T00:00:00.000000000",
          "2023-12-01T00:00:00.000000000",
          "2024-01-01T00:00:00.000000000",
          "2024-02-01T00:00:00.000000000",
          "2024-03-01T00:00:00.000000000",
          "2024-04-01T00:00:00.000000000",
          "2024-05-01T00:00:00.000000000",
          "2024-06-01T00:00:00.000000000",
          "2024-07-01T00:00:00.000000000",
          "2024-08-01T00:00:00.000000000",
          "2024-09-01T00:00:00.000000000",
          "2024-10-01T00:00:00.000000000",
          "2024-11-01T00:00:00.000000000",
          "2024-12-01T00:00:00.000000000",
          "2025-01-01T00:00:00.000000000",
          "2025-02-01T00:00:00.000000000",
          "2025-03-01T00:00:00.000000000",
          "2025-04-01T00:00:00.000000000",
          "2025-05-01T00:00:00.000000000",
          "2025-06-01T00:00:00.000000000",
          "2025-08-01T00:00:00.000000000",
          "2025-09-01T00:00:00.000000000"
         ],
         "xaxis": "x",
         "y": {
          "bdata": "EwAgAA8AEgAOAA4ABAAaABAADgAFAAYACgAmABEACQAEACsANgAPAAEAEgBFABcABgABAB4ACAAuABoAAgA5AAMABwAOAAkADAAIABcACgAGABUAAwALAAIADwARABcAEwADAAEACgAGAAsABwAIAAIAEQAHABIADgASABsABQAOAB4AAgATACwAKAAOACwACwAsAI4AIQAMAAgAkQAvAGoAjACUAFIAlQB2AcwAlQDuADEBqAQ8A2kBUwBFAD4AvgBKAHAAmQBuAGEAPwEeASQAMABKANUAIgFkAC8AeAAKAHYAIAAyADoAEQAEAA8AEwAqABwAKAABABEAFgBoAJEAHQBMACkApQAKABEAEwApAC8AvgAZACgALwA0AKcASAA9ADEADwBaAAQA",
          "dtype": "i2"
         },
         "yaxis": "y"
        },
        {
         "hovertemplate": "type=post<br>Year-Month=%{x}<br>Number of Posts/Comments=%{y}<extra></extra>",
         "legendgroup": "post",
         "line": {
          "color": "#EF553B",
          "dash": "solid"
         },
         "marker": {
          "symbol": "circle"
         },
         "mode": "lines+markers",
         "name": "post",
         "orientation": "v",
         "showlegend": true,
         "type": "scatter",
         "x": [
          "2011-09-01T00:00:00.000000000",
          "2011-10-01T00:00:00.000000000",
          "2011-11-01T00:00:00.000000000",
          "2011-12-01T00:00:00.000000000",
          "2012-01-01T00:00:00.000000000",
          "2012-02-01T00:00:00.000000000",
          "2012-03-01T00:00:00.000000000",
          "2012-04-01T00:00:00.000000000",
          "2012-05-01T00:00:00.000000000",
          "2012-06-01T00:00:00.000000000",
          "2012-07-01T00:00:00.000000000",
          "2012-08-01T00:00:00.000000000",
          "2012-09-01T00:00:00.000000000",
          "2012-10-01T00:00:00.000000000",
          "2012-11-01T00:00:00.000000000",
          "2012-12-01T00:00:00.000000000",
          "2013-02-01T00:00:00.000000000",
          "2013-03-01T00:00:00.000000000",
          "2013-04-01T00:00:00.000000000",
          "2013-05-01T00:00:00.000000000",
          "2013-08-01T00:00:00.000000000",
          "2013-09-01T00:00:00.000000000",
          "2013-10-01T00:00:00.000000000",
          "2013-11-01T00:00:00.000000000",
          "2014-01-01T00:00:00.000000000",
          "2014-02-01T00:00:00.000000000",
          "2014-03-01T00:00:00.000000000",
          "2014-04-01T00:00:00.000000000",
          "2014-05-01T00:00:00.000000000",
          "2014-06-01T00:00:00.000000000",
          "2014-08-01T00:00:00.000000000",
          "2014-09-01T00:00:00.000000000",
          "2014-11-01T00:00:00.000000000",
          "2015-03-01T00:00:00.000000000",
          "2015-05-01T00:00:00.000000000",
          "2015-07-01T00:00:00.000000000",
          "2015-08-01T00:00:00.000000000",
          "2015-09-01T00:00:00.000000000",
          "2015-10-01T00:00:00.000000000",
          "2015-11-01T00:00:00.000000000",
          "2016-01-01T00:00:00.000000000",
          "2016-02-01T00:00:00.000000000",
          "2016-03-01T00:00:00.000000000",
          "2016-05-01T00:00:00.000000000",
          "2016-06-01T00:00:00.000000000",
          "2016-12-01T00:00:00.000000000",
          "2017-01-01T00:00:00.000000000",
          "2017-02-01T00:00:00.000000000",
          "2017-03-01T00:00:00.000000000",
          "2017-04-01T00:00:00.000000000",
          "2017-05-01T00:00:00.000000000",
          "2017-06-01T00:00:00.000000000",
          "2017-09-01T00:00:00.000000000",
          "2017-10-01T00:00:00.000000000",
          "2017-11-01T00:00:00.000000000",
          "2017-12-01T00:00:00.000000000",
          "2018-01-01T00:00:00.000000000",
          "2018-02-01T00:00:00.000000000",
          "2018-03-01T00:00:00.000000000",
          "2018-04-01T00:00:00.000000000",
          "2018-05-01T00:00:00.000000000",
          "2018-08-01T00:00:00.000000000",
          "2018-09-01T00:00:00.000000000",
          "2018-10-01T00:00:00.000000000",
          "2018-11-01T00:00:00.000000000",
          "2018-12-01T00:00:00.000000000",
          "2019-01-01T00:00:00.000000000",
          "2019-02-01T00:00:00.000000000",
          "2019-03-01T00:00:00.000000000",
          "2019-04-01T00:00:00.000000000",
          "2019-06-01T00:00:00.000000000",
          "2019-07-01T00:00:00.000000000",
          "2019-08-01T00:00:00.000000000",
          "2019-09-01T00:00:00.000000000",
          "2019-10-01T00:00:00.000000000",
          "2019-11-01T00:00:00.000000000",
          "2019-12-01T00:00:00.000000000",
          "2020-01-01T00:00:00.000000000",
          "2020-02-01T00:00:00.000000000",
          "2020-03-01T00:00:00.000000000",
          "2020-04-01T00:00:00.000000000",
          "2020-05-01T00:00:00.000000000",
          "2020-06-01T00:00:00.000000000",
          "2020-07-01T00:00:00.000000000",
          "2020-08-01T00:00:00.000000000",
          "2020-09-01T00:00:00.000000000",
          "2020-10-01T00:00:00.000000000",
          "2020-11-01T00:00:00.000000000",
          "2020-12-01T00:00:00.000000000",
          "2021-01-01T00:00:00.000000000",
          "2021-02-01T00:00:00.000000000",
          "2021-03-01T00:00:00.000000000",
          "2021-04-01T00:00:00.000000000",
          "2021-05-01T00:00:00.000000000",
          "2021-06-01T00:00:00.000000000",
          "2021-07-01T00:00:00.000000000",
          "2021-08-01T00:00:00.000000000",
          "2021-09-01T00:00:00.000000000",
          "2021-10-01T00:00:00.000000000",
          "2021-11-01T00:00:00.000000000",
          "2021-12-01T00:00:00.000000000",
          "2022-01-01T00:00:00.000000000",
          "2022-02-01T00:00:00.000000000",
          "2022-03-01T00:00:00.000000000",
          "2022-04-01T00:00:00.000000000",
          "2022-05-01T00:00:00.000000000",
          "2022-06-01T00:00:00.000000000",
          "2022-07-01T00:00:00.000000000",
          "2022-08-01T00:00:00.000000000",
          "2022-09-01T00:00:00.000000000",
          "2022-10-01T00:00:00.000000000",
          "2022-11-01T00:00:00.000000000",
          "2022-12-01T00:00:00.000000000",
          "2023-01-01T00:00:00.000000000",
          "2023-03-01T00:00:00.000000000",
          "2023-04-01T00:00:00.000000000",
          "2023-05-01T00:00:00.000000000",
          "2023-06-01T00:00:00.000000000",
          "2023-07-01T00:00:00.000000000",
          "2023-08-01T00:00:00.000000000",
          "2023-09-01T00:00:00.000000000",
          "2023-10-01T00:00:00.000000000",
          "2023-11-01T00:00:00.000000000",
          "2023-12-01T00:00:00.000000000",
          "2024-01-01T00:00:00.000000000",
          "2024-02-01T00:00:00.000000000",
          "2024-03-01T00:00:00.000000000",
          "2024-04-01T00:00:00.000000000",
          "2024-05-01T00:00:00.000000000",
          "2024-06-01T00:00:00.000000000",
          "2024-07-01T00:00:00.000000000",
          "2024-08-01T00:00:00.000000000",
          "2024-09-01T00:00:00.000000000",
          "2024-10-01T00:00:00.000000000",
          "2024-11-01T00:00:00.000000000",
          "2024-12-01T00:00:00.000000000",
          "2025-01-01T00:00:00.000000000",
          "2025-02-01T00:00:00.000000000",
          "2025-03-01T00:00:00.000000000",
          "2025-04-01T00:00:00.000000000",
          "2025-05-01T00:00:00.000000000",
          "2025-06-01T00:00:00.000000000",
          "2025-08-01T00:00:00.000000000"
         ],
         "xaxis": "x",
         "y": {
          "bdata": "AwUDAgMBAwICAQECAgQCAgIGBwICBgIEAgEDBAICAQEBAQEBAwMFAQEBAgICAgEBAQIBAQIEAQICAQMCAQMEBwYHAQQJBQIEDQYPDw0KEicTCBIYW1cjDAcKDgwHDwsFFBQFCQcLEgwJDAIIBQcGAwQDAgMDAQECAQUJBgQDCAEDAQMGDgUEBAMHBQMCBAU=",
          "dtype": "i1"
         },
         "yaxis": "y"
        }
       ],
       "layout": {
        "legend": {
         "title": {
          "text": "Type"
         },
         "tracegroupgap": 0
        },
        "template": {
         "data": {
          "bar": [
           {
            "error_x": {
             "color": "#2a3f5f"
            },
            "error_y": {
             "color": "#2a3f5f"
            },
            "marker": {
             "line": {
              "color": "#E5ECF6",
              "width": 0.5
             },
             "pattern": {
              "fillmode": "overlay",
              "size": 10,
              "solidity": 0.2
             }
            },
            "type": "bar"
           }
          ],
          "barpolar": [
           {
            "marker": {
             "line": {
              "color": "#E5ECF6",
              "width": 0.5
             },
             "pattern": {
              "fillmode": "overlay",
              "size": 10,
              "solidity": 0.2
             }
            },
            "type": "barpolar"
           }
          ],
          "carpet": [
           {
            "aaxis": {
             "endlinecolor": "#2a3f5f",
             "gridcolor": "white",
             "linecolor": "white",
             "minorgridcolor": "white",
             "startlinecolor": "#2a3f5f"
            },
            "baxis": {
             "endlinecolor": "#2a3f5f",
             "gridcolor": "white",
             "linecolor": "white",
             "minorgridcolor": "white",
             "startlinecolor": "#2a3f5f"
            },
            "type": "carpet"
           }
          ],
          "choropleth": [
           {
            "colorbar": {
             "outlinewidth": 0,
             "ticks": ""
            },
            "type": "choropleth"
           }
          ],
          "contour": [
           {
            "colorbar": {
             "outlinewidth": 0,
             "ticks": ""
            },
            "colorscale": [
             [
              0,
              "#0d0887"
             ],
             [
              0.1111111111111111,
              "#46039f"
             ],
             [
              0.2222222222222222,
              "#7201a8"
             ],
             [
              0.3333333333333333,
              "#9c179e"
             ],
             [
              0.4444444444444444,
              "#bd3786"
             ],
             [
              0.5555555555555556,
              "#d8576b"
             ],
             [
              0.6666666666666666,
              "#ed7953"
             ],
             [
              0.7777777777777778,
              "#fb9f3a"
             ],
             [
              0.8888888888888888,
              "#fdca26"
             ],
             [
              1,
              "#f0f921"
             ]
            ],
            "type": "contour"
           }
          ],
          "contourcarpet": [
           {
            "colorbar": {
             "outlinewidth": 0,
             "ticks": ""
            },
            "type": "contourcarpet"
           }
          ],
          "heatmap": [
           {
            "colorbar": {
             "outlinewidth": 0,
             "ticks": ""
            },
            "colorscale": [
             [
              0,
              "#0d0887"
             ],
             [
              0.1111111111111111,
              "#46039f"
             ],
             [
              0.2222222222222222,
              "#7201a8"
             ],
             [
              0.3333333333333333,
              "#9c179e"
             ],
             [
              0.4444444444444444,
              "#bd3786"
             ],
             [
              0.5555555555555556,
              "#d8576b"
             ],
             [
              0.6666666666666666,
              "#ed7953"
             ],
             [
              0.7777777777777778,
              "#fb9f3a"
             ],
             [
              0.8888888888888888,
              "#fdca26"
             ],
             [
              1,
              "#f0f921"
             ]
            ],
            "type": "heatmap"
           }
          ],
          "histogram": [
           {
            "marker": {
             "pattern": {
              "fillmode": "overlay",
              "size": 10,
              "solidity": 0.2
             }
            },
            "type": "histogram"
           }
          ],
          "histogram2d": [
           {
            "colorbar": {
             "outlinewidth": 0,
             "ticks": ""
            },
            "colorscale": [
             [
              0,
              "#0d0887"
             ],
             [
              0.1111111111111111,
              "#46039f"
             ],
             [
              0.2222222222222222,
              "#7201a8"
             ],
             [
              0.3333333333333333,
              "#9c179e"
             ],
             [
              0.4444444444444444,
              "#bd3786"
             ],
             [
              0.5555555555555556,
              "#d8576b"
             ],
             [
              0.6666666666666666,
              "#ed7953"
             ],
             [
              0.7777777777777778,
              "#fb9f3a"
             ],
             [
              0.8888888888888888,
              "#fdca26"
             ],
             [
              1,
              "#f0f921"
             ]
            ],
            "type": "histogram2d"
           }
          ],
          "histogram2dcontour": [
           {
            "colorbar": {
             "outlinewidth": 0,
             "ticks": ""
            },
            "colorscale": [
             [
              0,
              "#0d0887"
             ],
             [
              0.1111111111111111,
              "#46039f"
             ],
             [
              0.2222222222222222,
              "#7201a8"
             ],
             [
              0.3333333333333333,
              "#9c179e"
             ],
             [
              0.4444444444444444,
              "#bd3786"
             ],
             [
              0.5555555555555556,
              "#d8576b"
             ],
             [
              0.6666666666666666,
              "#ed7953"
             ],
             [
              0.7777777777777778,
              "#fb9f3a"
             ],
             [
              0.8888888888888888,
              "#fdca26"
             ],
             [
              1,
              "#f0f921"
             ]
            ],
            "type": "histogram2dcontour"
           }
          ],
          "mesh3d": [
           {
            "colorbar": {
             "outlinewidth": 0,
             "ticks": ""
            },
            "type": "mesh3d"
           }
          ],
          "parcoords": [
           {
            "line": {
             "colorbar": {
              "outlinewidth": 0,
              "ticks": ""
             }
            },
            "type": "parcoords"
           }
          ],
          "pie": [
           {
            "automargin": true,
            "type": "pie"
           }
          ],
          "scatter": [
           {
            "fillpattern": {
             "fillmode": "overlay",
             "size": 10,
             "solidity": 0.2
            },
            "type": "scatter"
           }
          ],
          "scatter3d": [
           {
            "line": {
             "colorbar": {
              "outlinewidth": 0,
              "ticks": ""
             }
            },
            "marker": {
             "colorbar": {
              "outlinewidth": 0,
              "ticks": ""
             }
            },
            "type": "scatter3d"
           }
          ],
          "scattercarpet": [
           {
            "marker": {
             "colorbar": {
              "outlinewidth": 0,
              "ticks": ""
             }
            },
            "type": "scattercarpet"
           }
          ],
          "scattergeo": [
           {
            "marker": {
             "colorbar": {
              "outlinewidth": 0,
              "ticks": ""
             }
            },
            "type": "scattergeo"
           }
          ],
          "scattergl": [
           {
            "marker": {
             "colorbar": {
              "outlinewidth": 0,
              "ticks": ""
             }
            },
            "type": "scattergl"
           }
          ],
          "scattermap": [
           {
            "marker": {
             "colorbar": {
              "outlinewidth": 0,
              "ticks": ""
             }
            },
            "type": "scattermap"
           }
          ],
          "scattermapbox": [
           {
            "marker": {
             "colorbar": {
              "outlinewidth": 0,
              "ticks": ""
             }
            },
            "type": "scattermapbox"
           }
          ],
          "scatterpolar": [
           {
            "marker": {
             "colorbar": {
              "outlinewidth": 0,
              "ticks": ""
             }
            },
            "type": "scatterpolar"
           }
          ],
          "scatterpolargl": [
           {
            "marker": {
             "colorbar": {
              "outlinewidth": 0,
              "ticks": ""
             }
            },
            "type": "scatterpolargl"
           }
          ],
          "scatterternary": [
           {
            "marker": {
             "colorbar": {
              "outlinewidth": 0,
              "ticks": ""
             }
            },
            "type": "scatterternary"
           }
          ],
          "surface": [
           {
            "colorbar": {
             "outlinewidth": 0,
             "ticks": ""
            },
            "colorscale": [
             [
              0,
              "#0d0887"
             ],
             [
              0.1111111111111111,
              "#46039f"
             ],
             [
              0.2222222222222222,
              "#7201a8"
             ],
             [
              0.3333333333333333,
              "#9c179e"
             ],
             [
              0.4444444444444444,
              "#bd3786"
             ],
             [
              0.5555555555555556,
              "#d8576b"
             ],
             [
              0.6666666666666666,
              "#ed7953"
             ],
             [
              0.7777777777777778,
              "#fb9f3a"
             ],
             [
              0.8888888888888888,
              "#fdca26"
             ],
             [
              1,
              "#f0f921"
             ]
            ],
            "type": "surface"
           }
          ],
          "table": [
           {
            "cells": {
             "fill": {
              "color": "#EBF0F8"
             },
             "line": {
              "color": "white"
             }
            },
            "header": {
             "fill": {
              "color": "#C8D4E3"
             },
             "line": {
              "color": "white"
             }
            },
            "type": "table"
           }
          ]
         },
         "layout": {
          "annotationdefaults": {
           "arrowcolor": "#2a3f5f",
           "arrowhead": 0,
           "arrowwidth": 1
          },
          "autotypenumbers": "strict",
          "coloraxis": {
           "colorbar": {
            "outlinewidth": 0,
            "ticks": ""
           }
          },
          "colorscale": {
           "diverging": [
            [
             0,
             "#8e0152"
            ],
            [
             0.1,
             "#c51b7d"
            ],
            [
             0.2,
             "#de77ae"
            ],
            [
             0.3,
             "#f1b6da"
            ],
            [
             0.4,
             "#fde0ef"
            ],
            [
             0.5,
             "#f7f7f7"
            ],
            [
             0.6,
             "#e6f5d0"
            ],
            [
             0.7,
             "#b8e186"
            ],
            [
             0.8,
             "#7fbc41"
            ],
            [
             0.9,
             "#4d9221"
            ],
            [
             1,
             "#276419"
            ]
           ],
           "sequential": [
            [
             0,
             "#0d0887"
            ],
            [
             0.1111111111111111,
             "#46039f"
            ],
            [
             0.2222222222222222,
             "#7201a8"
            ],
            [
             0.3333333333333333,
             "#9c179e"
            ],
            [
             0.4444444444444444,
             "#bd3786"
            ],
            [
             0.5555555555555556,
             "#d8576b"
            ],
            [
             0.6666666666666666,
             "#ed7953"
            ],
            [
             0.7777777777777778,
             "#fb9f3a"
            ],
            [
             0.8888888888888888,
             "#fdca26"
            ],
            [
             1,
             "#f0f921"
            ]
           ],
           "sequentialminus": [
            [
             0,
             "#0d0887"
            ],
            [
             0.1111111111111111,
             "#46039f"
            ],
            [
             0.2222222222222222,
             "#7201a8"
            ],
            [
             0.3333333333333333,
             "#9c179e"
            ],
            [
             0.4444444444444444,
             "#bd3786"
            ],
            [
             0.5555555555555556,
             "#d8576b"
            ],
            [
             0.6666666666666666,
             "#ed7953"
            ],
            [
             0.7777777777777778,
             "#fb9f3a"
            ],
            [
             0.8888888888888888,
             "#fdca26"
            ],
            [
             1,
             "#f0f921"
            ]
           ]
          },
          "colorway": [
           "#636efa",
           "#EF553B",
           "#00cc96",
           "#ab63fa",
           "#FFA15A",
           "#19d3f3",
           "#FF6692",
           "#B6E880",
           "#FF97FF",
           "#FECB52"
          ],
          "font": {
           "color": "#2a3f5f"
          },
          "geo": {
           "bgcolor": "white",
           "lakecolor": "white",
           "landcolor": "#E5ECF6",
           "showlakes": true,
           "showland": true,
           "subunitcolor": "white"
          },
          "hoverlabel": {
           "align": "left"
          },
          "hovermode": "closest",
          "mapbox": {
           "style": "light"
          },
          "paper_bgcolor": "white",
          "plot_bgcolor": "#E5ECF6",
          "polar": {
           "angularaxis": {
            "gridcolor": "white",
            "linecolor": "white",
            "ticks": ""
           },
           "bgcolor": "#E5ECF6",
           "radialaxis": {
            "gridcolor": "white",
            "linecolor": "white",
            "ticks": ""
           }
          },
          "scene": {
           "xaxis": {
            "backgroundcolor": "#E5ECF6",
            "gridcolor": "white",
            "gridwidth": 2,
            "linecolor": "white",
            "showbackground": true,
            "ticks": "",
            "zerolinecolor": "white"
           },
           "yaxis": {
            "backgroundcolor": "#E5ECF6",
            "gridcolor": "white",
            "gridwidth": 2,
            "linecolor": "white",
            "showbackground": true,
            "ticks": "",
            "zerolinecolor": "white"
           },
           "zaxis": {
            "backgroundcolor": "#E5ECF6",
            "gridcolor": "white",
            "gridwidth": 2,
            "linecolor": "white",
            "showbackground": true,
            "ticks": "",
            "zerolinecolor": "white"
           }
          },
          "shapedefaults": {
           "line": {
            "color": "#2a3f5f"
           }
          },
          "ternary": {
           "aaxis": {
            "gridcolor": "white",
            "linecolor": "white",
            "ticks": ""
           },
           "baxis": {
            "gridcolor": "white",
            "linecolor": "white",
            "ticks": ""
           },
           "bgcolor": "#E5ECF6",
           "caxis": {
            "gridcolor": "white",
            "linecolor": "white",
            "ticks": ""
           }
          },
          "title": {
           "x": 0.05
          },
          "xaxis": {
           "automargin": true,
           "gridcolor": "white",
           "linecolor": "white",
           "ticks": "",
           "title": {
            "standoff": 15
           },
           "zerolinecolor": "white",
           "zerolinewidth": 2
          },
          "yaxis": {
           "automargin": true,
           "gridcolor": "white",
           "linecolor": "white",
           "ticks": "",
           "title": {
            "standoff": 15
           },
           "zerolinecolor": "white",
           "zerolinewidth": 2
          }
         }
        },
        "title": {
         "text": "Number of Posts and Comments per Month on r/JMU"
        },
        "xaxis": {
         "anchor": "y",
         "domain": [
          0,
          1
         ],
         "title": {
          "text": "Year-Month"
         }
        },
        "yaxis": {
         "anchor": "x",
         "domain": [
          0,
          1
         ],
         "title": {
          "text": "Number of Posts/Comments"
         }
        }
       }
      }
     },
     "metadata": {},
     "output_type": "display_data"
    }
   ],
   "source": [
    "# Extract year-month from the date column for monthly analysis\n",
    "df['year_month'] = df['date'].dt.to_period('M')\n",
    "\n",
    "# Group the data by year-month and post type, then count entries in each group\n",
    "monthly_counts = df.groupby(['year_month', 'type'], observed=True).size().reset_index(name='count')\n",
    "\n",
    "# Convert year_month back to datetime format so Plotly can understand it\n",
    "monthly_counts['year_month'] = monthly_counts['year_month'].dt.to_timestamp()\n",
    "\n",
    "# Create an interactive line chart\n",
    "fig = px.line(monthly_counts, \n",
    "              x='year_month',           # x-axis: time\n",
    "              y='count',                # y-axis: number of posts/comments\n",
    "              color='type',             # separate lines for posts vs comments\n",
    "              title='Number of Posts and Comments per Month on r/JMU',\n",
    "              labels={'count': 'Number of Posts/Comments', 'year_month': 'Year-Month'},\n",
    "              markers=True)             # add dots to the lines\n",
    "\n",
    "# Customize the chart appearance\n",
    "fig.update_layout(\n",
    "    xaxis_title=\"Year-Month\",\n",
    "    yaxis_title=\"Number of Posts/Comments\",\n",
    "    legend_title=\"Type\"\n",
    ")\n",
    "\n",
    "# Display the interactive chart\n",
    "fig.show()"
   ]
  },
  {
   "cell_type": "markdown",
   "id": "a9dca35b",
   "metadata": {},
   "source": [
    "### 4.1 Keyword Analysis: Do Certain Topics Get Higher Scores?\n",
    "\n",
    "Now let's analyze whether posts containing certain keywords tend to get higher scores (more upvotes). This can tell us what topics are most popular or engaging in the JMU community."
   ]
  },
  {
   "cell_type": "code",
   "execution_count": 10,
   "id": "dbccbf9c",
   "metadata": {},
   "outputs": [
    {
     "data": {
      "application/vnd.plotly.v1+json": {
       "config": {
        "plotlyServerURL": "https://plot.ly"
       },
       "data": [
        {
         "hovertemplate": "Keyword=%{x}<br>Average Score=%{y}<extra></extra>",
         "legendgroup": "",
         "marker": {
          "color": "#636efa",
          "pattern": {
           "shape": ""
          }
         },
         "name": "",
         "orientation": "v",
         "showlegend": false,
         "textposition": "auto",
         "type": "bar",
         "x": [
          "tuition",
          "covid",
          "party",
          "football",
          "class",
          "library",
          "campus"
         ],
         "xaxis": "x",
         "y": {
          "bdata": "Kng5BS+nOEDP8zzP8zwyQE/sxE7shCpA3dzc3NxcNEBEOIRDOIQtQGZmZmZmxjpASZIkSZLkMEA=",
          "dtype": "f8"
         },
         "yaxis": "y"
        }
       ],
       "layout": {
        "barmode": "relative",
        "legend": {
         "tracegroupgap": 0
        },
        "showlegend": false,
        "template": {
         "data": {
          "bar": [
           {
            "error_x": {
             "color": "#2a3f5f"
            },
            "error_y": {
             "color": "#2a3f5f"
            },
            "marker": {
             "line": {
              "color": "#E5ECF6",
              "width": 0.5
             },
             "pattern": {
              "fillmode": "overlay",
              "size": 10,
              "solidity": 0.2
             }
            },
            "type": "bar"
           }
          ],
          "barpolar": [
           {
            "marker": {
             "line": {
              "color": "#E5ECF6",
              "width": 0.5
             },
             "pattern": {
              "fillmode": "overlay",
              "size": 10,
              "solidity": 0.2
             }
            },
            "type": "barpolar"
           }
          ],
          "carpet": [
           {
            "aaxis": {
             "endlinecolor": "#2a3f5f",
             "gridcolor": "white",
             "linecolor": "white",
             "minorgridcolor": "white",
             "startlinecolor": "#2a3f5f"
            },
            "baxis": {
             "endlinecolor": "#2a3f5f",
             "gridcolor": "white",
             "linecolor": "white",
             "minorgridcolor": "white",
             "startlinecolor": "#2a3f5f"
            },
            "type": "carpet"
           }
          ],
          "choropleth": [
           {
            "colorbar": {
             "outlinewidth": 0,
             "ticks": ""
            },
            "type": "choropleth"
           }
          ],
          "contour": [
           {
            "colorbar": {
             "outlinewidth": 0,
             "ticks": ""
            },
            "colorscale": [
             [
              0,
              "#0d0887"
             ],
             [
              0.1111111111111111,
              "#46039f"
             ],
             [
              0.2222222222222222,
              "#7201a8"
             ],
             [
              0.3333333333333333,
              "#9c179e"
             ],
             [
              0.4444444444444444,
              "#bd3786"
             ],
             [
              0.5555555555555556,
              "#d8576b"
             ],
             [
              0.6666666666666666,
              "#ed7953"
             ],
             [
              0.7777777777777778,
              "#fb9f3a"
             ],
             [
              0.8888888888888888,
              "#fdca26"
             ],
             [
              1,
              "#f0f921"
             ]
            ],
            "type": "contour"
           }
          ],
          "contourcarpet": [
           {
            "colorbar": {
             "outlinewidth": 0,
             "ticks": ""
            },
            "type": "contourcarpet"
           }
          ],
          "heatmap": [
           {
            "colorbar": {
             "outlinewidth": 0,
             "ticks": ""
            },
            "colorscale": [
             [
              0,
              "#0d0887"
             ],
             [
              0.1111111111111111,
              "#46039f"
             ],
             [
              0.2222222222222222,
              "#7201a8"
             ],
             [
              0.3333333333333333,
              "#9c179e"
             ],
             [
              0.4444444444444444,
              "#bd3786"
             ],
             [
              0.5555555555555556,
              "#d8576b"
             ],
             [
              0.6666666666666666,
              "#ed7953"
             ],
             [
              0.7777777777777778,
              "#fb9f3a"
             ],
             [
              0.8888888888888888,
              "#fdca26"
             ],
             [
              1,
              "#f0f921"
             ]
            ],
            "type": "heatmap"
           }
          ],
          "histogram": [
           {
            "marker": {
             "pattern": {
              "fillmode": "overlay",
              "size": 10,
              "solidity": 0.2
             }
            },
            "type": "histogram"
           }
          ],
          "histogram2d": [
           {
            "colorbar": {
             "outlinewidth": 0,
             "ticks": ""
            },
            "colorscale": [
             [
              0,
              "#0d0887"
             ],
             [
              0.1111111111111111,
              "#46039f"
             ],
             [
              0.2222222222222222,
              "#7201a8"
             ],
             [
              0.3333333333333333,
              "#9c179e"
             ],
             [
              0.4444444444444444,
              "#bd3786"
             ],
             [
              0.5555555555555556,
              "#d8576b"
             ],
             [
              0.6666666666666666,
              "#ed7953"
             ],
             [
              0.7777777777777778,
              "#fb9f3a"
             ],
             [
              0.8888888888888888,
              "#fdca26"
             ],
             [
              1,
              "#f0f921"
             ]
            ],
            "type": "histogram2d"
           }
          ],
          "histogram2dcontour": [
           {
            "colorbar": {
             "outlinewidth": 0,
             "ticks": ""
            },
            "colorscale": [
             [
              0,
              "#0d0887"
             ],
             [
              0.1111111111111111,
              "#46039f"
             ],
             [
              0.2222222222222222,
              "#7201a8"
             ],
             [
              0.3333333333333333,
              "#9c179e"
             ],
             [
              0.4444444444444444,
              "#bd3786"
             ],
             [
              0.5555555555555556,
              "#d8576b"
             ],
             [
              0.6666666666666666,
              "#ed7953"
             ],
             [
              0.7777777777777778,
              "#fb9f3a"
             ],
             [
              0.8888888888888888,
              "#fdca26"
             ],
             [
              1,
              "#f0f921"
             ]
            ],
            "type": "histogram2dcontour"
           }
          ],
          "mesh3d": [
           {
            "colorbar": {
             "outlinewidth": 0,
             "ticks": ""
            },
            "type": "mesh3d"
           }
          ],
          "parcoords": [
           {
            "line": {
             "colorbar": {
              "outlinewidth": 0,
              "ticks": ""
             }
            },
            "type": "parcoords"
           }
          ],
          "pie": [
           {
            "automargin": true,
            "type": "pie"
           }
          ],
          "scatter": [
           {
            "fillpattern": {
             "fillmode": "overlay",
             "size": 10,
             "solidity": 0.2
            },
            "type": "scatter"
           }
          ],
          "scatter3d": [
           {
            "line": {
             "colorbar": {
              "outlinewidth": 0,
              "ticks": ""
             }
            },
            "marker": {
             "colorbar": {
              "outlinewidth": 0,
              "ticks": ""
             }
            },
            "type": "scatter3d"
           }
          ],
          "scattercarpet": [
           {
            "marker": {
             "colorbar": {
              "outlinewidth": 0,
              "ticks": ""
             }
            },
            "type": "scattercarpet"
           }
          ],
          "scattergeo": [
           {
            "marker": {
             "colorbar": {
              "outlinewidth": 0,
              "ticks": ""
             }
            },
            "type": "scattergeo"
           }
          ],
          "scattergl": [
           {
            "marker": {
             "colorbar": {
              "outlinewidth": 0,
              "ticks": ""
             }
            },
            "type": "scattergl"
           }
          ],
          "scattermap": [
           {
            "marker": {
             "colorbar": {
              "outlinewidth": 0,
              "ticks": ""
             }
            },
            "type": "scattermap"
           }
          ],
          "scattermapbox": [
           {
            "marker": {
             "colorbar": {
              "outlinewidth": 0,
              "ticks": ""
             }
            },
            "type": "scattermapbox"
           }
          ],
          "scatterpolar": [
           {
            "marker": {
             "colorbar": {
              "outlinewidth": 0,
              "ticks": ""
             }
            },
            "type": "scatterpolar"
           }
          ],
          "scatterpolargl": [
           {
            "marker": {
             "colorbar": {
              "outlinewidth": 0,
              "ticks": ""
             }
            },
            "type": "scatterpolargl"
           }
          ],
          "scatterternary": [
           {
            "marker": {
             "colorbar": {
              "outlinewidth": 0,
              "ticks": ""
             }
            },
            "type": "scatterternary"
           }
          ],
          "surface": [
           {
            "colorbar": {
             "outlinewidth": 0,
             "ticks": ""
            },
            "colorscale": [
             [
              0,
              "#0d0887"
             ],
             [
              0.1111111111111111,
              "#46039f"
             ],
             [
              0.2222222222222222,
              "#7201a8"
             ],
             [
              0.3333333333333333,
              "#9c179e"
             ],
             [
              0.4444444444444444,
              "#bd3786"
             ],
             [
              0.5555555555555556,
              "#d8576b"
             ],
             [
              0.6666666666666666,
              "#ed7953"
             ],
             [
              0.7777777777777778,
              "#fb9f3a"
             ],
             [
              0.8888888888888888,
              "#fdca26"
             ],
             [
              1,
              "#f0f921"
             ]
            ],
            "type": "surface"
           }
          ],
          "table": [
           {
            "cells": {
             "fill": {
              "color": "#EBF0F8"
             },
             "line": {
              "color": "white"
             }
            },
            "header": {
             "fill": {
              "color": "#C8D4E3"
             },
             "line": {
              "color": "white"
             }
            },
            "type": "table"
           }
          ]
         },
         "layout": {
          "annotationdefaults": {
           "arrowcolor": "#2a3f5f",
           "arrowhead": 0,
           "arrowwidth": 1
          },
          "autotypenumbers": "strict",
          "coloraxis": {
           "colorbar": {
            "outlinewidth": 0,
            "ticks": ""
           }
          },
          "colorscale": {
           "diverging": [
            [
             0,
             "#8e0152"
            ],
            [
             0.1,
             "#c51b7d"
            ],
            [
             0.2,
             "#de77ae"
            ],
            [
             0.3,
             "#f1b6da"
            ],
            [
             0.4,
             "#fde0ef"
            ],
            [
             0.5,
             "#f7f7f7"
            ],
            [
             0.6,
             "#e6f5d0"
            ],
            [
             0.7,
             "#b8e186"
            ],
            [
             0.8,
             "#7fbc41"
            ],
            [
             0.9,
             "#4d9221"
            ],
            [
             1,
             "#276419"
            ]
           ],
           "sequential": [
            [
             0,
             "#0d0887"
            ],
            [
             0.1111111111111111,
             "#46039f"
            ],
            [
             0.2222222222222222,
             "#7201a8"
            ],
            [
             0.3333333333333333,
             "#9c179e"
            ],
            [
             0.4444444444444444,
             "#bd3786"
            ],
            [
             0.5555555555555556,
             "#d8576b"
            ],
            [
             0.6666666666666666,
             "#ed7953"
            ],
            [
             0.7777777777777778,
             "#fb9f3a"
            ],
            [
             0.8888888888888888,
             "#fdca26"
            ],
            [
             1,
             "#f0f921"
            ]
           ],
           "sequentialminus": [
            [
             0,
             "#0d0887"
            ],
            [
             0.1111111111111111,
             "#46039f"
            ],
            [
             0.2222222222222222,
             "#7201a8"
            ],
            [
             0.3333333333333333,
             "#9c179e"
            ],
            [
             0.4444444444444444,
             "#bd3786"
            ],
            [
             0.5555555555555556,
             "#d8576b"
            ],
            [
             0.6666666666666666,
             "#ed7953"
            ],
            [
             0.7777777777777778,
             "#fb9f3a"
            ],
            [
             0.8888888888888888,
             "#fdca26"
            ],
            [
             1,
             "#f0f921"
            ]
           ]
          },
          "colorway": [
           "#636efa",
           "#EF553B",
           "#00cc96",
           "#ab63fa",
           "#FFA15A",
           "#19d3f3",
           "#FF6692",
           "#B6E880",
           "#FF97FF",
           "#FECB52"
          ],
          "font": {
           "color": "#2a3f5f"
          },
          "geo": {
           "bgcolor": "white",
           "lakecolor": "white",
           "landcolor": "#E5ECF6",
           "showlakes": true,
           "showland": true,
           "subunitcolor": "white"
          },
          "hoverlabel": {
           "align": "left"
          },
          "hovermode": "closest",
          "mapbox": {
           "style": "light"
          },
          "paper_bgcolor": "white",
          "plot_bgcolor": "#E5ECF6",
          "polar": {
           "angularaxis": {
            "gridcolor": "white",
            "linecolor": "white",
            "ticks": ""
           },
           "bgcolor": "#E5ECF6",
           "radialaxis": {
            "gridcolor": "white",
            "linecolor": "white",
            "ticks": ""
           }
          },
          "scene": {
           "xaxis": {
            "backgroundcolor": "#E5ECF6",
            "gridcolor": "white",
            "gridwidth": 2,
            "linecolor": "white",
            "showbackground": true,
            "ticks": "",
            "zerolinecolor": "white"
           },
           "yaxis": {
            "backgroundcolor": "#E5ECF6",
            "gridcolor": "white",
            "gridwidth": 2,
            "linecolor": "white",
            "showbackground": true,
            "ticks": "",
            "zerolinecolor": "white"
           },
           "zaxis": {
            "backgroundcolor": "#E5ECF6",
            "gridcolor": "white",
            "gridwidth": 2,
            "linecolor": "white",
            "showbackground": true,
            "ticks": "",
            "zerolinecolor": "white"
           }
          },
          "shapedefaults": {
           "line": {
            "color": "#2a3f5f"
           }
          },
          "ternary": {
           "aaxis": {
            "gridcolor": "white",
            "linecolor": "white",
            "ticks": ""
           },
           "baxis": {
            "gridcolor": "white",
            "linecolor": "white",
            "ticks": ""
           },
           "bgcolor": "#E5ECF6",
           "caxis": {
            "gridcolor": "white",
            "linecolor": "white",
            "ticks": ""
           }
          },
          "title": {
           "x": 0.05
          },
          "xaxis": {
           "automargin": true,
           "gridcolor": "white",
           "linecolor": "white",
           "ticks": "",
           "title": {
            "standoff": 15
           },
           "zerolinecolor": "white",
           "zerolinewidth": 2
          },
          "yaxis": {
           "automargin": true,
           "gridcolor": "white",
           "linecolor": "white",
           "ticks": "",
           "title": {
            "standoff": 15
           },
           "zerolinecolor": "white",
           "zerolinewidth": 2
          }
         }
        },
        "title": {
         "text": "Average Post Scores by Keyword"
        },
        "xaxis": {
         "anchor": "y",
         "domain": [
          0,
          1
         ],
         "title": {
          "text": "Keywords"
         }
        },
        "yaxis": {
         "anchor": "x",
         "domain": [
          0,
          1
         ],
         "title": {
          "text": "Average Score"
         }
        }
       }
      }
     },
     "metadata": {},
     "output_type": "display_data"
    }
   ],
   "source": [
    "# Define keywords to analyze - common JMU-related topics\n",
    "keywords = ['tuition', 'covid', 'party', 'football', 'class', 'library', 'campus']\n",
    "\n",
    "# Create a helper function to check if text contains a keyword (case-insensitive)\n",
    "def contains_keyword(text, keyword):\n",
    "    # Handle missing/empty text\n",
    "    if pd.isna(text):\n",
    "        return False\n",
    "    # Convert both to lowercase to make the search case-insensitive\n",
    "    return keyword.lower() in text.lower()\n",
    "\n",
    "# Store results for each keyword\n",
    "keyword_scores = []\n",
    "\n",
    "for keyword in keywords:\n",
    "    # Create a temporary True/False mask showing which posts contain this keyword\n",
    "    # We don't add this to the DataFrame to keep it clean\n",
    "    has_keyword_mask = df['text'].apply(lambda x: contains_keyword(x, keyword))\n",
    "    \n",
    "    # Calculate the average score for posts containing this keyword\n",
    "    # Use the mask to filter posts that contain the keyword\n",
    "    avg_score = df[has_keyword_mask]['score'].mean()\n",
    "    \n",
    "    # Store the results\n",
    "    keyword_scores.append({\n",
    "        'keyword': keyword,\n",
    "        'score': avg_score\n",
    "    })\n",
    "\n",
    "# Convert results to a DataFrame for easier plotting\n",
    "keyword_df = pd.DataFrame(keyword_scores)\n",
    "\n",
    "# Create a bar chart showing average scores by keyword\n",
    "fig = px.bar(keyword_df, \n",
    "             x='keyword', \n",
    "             y='score',\n",
    "             title='Average Post Scores by Keyword',\n",
    "             labels={'score': 'Average Score', 'keyword': 'Keyword'})\n",
    "\n",
    "# Customize chart appearance\n",
    "fig.update_layout(\n",
    "    xaxis_title=\"Keywords\",\n",
    "    yaxis_title=\"Average Score\",\n",
    "    showlegend=False  # No legend needed for single series\n",
    ")\n",
    "\n",
    "# Display the chart\n",
    "fig.show()\n",
    "\n"
   ]
  },
  {
   "cell_type": "markdown",
   "id": "6f0b0fc7-c828-48a8-a945-a60a75c3bedc",
   "metadata": {},
   "source": [
    "## 5 Saving Your Work\n",
    "\n",
    "Great work! We now have a clean DataFrame that we can use for further analysis. It's a good practice to save your cleaned data so you don't have to repeat all the cleaning steps every time you want to work with it.\n",
    "\n",
    "There are two main ways to save a DataFrame:"
   ]
  },
  {
   "cell_type": "markdown",
   "id": "2b946886-e881-48d7-a29d-23512eff1e9e",
   "metadata": {},
   "source": [
    "Whenever you run code in Jupyter, the notebook automatically stores the values of the variables. When you restart, these values are deleted. It is a good practice to save the dataframe variable once you have performed a lot of operations on it. This prevents us from having to run the above code everytime. \n",
    "\n",
    "There are a couple of ways we can save this. We can use the pandas function `to_csv()`, which converts this to a csv file. The advantage of a CSV file is that any computer can read them.\n",
    "</br> \n",
    "There are several issues with CSV files:\n",
    "- They tend to be big\n",
    "- Read and write times can be slow\n",
    "- Will add an empty index column if you are not careful\n",
    "- Unless you specifically indicate the column types, the dtype will get lost. This is a huge pain.\n",
    "\n",
    "Alternatively, we can also save this to a `.pickle` file.\n",
    "\n",
    "**Advantages**\n",
    "\n",
    "- Smaller\n",
    "- Faster\n",
    "- Keeps dtypes\n",
    "\n",
    "**Disadvantages**\n",
    "\n",
    "- Requires Python to open\n",
    "  \n",
    "  "
   ]
  },
  {
   "cell_type": "markdown",
   "id": "3e36636a-2584-486f-a101-911554c44631",
   "metadata": {},
   "source": [
    "Saving to pickle file is incredibly simple. "
   ]
  },
  {
   "cell_type": "code",
   "execution_count": 11,
   "id": "5a883b4f",
   "metadata": {},
   "outputs": [
    {
     "data": {
      "application/vnd.microsoft.datawrangler.viewer.v0+json": {
       "columns": [
        {
         "name": "index",
         "rawType": "int64",
         "type": "integer"
        },
        {
         "name": "type",
         "rawType": "category",
         "type": "unknown"
        },
        {
         "name": "title",
         "rawType": "string",
         "type": "string"
        },
        {
         "name": "text",
         "rawType": "string",
         "type": "string"
        },
        {
         "name": "date",
         "rawType": "datetime64[ns]",
         "type": "datetime"
        },
        {
         "name": "score",
         "rawType": "int64",
         "type": "integer"
        },
        {
         "name": "year_month",
         "rawType": "period[M]",
         "type": "unknown"
        }
       ],
       "ref": "31d5c998-abc9-4bfa-94fa-c8935cb6d32d",
       "rows": [
        [
         "0",
         "post",
         "President Alger leaving to take same job at American University at the end of this academic year",
         "President Alger leaving to take same job at American University at the end of this academic year",
         "2024-03-18 12:47:10",
         "358",
         "2024-03"
        ],
        [
         "1",
         "comment",
         "President Alger leaving to take same job at American University at the end of this academic year",
         "Like him or not, he did help transform this school. Applications to JMU have drastically increased under this leadership.",
         "2024-03-18 12:49:04",
         "82",
         "2024-03"
        ],
        [
         "2",
         "comment",
         "President Alger leaving to take same job at American University at the end of this academic year",
         "Massive changes happening at JMU this year. Alger stepping down, AD Bourne retiring, Cignetti left for IU job, and rumor is Basketball Coach Byington is going to accept the WVU job",
         "2024-03-18 12:50:05",
         "34",
         "2024-03"
        ],
        [
         "3",
         "comment",
         "President Alger leaving to take same job at American University at the end of this academic year",
         "Rather short tenure as JMU presidents go. He falls under second-shortest tenure, having stayed for longer than Burruss, but shorter than Rose. I remember when JMU used to have a reputation for presidents with very long tenures, as Duke, Miller, and Carrier all stayed for 20+ years. Rose and Alger both had much shorter tenures than I had expected.",
         "2024-03-18 13:13:29",
         "37",
         "2024-03"
        ],
        [
         "4",
         "comment",
         "President Alger leaving to take same job at American University at the end of this academic year",
         "He was very nice and friendly when I spoke to him- enjoyed being a student under his presidency, even if he did look a lil robotic ;)",
         "2024-03-18 12:57:33",
         "30",
         "2024-03"
        ]
       ],
       "shape": {
        "columns": 6,
        "rows": 5
       }
      },
      "text/html": [
       "<div>\n",
       "<style scoped>\n",
       "    .dataframe tbody tr th:only-of-type {\n",
       "        vertical-align: middle;\n",
       "    }\n",
       "\n",
       "    .dataframe tbody tr th {\n",
       "        vertical-align: top;\n",
       "    }\n",
       "\n",
       "    .dataframe thead th {\n",
       "        text-align: right;\n",
       "    }\n",
       "</style>\n",
       "<table border=\"1\" class=\"dataframe\">\n",
       "  <thead>\n",
       "    <tr style=\"text-align: right;\">\n",
       "      <th></th>\n",
       "      <th>type</th>\n",
       "      <th>title</th>\n",
       "      <th>text</th>\n",
       "      <th>date</th>\n",
       "      <th>score</th>\n",
       "      <th>year_month</th>\n",
       "    </tr>\n",
       "  </thead>\n",
       "  <tbody>\n",
       "    <tr>\n",
       "      <th>0</th>\n",
       "      <td>post</td>\n",
       "      <td>President Alger leaving to take same job at Am...</td>\n",
       "      <td>President Alger leaving to take same job at Am...</td>\n",
       "      <td>2024-03-18 12:47:10</td>\n",
       "      <td>358</td>\n",
       "      <td>2024-03</td>\n",
       "    </tr>\n",
       "    <tr>\n",
       "      <th>1</th>\n",
       "      <td>comment</td>\n",
       "      <td>President Alger leaving to take same job at Am...</td>\n",
       "      <td>Like him or not, he did help transform this sc...</td>\n",
       "      <td>2024-03-18 12:49:04</td>\n",
       "      <td>82</td>\n",
       "      <td>2024-03</td>\n",
       "    </tr>\n",
       "    <tr>\n",
       "      <th>2</th>\n",
       "      <td>comment</td>\n",
       "      <td>President Alger leaving to take same job at Am...</td>\n",
       "      <td>Massive changes happening at JMU this year. Al...</td>\n",
       "      <td>2024-03-18 12:50:05</td>\n",
       "      <td>34</td>\n",
       "      <td>2024-03</td>\n",
       "    </tr>\n",
       "    <tr>\n",
       "      <th>3</th>\n",
       "      <td>comment</td>\n",
       "      <td>President Alger leaving to take same job at Am...</td>\n",
       "      <td>Rather short tenure as JMU presidents go. He f...</td>\n",
       "      <td>2024-03-18 13:13:29</td>\n",
       "      <td>37</td>\n",
       "      <td>2024-03</td>\n",
       "    </tr>\n",
       "    <tr>\n",
       "      <th>4</th>\n",
       "      <td>comment</td>\n",
       "      <td>President Alger leaving to take same job at Am...</td>\n",
       "      <td>He was very nice and friendly when I spoke to ...</td>\n",
       "      <td>2024-03-18 12:57:33</td>\n",
       "      <td>30</td>\n",
       "      <td>2024-03</td>\n",
       "    </tr>\n",
       "  </tbody>\n",
       "</table>\n",
       "</div>"
      ],
      "text/plain": [
       "      type                                              title  \\\n",
       "0     post  President Alger leaving to take same job at Am...   \n",
       "1  comment  President Alger leaving to take same job at Am...   \n",
       "2  comment  President Alger leaving to take same job at Am...   \n",
       "3  comment  President Alger leaving to take same job at Am...   \n",
       "4  comment  President Alger leaving to take same job at Am...   \n",
       "\n",
       "                                                text                date  \\\n",
       "0  President Alger leaving to take same job at Am... 2024-03-18 12:47:10   \n",
       "1  Like him or not, he did help transform this sc... 2024-03-18 12:49:04   \n",
       "2  Massive changes happening at JMU this year. Al... 2024-03-18 12:50:05   \n",
       "3  Rather short tenure as JMU presidents go. He f... 2024-03-18 13:13:29   \n",
       "4  He was very nice and friendly when I spoke to ... 2024-03-18 12:57:33   \n",
       "\n",
       "   score year_month  \n",
       "0    358    2024-03  \n",
       "1     82    2024-03  \n",
       "2     34    2024-03  \n",
       "3     37    2024-03  \n",
       "4     30    2024-03  "
      ]
     },
     "execution_count": 11,
     "metadata": {},
     "output_type": "execute_result"
    }
   ],
   "source": [
    "df.head()"
   ]
  },
  {
   "cell_type": "code",
   "execution_count": 12,
   "id": "fb785a7a-2b30-4885-868e-74d34260f50b",
   "metadata": {},
   "outputs": [],
   "source": [
    "df.to_pickle('data/jmu_reddit.pickle')"
   ]
  },
  {
   "cell_type": "markdown",
   "id": "a63cf27d-c22a-4822-a252-760f514053f6",
   "metadata": {},
   "source": [
    "The code below should place the file in your working directory."
   ]
  }
 ],
 "metadata": {
  "kernelspec": {
   "display_name": "ds101_manual",
   "language": "python",
   "name": "python3"
  },
  "language_info": {
   "codemirror_mode": {
    "name": "ipython",
    "version": 3
   },
   "file_extension": ".py",
   "mimetype": "text/x-python",
   "name": "python",
   "nbconvert_exporter": "python",
   "pygments_lexer": "ipython3",
   "version": "3.12.3"
  }
 },
 "nbformat": 4,
 "nbformat_minor": 5
}
